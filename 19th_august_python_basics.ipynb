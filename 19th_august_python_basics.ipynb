{
 "cells": [
  {
   "cell_type": "markdown",
   "id": "ea0710a5-197e-47ac-bf25-77b844a7e747",
   "metadata": {},
   "source": [
    "#Python Basics Variable"
   ]
  },
  {
   "cell_type": "markdown",
   "id": "212427aa-70b8-45e6-81bd-bea3984bbab8",
   "metadata": {},
   "source": [
    "Declare two variables, `x` and `y`, and assign them integer values. Swap the\n",
    "values of these variables without using any temporary variable."
   ]
  },
  {
   "cell_type": "code",
   "execution_count": 4,
   "id": "eeceac0b-739e-42dc-8eda-7548ba742ab9",
   "metadata": {},
   "outputs": [],
   "source": [
    "x=10"
   ]
  },
  {
   "cell_type": "code",
   "execution_count": 2,
   "id": "0db99eb6-63a9-4096-9209-1acc98e4bc94",
   "metadata": {},
   "outputs": [],
   "source": [
    "y=20"
   ]
  },
  {
   "cell_type": "code",
   "execution_count": 5,
   "id": "10412b4b-32c5-4c93-9632-4952e59a796d",
   "metadata": {},
   "outputs": [],
   "source": [
    "x=x+y"
   ]
  },
  {
   "cell_type": "code",
   "execution_count": 6,
   "id": "867f99ec-d12b-4996-80e3-cee5a4aa1998",
   "metadata": {},
   "outputs": [],
   "source": [
    "y=x-y"
   ]
  },
  {
   "cell_type": "code",
   "execution_count": 7,
   "id": "642821db-b468-46b2-82fe-a7345a987201",
   "metadata": {},
   "outputs": [],
   "source": [
    "x=x-y"
   ]
  },
  {
   "cell_type": "code",
   "execution_count": 8,
   "id": "ad0a64ad-1afc-485a-b589-dd1578322374",
   "metadata": {},
   "outputs": [
    {
     "data": {
      "text/plain": [
       "20"
      ]
     },
     "execution_count": 8,
     "metadata": {},
     "output_type": "execute_result"
    }
   ],
   "source": [
    "x"
   ]
  },
  {
   "cell_type": "code",
   "execution_count": 9,
   "id": "3540ef7e-a90a-42a5-a5c5-62e1fcdfa06e",
   "metadata": {},
   "outputs": [
    {
     "data": {
      "text/plain": [
       "10"
      ]
     },
     "execution_count": 9,
     "metadata": {},
     "output_type": "execute_result"
    }
   ],
   "source": [
    "y"
   ]
  },
  {
   "cell_type": "markdown",
   "id": "209403c6-ea85-407e-9ea5-3c9984ac5d03",
   "metadata": {},
   "source": [
    "Create a program that calculates the area of a rectangle. Take the length and\n",
    "width as inputs from the user and store them in variables. Calculate and\n",
    "display the area."
   ]
  },
  {
   "cell_type": "code",
   "execution_count": 10,
   "id": "de7beaa7-ec18-45b8-972c-91e37f39c9cc",
   "metadata": {},
   "outputs": [
    {
     "name": "stdin",
     "output_type": "stream",
     "text": [
      " 10\n"
     ]
    }
   ],
   "source": [
    "l=int(input())"
   ]
  },
  {
   "cell_type": "code",
   "execution_count": 11,
   "id": "28fd4bf7-e6dd-47ba-a454-38c81ac69608",
   "metadata": {},
   "outputs": [
    {
     "name": "stdin",
     "output_type": "stream",
     "text": [
      " 20\n"
     ]
    }
   ],
   "source": [
    "b=int(input())"
   ]
  },
  {
   "cell_type": "code",
   "execution_count": 12,
   "id": "4f8bd974-97f5-49a8-8f0d-a4552b0ec8c4",
   "metadata": {},
   "outputs": [],
   "source": [
    "ar_rec= l*b"
   ]
  },
  {
   "cell_type": "code",
   "execution_count": 13,
   "id": "8573419a-c314-420a-b4d0-cdf890d9c669",
   "metadata": {},
   "outputs": [
    {
     "data": {
      "text/plain": [
       "200"
      ]
     },
     "execution_count": 13,
     "metadata": {},
     "output_type": "execute_result"
    }
   ],
   "source": [
    "ar_rec"
   ]
  },
  {
   "cell_type": "markdown",
   "id": "2ef25728-d148-478d-bb20-dfbe6ce3cb41",
   "metadata": {},
   "source": [
    "Write a Python program that converts temperatures from Celsius to\n",
    "Fahrenheit. Take the temperature in Celsius as input, store it in a variable,\n",
    "convert it to Fahrenheit, and display the result."
   ]
  },
  {
   "cell_type": "code",
   "execution_count": 27,
   "id": "2d46f783-dabe-454f-b296-bc3cd646bd4b",
   "metadata": {},
   "outputs": [
    {
     "name": "stdin",
     "output_type": "stream",
     "text": [
      " 45\n"
     ]
    }
   ],
   "source": [
    "c=float(input())"
   ]
  },
  {
   "cell_type": "code",
   "execution_count": 28,
   "id": "16001dd2-a3be-4a7a-89cd-acb39f11c3a4",
   "metadata": {},
   "outputs": [],
   "source": [
    "f= (c*1.8)+32"
   ]
  },
  {
   "cell_type": "code",
   "execution_count": 29,
   "id": "b2e64026-2ad9-4f86-b26f-b32d150b651d",
   "metadata": {},
   "outputs": [
    {
     "data": {
      "text/plain": [
       "113.0"
      ]
     },
     "execution_count": 29,
     "metadata": {},
     "output_type": "execute_result"
    }
   ],
   "source": [
    "f"
   ]
  },
  {
   "cell_type": "markdown",
   "id": "c00c4292-1616-40d0-a9b0-a90fc367ff8f",
   "metadata": {},
   "source": [
    "#String Based Questions"
   ]
  },
  {
   "cell_type": "markdown",
   "id": "dfa2e29c-5dce-46c6-b57b-3fbc85aceb99",
   "metadata": {},
   "source": [
    "Write a Python program that takes a string as input and prints the length of\n",
    "the string."
   ]
  },
  {
   "cell_type": "code",
   "execution_count": 34,
   "id": "d6ad6f0a-f2e2-4b44-bd0c-8c3284b60215",
   "metadata": {},
   "outputs": [
    {
     "name": "stdin",
     "output_type": "stream",
     "text": [
      " my name is shubhashish\n"
     ]
    }
   ],
   "source": [
    "string_var=input()"
   ]
  },
  {
   "cell_type": "code",
   "execution_count": 35,
   "id": "71eb8e51-938e-4751-a9ee-69cb5ab7c681",
   "metadata": {},
   "outputs": [
    {
     "name": "stdout",
     "output_type": "stream",
     "text": [
      "22\n"
     ]
    }
   ],
   "source": [
    "print(len(string_var))"
   ]
  },
  {
   "cell_type": "code",
   "execution_count": 37,
   "id": "10964d47-4792-4bef-9970-bfc8074c13fe",
   "metadata": {},
   "outputs": [
    {
     "data": {
      "text/plain": [
       "str"
      ]
     },
     "execution_count": 37,
     "metadata": {},
     "output_type": "execute_result"
    }
   ],
   "source": [
    "type(string_var) #for self checking\n"
   ]
  },
  {
   "cell_type": "markdown",
   "id": "8be4e174-5137-455a-b349-dcbba49d63a2",
   "metadata": {},
   "source": [
    "Create a program that takes a sentence from the user and counts the number\n",
    "of vowels (a, e, i, o, u) in the string."
   ]
  },
  {
   "cell_type": "code",
   "execution_count": 59,
   "id": "b90eb2c9-bd48-45bc-89ad-e0ed23bfa878",
   "metadata": {},
   "outputs": [
    {
     "name": "stdin",
     "output_type": "stream",
     "text": [
      "  my name is shubhashish\n"
     ]
    },
    {
     "name": "stdout",
     "output_type": "stream",
     "text": [
      "6\n"
     ]
    }
   ],
   "source": [
    "string_var1=str(input())\n",
    "count=0\n",
    "string_var1=string_var1.lower()\n",
    "for i in string_var1:\n",
    "    if i=='a'or i=='e' or i=='i' or i=='o' or i=='u':\n",
    "        count=count+1\n",
    "print(count)"
   ]
  },
  {
   "cell_type": "markdown",
   "id": "e2d7cd0b-12ed-4b7f-aa60-2e71e5079a1e",
   "metadata": {},
   "source": [
    "Given a string, reverse the order of characters using string slicing and print\n",
    "the reversed string."
   ]
  },
  {
   "cell_type": "code",
   "execution_count": 60,
   "id": "41e4be73-07f2-4343-968c-b83bbf0897cf",
   "metadata": {},
   "outputs": [],
   "source": [
    "string_value= \"shubhashish\""
   ]
  },
  {
   "cell_type": "code",
   "execution_count": 69,
   "id": "c5b5d695-182e-49f9-abac-2bf80b7bbffd",
   "metadata": {},
   "outputs": [],
   "source": [
    "x=string_value[::-1]  #reverse-order"
   ]
  },
  {
   "cell_type": "code",
   "execution_count": 71,
   "id": "879c946a-833b-43dc-9d7a-6ec30a96bc41",
   "metadata": {},
   "outputs": [
    {
     "name": "stdout",
     "output_type": "stream",
     "text": [
      "hsihsahbuhs\n"
     ]
    }
   ],
   "source": [
    "print(x)"
   ]
  },
  {
   "cell_type": "markdown",
   "id": "ceddf9b2-0d62-4cd1-8db4-cd0a4edfa3b1",
   "metadata": {},
   "source": [
    "Write a program that takes a string as input and checks if it is a palindrome\n",
    "(reads the same forwards and backwards)."
   ]
  },
  {
   "cell_type": "code",
   "execution_count": 76,
   "id": "4edcd093-1fca-4d14-8878-a6d5f08b96c8",
   "metadata": {},
   "outputs": [
    {
     "name": "stdin",
     "output_type": "stream",
     "text": [
      " malayalam\n"
     ]
    }
   ],
   "source": [
    "pal_string=input()"
   ]
  },
  {
   "cell_type": "code",
   "execution_count": 78,
   "id": "a0d172fc-c384-4f48-8cb1-88cb52966893",
   "metadata": {},
   "outputs": [],
   "source": [
    "pal_check1=pal_string[::-1]"
   ]
  },
  {
   "cell_type": "code",
   "execution_count": 80,
   "id": "a2d10e58-160d-4d9c-87ee-43916059bf00",
   "metadata": {},
   "outputs": [
    {
     "name": "stdout",
     "output_type": "stream",
     "text": [
      "its a palindrome\n"
     ]
    }
   ],
   "source": [
    "if pal_string==pal_check1:\n",
    "    print('its a palindrome')\n",
    "else:\n",
    "    print('not a palindrome')"
   ]
  },
  {
   "cell_type": "code",
   "execution_count": 85,
   "id": "ee989436-272d-47e9-87ca-85717e89fca9",
   "metadata": {},
   "outputs": [
    {
     "name": "stdin",
     "output_type": "stream",
     "text": [
      " south\n"
     ]
    },
    {
     "name": "stdout",
     "output_type": "stream",
     "text": [
      "not a palindrome\n"
     ]
    }
   ],
   "source": [
    "#check by both cases\n",
    "pal_string1=input()   \n",
    "pal_check2=pal_string1[::-1]\n",
    "if pal_string1==pal_check2:\n",
    "    print('its a palindrome')\n",
    "else:\n",
    "    print('not a palindrome')"
   ]
  },
  {
   "cell_type": "markdown",
   "id": "888f60c3-49c6-4ed1-9616-53dde76ef48b",
   "metadata": {},
   "source": [
    "Create a program that takes a string as input and removes all the spaces from\n",
    "it. Print the modified string without spaces."
   ]
  },
  {
   "cell_type": "code",
   "execution_count": 110,
   "id": "10d88093-30a9-4ce5-a312-64bf399ae17f",
   "metadata": {},
   "outputs": [
    {
     "name": "stdin",
     "output_type": "stream",
     "text": [
      " not a palindrome\n"
     ]
    },
    {
     "name": "stdout",
     "output_type": "stream",
     "text": [
      "notapalindrome\n"
     ]
    }
   ],
   "source": [
    "space_string=input()\n",
    "modified_string=space_string.replace(' ','')\n",
    "print(modified_string)"
   ]
  },
  {
   "cell_type": "code",
   "execution_count": null,
   "id": "924fe44c-dc46-4644-b57c-81bfa5a15367",
   "metadata": {},
   "outputs": [],
   "source": []
  }
 ],
 "metadata": {
  "kernelspec": {
   "display_name": "Python 3 (ipykernel)",
   "language": "python",
   "name": "python3"
  },
  "language_info": {
   "codemirror_mode": {
    "name": "ipython",
    "version": 3
   },
   "file_extension": ".py",
   "mimetype": "text/x-python",
   "name": "python",
   "nbconvert_exporter": "python",
   "pygments_lexer": "ipython3",
   "version": "3.10.8"
  }
 },
 "nbformat": 4,
 "nbformat_minor": 5
}
