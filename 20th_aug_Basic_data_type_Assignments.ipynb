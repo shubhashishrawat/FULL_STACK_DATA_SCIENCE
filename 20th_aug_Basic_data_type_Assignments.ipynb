{
 "cells": [
  {
   "cell_type": "markdown",
   "id": "685a19a5-fda3-46ba-a137-397097e8a493",
   "metadata": {},
   "source": [
    "String Based Assignment Problem"
   ]
  },
  {
   "cell_type": "markdown",
   "id": "c1ce790c-e25c-4876-bf2e-7e13c67dbaeb",
   "metadata": {},
   "source": [
    "1. Write a program to reverse a string."
   ]
  },
  {
   "cell_type": "code",
   "execution_count": 1,
   "id": "aeb1d589-ceda-4fc2-b6d5-17e8a6326732",
   "metadata": {},
   "outputs": [],
   "source": [
    "a=\"shubh\""
   ]
  },
  {
   "cell_type": "code",
   "execution_count": 3,
   "id": "658aa268-a9b7-47c8-86d3-d121199dfcf9",
   "metadata": {},
   "outputs": [],
   "source": [
    "rev=a[::-1]"
   ]
  },
  {
   "cell_type": "code",
   "execution_count": 4,
   "id": "4cf49280-4098-431b-a00a-5d7cf7307d51",
   "metadata": {},
   "outputs": [
    {
     "data": {
      "text/plain": [
       "'hbuhs'"
      ]
     },
     "execution_count": 4,
     "metadata": {},
     "output_type": "execute_result"
    }
   ],
   "source": [
    "rev"
   ]
  },
  {
   "cell_type": "markdown",
   "id": "8d626193-aeb8-4f27-ac40-1c1029893907",
   "metadata": {},
   "source": [
    "2. Check if a string is a palindrome."
   ]
  },
  {
   "cell_type": "code",
   "execution_count": 3,
   "id": "f10c0bc5-b572-49f9-89c2-3767fc5b91ee",
   "metadata": {},
   "outputs": [],
   "source": [
    "string1=\"malayalam\""
   ]
  },
  {
   "cell_type": "code",
   "execution_count": 5,
   "id": "3bb808d0-f593-4466-b0ae-e3cc65b9b38a",
   "metadata": {},
   "outputs": [],
   "source": [
    "rec= string1==string1[::-1]\n",
    "    "
   ]
  },
  {
   "cell_type": "code",
   "execution_count": 6,
   "id": "ba30cea6-5a88-4368-916d-e089ae38aad3",
   "metadata": {},
   "outputs": [
    {
     "data": {
      "text/plain": [
       "True"
      ]
     },
     "execution_count": 6,
     "metadata": {},
     "output_type": "execute_result"
    }
   ],
   "source": [
    "rec"
   ]
  },
  {
   "cell_type": "markdown",
   "id": "a171721c-67ce-4b67-a975-ce9e04953468",
   "metadata": {},
   "source": [
    "3. Convert a string to uppercase."
   ]
  },
  {
   "cell_type": "code",
   "execution_count": 7,
   "id": "af542cbf-67f8-4d71-a59e-6846b292c96e",
   "metadata": {},
   "outputs": [],
   "source": [
    "s1=\"monu\""
   ]
  },
  {
   "cell_type": "code",
   "execution_count": 8,
   "id": "000cf75b-0a82-4aea-b69f-613235a9b27e",
   "metadata": {},
   "outputs": [
    {
     "data": {
      "text/plain": [
       "'MONU'"
      ]
     },
     "execution_count": 8,
     "metadata": {},
     "output_type": "execute_result"
    }
   ],
   "source": [
    "s1.upper()"
   ]
  },
  {
   "cell_type": "markdown",
   "id": "59b163f9-7b5c-400f-8ef9-6c15b926f35a",
   "metadata": {},
   "source": [
    "4. Convert a string to lowercase"
   ]
  },
  {
   "cell_type": "code",
   "execution_count": 9,
   "id": "b23c768b-090c-4aba-b040-0f6ea0d59a7a",
   "metadata": {},
   "outputs": [],
   "source": [
    "s2=\"SHUBHASHISH\""
   ]
  },
  {
   "cell_type": "code",
   "execution_count": 10,
   "id": "31c1c5d8-5435-440d-9f5f-3bba2088fb82",
   "metadata": {},
   "outputs": [
    {
     "data": {
      "text/plain": [
       "'shubhashish'"
      ]
     },
     "execution_count": 10,
     "metadata": {},
     "output_type": "execute_result"
    }
   ],
   "source": [
    "s2.lower()"
   ]
  },
  {
   "cell_type": "markdown",
   "id": "79f95309-e1a4-449b-ab6c-7de400329546",
   "metadata": {},
   "source": [
    "5. Count the number of vowels in a string."
   ]
  },
  {
   "cell_type": "code",
   "execution_count": 12,
   "id": "dab79563-91fd-4cc9-8664-9e7dfaf83d64",
   "metadata": {},
   "outputs": [],
   "source": [
    "c=0"
   ]
  },
  {
   "cell_type": "code",
   "execution_count": 21,
   "id": "df26da13-4619-4987-916e-6725fdf41715",
   "metadata": {},
   "outputs": [
    {
     "name": "stdout",
     "output_type": "stream",
     "text": [
      "5\n"
     ]
    }
   ],
   "source": [
    "s3=\"To The principle\"\n",
    "s3.lower()\n",
    "for i in s3:\n",
    "    if  i=='a' or i=='e' or i=='i' or i=='o'or i=='u':\n",
    "        c=c+1\n",
    "print(c)\n"
   ]
  },
  {
   "cell_type": "markdown",
   "id": "66a3d915-9ff9-40fc-8342-953afbfb84c6",
   "metadata": {},
   "source": [
    "6. Count the number of consonants in a string."
   ]
  },
  {
   "cell_type": "code",
   "execution_count": 35,
   "id": "e01960ac-2900-4e6c-b447-24729dda138a",
   "metadata": {},
   "outputs": [
    {
     "name": "stdout",
     "output_type": "stream",
     "text": [
      "11\n"
     ]
    }
   ],
   "source": [
    "s5=\"To The principle\"\n",
    "v=['a,','e','i','o','u']\n",
    "c=0\n",
    "s5.lower()\n",
    "for i in s5:\n",
    "    if  i not in v:\n",
    "        c=c+1\n",
    "print(c)\n"
   ]
  },
  {
   "cell_type": "markdown",
   "id": "07425e0d-78a7-4d5c-879e-44a2d70187b5",
   "metadata": {},
   "source": [
    "7. Remove all whitespaces from a string."
   ]
  },
  {
   "cell_type": "code",
   "execution_count": 25,
   "id": "cfefcfea-d699-4765-a27d-b86c9813f663",
   "metadata": {},
   "outputs": [
    {
     "data": {
      "text/plain": [
       "'ToTheprinciple'"
      ]
     },
     "execution_count": 25,
     "metadata": {},
     "output_type": "execute_result"
    }
   ],
   "source": [
    "s6=\"      To The principle\"\n",
    "s6.replace(\" \" ,\"\")"
   ]
  },
  {
   "cell_type": "markdown",
   "id": "8edba206-e4cc-4f02-aabc-de5705dcfb96",
   "metadata": {},
   "source": [
    "8. Find the length of a string without using the `len()` function."
   ]
  },
  {
   "cell_type": "code",
   "execution_count": 1,
   "id": "f0f3d163-fb09-4c2d-8ae9-874d17f36805",
   "metadata": {},
   "outputs": [
    {
     "name": "stdout",
     "output_type": "stream",
     "text": [
      "16\n"
     ]
    }
   ],
   "source": [
    "s7=\"To The principle\"\n",
    "c=0\n",
    "for i in s7:\n",
    "    c=c+1\n",
    "print(c)"
   ]
  },
  {
   "cell_type": "markdown",
   "id": "2ab24f12-a57e-42e3-8ec2-afcb1d44e37e",
   "metadata": {},
   "source": [
    "9. Check if a string contains a specific word."
   ]
  },
  {
   "cell_type": "code",
   "execution_count": 3,
   "id": "5c083196-b28c-4d70-84ae-719401abf69b",
   "metadata": {},
   "outputs": [
    {
     "data": {
      "text/plain": [
       "8"
      ]
     },
     "execution_count": 3,
     "metadata": {},
     "output_type": "execute_result"
    }
   ],
   "source": [
    "s=\"my name is shubhashish\"\n",
    "s.find('is')\n"
   ]
  },
  {
   "cell_type": "markdown",
   "id": "ef9c42e7-b71f-48b7-b439-c441d07944a9",
   "metadata": {},
   "source": [
    "10. Replace a word in a string with another word."
   ]
  },
  {
   "cell_type": "code",
   "execution_count": 5,
   "id": "d2d90284-53a1-4519-90c3-e9f1015b737b",
   "metadata": {},
   "outputs": [
    {
     "data": {
      "text/plain": [
       "'My name is shubhashish'"
      ]
     },
     "execution_count": 5,
     "metadata": {},
     "output_type": "execute_result"
    }
   ],
   "source": [
    "s1=\"my name is shubhashish\"\n",
    "s1.replace('my','My')"
   ]
  },
  {
   "cell_type": "markdown",
   "id": "d4eabefe-6d96-4376-aa84-5c06f5ae7cce",
   "metadata": {},
   "source": [
    "11. Count the occurrences of a word in a string."
   ]
  },
  {
   "cell_type": "code",
   "execution_count": 7,
   "id": "052efc9b-9a5f-48ee-a857-43a5c297f6e6",
   "metadata": {},
   "outputs": [],
   "source": [
    "t=\"my name is shubhashish\""
   ]
  },
  {
   "cell_type": "code",
   "execution_count": 14,
   "id": "4d968a3f-a893-4701-bfac-48d7994e1ab1",
   "metadata": {},
   "outputs": [
    {
     "data": {
      "text/plain": [
       "2"
      ]
     },
     "execution_count": 14,
     "metadata": {},
     "output_type": "execute_result"
    }
   ],
   "source": [
    "t.count('is')"
   ]
  },
  {
   "cell_type": "markdown",
   "id": "9db2dd44-f17b-47be-9db5-5294d3c18ce0",
   "metadata": {},
   "source": [
    "12. Find the first occurrence of a word in a string."
   ]
  },
  {
   "cell_type": "code",
   "execution_count": 15,
   "id": "73597bd9-38e0-490f-b89b-acfd469cb1bd",
   "metadata": {},
   "outputs": [],
   "source": [
    "t=\"my name is shubhashish\""
   ]
  },
  {
   "cell_type": "code",
   "execution_count": 18,
   "id": "16c74fb5-68a9-4f62-b72a-d5b019256af4",
   "metadata": {},
   "outputs": [
    {
     "data": {
      "text/plain": [
       "8"
      ]
     },
     "execution_count": 18,
     "metadata": {},
     "output_type": "execute_result"
    }
   ],
   "source": [
    "t.find('is')"
   ]
  },
  {
   "cell_type": "markdown",
   "id": "3ebb955f-a23b-49ec-b0af-054bf126a2a3",
   "metadata": {},
   "source": [
    "13. Find the last occurrence of a word in a string."
   ]
  },
  {
   "cell_type": "code",
   "execution_count": 2,
   "id": "5dc4b5e8-5b13-4730-b2b6-9d087e2ce75e",
   "metadata": {},
   "outputs": [
    {
     "data": {
      "text/plain": [
       "19"
      ]
     },
     "execution_count": 2,
     "metadata": {},
     "output_type": "execute_result"
    }
   ],
   "source": [
    "l=\"my name is shubhashish\"\n",
    "l.rindex('is')\n"
   ]
  },
  {
   "cell_type": "markdown",
   "id": "3d79e7cd-f032-489f-998c-508ca45de4f5",
   "metadata": {},
   "source": [
    "14. Split a string into a list of words."
   ]
  },
  {
   "cell_type": "code",
   "execution_count": 3,
   "id": "fd3608dc-4bee-40de-bf45-2da87112d003",
   "metadata": {},
   "outputs": [
    {
     "data": {
      "text/plain": [
       "['my', 'name', 'is', 'shubhashish']"
      ]
     },
     "execution_count": 3,
     "metadata": {},
     "output_type": "execute_result"
    }
   ],
   "source": [
    "l=\"my name is shubhashish\"\n",
    "l.split()"
   ]
  },
  {
   "cell_type": "markdown",
   "id": "1fd63619-c87e-4a9f-8eff-a5637703a129",
   "metadata": {},
   "source": [
    "15. Join a list of words into a string"
   ]
  },
  {
   "cell_type": "code",
   "execution_count": 5,
   "id": "5f09e609-5b17-43b1-994f-c148bf4f8b87",
   "metadata": {},
   "outputs": [],
   "source": [
    "list1=['my', 'name', 'is', 'shubhashish']"
   ]
  },
  {
   "cell_type": "code",
   "execution_count": 6,
   "id": "9cac1a8c-609a-42db-a660-af4f14d7d546",
   "metadata": {},
   "outputs": [
    {
     "data": {
      "text/plain": [
       "'my name is shubhashish'"
      ]
     },
     "execution_count": 6,
     "metadata": {},
     "output_type": "execute_result"
    }
   ],
   "source": [
    "\" \".join(list1)"
   ]
  },
  {
   "cell_type": "markdown",
   "id": "40b2161a-048d-43e0-98eb-91c07b39c99c",
   "metadata": {},
   "source": [
    "16. Convert a string where words are separated by spaces to one where words are separated by underscores"
   ]
  },
  {
   "cell_type": "code",
   "execution_count": 7,
   "id": "d95a1314-5327-4c38-9d12-fad3343ffc68",
   "metadata": {},
   "outputs": [],
   "source": [
    "l=\"my name is shubhashish\""
   ]
  },
  {
   "cell_type": "code",
   "execution_count": 8,
   "id": "1cea87e0-e262-440c-82e6-816ce7d40ddf",
   "metadata": {},
   "outputs": [
    {
     "data": {
      "text/plain": [
       "'my_name_is_shubhashish'"
      ]
     },
     "execution_count": 8,
     "metadata": {},
     "output_type": "execute_result"
    }
   ],
   "source": [
    "l.replace(\" \",\"_\")"
   ]
  },
  {
   "cell_type": "markdown",
   "id": "4881a560-48a8-484b-a80a-2aa8248435d9",
   "metadata": {},
   "source": [
    "17. Check if a string starts with a specific word or phrase."
   ]
  },
  {
   "cell_type": "code",
   "execution_count": 10,
   "id": "881e53c4-a2c7-44b5-87f7-aeb48eceed16",
   "metadata": {},
   "outputs": [
    {
     "data": {
      "text/plain": [
       "True"
      ]
     },
     "execution_count": 10,
     "metadata": {},
     "output_type": "execute_result"
    }
   ],
   "source": [
    "l=\"my name is shubhashish\"\n",
    "l.startswith('my')"
   ]
  },
  {
   "cell_type": "code",
   "execution_count": 11,
   "id": "39306b54-fc09-408c-b3e6-8245857e759b",
   "metadata": {},
   "outputs": [
    {
     "data": {
      "text/plain": [
       "False"
      ]
     },
     "execution_count": 11,
     "metadata": {},
     "output_type": "execute_result"
    }
   ],
   "source": [
    "l.startswith('name')"
   ]
  },
  {
   "cell_type": "markdown",
   "id": "0bb2cb60-9fd8-4a46-a4b4-0dc952514c6d",
   "metadata": {},
   "source": [
    "18. Check if a string ends with a specific word or phrase."
   ]
  },
  {
   "cell_type": "code",
   "execution_count": 12,
   "id": "f50fd9ee-761f-4f18-b319-0470192629c8",
   "metadata": {},
   "outputs": [],
   "source": [
    "l=\"my name is shubhashish\""
   ]
  },
  {
   "cell_type": "code",
   "execution_count": 13,
   "id": "67a287cf-9ca4-4741-a810-064bb3b808fa",
   "metadata": {},
   "outputs": [
    {
     "data": {
      "text/plain": [
       "True"
      ]
     },
     "execution_count": 13,
     "metadata": {},
     "output_type": "execute_result"
    }
   ],
   "source": [
    "l.endswith('shubhashish')"
   ]
  },
  {
   "cell_type": "code",
   "execution_count": 14,
   "id": "c70311c3-f85b-4031-b875-eaae6cf8dede",
   "metadata": {},
   "outputs": [
    {
     "data": {
      "text/plain": [
       "False"
      ]
     },
     "execution_count": 14,
     "metadata": {},
     "output_type": "execute_result"
    }
   ],
   "source": [
    "l.endswith('my')"
   ]
  },
  {
   "cell_type": "markdown",
   "id": "bb8c9eac-2321-4d00-ad29-6c8af730ae67",
   "metadata": {},
   "source": [
    "19. Convert a string to title case (e.g., \"hello world\" to \"Hello World\")."
   ]
  },
  {
   "cell_type": "code",
   "execution_count": 18,
   "id": "208e3027-8e88-436f-ba9c-92f6c1236333",
   "metadata": {},
   "outputs": [],
   "source": [
    "str2=\"hello world\""
   ]
  },
  {
   "cell_type": "code",
   "execution_count": 20,
   "id": "b07e7edf-120d-4a5c-8be9-e41f8add8953",
   "metadata": {},
   "outputs": [
    {
     "data": {
      "text/plain": [
       "'Hello World'"
      ]
     },
     "execution_count": 20,
     "metadata": {},
     "output_type": "execute_result"
    }
   ],
   "source": [
    "str2.title()"
   ]
  },
  {
   "cell_type": "markdown",
   "id": "a0e80ee7-e0ae-46d3-afc4-cb79599175f9",
   "metadata": {},
   "source": [
    "20. Find the longest word in a string."
   ]
  },
  {
   "cell_type": "code",
   "execution_count": 21,
   "id": "464d6930-5967-43da-922e-03725a755229",
   "metadata": {},
   "outputs": [],
   "source": [
    "l=\"my name is shubhashish\""
   ]
  },
  {
   "cell_type": "code",
   "execution_count": 23,
   "id": "d3938885-1b4a-4ff2-81ab-8a0dcdfc1122",
   "metadata": {},
   "outputs": [
    {
     "name": "stdout",
     "output_type": "stream",
     "text": [
      "shubhashish\n"
     ]
    }
   ],
   "source": [
    "words=l.split()\n",
    "word=\"\"\n",
    "for i in words:\n",
    "    if len(i)>len(word):\n",
    "        word=i\n",
    "print(word)\n"
   ]
  },
  {
   "cell_type": "markdown",
   "id": "0020ddec-47ab-40a8-8bac-173a605632f5",
   "metadata": {},
   "source": [
    "21. Find the shortest word in a string."
   ]
  },
  {
   "cell_type": "code",
   "execution_count": 26,
   "id": "67bfd96a-f1fa-43f0-a37c-740e6514db86",
   "metadata": {},
   "outputs": [
    {
     "name": "stdout",
     "output_type": "stream",
     "text": [
      "my\n"
     ]
    }
   ],
   "source": [
    "l=\"my name is shubhashish\"\n",
    "words=l.split()\n",
    "word=words[0]\n",
    "for i in words:\n",
    "    if len(i)<len(word):\n",
    "        word=i\n",
    "print(word)\n",
    "\n"
   ]
  },
  {
   "cell_type": "markdown",
   "id": "70e7ec28-f367-4601-b875-f6b2c3a14864",
   "metadata": {},
   "source": [
    "22. Reverse the order of words in a string."
   ]
  },
  {
   "cell_type": "code",
   "execution_count": 36,
   "id": "4658b1aa-10c9-41d0-8430-8b52654d5532",
   "metadata": {},
   "outputs": [
    {
     "data": {
      "text/plain": [
       "'hsihsahbuhs si eman ym'"
      ]
     },
     "execution_count": 36,
     "metadata": {},
     "output_type": "execute_result"
    }
   ],
   "source": [
    "l=\"my name is shubhashish\"\n",
    "l[::-1]\n"
   ]
  },
  {
   "cell_type": "markdown",
   "id": "442f7e3a-05fb-441c-b034-a467a52997eb",
   "metadata": {},
   "source": [
    "23. Check if a string is alphanumeric."
   ]
  },
  {
   "cell_type": "code",
   "execution_count": 37,
   "id": "7e56d84c-65c3-45b0-91dd-3a571db64e9f",
   "metadata": {},
   "outputs": [
    {
     "data": {
      "text/plain": [
       "False"
      ]
     },
     "execution_count": 37,
     "metadata": {},
     "output_type": "execute_result"
    }
   ],
   "source": [
    "l=\"my name is shubhashish\"\n",
    "l.isalnum()"
   ]
  },
  {
   "cell_type": "markdown",
   "id": "f24cf203-45dc-4fed-82cd-1dcb3a97cd01",
   "metadata": {},
   "source": [
    "24. Extract all digits from a string."
   ]
  },
  {
   "cell_type": "code",
   "execution_count": 5,
   "id": "781ef20d-9cda-41cf-8682-d9d4c793ef04",
   "metadata": {},
   "outputs": [
    {
     "name": "stdout",
     "output_type": "stream",
     "text": [
      "659"
     ]
    }
   ],
   "source": [
    "s=\"sfjj6kg5bb9j\"\n",
    "for i in s:\n",
    "     if i.isdigit():\n",
    "            print(i,end=\"\")\n"
   ]
  },
  {
   "cell_type": "markdown",
   "id": "108f74b4-e03e-4eab-84ba-81f19fad8feb",
   "metadata": {},
   "source": [
    "\n",
    "25. Extract all alphabets from a string."
   ]
  },
  {
   "cell_type": "code",
   "execution_count": 6,
   "id": "da5f131f-8158-42e4-a6ca-cd2c10c66b59",
   "metadata": {},
   "outputs": [
    {
     "name": "stdout",
     "output_type": "stream",
     "text": [
      "sfjjkgbbj"
     ]
    }
   ],
   "source": [
    "s=\"sfjj6kg5bb9j\"\n",
    "for i in s:\n",
    "    if i.isalpha():\n",
    "        print(i,end=\"\")"
   ]
  },
  {
   "cell_type": "markdown",
   "id": "52a7df73-45ad-499d-accf-d0acea0cfbe3",
   "metadata": {},
   "source": [
    "26. Count the number of uppercase letters in a string."
   ]
  },
  {
   "cell_type": "code",
   "execution_count": 8,
   "id": "11200f5b-4b66-4ab7-9180-3fc2db19dc68",
   "metadata": {},
   "outputs": [
    {
     "name": "stdout",
     "output_type": "stream",
     "text": [
      "3\n"
     ]
    }
   ],
   "source": [
    "U=\"SfjJ6kg5Bb9j\"\n",
    "c=0\n",
    "for i in U:\n",
    "    if i.isupper():\n",
    "        c=c+1\n",
    "print(c)"
   ]
  },
  {
   "cell_type": "markdown",
   "id": "5c1be297-0846-4f56-b3ac-0b089c63831c",
   "metadata": {},
   "source": [
    "27. Count the number of lowercase letters in a string."
   ]
  },
  {
   "cell_type": "code",
   "execution_count": 9,
   "id": "2388aeaf-ef0b-438e-b2e1-410938559224",
   "metadata": {},
   "outputs": [
    {
     "name": "stdout",
     "output_type": "stream",
     "text": [
      "6\n"
     ]
    }
   ],
   "source": [
    "U=\"SfjJ6kg5Bb9j\"\n",
    "c=0\n",
    "for i in U:\n",
    "    if i.islower():\n",
    "        c=c+1\n",
    "print(c)"
   ]
  },
  {
   "cell_type": "markdown",
   "id": "2598ce2d-a082-41d2-80c2-0f6ff9aabbbd",
   "metadata": {},
   "source": [
    "28. Swap the case of each character in a string."
   ]
  },
  {
   "cell_type": "code",
   "execution_count": 15,
   "id": "0b89a5df-ef61-4c6f-a112-c72121ff84be",
   "metadata": {},
   "outputs": [
    {
     "data": {
      "text/plain": [
       "'sFJj6KG5bB9J'"
      ]
     },
     "execution_count": 15,
     "metadata": {},
     "output_type": "execute_result"
    }
   ],
   "source": [
    "U=\"SfjJ6kg5Bb9j\"\n",
    "U.swapcase()\n",
    "\n",
    "    \n",
    "    "
   ]
  },
  {
   "cell_type": "markdown",
   "id": "5a379fbf-494d-4a57-8082-9478c56f5eb5",
   "metadata": {},
   "source": [
    "29. Remove a specific word from a string."
   ]
  },
  {
   "cell_type": "code",
   "execution_count": 18,
   "id": "f9d811eb-f529-4a8e-a28d-ee8e93720cd1",
   "metadata": {},
   "outputs": [
    {
     "data": {
      "text/plain": [
       "'fjJ6kg5Bb9j'"
      ]
     },
     "execution_count": 18,
     "metadata": {},
     "output_type": "execute_result"
    }
   ],
   "source": [
    "U=\"SfjJ6kg5Bb9j\"\n",
    "U.replace(\"S\",\"\")"
   ]
  },
  {
   "cell_type": "markdown",
   "id": "6f93a876-f84b-46db-8731-90ef4259ad2c",
   "metadata": {},
   "source": [
    "30. Check if a string is a valid email address."
   ]
  },
  {
   "cell_type": "code",
   "execution_count": 39,
   "id": "159d27e8-8954-416f-a224-5ff131ca5c0d",
   "metadata": {},
   "outputs": [
    {
     "name": "stdout",
     "output_type": "stream",
     "text": [
      "True\n"
     ]
    }
   ],
   "source": [
    "import re\n",
    "pat = \"^[a-zA-Z0-9-_]+@[a-zA-Z0-9]+\\.[a-z]{1,3}$\"\n",
    "s = \"shubh@wifi.com\"\n",
    "if re.match(pat,s):\n",
    "      print(True)\n",
    "else:\n",
    "    print(False)"
   ]
  },
  {
   "cell_type": "markdown",
   "id": "c7d10b47-0e64-4171-a2d0-c8ac9273f5b9",
   "metadata": {},
   "source": [
    "31. Extract the username from an email address string."
   ]
  },
  {
   "cell_type": "code",
   "execution_count": 42,
   "id": "828eef5e-7d49-4d37-8180-0283c3a14418",
   "metadata": {},
   "outputs": [
    {
     "data": {
      "text/plain": [
       "'shubh'"
      ]
     },
     "execution_count": 42,
     "metadata": {},
     "output_type": "execute_result"
    }
   ],
   "source": [
    "s = \"shubh@wifi.com\"\n",
    "s.split(\"@\")[0]"
   ]
  },
  {
   "cell_type": "markdown",
   "id": "0f0dca27-fa32-4412-b4d0-85dbca715e57",
   "metadata": {},
   "source": [
    "32. Extract the domain name from an email address string."
   ]
  },
  {
   "cell_type": "code",
   "execution_count": 46,
   "id": "d05fbfa2-1fe7-4420-bf70-ab37da42ce06",
   "metadata": {},
   "outputs": [
    {
     "data": {
      "text/plain": [
       "'wifi'"
      ]
     },
     "execution_count": 46,
     "metadata": {},
     "output_type": "execute_result"
    }
   ],
   "source": [
    "s = \"shubh@wifi.com\"\n",
    "k=s.split('@')[1]\n",
    "k.split('.')[0]\n"
   ]
  },
  {
   "cell_type": "markdown",
   "id": "293dc619-a711-4e81-a91a-ce116ed5d838",
   "metadata": {},
   "source": [
    "33. Replace multiple spaces in a string with a single space."
   ]
  },
  {
   "cell_type": "code",
   "execution_count": 48,
   "id": "b3c7a5a4-f54f-4f46-b291-324a170cfb00",
   "metadata": {},
   "outputs": [
    {
     "data": {
      "text/plain": [
       "'shubh@wifi.com'"
      ]
     },
     "execution_count": 48,
     "metadata": {},
     "output_type": "execute_result"
    }
   ],
   "source": [
    "s = \"  shubh @ wifi . com   \"\n",
    "s.replace(\" \",\"\")"
   ]
  },
  {
   "cell_type": "markdown",
   "id": "06382aac-60a0-4498-aad2-20deb77fcad1",
   "metadata": {},
   "source": [
    "34. Check if a string is a valid URL."
   ]
  },
  {
   "cell_type": "code",
   "execution_count": 4,
   "id": "e90c5911-4a2a-4772-b5b2-84c30f8d9e12",
   "metadata": {},
   "outputs": [
    {
     "name": "stdout",
     "output_type": "stream",
     "text": [
      "Collecting validators\n",
      "  Downloading validators-0.21.2-py3-none-any.whl (25 kB)\n",
      "Installing collected packages: validators\n",
      "Successfully installed validators-0.21.2\n",
      "Note: you may need to restart the kernel to use updated packages.\n"
     ]
    }
   ],
   "source": [
    "pip install validators"
   ]
  },
  {
   "cell_type": "code",
   "execution_count": 7,
   "id": "19716173-13ad-4277-9028-3bf49d359a87",
   "metadata": {},
   "outputs": [
    {
     "name": "stdout",
     "output_type": "stream",
     "text": [
      "True\n"
     ]
    }
   ],
   "source": [
    "import validators\n",
    "valid=validators.url('https://drive.google.com/')\n",
    "if valid==True:\n",
    "    print(True)\n",
    "else:\n",
    "    print(False)\n"
   ]
  },
  {
   "cell_type": "markdown",
   "id": "20eb4a94-214c-42a9-b9d7-9d3a272620dd",
   "metadata": {},
   "source": [
    "35. Extract the protocol (http or https) from a URL string."
   ]
  },
  {
   "cell_type": "code",
   "execution_count": 18,
   "id": "2ae1af7b-87f1-4f58-b275-1734c572da6b",
   "metadata": {},
   "outputs": [
    {
     "name": "stdout",
     "output_type": "stream",
     "text": [
      "drive.google.com\n"
     ]
    }
   ],
   "source": [
    "s=\"http://drive.google.com\"\n",
    "th=s.replace(\"https://\",\"\").replace(\"http://\",\"\")\n",
    "print(th)"
   ]
  },
  {
   "cell_type": "markdown",
   "id": "900260e2-36a3-4295-94ff-7f61b0955335",
   "metadata": {},
   "source": [
    "36. Find the frequency of each character in a string."
   ]
  },
  {
   "cell_type": "code",
   "execution_count": 2,
   "id": "bc04a007-2b52-4d35-82b9-2218b6d79e5f",
   "metadata": {},
   "outputs": [
    {
     "name": "stdout",
     "output_type": "stream",
     "text": [
      "{'h': 1, 'r': 1, 'u': 1, 'a': 1, 's': 1, 'e': 3, 'o': 1, ' ': 3, 'b': 1, 'y': 1, 't': 2}\n"
     ]
    }
   ],
   "source": [
    "s=\"you are the best\"\n",
    "chs={i:s.count(i) for i in set(s)}\n",
    "print(chs)"
   ]
  },
  {
   "cell_type": "markdown",
   "id": "1b2a72c6-d8ca-45fc-9b90-69a3a1f5df7a",
   "metadata": {},
   "source": [
    "37. Remove all punctuation from a string."
   ]
  },
  {
   "cell_type": "code",
   "execution_count": 6,
   "id": "58c9c4f3-ddd5-47a8-9cc1-587e88bb7155",
   "metadata": {},
   "outputs": [
    {
     "name": "stdout",
     "output_type": "stream",
     "text": [
      "hi what is the weather like\n"
     ]
    }
   ],
   "source": [
    "import string\n",
    "s='!hi. wh?at is the weat[h]er lik?e.'\n",
    "new_s=s.translate( str.maketrans('','',string.punctuation))\n",
    "ps=\"gj57jbjwgf\"\n",
    "s.isdigit()rint(new_s)"
   ]
  },
  {
   "cell_type": "markdown",
   "id": "0877a4b7-a562-4298-a9b0-7817c1e33412",
   "metadata": {},
   "source": [
    "38. Check if a string contains only digits."
   ]
  },
  {
   "cell_type": "code",
   "execution_count": 7,
   "id": "1278fb19-388d-4d21-bca0-f31d4754d873",
   "metadata": {},
   "outputs": [
    {
     "data": {
      "text/plain": [
       "False"
      ]
     },
     "execution_count": 7,
     "metadata": {},
     "output_type": "execute_result"
    }
   ],
   "source": [
    "s=\"gj57jbjwgf\"\n",
    "s.isdigit()"
   ]
  },
  {
   "cell_type": "code",
   "execution_count": 8,
   "id": "5ea7261b-d8ac-4252-85e2-63f5eb40bc1d",
   "metadata": {},
   "outputs": [
    {
     "data": {
      "text/plain": [
       "True"
      ]
     },
     "execution_count": 8,
     "metadata": {},
     "output_type": "execute_result"
    }
   ],
   "source": [
    "k=\"7675\"\n",
    "k.isdigit()"
   ]
  },
  {
   "cell_type": "markdown",
   "id": "095f4e57-2b59-452f-83e5-1a1ac3f118ad",
   "metadata": {},
   "source": [
    "39. Check if a string contains only alphabets."
   ]
  },
  {
   "cell_type": "code",
   "execution_count": 9,
   "id": "b0bc4b4c-281d-4586-89e6-6d971a07ef61",
   "metadata": {},
   "outputs": [
    {
     "data": {
      "text/plain": [
       "False"
      ]
     },
     "execution_count": 9,
     "metadata": {},
     "output_type": "execute_result"
    }
   ],
   "source": [
    "s=\"gj57jbjwgf\"\n",
    "s.isalpha()"
   ]
  },
  {
   "cell_type": "code",
   "execution_count": 10,
   "id": "2f06889d-6e64-430d-a570-208b37a0e2bc",
   "metadata": {},
   "outputs": [
    {
     "data": {
      "text/plain": [
       "True"
      ]
     },
     "execution_count": 10,
     "metadata": {},
     "output_type": "execute_result"
    }
   ],
   "source": [
    "s=\"hjhgjkjhl\"\n",
    "s.isalpha()"
   ]
  },
  {
   "cell_type": "markdown",
   "id": "d5e06bfd-6360-4156-b025-f5bed3379a6f",
   "metadata": {},
   "source": [
    "40. Convert a string to a list of characters."
   ]
  },
  {
   "cell_type": "code",
   "execution_count": 20,
   "id": "8e53adc4-363f-41a5-b5cf-99c99bd74887",
   "metadata": {},
   "outputs": [
    {
     "name": "stdout",
     "output_type": "stream",
     "text": [
      "['s', 'b', 'j', 'k', 'h', 'b', 'g', 'd', 'f', 'h']\n"
     ]
    }
   ],
   "source": [
    "string=\"sbjkhbgdfh\"\n",
    "print(list(string))"
   ]
  },
  {
   "cell_type": "markdown",
   "id": "b1eb688e-c090-46d8-8112-cf55d7438ac1",
   "metadata": {},
   "source": [
    "41. Check if two strings are anagrams."
   ]
  },
  {
   "cell_type": "code",
   "execution_count": 28,
   "id": "7a67b9bc-202e-4654-aa7e-5ed32ca96aa4",
   "metadata": {},
   "outputs": [
    {
     "data": {
      "text/plain": [
       "True"
      ]
     },
     "execution_count": 28,
     "metadata": {},
     "output_type": "execute_result"
    }
   ],
   "source": [
    "s1=\"race\"\n",
    "s2=\"care\"\n",
    "k=sorted(s1)==sorted(s2)\n",
    "k"
   ]
  },
  {
   "cell_type": "code",
   "execution_count": 31,
   "id": "f878b1a4-9ed0-4a8f-b3c6-3d919d58a796",
   "metadata": {},
   "outputs": [
    {
     "data": {
      "text/plain": [
       "False"
      ]
     },
     "execution_count": 31,
     "metadata": {},
     "output_type": "execute_result"
    }
   ],
   "source": [
    "s1=\"earth\" \n",
    "s2=\"Heart\"  #its not anagrams because \"H\" is in capital in s2 which is not same in s1.\n",
    "k=sorted(s1)==sorted(s2)\n",
    "k"
   ]
  },
  {
   "cell_type": "markdown",
   "id": "a608da56-357f-4079-be65-65f55f5e7bc3",
   "metadata": {},
   "source": [
    "42. Encode a string using a Caesar cipher."
   ]
  },
  {
   "cell_type": "code",
   "execution_count": 1,
   "id": "74de891c-6277-4e2c-8f84-d42abbbb2545",
   "metadata": {},
   "outputs": [
    {
     "name": "stdout",
     "output_type": "stream",
     "text": [
      "DEFG\n"
     ]
    }
   ],
   "source": [
    "str_42 = 'ABCD'\n",
    "str_42_encrypt = ''\n",
    "for i in str_42:\n",
    "    if i.islower():\n",
    "        str_42_encrypt += chr(ord(i)+3)\n",
    "    elif  i.isupper():\n",
    "        str_42_encrypt += chr(ord(i)+3)    \n",
    "    elif i.isdigit():\n",
    "        str_42_encrypt += chr(ord(i)+3)        \n",
    "    else:\n",
    "        continue\n",
    "        \n",
    "print(str_42_encrypt)"
   ]
  },
  {
   "cell_type": "markdown",
   "id": "545ba980-d153-490d-98c9-bc8d6bb55793",
   "metadata": {},
   "source": [
    "43. Decode a Caesar cipher encoded string."
   ]
  },
  {
   "cell_type": "code",
   "execution_count": 2,
   "id": "e27a9027-bbfa-43bc-80cd-1ef8a1f9e46b",
   "metadata": {},
   "outputs": [
    {
     "name": "stdout",
     "output_type": "stream",
     "text": [
      "ABCD\n"
     ]
    }
   ],
   "source": [
    "str_42 = 'DEFG'\n",
    "str_42_decrypt = ''\n",
    "for i in str_42:\n",
    "    if i.islower():\n",
    "        str_42_decrypt += chr(ord(i)-3)\n",
    "    elif  i.isupper():\n",
    "        str_42_decrypt += chr(ord(i)-3)    \n",
    "    elif i.isdigit():\n",
    "        str_42_decrypt += chr(ord(i)-3)        \n",
    "    else:\n",
    "        continue\n",
    "        \n",
    "print(str_42_decrypt)"
   ]
  },
  {
   "cell_type": "markdown",
   "id": "cc1746a2-4d2c-4c47-b2a7-7e740c2ab65b",
   "metadata": {},
   "source": [
    "44. Find the most frequent word in a string."
   ]
  },
  {
   "cell_type": "code",
   "execution_count": 8,
   "id": "0887e145-dc7c-4d07-ab84-1fd5cabdf5aa",
   "metadata": {},
   "outputs": [
    {
     "name": "stdout",
     "output_type": "stream",
     "text": [
      "abc\n"
     ]
    }
   ],
   "source": [
    "test = \"abc def-ghi jkl abc\"\n",
    "k=test.replace(\"-\",\" \")\n",
    "j=k.split()\n",
    "l={}\n",
    "for i in j:\n",
    "    i=i.strip(\".,?!\").lower()\n",
    "    if i in l:\n",
    "        l[i]+=1\n",
    "    else:\n",
    "        l[i]=1\n",
    "\n",
    "freq_word=max(l,key=l.get)\n",
    "print(freq_word)\n"
   ]
  },
  {
   "cell_type": "markdown",
   "id": "e8cf1d95-df43-4b84-91d5-cddf948a9db6",
   "metadata": {},
   "source": [
    "\n",
    "45. Find all unique words in a string."
   ]
  },
  {
   "cell_type": "code",
   "execution_count": 15,
   "id": "af16cb5e-ad81-4e9d-9922-be1dc690b3b7",
   "metadata": {},
   "outputs": [
    {
     "name": "stdout",
     "output_type": "stream",
     "text": [
      "['def', 'abc', 'jkl', 'ghi']\n"
     ]
    }
   ],
   "source": [
    "test = \"abc def ghi jkl abc\"\n",
    "j=list(set(test.split()))\n",
    "print(j)\n",
    "\n"
   ]
  },
  {
   "cell_type": "code",
   "execution_count": 16,
   "id": "181effce-789e-4d96-913a-8b6bd93c1d5e",
   "metadata": {},
   "outputs": [
    {
     "data": {
      "text/plain": [
       "['abc', 'def', 'ghi', 'jkl', 'abc']"
      ]
     },
     "execution_count": 16,
     "metadata": {},
     "output_type": "execute_result"
    }
   ],
   "source": [
    "test.split()\n"
   ]
  },
  {
   "cell_type": "code",
   "execution_count": 17,
   "id": "10e7cc32-3e98-4514-80f4-657f74068295",
   "metadata": {},
   "outputs": [
    {
     "data": {
      "text/plain": [
       "{'abc', 'def', 'ghi', 'jkl'}"
      ]
     },
     "execution_count": 17,
     "metadata": {},
     "output_type": "execute_result"
    }
   ],
   "source": [
    "set(test.split())\n"
   ]
  },
  {
   "cell_type": "markdown",
   "id": "2a158841-0b5f-4615-a61d-b487cedaf08a",
   "metadata": {},
   "source": [
    "46. Count the number of syllables in a string."
   ]
  },
  {
   "cell_type": "code",
   "execution_count": 46,
   "id": "d5a45ad9-0ada-4ce6-a5dc-dc15042854aa",
   "metadata": {},
   "outputs": [
    {
     "name": "stdout",
     "output_type": "stream",
     "text": [
      "2\n"
     ]
    }
   ],
   "source": [
    "s=\"Hairy\"\n",
    "s.lower()\n",
    "k=list(s)\n",
    "Vowel=['a','e','i','o','u']\n",
    "c=0\n",
    "for i in k:\n",
    "    if i in Vowel:\n",
    "        c=c+1\n",
    "    else:\n",
    "        continue\n",
    "print(c)\n",
    "\n",
    "\n",
    "        \n",
    "    "
   ]
  },
  {
   "cell_type": "markdown",
   "id": "aa5fe010-f7f6-4a34-a9ca-7c103eb52d98",
   "metadata": {},
   "source": [
    "47. Check if a string contains any special characters."
   ]
  },
  {
   "cell_type": "code",
   "execution_count": 53,
   "id": "9ecc4cb0-bbfa-4453-9c4d-45ab6fb9b992",
   "metadata": {},
   "outputs": [
    {
     "name": "stdout",
     "output_type": "stream",
     "text": [
      "True\n"
     ]
    }
   ],
   "source": [
    "string=\"svdf#&*ndknlk\"\n",
    "m=list(string)\n",
    "c=0\n",
    "s = '[@_!#$%^&*()<>?/\\|}{~:]'\n",
    "for i in m :\n",
    "    if i in s:\n",
    "        c=c+1\n",
    "if c:\n",
    "    print(True)\n",
    "else:\n",
    "    print(False)\n",
    "    \n",
    "       "
   ]
  },
  {
   "cell_type": "markdown",
   "id": "083acf1d-1be1-4bda-a6cd-079ad84e3668",
   "metadata": {},
   "source": [
    "48. Remove the nth word from a string."
   ]
  },
  {
   "cell_type": "code",
   "execution_count": 68,
   "id": "ee80e282-a3d6-4fb9-b734-b1ce3126e45c",
   "metadata": {},
   "outputs": [
    {
     "data": {
      "text/plain": [
       "['abc', 'def', 'ghi', 'jkl']"
      ]
     },
     "execution_count": 68,
     "metadata": {},
     "output_type": "execute_result"
    }
   ],
   "source": [
    "test = \"abc def ghi jkl abc\"\n",
    "k=test.split()\n",
    "j=k.pop()\n",
    "k\n"
   ]
  },
  {
   "cell_type": "markdown",
   "id": "c60523b4-ea41-4cdc-9b63-af4e7f07493a",
   "metadata": {},
   "source": [
    "49. Insert a word at the nth position in a string."
   ]
  },
  {
   "cell_type": "code",
   "execution_count": 2,
   "id": "c216bc71-aa98-446b-9476-eb3a9bae9f7e",
   "metadata": {},
   "outputs": [
    {
     "name": "stdin",
     "output_type": "stream",
     "text": [
      " \"abc def ghi jkl abc\"\n",
      " 9\n",
      " thgf\n"
     ]
    },
    {
     "name": "stdout",
     "output_type": "stream",
     "text": [
      "\"abc def ghi jkl abc\" thgf\n"
     ]
    }
   ],
   "source": [
    "st9 = input()\n",
    "nth = int(input())\n",
    "st_insert = input()\n",
    "st9 = st9.split()\n",
    "st9.insert(nth, st_insert)\n",
    "st9_1 = str(st9)\n",
    "st9_1 = st9_1.replace('[', '')\n",
    "st9_1 = st9_1.replace(']', '')\n",
    "st9_1 = st9_1.replace(\"'\", \"\")\n",
    "st9_1 = st9_1.replace(',', '')\n",
    "print(st9_1)"
   ]
  },
  {
   "cell_type": "markdown",
   "id": "4972e573-b26e-48cf-90c2-6799d6c6f011",
   "metadata": {},
   "source": [
    "50. Convert a CSV string to a list of lists."
   ]
  },
  {
   "cell_type": "code",
   "execution_count": 124,
   "id": "35ecf0b5-ac43-49b4-b1ed-bcfecedccf43",
   "metadata": {},
   "outputs": [
    {
     "name": "stdout",
     "output_type": "stream",
     "text": [
      "['John', 'Doe', '30']\n",
      "['Alice', 'Smith', '25']\n",
      "['Bob', 'Johnson', '35']\n"
     ]
    }
   ],
   "source": [
    "csv_string = \"\"\"John,Doe,30\n",
    "Alice,Smith,25\n",
    "Bob,Johnson,35\n",
    "\"\"\"\n",
    "csv_list = [line.split(',') for line in csv_string.split('\\n') if line.strip()]\n",
    "\n",
    "for row in csv_list:\n",
    "    print(row)"
   ]
  },
  {
   "cell_type": "markdown",
   "id": "40355407-b9da-4c0d-a416-7d0e42b9351c",
   "metadata": {},
   "source": [
    "List Based Practice Problem :"
   ]
  },
  {
   "cell_type": "markdown",
   "id": "525e3b1c-1528-4ee8-a03f-e63f1b7a8fac",
   "metadata": {},
   "source": [
    "1. Create a list with integers from 1 to 10."
   ]
  },
  {
   "cell_type": "code",
   "execution_count": 88,
   "id": "c49e4ba3-9dcf-4f72-a401-7a048b1b936f",
   "metadata": {},
   "outputs": [
    {
     "data": {
      "text/plain": [
       "[1, 2, 3, 4, 5, 6, 7, 8, 9, 10]"
      ]
     },
     "execution_count": 88,
     "metadata": {},
     "output_type": "execute_result"
    }
   ],
   "source": [
    "list1=[1,2,3,4,5,6,7,8,9,10]\n",
    "list1"
   ]
  },
  {
   "cell_type": "markdown",
   "id": "280be508-caa7-42a7-917a-d340024bc23b",
   "metadata": {},
   "source": [
    "2. Find the length of a list without using the `len()` function."
   ]
  },
  {
   "cell_type": "code",
   "execution_count": 90,
   "id": "184c32dc-d26e-40b0-9051-c1f855a2e001",
   "metadata": {},
   "outputs": [
    {
     "data": {
      "text/plain": [
       "10"
      ]
     },
     "execution_count": 90,
     "metadata": {},
     "output_type": "execute_result"
    }
   ],
   "source": [
    "len(list1)"
   ]
  },
  {
   "cell_type": "markdown",
   "id": "8495155b-93ef-48cd-a50c-98291320b6f5",
   "metadata": {},
   "source": [
    "3. Append an element to the end of a list."
   ]
  },
  {
   "cell_type": "code",
   "execution_count": 91,
   "id": "88ca66a5-d823-44c5-b5a0-a6da840e7c16",
   "metadata": {},
   "outputs": [],
   "source": [
    "list1.append(11)"
   ]
  },
  {
   "cell_type": "code",
   "execution_count": 92,
   "id": "5564af1a-0079-46e3-9428-6c67c7053902",
   "metadata": {},
   "outputs": [
    {
     "data": {
      "text/plain": [
       "[1, 2, 3, 4, 5, 6, 7, 8, 9, 10, 11]"
      ]
     },
     "execution_count": 92,
     "metadata": {},
     "output_type": "execute_result"
    }
   ],
   "source": [
    "list1"
   ]
  },
  {
   "cell_type": "markdown",
   "id": "f349974d-e042-43eb-bdae-cb539b7532c3",
   "metadata": {},
   "source": [
    "4. Insert an element at a specific index in a list."
   ]
  },
  {
   "cell_type": "code",
   "execution_count": 93,
   "id": "e9e94dbf-4f5d-4e91-9df4-0f13ae7ec4f1",
   "metadata": {},
   "outputs": [],
   "source": [
    "list1.insert(6,\"sumit\")"
   ]
  },
  {
   "cell_type": "code",
   "execution_count": 94,
   "id": "d667cb5f-5298-4232-add0-a61e43d12265",
   "metadata": {},
   "outputs": [
    {
     "data": {
      "text/plain": [
       "[1, 2, 3, 4, 5, 6, 'sumit', 7, 8, 9, 10, 11]"
      ]
     },
     "execution_count": 94,
     "metadata": {},
     "output_type": "execute_result"
    }
   ],
   "source": [
    "list1"
   ]
  },
  {
   "cell_type": "markdown",
   "id": "603305b7-83b5-43fb-87a3-8a7a388029df",
   "metadata": {},
   "source": [
    "5. Remove an element from a list by its value."
   ]
  },
  {
   "cell_type": "code",
   "execution_count": 98,
   "id": "2a195829-479f-4d2a-bde5-dbd85700096d",
   "metadata": {},
   "outputs": [
    {
     "data": {
      "text/plain": [
       "[1, 2, 3, 4, 5, 6, 7, 8, 9, 10, 11]"
      ]
     },
     "execution_count": 98,
     "metadata": {},
     "output_type": "execute_result"
    }
   ],
   "source": [
    "list1"
   ]
  },
  {
   "cell_type": "code",
   "execution_count": 99,
   "id": "4becf334-cf1b-4235-ab42-d30880b5b905",
   "metadata": {},
   "outputs": [],
   "source": [
    "list1.remove(6)"
   ]
  },
  {
   "cell_type": "code",
   "execution_count": 100,
   "id": "84e09b98-ceda-443d-aa8c-7d31ac8f709e",
   "metadata": {},
   "outputs": [
    {
     "data": {
      "text/plain": [
       "[1, 2, 3, 4, 5, 7, 8, 9, 10, 11]"
      ]
     },
     "execution_count": 100,
     "metadata": {},
     "output_type": "execute_result"
    }
   ],
   "source": [
    "list1"
   ]
  },
  {
   "cell_type": "markdown",
   "id": "8e3b642e-7359-4dcc-885c-9a289d61b9d0",
   "metadata": {},
   "source": [
    "6. Remove an element from a list by its index."
   ]
  },
  {
   "cell_type": "code",
   "execution_count": 102,
   "id": "2823a5b1-8d0e-4444-807b-0fea1b00b441",
   "metadata": {},
   "outputs": [],
   "source": [
    "del list1[0]"
   ]
  },
  {
   "cell_type": "code",
   "execution_count": 103,
   "id": "03d58903-ed4e-49a5-b197-26a8b836ecca",
   "metadata": {},
   "outputs": [
    {
     "data": {
      "text/plain": [
       "[2, 3, 4, 5, 7, 8, 9, 10, 11]"
      ]
     },
     "execution_count": 103,
     "metadata": {},
     "output_type": "execute_result"
    }
   ],
   "source": [
    "list1"
   ]
  },
  {
   "cell_type": "markdown",
   "id": "9f15aabf-6f3d-4d43-84db-5941212bf32c",
   "metadata": {},
   "source": [
    "7. Check if an element exists in a list."
   ]
  },
  {
   "cell_type": "code",
   "execution_count": 105,
   "id": "c5435b53-8dac-464c-8008-263716351396",
   "metadata": {},
   "outputs": [
    {
     "data": {
      "text/plain": [
       "[2, 3, 4, 5, 7, 8, 9, 10, 11]"
      ]
     },
     "execution_count": 105,
     "metadata": {},
     "output_type": "execute_result"
    }
   ],
   "source": [
    "list1"
   ]
  },
  {
   "cell_type": "code",
   "execution_count": 106,
   "id": "10a174d6-052c-4d78-bde9-decbef3cabc8",
   "metadata": {},
   "outputs": [
    {
     "data": {
      "text/plain": [
       "True"
      ]
     },
     "execution_count": 106,
     "metadata": {},
     "output_type": "execute_result"
    }
   ],
   "source": [
    "4 in list1"
   ]
  },
  {
   "cell_type": "markdown",
   "id": "01ced681-1028-4b44-aebc-3b7af4eb06cc",
   "metadata": {},
   "source": [
    "8. Find the index of the first occurrence of an element in a list."
   ]
  },
  {
   "cell_type": "code",
   "execution_count": 6,
   "id": "0412c9c7-3800-4d36-8105-a0b1c0a8a38a",
   "metadata": {},
   "outputs": [
    {
     "data": {
      "text/plain": [
       "4"
      ]
     },
     "execution_count": 6,
     "metadata": {},
     "output_type": "execute_result"
    }
   ],
   "source": [
    "list1=[1,3,4,5,2,6,2,7]\n",
    "list1.index(2)"
   ]
  },
  {
   "cell_type": "markdown",
   "id": "119b7bf3-a2cb-4ec3-83ce-4e8f00ee23a4",
   "metadata": {},
   "source": [
    "9. Count the occurrences of an element in a list."
   ]
  },
  {
   "cell_type": "code",
   "execution_count": 8,
   "id": "178a6fa7-7aaf-4350-9054-b161e2a07d8a",
   "metadata": {},
   "outputs": [
    {
     "data": {
      "text/plain": [
       "3"
      ]
     },
     "execution_count": 8,
     "metadata": {},
     "output_type": "execute_result"
    }
   ],
   "source": [
    "list1=[1,2,4,5,2,6,2,7]\n",
    "list1.count(2)\n"
   ]
  },
  {
   "cell_type": "markdown",
   "id": "e9c6dd74-c5b1-421a-9c26-e4de007bc8e0",
   "metadata": {},
   "source": [
    "10. Reverse the order of elements in a list."
   ]
  },
  {
   "cell_type": "code",
   "execution_count": 13,
   "id": "b1c92648-6ce8-470b-b999-7244f94443d6",
   "metadata": {},
   "outputs": [
    {
     "data": {
      "text/plain": [
       "[7, 2, 6, 2, 5, 4, 2, 1]"
      ]
     },
     "execution_count": 13,
     "metadata": {},
     "output_type": "execute_result"
    }
   ],
   "source": [
    "list1=[1,2,4,5,2,6,2,7,5]\n",
    "list1[::-1]"
   ]
  },
  {
   "cell_type": "markdown",
   "id": "bcb5f909-e587-4f20-9253-872bae61875a",
   "metadata": {},
   "source": [
    "11. Sort a list in ascending order."
   ]
  },
  {
   "cell_type": "code",
   "execution_count": 20,
   "id": "eb92ada6-dc3f-4e11-af3c-505d20dffec7",
   "metadata": {},
   "outputs": [
    {
     "name": "stdout",
     "output_type": "stream",
     "text": [
      "[1, 2, 2, 2, 4, 5, 5, 6, 7]\n"
     ]
    }
   ],
   "source": [
    "list1=[1,2,4,5,2,6,2,7,5]\n",
    "list1.sort()\n",
    "print(list1)\n"
   ]
  },
  {
   "cell_type": "markdown",
   "id": "4df781ac-20d5-4dc4-b92e-3bb3bb540ad0",
   "metadata": {},
   "source": [
    "12. Sort a list in descending order."
   ]
  },
  {
   "cell_type": "code",
   "execution_count": 22,
   "id": "fccd025c-8532-47d7-9137-c9dcd0387fbc",
   "metadata": {},
   "outputs": [
    {
     "name": "stdout",
     "output_type": "stream",
     "text": [
      "[7, 6, 5, 5, 4, 2, 2, 2, 1]\n"
     ]
    }
   ],
   "source": [
    "list1=[1,2,4,5,2,6,2,7,5]\n",
    "list1.sort(reverse=True)\n",
    "print(list1)"
   ]
  },
  {
   "cell_type": "markdown",
   "id": "8fa127af-5556-4a5c-8071-b31572132297",
   "metadata": {},
   "source": [
    "13. Create a list of even numbers from 1 to 20."
   ]
  },
  {
   "cell_type": "code",
   "execution_count": 31,
   "id": "8f9ec369-198f-4293-abdf-f28a31e6b852",
   "metadata": {},
   "outputs": [
    {
     "name": "stdout",
     "output_type": "stream",
     "text": [
      "[2, 4, 6, 8, 10, 12, 14, 16, 18, 20]\n"
     ]
    }
   ],
   "source": [
    "k=[]\n",
    "for i in range(1,21):\n",
    "    if i%2==0:\n",
    "        k.append(i)\n",
    "print(k)"
   ]
  },
  {
   "cell_type": "markdown",
   "id": "72927a7c-335f-460c-9829-fcb89bf7e3e7",
   "metadata": {},
   "source": [
    "14. Create a list of odd numbers from 1 to 20."
   ]
  },
  {
   "cell_type": "code",
   "execution_count": 32,
   "id": "025a2692-e06d-4af8-85f7-9f39391fe276",
   "metadata": {},
   "outputs": [
    {
     "name": "stdout",
     "output_type": "stream",
     "text": [
      "[1, 3, 5, 7, 9, 11, 13, 15, 17, 19]\n"
     ]
    }
   ],
   "source": [
    "k=[]\n",
    "for i in range(1,21):\n",
    "    if i%2!=0:\n",
    "        k.append(i)\n",
    "print(k)"
   ]
  },
  {
   "cell_type": "markdown",
   "id": "839ffcc6-2e5e-4290-a808-78b2beb31831",
   "metadata": {},
   "source": [
    "15. Find the sum of all elements in a list."
   ]
  },
  {
   "cell_type": "code",
   "execution_count": 35,
   "id": "8b5ce8bf-391a-4366-977c-0f50fb0bd31f",
   "metadata": {},
   "outputs": [
    {
     "name": "stdout",
     "output_type": "stream",
     "text": [
      "55\n"
     ]
    }
   ],
   "source": [
    "k=[1,2,3,4,5,6,7,8,9,10]\n",
    "sum=0\n",
    "for i in k:\n",
    "    sum=sum+i\n",
    "print(sum)"
   ]
  },
  {
   "cell_type": "markdown",
   "id": "612840f0-9fb5-4a75-a551-206253acfa4e",
   "metadata": {},
   "source": [
    "16. Find the maximum value in a list."
   ]
  },
  {
   "cell_type": "code",
   "execution_count": 39,
   "id": "57c6c56e-00c9-4790-9ff6-35cc43547a5a",
   "metadata": {},
   "outputs": [
    {
     "name": "stdout",
     "output_type": "stream",
     "text": [
      "10\n"
     ]
    }
   ],
   "source": [
    "k=[1,2,3,4,5,6,7,8,9,10]\n",
    "print(max(k))\n"
   ]
  },
  {
   "cell_type": "markdown",
   "id": "95078038-5bfd-4f34-a4de-a2af3c364357",
   "metadata": {},
   "source": [
    "17. Find the minimum value in a list."
   ]
  },
  {
   "cell_type": "code",
   "execution_count": 40,
   "id": "a2c1933a-e36d-43d2-9afd-a5be3887479c",
   "metadata": {},
   "outputs": [
    {
     "name": "stdout",
     "output_type": "stream",
     "text": [
      "1\n"
     ]
    }
   ],
   "source": [
    "k=[1,2,3,4,5,6,7,8,9,10]\n",
    "print(min(k))"
   ]
  },
  {
   "cell_type": "markdown",
   "id": "85cb2e7f-9df0-4b36-9eae-7cbe33ff450c",
   "metadata": {},
   "source": [
    "18. Create a list of squares of numbers from 1 to 10."
   ]
  },
  {
   "cell_type": "code",
   "execution_count": 43,
   "id": "0484f3d9-d2fa-4234-aa32-adf5790f5041",
   "metadata": {},
   "outputs": [
    {
     "name": "stdout",
     "output_type": "stream",
     "text": [
      "1 4 9 16 25 36 49 64 81 100 "
     ]
    }
   ],
   "source": [
    "k=[1,2,3,4,5,6,7,8,9,10]\n",
    "for i in k:\n",
    "    i=i**2\n",
    "    print(i ,end=\" \")"
   ]
  },
  {
   "cell_type": "markdown",
   "id": "9a170076-1721-4de7-ab33-6228f0a57689",
   "metadata": {},
   "source": [
    "19. Create a list of random numbers."
   ]
  },
  {
   "cell_type": "code",
   "execution_count": 52,
   "id": "3cbd19a2-f428-4b46-8553-db422cf13143",
   "metadata": {},
   "outputs": [
    {
     "name": "stdout",
     "output_type": "stream",
     "text": [
      "[82, 22, 42, 4, 62, 10, 94, 37, 95, 89]\n"
     ]
    }
   ],
   "source": [
    "import random\n",
    "my_randoms=[]\n",
    "for i in range (10):\n",
    "    my_randoms.append(random.randrange(1, 101, 1))\n",
    "print (my_randoms)"
   ]
  },
  {
   "cell_type": "markdown",
   "id": "dc630ac4-24f6-4dee-8638-7ec53b92a61b",
   "metadata": {},
   "source": [
    "20. Remove duplicates from a list.\n"
   ]
  },
  {
   "cell_type": "code",
   "execution_count": 57,
   "id": "17c5b9a7-05a6-4559-805d-886a7e6063c6",
   "metadata": {},
   "outputs": [
    {
     "name": "stdout",
     "output_type": "stream",
     "text": [
      "[1, 2, 4, 5, 6, 7]\n"
     ]
    }
   ],
   "source": [
    "list1=[1,2,4,5,2,6,2,7,5]\n",
    "k=list(set(list1))\n",
    "print (k)"
   ]
  },
  {
   "cell_type": "markdown",
   "id": "a0c0fb0a-8304-4867-a8db-1a12e0b1b12a",
   "metadata": {},
   "source": [
    "21. Find the common elements between two lists."
   ]
  },
  {
   "cell_type": "code",
   "execution_count": 65,
   "id": "166a4d62-613a-47c8-9da8-f4301a0d83f7",
   "metadata": {},
   "outputs": [
    {
     "name": "stdout",
     "output_type": "stream",
     "text": [
      "[2, 3, 5]\n"
     ]
    }
   ],
   "source": [
    "list1=[1,2,3,4,5]\n",
    "list2=[3,5,7,9,2,7]\n",
    "k=[]\n",
    "for i in list1:\n",
    "    for j in list2:\n",
    "        if i == j:\n",
    "            k.append(i)\n",
    "print(k)\n",
    "\n",
    "\n",
    "            "
   ]
  },
  {
   "cell_type": "markdown",
   "id": "abdb685c-b334-4614-a752-422919c2a52c",
   "metadata": {},
   "source": [
    "22. Find the difference between two lists."
   ]
  },
  {
   "cell_type": "code",
   "execution_count": 68,
   "id": "58a56e8f-a97b-453e-adc2-0ef6d76fc5eb",
   "metadata": {},
   "outputs": [
    {
     "name": "stdout",
     "output_type": "stream",
     "text": [
      "[7, 9, 7]\n"
     ]
    }
   ],
   "source": [
    "list1=[1,2,3,4,5]\n",
    "list2=[3,5,7,9,2,7]\n",
    "k=[]\n",
    "for i in list2:\n",
    "    if i  not in list1:\n",
    "        k.append(i)\n",
    "print(k)\n",
    "        "
   ]
  },
  {
   "cell_type": "markdown",
   "id": "828b2b9f-ee29-461c-bbb7-02b37be79798",
   "metadata": {},
   "source": [
    "23. Merge two lists."
   ]
  },
  {
   "cell_type": "code",
   "execution_count": 69,
   "id": "78f0ff7b-313f-4eb3-bf3f-9eb13a10ea47",
   "metadata": {},
   "outputs": [
    {
     "name": "stdout",
     "output_type": "stream",
     "text": [
      "[1, 2, 3, 4, 5, 3, 5, 7, 9, 2, 7]\n"
     ]
    }
   ],
   "source": [
    "list1=[1,2,3,4,5]\n",
    "list2=[3,5,7,9,2,7]\n",
    "k=[]\n",
    "k=list1+list2\n",
    "print(k)"
   ]
  },
  {
   "cell_type": "markdown",
   "id": "3b7427e2-4b69-4508-aca4-263d1bb1654e",
   "metadata": {},
   "source": [
    "24. Multiply all elements in a list by 2."
   ]
  },
  {
   "cell_type": "code",
   "execution_count": 70,
   "id": "60ae4742-00c6-4ea1-a84f-62b48926fd49",
   "metadata": {},
   "outputs": [
    {
     "name": "stdout",
     "output_type": "stream",
     "text": [
      "[1, 4, 9, 16, 25]\n"
     ]
    }
   ],
   "source": [
    "list1=[1,2,3,4,5]\n",
    "k=[]\n",
    "for i in list1:\n",
    "    i=i**2\n",
    "    k.append(i)\n",
    "print(k)\n",
    "    "
   ]
  },
  {
   "cell_type": "markdown",
   "id": "826e0b03-cb88-4c7c-948b-02831b8766ea",
   "metadata": {},
   "source": [
    "25. Filter out all even numbers from a list."
   ]
  },
  {
   "cell_type": "code",
   "execution_count": 123,
   "id": "cf58019a-780d-4189-a007-024b146f7036",
   "metadata": {},
   "outputs": [
    {
     "name": "stdout",
     "output_type": "stream",
     "text": [
      "[2, 4]\n"
     ]
    }
   ],
   "source": [
    "list1=[1,2,3,4,5]\n",
    "k=[]\n",
    "for i in list1:\n",
    "    if i%2==0:\n",
    "        k.append(i)\n",
    "print(k)\n",
    "        "
   ]
  },
  {
   "cell_type": "markdown",
   "id": "cc26dcda-2dd2-4958-8c46-0ba2af2ae54b",
   "metadata": {},
   "source": [
    "26. Convert a list of strings to a list of integers."
   ]
  },
  {
   "cell_type": "code",
   "execution_count": 8,
   "id": "5535028e-63b6-477b-b3cd-9a273450e572",
   "metadata": {},
   "outputs": [
    {
     "name": "stdout",
     "output_type": "stream",
     "text": [
      "[1, 2, 3, 4, 5]\n"
     ]
    }
   ],
   "source": [
    "list2=['1','2','3','4','5']\n",
    "j=[int(k) for k in list2]\n",
    "print(j)"
   ]
  },
  {
   "cell_type": "markdown",
   "id": "c153b924-65cb-425a-a25f-abb8d9d292e9",
   "metadata": {},
   "source": [
    "27. Convert a list of integers to a list of strings."
   ]
  },
  {
   "cell_type": "code",
   "execution_count": 10,
   "id": "af19d7c9-41b8-4c06-86bf-ac7bc567088b",
   "metadata": {},
   "outputs": [
    {
     "name": "stdout",
     "output_type": "stream",
     "text": [
      "['1', '2', '3', '4', '5']\n"
     ]
    }
   ],
   "source": [
    "list1=[1,2,3,4,5]\n",
    "k=[str(i) for i in list1]\n",
    "print(k)"
   ]
  },
  {
   "cell_type": "markdown",
   "id": "afdc8701-841d-4097-8825-1333105fcccd",
   "metadata": {},
   "source": [
    "28. Flatten a nested list."
   ]
  },
  {
   "cell_type": "code",
   "execution_count": 18,
   "id": "3e189764-bb59-458b-afee-6551c331782c",
   "metadata": {},
   "outputs": [
    {
     "name": "stdout",
     "output_type": "stream",
     "text": [
      "[1, 2, 3, 4, 5, 6, 7, 8, 9]\n"
     ]
    }
   ],
   "source": [
    "list1=[[1],[2,3],[4,5,6],[7,8,9]]\n",
    "k=[]\n",
    "for i in list1:\n",
    "    for j in i:\n",
    "        k.append(j)\n",
    "print(k)"
   ]
  },
  {
   "cell_type": "markdown",
   "id": "9cb546c5-d402-45cf-b3be-86a1f9820b1b",
   "metadata": {},
   "source": [
    "29. Create a list of the first 10 Fibonacci numbers."
   ]
  },
  {
   "cell_type": "code",
   "execution_count": 22,
   "id": "39219c79-bfd9-43dc-81b7-e840e913e263",
   "metadata": {},
   "outputs": [
    {
     "data": {
      "text/plain": [
       "[0, 1, 1, 2, 3, 5, 8, 13, 21]"
      ]
     },
     "execution_count": 22,
     "metadata": {},
     "output_type": "execute_result"
    }
   ],
   "source": [
    "def fib(n):\n",
    "    if n == 0:\n",
    "        return [0]\n",
    "    elif n == 1:\n",
    "        return [0, 1]\n",
    "    else:\n",
    "        lst = fib(n-1)\n",
    "        lst.append(lst[-1] + lst[-2])\n",
    "        return lst\n",
    "fib(8)"
   ]
  },
  {
   "cell_type": "markdown",
   "id": "5eb151a6-062c-4639-a173-b6a99ca4e69e",
   "metadata": {},
   "source": [
    "30. Check if a list is sorted."
   ]
  },
  {
   "cell_type": "code",
   "execution_count": 25,
   "id": "5138eb09-20d6-4be2-aad1-6291a91066c6",
   "metadata": {},
   "outputs": [
    {
     "name": "stdout",
     "output_type": "stream",
     "text": [
      "it is not sorted\n"
     ]
    }
   ],
   "source": [
    "test_list = [10, 4, 5, 8, 10]\n",
    "flag=0\n",
    "test_list1=test_list[:]\n",
    "test_list1.sort()\n",
    "if test_list==test_list1:\n",
    "    flag=1\n",
    "if flag:\n",
    "    print(\"it is sorted\")\n",
    "else:\n",
    "    print(\"it is not sorted\")"
   ]
  },
  {
   "cell_type": "markdown",
   "id": "d28a1a47-3a7c-43e4-b158-e7b5694133a5",
   "metadata": {},
   "source": [
    "31. Rotate a list to the left by `n` positions."
   ]
  },
  {
   "cell_type": "code",
   "execution_count": 6,
   "id": "7103f11b-6f8f-4b7a-ba35-e50c9226a674",
   "metadata": {},
   "outputs": [
    {
     "name": "stdin",
     "output_type": "stream",
     "text": [
      " 3\n"
     ]
    },
    {
     "data": {
      "text/plain": [
       "[4, 5, 1, 2, 3]"
      ]
     },
     "execution_count": 6,
     "metadata": {},
     "output_type": "execute_result"
    }
   ],
   "source": [
    "n=int(input())\n",
    "test_list = [1, 2, 3, 4, 5]\n",
    "test_list[n:] + test_list[:n]"
   ]
  },
  {
   "cell_type": "markdown",
   "id": "deb9a064-9142-4a73-9cd7-69223fd6eb20",
   "metadata": {},
   "source": [
    "32. Rotate a list to the right by `n` positions"
   ]
  },
  {
   "cell_type": "code",
   "execution_count": 10,
   "id": "27ae33c5-b4b9-49c3-a56f-c9dc0a15dbcc",
   "metadata": {},
   "outputs": [
    {
     "data": {
      "text/plain": [
       "[3, 4, 5, 1, 2]"
      ]
     },
     "execution_count": 10,
     "metadata": {},
     "output_type": "execute_result"
    }
   ],
   "source": [
    "test_list = [1, 2, 3, 4, 5]\n",
    "test_list[-3:]+test_list[:-3]"
   ]
  },
  {
   "cell_type": "markdown",
   "id": "106a9c12-6326-40ef-ac9c-cfea66be095d",
   "metadata": {},
   "source": [
    "33. Create a list of prime numbers up to 50."
   ]
  },
  {
   "cell_type": "code",
   "execution_count": 20,
   "id": "6f4c312f-4b1e-40fb-ab34-a262f9fac2a3",
   "metadata": {},
   "outputs": [
    {
     "name": "stdout",
     "output_type": "stream",
     "text": [
      "[2, 3, 5, 7, 11, 13, 17, 19, 23, 29, 31, 37, 41, 43, 47] "
     ]
    }
   ],
   "source": [
    "k=[]\n",
    "for num in range(1,50):\n",
    "    if num > 1:\n",
    "        for i in range(2, num):\n",
    "            if (num % i) == 0:\n",
    "                break\n",
    "        else:\n",
    "            k.append(num)\n",
    "print(k ,end=\" \")"
   ]
  },
  {
   "cell_type": "markdown",
   "id": "50729b7d-c001-4ca8-b824-e460b4b16ad2",
   "metadata": {},
   "source": [
    "34. Split a list into chunks of size `n`."
   ]
  },
  {
   "cell_type": "code",
   "execution_count": 24,
   "id": "3756b26d-700a-4801-aa3d-d075b7df9999",
   "metadata": {},
   "outputs": [
    {
     "name": "stdin",
     "output_type": "stream",
     "text": [
      " 6\n"
     ]
    },
    {
     "data": {
      "text/plain": [
       "[[1, 2, 3, 4, 5, 6], [7, 8, 9, 10, 11, 12], [13, 14, 15, 16, 17, 18]]"
      ]
     },
     "execution_count": 24,
     "metadata": {},
     "output_type": "execute_result"
    }
   ],
   "source": [
    "n=int(input())\n",
    "x=[1,2,3,4,5,6,7,8,9,10,11,12,13,14,15,16,17,18]\n",
    "k=[x[i:i+n]for i in range(0,len(x),n)]\n",
    "k"
   ]
  },
  {
   "cell_type": "markdown",
   "id": "d7bee79e-8fb0-43fa-b78d-ec60027bbdbf",
   "metadata": {},
   "source": [
    "35. Find the second largest number in a list."
   ]
  },
  {
   "cell_type": "code",
   "execution_count": 41,
   "id": "428036f3-748f-4bae-9909-2ef5ddf3fd91",
   "metadata": {},
   "outputs": [
    {
     "name": "stdout",
     "output_type": "stream",
     "text": [
      "9\n"
     ]
    }
   ],
   "source": [
    "list1=[1,3,5,4,2,7,9,8,20]\n",
    "k=sorted(list1)\n",
    "j=k[-2]\n",
    "print(j)"
   ]
  },
  {
   "cell_type": "markdown",
   "id": "00c06186-097b-4890-9075-2a76a1546d32",
   "metadata": {},
   "source": [
    "36. Replace every element in a list with its square."
   ]
  },
  {
   "cell_type": "code",
   "execution_count": 10,
   "id": "de21e0c6-b550-4495-a1bc-22cfd13e4c75",
   "metadata": {},
   "outputs": [
    {
     "name": "stdout",
     "output_type": "stream",
     "text": [
      "[1, 9, 25, 16, 4, 49, 64, 81, 400]\n"
     ]
    }
   ],
   "source": [
    "list1=[1,3,5,4,2,7,8,9,20]\n",
    "k=[]\n",
    "for i in list1:\n",
    "    j=i**2\n",
    "    k.append(j)\n",
    "print(k)\n",
    "    "
   ]
  },
  {
   "cell_type": "markdown",
   "id": "a5c74165-028f-4a8b-aed4-a59f0d7f999c",
   "metadata": {},
   "source": [
    "37. Convert a list to a dictionary where list elements become keys and their\n",
    "indices become values."
   ]
  },
  {
   "cell_type": "code",
   "execution_count": 9,
   "id": "0852322e-4662-4fd5-b911-c2c4b4a6eec0",
   "metadata": {},
   "outputs": [
    {
     "name": "stdout",
     "output_type": "stream",
     "text": [
      "{1: 0, 3: 1, 5: 2, 4: 3, 2: 4, 7: 5, 8: 6, 9: 7, 20: 8}\n"
     ]
    }
   ],
   "source": [
    "list1=[1,3,5,4,2,7,8,9,20]\n",
    "l = []\n",
    "for x,y in enumerate(list1):\n",
    "    l.append((y,x))\n",
    "print(dict(l))"
   ]
  },
  {
   "cell_type": "markdown",
   "id": "40b70571-f091-4f5e-97ad-ceba40836402",
   "metadata": {},
   "source": [
    "38. Shuffle the elements of a list randomly."
   ]
  },
  {
   "cell_type": "code",
   "execution_count": 20,
   "id": "61cb8259-e138-4445-9f8c-7cb2b1f371ed",
   "metadata": {},
   "outputs": [
    {
     "name": "stdout",
     "output_type": "stream",
     "text": [
      "[4, 6, 3, 7, 2, 5, 1]\n"
     ]
    }
   ],
   "source": [
    "import random\n",
    "list1=[1,2,3,4,5,6,7]\n",
    "random.shuffle(list1)\n",
    "print(list1)\n"
   ]
  },
  {
   "cell_type": "markdown",
   "id": "fc7a7bd9-a0a4-4424-86d4-5a5f7637bbec",
   "metadata": {},
   "source": [
    "39. Create a list of the first 10 factorial numbers."
   ]
  },
  {
   "cell_type": "code",
   "execution_count": 33,
   "id": "bcbb51a0-17bb-4364-83fe-1280ea55b5f6",
   "metadata": {},
   "outputs": [
    {
     "name": "stdout",
     "output_type": "stream",
     "text": [
      "[1, 2, 6, 24, 120, 720, 5040, 40320, 362880, 3628800]\n"
     ]
    }
   ],
   "source": [
    "x=10\n",
    "fact=1\n",
    "k=[]\n",
    "for i in range(1,11):\n",
    "    fact=fact*i\n",
    "    k.append(fact)\n",
    "print(k)\n",
    "    "
   ]
  },
  {
   "cell_type": "markdown",
   "id": "96ae1a18-140f-4c23-99dd-b40d13df67cb",
   "metadata": {},
   "source": [
    "40. Check if two lists have at least one element in common."
   ]
  },
  {
   "cell_type": "code",
   "execution_count": 34,
   "id": "a7b33391-8f04-4a98-9c92-c4015c1bfd27",
   "metadata": {},
   "outputs": [
    {
     "name": "stdout",
     "output_type": "stream",
     "text": [
      "list does not have common element\n"
     ]
    }
   ],
   "source": [
    "list1=[1,2,3,4,5,6,7]\n",
    "list2=[8,9,10,11,12,13,14]\n",
    "flag=0\n",
    "for i in list1:\n",
    "    for j in list2:\n",
    "        if i==j:\n",
    "            flag=1\n",
    "if flag==1:\n",
    "    print(\"list have one common element\")\n",
    "else:\n",
    "    print(\"list does not have common element\")\n",
    "            \n"
   ]
  },
  {
   "cell_type": "code",
   "execution_count": 35,
   "id": "1bfaa360-260d-4f7a-a771-f8e3e4d2063e",
   "metadata": {},
   "outputs": [
    {
     "name": "stdout",
     "output_type": "stream",
     "text": [
      "list have one common element\n"
     ]
    }
   ],
   "source": [
    "list1=[1,2,3,4,5,6,7]\n",
    "list2=[7,9,10,11,12,13,14]\n",
    "flag=0\n",
    "for i in list1:\n",
    "    for j in list2:\n",
    "        if i==j:\n",
    "            flag=1\n",
    "if flag==1:\n",
    "    print(\"list have one common element\")\n",
    "else:\n",
    "    print(\"list does not have common element\")\n",
    "            "
   ]
  },
  {
   "cell_type": "markdown",
   "id": "772f9148-8791-4de7-9a0c-948249261f43",
   "metadata": {},
   "source": [
    "41. Remove all elements from a list."
   ]
  },
  {
   "cell_type": "code",
   "execution_count": 4,
   "id": "7a22c963-eccb-462e-a7f3-cccd99982f32",
   "metadata": {},
   "outputs": [
    {
     "data": {
      "text/plain": [
       "[]"
      ]
     },
     "execution_count": 4,
     "metadata": {},
     "output_type": "execute_result"
    }
   ],
   "source": [
    "list1=[1,2,3,4,56,5,6,77]\n",
    "list1.clear()\n",
    "list1"
   ]
  },
  {
   "cell_type": "markdown",
   "id": "2bef2a56-d4f9-4c7c-bb10-4e2dc42aef25",
   "metadata": {},
   "source": [
    "42. Replace negative numbers in a list with 0."
   ]
  },
  {
   "cell_type": "code",
   "execution_count": 6,
   "id": "c1e36cf1-ed22-4ce5-b564-d1b5b6499070",
   "metadata": {},
   "outputs": [
    {
     "data": {
      "text/plain": [
       "[1, 0, 3, 0, 56, 5, 6, 77]"
      ]
     },
     "execution_count": 6,
     "metadata": {},
     "output_type": "execute_result"
    }
   ],
   "source": [
    "list1=[1,-32,3,-1,56,5,6,77]\n",
    "k=[0 if x<0 else x for x in list1]\n",
    "k"
   ]
  },
  {
   "cell_type": "markdown",
   "id": "73b861c2-b654-46ce-98ee-20bddb00f046",
   "metadata": {},
   "source": [
    "43. Convert a string into a list of words."
   ]
  },
  {
   "cell_type": "code",
   "execution_count": 15,
   "id": "8030e30e-713a-41ad-8acc-944234e7f864",
   "metadata": {},
   "outputs": [
    {
     "data": {
      "text/plain": [
       "['my', 'name', 'is', 'shubhashish']"
      ]
     },
     "execution_count": 15,
     "metadata": {},
     "output_type": "execute_result"
    }
   ],
   "source": [
    "list2=\"my name is shubhashish\"\n",
    "list2.split()"
   ]
  },
  {
   "cell_type": "markdown",
   "id": "ed63a21f-c81c-43df-add4-54cbf206d5a0",
   "metadata": {},
   "source": [
    "44. Convert a list of words into a string"
   ]
  },
  {
   "cell_type": "code",
   "execution_count": 17,
   "id": "dd1e1b9a-970d-492d-b12a-169f3a1c471e",
   "metadata": {},
   "outputs": [
    {
     "data": {
      "text/plain": [
       "'my name is shubhashish'"
      ]
     },
     "execution_count": 17,
     "metadata": {},
     "output_type": "execute_result"
    }
   ],
   "source": [
    "list2=['my', 'name', 'is', 'shubhashish']\n",
    "(\" \").join(list2)\n"
   ]
  },
  {
   "cell_type": "markdown",
   "id": "e64e8658-bb24-46f0-97a9-db926aefb009",
   "metadata": {},
   "source": [
    "45. Create a list of the first `n` powers of 2."
   ]
  },
  {
   "cell_type": "code",
   "execution_count": 21,
   "id": "0b8a961c-707b-4165-b4eb-e72d37134cef",
   "metadata": {},
   "outputs": [
    {
     "name": "stdin",
     "output_type": "stream",
     "text": [
      " 5\n"
     ]
    },
    {
     "name": "stdout",
     "output_type": "stream",
     "text": [
      "[1, 2, 4, 8, 16]\n"
     ]
    }
   ],
   "source": [
    "n=int(input())\n",
    "powers = [1 << i for i in range(n)]\n",
    "print(powers)"
   ]
  },
  {
   "cell_type": "markdown",
   "id": "10a8f1c1-b0f9-4cf8-97ea-3448a1000b55",
   "metadata": {},
   "source": [
    "46. Find the longest string in a list of strings."
   ]
  },
  {
   "cell_type": "code",
   "execution_count": 28,
   "id": "e2c84038-cc77-4cd8-8f0a-a6872decdec4",
   "metadata": {},
   "outputs": [
    {
     "data": {
      "text/plain": [
       "'shubhashish'"
      ]
     },
     "execution_count": 28,
     "metadata": {},
     "output_type": "execute_result"
    }
   ],
   "source": [
    "list2=['my', 'name', 'is', 'shubhashish']\n",
    "res=max(list2 ,key=len)\n",
    "res"
   ]
  },
  {
   "cell_type": "code",
   "execution_count": 29,
   "id": "0a2e6eaf-8118-4cb6-9d76-8660a1d22e93",
   "metadata": {},
   "outputs": [
    {
     "data": {
      "text/plain": [
       "'geeks'"
      ]
     },
     "execution_count": 29,
     "metadata": {},
     "output_type": "execute_result"
    }
   ],
   "source": [
    "list2=['gfg', 'is', 'best', 'for', 'geeks']\n",
    "res=max(list2,key=len)\n",
    "res"
   ]
  },
  {
   "cell_type": "markdown",
   "id": "687268f0-cc74-4693-96ab-3d09cefe3cc3",
   "metadata": {},
   "source": [
    "47. Find the shortest string in a list of strings."
   ]
  },
  {
   "cell_type": "code",
   "execution_count": 33,
   "id": "02e367b3-7a83-45d0-b214-09fbfbac0a2a",
   "metadata": {},
   "outputs": [
    {
     "data": {
      "text/plain": [
       "'is'"
      ]
     },
     "execution_count": 33,
     "metadata": {},
     "output_type": "execute_result"
    }
   ],
   "source": [
    "list2=['gfg', 'is', 'best', 'for', 'geeks']\n",
    "res=min(list2,key=len)\n",
    "res"
   ]
  },
  {
   "cell_type": "markdown",
   "id": "314a8677-7f43-4167-9c23-b2f8c84c4a39",
   "metadata": {},
   "source": [
    "48. Create a list of the first `n` triangular numbers."
   ]
  },
  {
   "cell_type": "code",
   "execution_count": 50,
   "id": "96751099-d486-40a7-9561-1e8b431a24b7",
   "metadata": {},
   "outputs": [
    {
     "name": "stdin",
     "output_type": "stream",
     "text": [
      "Please Enter n: 5\n"
     ]
    },
    {
     "name": "stdout",
     "output_type": "stream",
     "text": [
      "[1, 3, 6, 10, 15]\n"
     ]
    }
   ],
   "source": [
    "n=int(input(\"Please Enter n:\"))\n",
    "k=[]\n",
    "for i in range(1,n+1):\n",
    "    y1=(i**2+i)//2\n",
    "    k.append(y1)\n",
    "print (k)"
   ]
  },
  {
   "cell_type": "markdown",
   "id": "bc58de13-3888-430e-9294-6d82f8fa1d96",
   "metadata": {},
   "source": [
    "49. Check if a list contains another list as a subsequence."
   ]
  },
  {
   "cell_type": "code",
   "execution_count": 58,
   "id": "13981161-aedc-419f-8515-536ffe94d11f",
   "metadata": {},
   "outputs": [
    {
     "name": "stdout",
     "output_type": "stream",
     "text": [
      "True\n"
     ]
    }
   ],
   "source": [
    "list1=[1,2,3,4,5,7,8,9,10]\n",
    "list2=[3,4,5]\n",
    "k=[list1[i:i+len(list2)]for i in range(len(list1)-len(list2)+1)]\n",
    "l=any(sublist==list2 for sublist in k)\n",
    "print(l)"
   ]
  },
  {
   "cell_type": "markdown",
   "id": "7788cce1-7b3c-47c4-b8c1-5247b7d3e569",
   "metadata": {},
   "source": [
    "50. Swap two elements in a list by their indices."
   ]
  },
  {
   "cell_type": "code",
   "execution_count": 61,
   "id": "ed3c1871-020e-4faa-a29e-a6608e21d4db",
   "metadata": {},
   "outputs": [
    {
     "name": "stdin",
     "output_type": "stream",
     "text": [
      " 2\n",
      " 3\n"
     ]
    },
    {
     "name": "stdout",
     "output_type": "stream",
     "text": [
      "[1, 2, 4, 3, 5, 6, 7, 8, 9]\n"
     ]
    }
   ],
   "source": [
    "k=[1,2,3,4,5,6,7,8,9]\n",
    "pos1=int(input())\n",
    "pos2=int(input())\n",
    "k[pos1],k[pos2]=k[pos2],k[pos1]\n",
    "print(k)\n"
   ]
  },
  {
   "cell_type": "markdown",
   "id": "5325dda2-33dc-4dbf-bc96-a301733d254e",
   "metadata": {},
   "source": [
    "#Tuple Based Practice Problem :"
   ]
  },
  {
   "cell_type": "markdown",
   "id": "6ac7b5b9-ec08-4c86-a78a-b2c2f3572df5",
   "metadata": {},
   "source": [
    "1. Create a tuple with integers from 1 to 5."
   ]
  },
  {
   "cell_type": "code",
   "execution_count": 7,
   "id": "e9531194-9f42-410b-8849-8d6cd5c5b440",
   "metadata": {},
   "outputs": [
    {
     "data": {
      "text/plain": [
       "(1, 2, 3, 4, 5)"
      ]
     },
     "execution_count": 7,
     "metadata": {},
     "output_type": "execute_result"
    }
   ],
   "source": [
    "t1=(1,2,3,4,5)\n",
    "t1"
   ]
  },
  {
   "cell_type": "markdown",
   "id": "201428d7-d71d-4e22-9edf-db80fb01dadc",
   "metadata": {},
   "source": [
    "2. Access the third element of a tuple."
   ]
  },
  {
   "cell_type": "code",
   "execution_count": 9,
   "id": "64b313da-d0d8-40b4-9528-7c6e14432d50",
   "metadata": {},
   "outputs": [
    {
     "data": {
      "text/plain": [
       "3"
      ]
     },
     "execution_count": 9,
     "metadata": {},
     "output_type": "execute_result"
    }
   ],
   "source": [
    "t1=(1,2,3,4,5)\n",
    "t1[2]"
   ]
  },
  {
   "cell_type": "markdown",
   "id": "c039ac96-e6f3-4834-a623-ea056f54f699",
   "metadata": {},
   "source": [
    "3. Find the length of a tuple without using the `len()` function."
   ]
  },
  {
   "cell_type": "code",
   "execution_count": 18,
   "id": "17cc5bbf-c69b-4a8d-85c5-ddcdf45d6973",
   "metadata": {},
   "outputs": [
    {
     "name": "stdout",
     "output_type": "stream",
     "text": [
      "5\n"
     ]
    }
   ],
   "source": [
    "t1=(1,2,3,4,5)\n",
    "count=0\n",
    "for i in t1:\n",
    "    count=count+1\n",
    "print(count)"
   ]
  },
  {
   "cell_type": "markdown",
   "id": "207faf3b-0238-45f7-af78-883096a891a2",
   "metadata": {},
   "source": [
    "4. Count the occurrences of an element in a tuple."
   ]
  },
  {
   "cell_type": "code",
   "execution_count": 33,
   "id": "3097102e-2dec-411f-8aa6-23456aa6d09d",
   "metadata": {},
   "outputs": [
    {
     "name": "stdin",
     "output_type": "stream",
     "text": [
      " 3\n"
     ]
    },
    {
     "name": "stdout",
     "output_type": "stream",
     "text": [
      "2\n"
     ]
    }
   ],
   "source": [
    "t2=(1,2,3,4,5,6,3,2,1,9)\n",
    "n=int(input())\n",
    "count=0\n",
    "for i in t2:\n",
    "    if n == i:\n",
    "        count=count+1\n",
    "print(count)"
   ]
  },
  {
   "cell_type": "markdown",
   "id": "87e739b0-b0c5-4cf1-9e3b-fdc37005cb6d",
   "metadata": {},
   "source": [
    "5. Find the index of the first occurrence of an element in a tuple."
   ]
  },
  {
   "cell_type": "code",
   "execution_count": 44,
   "id": "a5fa3bdd-7087-4295-908e-67ba772a7db6",
   "metadata": {},
   "outputs": [
    {
     "name": "stdin",
     "output_type": "stream",
     "text": [
      " 2\n"
     ]
    },
    {
     "data": {
      "text/plain": [
       "1"
      ]
     },
     "execution_count": 44,
     "metadata": {},
     "output_type": "execute_result"
    }
   ],
   "source": [
    "t2=(1,2,3,4,5,6,3,2,1,8)\n",
    "n=int(input())\n",
    "t2.index(n)\n",
    "    "
   ]
  },
  {
   "cell_type": "markdown",
   "id": "6008c190-8de7-4164-9883-d02949a7c658",
   "metadata": {},
   "source": [
    "6. Check if an element exists in a tuple."
   ]
  },
  {
   "cell_type": "code",
   "execution_count": 4,
   "id": "69b1c2a5-febc-45ba-afdb-51be36636f63",
   "metadata": {},
   "outputs": [
    {
     "name": "stdin",
     "output_type": "stream",
     "text": [
      " 10\n"
     ]
    },
    {
     "name": "stdout",
     "output_type": "stream",
     "text": [
      "not present in the Tuple\n"
     ]
    }
   ],
   "source": [
    "t2=(1,2,3,4,5,6,3,2,1,8)\n",
    "n=int(input())\n",
    "if n in t2:\n",
    "    print(\"present in the Tuple\")\n",
    "else:\n",
    "    print(\"not present in the Tuple\")"
   ]
  },
  {
   "cell_type": "markdown",
   "id": "867e39fc-11a1-4027-810b-616358020380",
   "metadata": {},
   "source": [
    "7. Convert a tuple to a list."
   ]
  },
  {
   "cell_type": "code",
   "execution_count": 6,
   "id": "3f894378-c562-4520-9126-63c2c581b1d4",
   "metadata": {},
   "outputs": [
    {
     "data": {
      "text/plain": [
       "[1, 2, 3, 4, 5, 6, 3, 2, 1, 8]"
      ]
     },
     "execution_count": 6,
     "metadata": {},
     "output_type": "execute_result"
    }
   ],
   "source": [
    "t2=(1,2,3,4,5,6,3,2,1,8)\n",
    "list(t2)"
   ]
  },
  {
   "cell_type": "markdown",
   "id": "6d6532d0-1fa9-4790-908b-a8b9370e9d46",
   "metadata": {},
   "source": [
    "8. Convert a list to a tuple."
   ]
  },
  {
   "cell_type": "code",
   "execution_count": 7,
   "id": "d2487522-c01a-4165-a7ba-be9372177698",
   "metadata": {},
   "outputs": [
    {
     "data": {
      "text/plain": [
       "(1, 2, 3, 4, 5, 6, 3, 2, 1, 8)"
      ]
     },
     "execution_count": 7,
     "metadata": {},
     "output_type": "execute_result"
    }
   ],
   "source": [
    "t3=[1, 2, 3, 4, 5, 6, 3, 2, 1, 8]\n",
    "tuple(t3)"
   ]
  },
  {
   "cell_type": "markdown",
   "id": "0fec6737-e5d9-4be8-952b-dd84183a8ce4",
   "metadata": {},
   "source": [
    "9. Unpack the elements of a tuple into variables.\n"
   ]
  },
  {
   "cell_type": "code",
   "execution_count": 11,
   "id": "534bee17-9c57-4e4d-8d74-f43b99454e03",
   "metadata": {},
   "outputs": [
    {
     "name": "stdout",
     "output_type": "stream",
     "text": [
      "1\n",
      "2\n",
      "[3, 4, 5, 6, 3, 2, 1, 8]\n"
     ]
    }
   ],
   "source": [
    "t2=(1,2,3,4,5,6,3,2,1,8)\n",
    "(a,b,*c)=t2\n",
    "print(a)\n",
    "print(b)\n",
    "print(c)"
   ]
  },
  {
   "cell_type": "markdown",
   "id": "64f04b44-b14f-4121-9c6d-a27b779893f9",
   "metadata": {},
   "source": [
    "10. Create a tuple of even numbers from 1 to 10."
   ]
  },
  {
   "cell_type": "code",
   "execution_count": 20,
   "id": "6364814c-b061-4f4d-bd26-5db01e988fd9",
   "metadata": {},
   "outputs": [
    {
     "data": {
      "text/plain": [
       "(2, 4, 6, 8, 10)"
      ]
     },
     "execution_count": 20,
     "metadata": {},
     "output_type": "execute_result"
    }
   ],
   "source": [
    "t2=[]\n",
    "for i in range(1,11):\n",
    "    if i%2==0:\n",
    "        t2.append(i)\n",
    "tuple(t2)"
   ]
  },
  {
   "cell_type": "markdown",
   "id": "5781a5a7-df35-4190-9948-7fe37c6ec563",
   "metadata": {},
   "source": [
    "11. Create a tuple of odd numbers from 1 to 10."
   ]
  },
  {
   "cell_type": "code",
   "execution_count": 21,
   "id": "70f9e16a-bf05-4269-8d29-999e77b030de",
   "metadata": {},
   "outputs": [
    {
     "data": {
      "text/plain": [
       "(1, 3, 5, 7, 9)"
      ]
     },
     "execution_count": 21,
     "metadata": {},
     "output_type": "execute_result"
    }
   ],
   "source": [
    "t2=[]\n",
    "for i in range(1,11):\n",
    "    if i%2!=0:\n",
    "        t2.append(i)\n",
    "tuple(t2)"
   ]
  },
  {
   "cell_type": "markdown",
   "id": "e4aa2d00-2675-4487-9738-4c1dfc97cc21",
   "metadata": {},
   "source": [
    "12. Concatenate two tuples."
   ]
  },
  {
   "cell_type": "code",
   "execution_count": 22,
   "id": "42d98c0d-b9a3-48c0-8b1a-8f284372da5f",
   "metadata": {},
   "outputs": [
    {
     "data": {
      "text/plain": [
       "(1, 2, 3, 4, 5, 6, 7, 8, 9, 10)"
      ]
     },
     "execution_count": 22,
     "metadata": {},
     "output_type": "execute_result"
    }
   ],
   "source": [
    "t1=(1,2,3,4,5)\n",
    "t2=(6,7,8,9,10)\n",
    "t3=t1+t2\n",
    "t3"
   ]
  },
  {
   "cell_type": "markdown",
   "id": "2920cc0c-a9ce-4b22-a17a-5aae600cdf9f",
   "metadata": {},
   "source": [
    "13. Repeat a tuple three times."
   ]
  },
  {
   "cell_type": "code",
   "execution_count": 23,
   "id": "df9f3cd3-d654-4577-8ddc-c37d66dfbf29",
   "metadata": {},
   "outputs": [
    {
     "name": "stdout",
     "output_type": "stream",
     "text": [
      "(1, 2, 3, 4, 5, 1, 2, 3, 4, 5, 1, 2, 3, 4, 5)\n"
     ]
    }
   ],
   "source": [
    "t1=(1,2,3,4,5)\n",
    "k=t1*3\n",
    "print(k)"
   ]
  },
  {
   "cell_type": "markdown",
   "id": "e03f6d98-90ac-4791-acd2-a5e6d60cbe18",
   "metadata": {},
   "source": [
    "14. Check if a tuple is empty."
   ]
  },
  {
   "cell_type": "code",
   "execution_count": 35,
   "id": "a5379ea3-6b6e-45f5-a61b-7c5c3c1fd08c",
   "metadata": {},
   "outputs": [
    {
     "name": "stdout",
     "output_type": "stream",
     "text": [
      "not empty\n"
     ]
    }
   ],
   "source": [
    "t1=(1,2,3,4,5)\n",
    "if len(t1)==0:\n",
    "    print(\"empty\")\n",
    "else:\n",
    "    print(\"not empty\")\n"
   ]
  },
  {
   "cell_type": "markdown",
   "id": "93186805-e696-44f9-8da9-1f186d3ffa01",
   "metadata": {},
   "source": [
    "15. Create a nested tuple."
   ]
  },
  {
   "cell_type": "code",
   "execution_count": 36,
   "id": "e5c240f6-b673-425c-b1dc-6fb7d20035cf",
   "metadata": {},
   "outputs": [
    {
     "data": {
      "text/plain": [
       "(1, 2, (3, 4), 5)"
      ]
     },
     "execution_count": 36,
     "metadata": {},
     "output_type": "execute_result"
    }
   ],
   "source": [
    "t1=(1,2,(3,4),5)\n",
    "t1"
   ]
  },
  {
   "cell_type": "markdown",
   "id": "edc86703-98e4-40f4-8734-749846cb3b90",
   "metadata": {},
   "source": [
    "16. Access the first element of a nested tuple."
   ]
  },
  {
   "cell_type": "code",
   "execution_count": 49,
   "id": "dbbe3c61-03b3-4873-a7c1-3b13273a2ad6",
   "metadata": {},
   "outputs": [
    {
     "data": {
      "text/plain": [
       "3"
      ]
     },
     "execution_count": 49,
     "metadata": {},
     "output_type": "execute_result"
    }
   ],
   "source": [
    "t1=(1,2,(3,4),5)\n",
    "t1[2][0]\n"
   ]
  },
  {
   "cell_type": "markdown",
   "id": "c41301de-ddca-4145-9df7-97dc5ce3d7da",
   "metadata": {},
   "source": [
    "17. Create a tuple with a single element."
   ]
  },
  {
   "cell_type": "code",
   "execution_count": 50,
   "id": "b225d0b5-5ee9-41b4-8757-64bd9b3f9cec",
   "metadata": {},
   "outputs": [
    {
     "data": {
      "text/plain": [
       "1"
      ]
     },
     "execution_count": 50,
     "metadata": {},
     "output_type": "execute_result"
    }
   ],
   "source": [
    "t1=(1)\n",
    "t1"
   ]
  },
  {
   "cell_type": "markdown",
   "id": "13c245a2-ae3b-4200-80d6-2c7c9412d4a9",
   "metadata": {},
   "source": [
    "18. Compare two tuples."
   ]
  },
  {
   "cell_type": "code",
   "execution_count": 54,
   "id": "211f7b62-c8ca-4e49-b067-d17d09a79268",
   "metadata": {},
   "outputs": [
    {
     "data": {
      "text/plain": [
       "False"
      ]
     },
     "execution_count": 54,
     "metadata": {},
     "output_type": "execute_result"
    }
   ],
   "source": [
    "t3=(1,2,3)\n",
    "t4=(3,4,5)\n",
    "t1==t2"
   ]
  },
  {
   "cell_type": "code",
   "execution_count": 67,
   "id": "be004324-c9b7-4c35-ab3a-8f5bd4277b80",
   "metadata": {},
   "outputs": [
    {
     "data": {
      "text/plain": [
       "True"
      ]
     },
     "execution_count": 67,
     "metadata": {},
     "output_type": "execute_result"
    }
   ],
   "source": [
    "t3=(1,2,3)\n",
    "t4=(1,2,3)\n",
    "t3==t4"
   ]
  },
  {
   "cell_type": "markdown",
   "id": "1af1c2e2-11dc-4a7a-9297-992e229c26a4",
   "metadata": {},
   "source": [
    "19. Delete a tuple."
   ]
  },
  {
   "cell_type": "code",
   "execution_count": 73,
   "id": "2fb82a56-2c43-4b0d-a37c-8b6a7ddf7375",
   "metadata": {},
   "outputs": [
    {
     "name": "stdout",
     "output_type": "stream",
     "text": [
      "(1, 2, 3)\n"
     ]
    }
   ],
   "source": [
    "t3=(1,2,3)\n",
    "print(t3)\n",
    "del t3"
   ]
  },
  {
   "cell_type": "code",
   "execution_count": 75,
   "id": "b4c61d5c-f90a-4898-ab73-7d7b1b4b0c8c",
   "metadata": {},
   "outputs": [
    {
     "ename": "NameError",
     "evalue": "name 't3' is not defined",
     "output_type": "error",
     "traceback": [
      "\u001b[0;31m---------------------------------------------------------------------------\u001b[0m",
      "\u001b[0;31mNameError\u001b[0m                                 Traceback (most recent call last)",
      "Cell \u001b[0;32mIn[75], line 1\u001b[0m\n\u001b[0;32m----> 1\u001b[0m \u001b[38;5;28;01mdel\u001b[39;00m t3\n",
      "\u001b[0;31mNameError\u001b[0m: name 't3' is not defined"
     ]
    }
   ],
   "source": [
    "del t3 #its showing me an error because tuple (t3) was deleted."
   ]
  },
  {
   "cell_type": "markdown",
   "id": "ab31c1e5-8be4-43ae-bb5a-c8fc84fd1ba9",
   "metadata": {},
   "source": [
    "20. Slice a tuple."
   ]
  },
  {
   "cell_type": "code",
   "execution_count": 91,
   "id": "e8085764-f492-4db1-87eb-9910de03281c",
   "metadata": {},
   "outputs": [
    {
     "name": "stdout",
     "output_type": "stream",
     "text": [
      "('b', 'c', 'd')\n"
     ]
    }
   ],
   "source": [
    "tuple_1 = ('a', 'b', 'c', 'd', 'e', 'f', 'g', 'h')\n",
    "k=slice(1,4)\n",
    "j=tuple_1[k]\n",
    "print(j)"
   ]
  },
  {
   "cell_type": "markdown",
   "id": "51324c74-d4ed-491a-8995-28dc241af7c4",
   "metadata": {},
   "source": [
    "21. Find the maximum value in a tuple."
   ]
  },
  {
   "cell_type": "code",
   "execution_count": 92,
   "id": "c4684db2-8cd6-46b1-86da-0798c19808f2",
   "metadata": {},
   "outputs": [
    {
     "data": {
      "text/plain": [
       "5"
      ]
     },
     "execution_count": 92,
     "metadata": {},
     "output_type": "execute_result"
    }
   ],
   "source": [
    "t1=(1,2,3,4,5)\n",
    "max(t1)"
   ]
  },
  {
   "cell_type": "markdown",
   "id": "d8b263a4-a12a-42c8-a511-fa28c3ede26f",
   "metadata": {},
   "source": [
    "22. Find the minimum value in a tuple."
   ]
  },
  {
   "cell_type": "code",
   "execution_count": 93,
   "id": "42b90429-28b9-450b-b5bc-224dcc8c2524",
   "metadata": {},
   "outputs": [
    {
     "data": {
      "text/plain": [
       "1"
      ]
     },
     "execution_count": 93,
     "metadata": {},
     "output_type": "execute_result"
    }
   ],
   "source": [
    "t1=(1,2,3,4,5)\n",
    "min(t1)"
   ]
  },
  {
   "cell_type": "markdown",
   "id": "9922b638-f66f-4ca3-9502-a076f3a15dd8",
   "metadata": {},
   "source": [
    "23. Convert a string to a tuple of characters."
   ]
  },
  {
   "cell_type": "code",
   "execution_count": 94,
   "id": "806b80e3-36f6-4d61-a4c6-dbad3ce92b9d",
   "metadata": {},
   "outputs": [
    {
     "data": {
      "text/plain": [
       "('s', 'h', 'u', 'b', 'h', 'a', 's', 'h', 'i', 's', 'h')"
      ]
     },
     "execution_count": 94,
     "metadata": {},
     "output_type": "execute_result"
    }
   ],
   "source": [
    "j=\"shubhashish\"\n",
    "tuple(j)"
   ]
  },
  {
   "cell_type": "markdown",
   "id": "31476c40-7f72-4653-9094-528d5dbb0010",
   "metadata": {},
   "source": [
    "24. Convert a tuple of characters to a string."
   ]
  },
  {
   "cell_type": "code",
   "execution_count": 100,
   "id": "9207fedc-fa7e-45d4-a1b2-fb05780144a9",
   "metadata": {},
   "outputs": [
    {
     "name": "stdout",
     "output_type": "stream",
     "text": [
      "shubhashish\n"
     ]
    }
   ],
   "source": [
    "t1=('s', 'h', 'u', 'b', 'h', 'a', 's', 'h', 'i', 's', 'h')\n",
    "k=\"\".join(t1)\n",
    "print(k)"
   ]
  },
  {
   "cell_type": "code",
   "execution_count": 101,
   "id": "036cf2ef-9b7b-4294-a9fa-489a0695f94c",
   "metadata": {},
   "outputs": [
    {
     "data": {
      "text/plain": [
       "str"
      ]
     },
     "execution_count": 101,
     "metadata": {},
     "output_type": "execute_result"
    }
   ],
   "source": [
    "type(k)"
   ]
  },
  {
   "cell_type": "markdown",
   "id": "aaa18f6b-a909-46d7-9d7f-5acc9d717d63",
   "metadata": {},
   "source": [
    "25. Create a tuple from multiple data types."
   ]
  },
  {
   "cell_type": "code",
   "execution_count": 105,
   "id": "78801577-7007-4862-965a-ca5cc6a2625a",
   "metadata": {},
   "outputs": [
    {
     "name": "stdout",
     "output_type": "stream",
     "text": [
      "(1, 2, 3, 3.4, 'shubh', False)\n"
     ]
    }
   ],
   "source": [
    "t3=(1,2,3,3.4,\"shubh\",False)\n",
    "print(t3)"
   ]
  },
  {
   "cell_type": "code",
   "execution_count": 106,
   "id": "fa93e65c-143f-4d65-92b4-054c03d18f01",
   "metadata": {},
   "outputs": [
    {
     "data": {
      "text/plain": [
       "tuple"
      ]
     },
     "execution_count": 106,
     "metadata": {},
     "output_type": "execute_result"
    }
   ],
   "source": [
    "type(t3)"
   ]
  },
  {
   "cell_type": "markdown",
   "id": "38a0bf6a-e20e-419d-8386-a1481eb36ed0",
   "metadata": {},
   "source": [
    "26. Check if two tuples are identical."
   ]
  },
  {
   "cell_type": "code",
   "execution_count": 107,
   "id": "afa3452d-b990-42b4-a652-471011342866",
   "metadata": {},
   "outputs": [
    {
     "data": {
      "text/plain": [
       "False"
      ]
     },
     "execution_count": 107,
     "metadata": {},
     "output_type": "execute_result"
    }
   ],
   "source": [
    "t1=(1,2,3)\n",
    "t2=(4,5,6)\n",
    "t1==t2"
   ]
  },
  {
   "cell_type": "code",
   "execution_count": 109,
   "id": "e856096a-f734-4ba0-b14e-1867d914cc0e",
   "metadata": {},
   "outputs": [
    {
     "data": {
      "text/plain": [
       "True"
      ]
     },
     "execution_count": 109,
     "metadata": {},
     "output_type": "execute_result"
    }
   ],
   "source": [
    "t1=(1,2,3)\n",
    "t2=(1,2,3)\n",
    "t1==t2"
   ]
  },
  {
   "cell_type": "markdown",
   "id": "274b3f84-8523-41f0-98eb-e3825966ea02",
   "metadata": {},
   "source": [
    "27. Sort the elements of a tuple."
   ]
  },
  {
   "cell_type": "code",
   "execution_count": 114,
   "id": "560847d9-fcce-439c-a10b-5b95eb71ab4a",
   "metadata": {},
   "outputs": [
    {
     "data": {
      "text/plain": [
       "(1, 2, 5, 8, 45, 65, 67, 78)"
      ]
     },
     "execution_count": 114,
     "metadata": {},
     "output_type": "execute_result"
    }
   ],
   "source": [
    "t9=(1,5,2,65,78,45,67,8)\n",
    "tuple(sorted(t9))"
   ]
  },
  {
   "cell_type": "code",
   "execution_count": 116,
   "id": "58a3cfd7-416e-4fbd-a4b1-c1cac025d658",
   "metadata": {},
   "outputs": [
    {
     "data": {
      "text/plain": [
       "tuple"
      ]
     },
     "execution_count": 116,
     "metadata": {},
     "output_type": "execute_result"
    }
   ],
   "source": [
    "type(t9)"
   ]
  },
  {
   "cell_type": "markdown",
   "id": "bceb84ab-4bf6-4ba0-880e-f6dba02d4a6f",
   "metadata": {},
   "source": [
    "28. Convert a tuple of integers to a tuple of strings."
   ]
  },
  {
   "cell_type": "code",
   "execution_count": 159,
   "id": "0fcc33a4-c28c-4296-b238-a7b87f81963a",
   "metadata": {},
   "outputs": [
    {
     "name": "stdout",
     "output_type": "stream",
     "text": [
      "('1', '5', '2', '65', '78', '45', '67', '8')\n"
     ]
    }
   ],
   "source": [
    "t9=(1,5,2,65,78,45,67,8)\n",
    "t10=tuple(str(num) for num in t9)\n",
    "print(t10)    \n",
    "    "
   ]
  },
  {
   "cell_type": "markdown",
   "id": "47ffe3dc-8fe0-4b46-a506-985ad47b25d3",
   "metadata": {},
   "source": [
    "\n",
    "29. Convert a tuple of strings to a tuple of integers."
   ]
  },
  {
   "cell_type": "code",
   "execution_count": 160,
   "id": "bb4e6de6-e653-4c03-bc40-cf9f5d299d44",
   "metadata": {},
   "outputs": [
    {
     "name": "stdout",
     "output_type": "stream",
     "text": [
      "(1, 5, 2, 65, 78, 45, 67, 8)\n"
     ]
    }
   ],
   "source": [
    "t1=('1', '5', '2', '65', '78', '45', '67', '8')\n",
    "t10= tuple(int(num) for num in t1)\n",
    "print(t10)"
   ]
  },
  {
   "cell_type": "markdown",
   "id": "4627b6bd-7a47-4b17-adf0-2b242e9a17f5",
   "metadata": {},
   "source": [
    "30. Merge two tuples."
   ]
  },
  {
   "cell_type": "code",
   "execution_count": 174,
   "id": "843da1bd-fafe-4cbe-b9ca-cbe20419044c",
   "metadata": {},
   "outputs": [
    {
     "data": {
      "text/plain": [
       "(1, 2, 3, 4, 5, 6)"
      ]
     },
     "execution_count": 174,
     "metadata": {},
     "output_type": "execute_result"
    }
   ],
   "source": [
    "t1=(1,2,3)\n",
    "t2=(4,5,6)\n",
    "t1 +t2"
   ]
  },
  {
   "cell_type": "markdown",
   "id": "030374bb-0f00-4301-b69d-fcf0a40cef5d",
   "metadata": {},
   "source": [
    "31. Flatten a nested tuple."
   ]
  },
  {
   "cell_type": "code",
   "execution_count": 1,
   "id": "41f2c8ef-a0cd-4232-b206-56d5516e3e81",
   "metadata": {},
   "outputs": [
    {
     "data": {
      "text/plain": [
       "[]"
      ]
     },
     "execution_count": 1,
     "metadata": {},
     "output_type": "execute_result"
    }
   ],
   "source": [
    "t1=(1,2,(3,4),5)\n",
    "j=[]\n",
    "k=[j.append(i) for i in list(t1) for i in j ]\n",
    "k\n"
   ]
  },
  {
   "cell_type": "code",
   "execution_count": 28,
   "id": "e80f1548-4377-45fd-aeb1-1e269a9fb021",
   "metadata": {},
   "outputs": [
    {
     "data": {
      "text/plain": [
       "(4, 5, (4, 7), (8, 9), (10, 11), (9, 10), (3, 4))"
      ]
     },
     "execution_count": 28,
     "metadata": {},
     "output_type": "execute_result"
    }
   ],
   "source": [
    "t1=((4, 5), ((4, 7), (8, 9), (10, 11)), (((9, 10), (3, 4))))\n",
    "k=list(t1)\n",
    "j=[]\n",
    "for i in k:\n",
    "    for l in i:\n",
    "        j.append(l)\n",
    "tuple(j)\n"
   ]
  },
  {
   "cell_type": "markdown",
   "id": "348fffe7-a9ca-4afc-8f74-776c0ab7b0ea",
   "metadata": {},
   "source": [
    "32. Create a tuple of the first 5 prime numbers."
   ]
  },
  {
   "cell_type": "code",
   "execution_count": 109,
   "id": "a4406bf6-b2ce-451d-a58c-cb9f2b2b1c83",
   "metadata": {},
   "outputs": [
    {
     "name": "stdin",
     "output_type": "stream",
     "text": [
      " 12\n"
     ]
    },
    {
     "name": "stdout",
     "output_type": "stream",
     "text": [
      "(2, 3, 5, 7, 11)\n"
     ]
    }
   ],
   "source": [
    "inn=int(input())\n",
    "k=[]\n",
    "for n in range(1,inn,1):\n",
    "    if n >1:\n",
    "        for i in range(2,n):\n",
    "            if n%i==0:\n",
    "                break \n",
    "        else:\n",
    "            k.append(n)\n",
    "        j=tuple(k)\n",
    "print(j)\n",
    "        \n",
    "        \n",
    "        "
   ]
  },
  {
   "cell_type": "markdown",
   "id": "8aee59cc-4308-42a1-8b12-a2ae681a5f5c",
   "metadata": {},
   "source": [
    "33. Check if a tuple is a palindrome."
   ]
  },
  {
   "cell_type": "code",
   "execution_count": 11,
   "id": "a1ef3820-b719-477f-a3dc-6e074c608c29",
   "metadata": {},
   "outputs": [
    {
     "name": "stdout",
     "output_type": "stream",
     "text": [
      "palindrome\n"
     ]
    }
   ],
   "source": [
    "t1=(\"m\",\"a\",\"l\",\"a\",\"y\",\"a\",\"l\",\"a\",\"m\")\n",
    "k=list(t1)\n",
    "flag=0\n",
    "for i in k:\n",
    "    if k[0]== k[-1]:\n",
    "        flag=1\n",
    "    else:\n",
    "        break\n",
    "if flag==0:\n",
    "    print(\"not palindrome\")\n",
    "else:\n",
    "    print(\"palindrome\")"
   ]
  },
  {
   "cell_type": "markdown",
   "id": "f6bbfd65-13e9-444e-877c-c2149015f598",
   "metadata": {},
   "source": [
    "34. Create a tuple of squares of numbers from 1 to 5."
   ]
  },
  {
   "cell_type": "code",
   "execution_count": 33,
   "id": "d746c4b2-0796-4da3-859f-f4fc5f7f4f77",
   "metadata": {},
   "outputs": [
    {
     "data": {
      "text/plain": [
       "(1, 4, 9, 16, 25)"
      ]
     },
     "execution_count": 33,
     "metadata": {},
     "output_type": "execute_result"
    }
   ],
   "source": [
    "k=[]\n",
    "for i in range(1,6):\n",
    "        i=i**2\n",
    "        k.append(i)\n",
    "t2=tuple(k)\n",
    "t2\n",
    "    \n",
    "    "
   ]
  },
  {
   "cell_type": "markdown",
   "id": "12a7d9d9-9cd5-40d6-aa75-b0c749498f26",
   "metadata": {},
   "source": [
    "35. Filter out all even numbers from a tuple."
   ]
  },
  {
   "cell_type": "code",
   "execution_count": 56,
   "id": "7fa03ddc-40b3-4bfe-b30d-983e59a1da98",
   "metadata": {},
   "outputs": [
    {
     "data": {
      "text/plain": [
       "(2, 4, 6, 0)"
      ]
     },
     "execution_count": 56,
     "metadata": {},
     "output_type": "execute_result"
    }
   ],
   "source": [
    "t1=(2,3,4,5,6,1,0,67,85)\n",
    "k=[i for i in t1 if i%2==0]\n",
    "tuple(k)"
   ]
  },
  {
   "cell_type": "markdown",
   "id": "717c433d-f126-4930-a7aa-48eb323eded6",
   "metadata": {},
   "source": [
    "36. Multiply all elements in a tuple by 2."
   ]
  },
  {
   "cell_type": "code",
   "execution_count": 58,
   "id": "95a279aa-4906-48ce-9853-7a8edb23255e",
   "metadata": {},
   "outputs": [
    {
     "data": {
      "text/plain": [
       "(4, 9, 16, 25, 36, 1, 0, 4489, 7225)"
      ]
     },
     "execution_count": 58,
     "metadata": {},
     "output_type": "execute_result"
    }
   ],
   "source": [
    "t1=(2,3,4,5,6,1,0,67,85)\n",
    "k=[i**2 for i in t1 ]\n",
    "tuple(k)"
   ]
  },
  {
   "cell_type": "markdown",
   "id": "8b2e7a96-7f46-4c2d-8d01-137ae42bd831",
   "metadata": {},
   "source": [
    "37. Create a tuple of random numbers."
   ]
  },
  {
   "cell_type": "code",
   "execution_count": 75,
   "id": "c64d70b7-be62-4174-84f4-1c0e8baa1079",
   "metadata": {},
   "outputs": [
    {
     "data": {
      "text/plain": [
       "(93, 28, 39, 13, 36)"
      ]
     },
     "execution_count": 75,
     "metadata": {},
     "output_type": "execute_result"
    }
   ],
   "source": [
    "import random\n",
    "k=tuple(random.randint(1,100) for _ in range(5))\n",
    "k"
   ]
  },
  {
   "cell_type": "markdown",
   "id": "a7bee74e-b57b-405a-a507-e69e8e1d84e9",
   "metadata": {},
   "source": [
    "38. Check if a tuple is sorted."
   ]
  },
  {
   "cell_type": "code",
   "execution_count": 80,
   "id": "38a05efc-a5fd-402b-9d4b-524f061b0c39",
   "metadata": {},
   "outputs": [
    {
     "name": "stdout",
     "output_type": "stream",
     "text": [
      "not sorted\n"
     ]
    }
   ],
   "source": [
    "t1=(2,3,4,5,6,1,0,67,85)\n",
    "t2=sorted(t1)\n",
    "if t1==t2:\n",
    "    print(\"sorted\")\n",
    "else:\n",
    "    print(\"not sorted\")\n"
   ]
  },
  {
   "cell_type": "markdown",
   "id": "11aecef2-5c2a-4303-9076-0fb6bb0a9136",
   "metadata": {},
   "source": [
    "39. Rotate a tuple to the left by `n` positions.\n"
   ]
  },
  {
   "cell_type": "code",
   "execution_count": 83,
   "id": "5f62bcdb-5c79-4137-8118-196c2844c638",
   "metadata": {},
   "outputs": [
    {
     "name": "stdin",
     "output_type": "stream",
     "text": [
      " 3\n"
     ]
    },
    {
     "data": {
      "text/plain": [
       "(5, 6, 1, 0, 67, 85, 2, 3, 4)"
      ]
     },
     "execution_count": 83,
     "metadata": {},
     "output_type": "execute_result"
    }
   ],
   "source": [
    "n=int(input())\n",
    "t1=(2,3,4,5,6,1,0,67,85)\n",
    "t2=t1[n:] + t1[:n]\n",
    "t2"
   ]
  },
  {
   "cell_type": "markdown",
   "id": "7eaa6e2d-da0d-42b1-949f-edc1be39f3a4",
   "metadata": {},
   "source": [
    "40. Rotate a tuple to the right by `n` positions."
   ]
  },
  {
   "cell_type": "code",
   "execution_count": 89,
   "id": "fd2adde4-62be-44fa-9545-ddc446f61d5f",
   "metadata": {},
   "outputs": [
    {
     "name": "stdin",
     "output_type": "stream",
     "text": [
      " 3\n"
     ]
    },
    {
     "data": {
      "text/plain": [
       "(2, 3, 4, 5, 6, 1, 0, 67, 85)"
      ]
     },
     "execution_count": 89,
     "metadata": {},
     "output_type": "execute_result"
    }
   ],
   "source": [
    "n=int(input())\n",
    "t1=(2,3,4,5,6,1,0,67,85)\n",
    "t2=t1[:-3]+t1[-3:]\n",
    "t2"
   ]
  },
  {
   "cell_type": "markdown",
   "id": "e062940a-1d1e-4efa-b4b9-7cc5f179cb2a",
   "metadata": {},
   "source": [
    "41. Create a tuple of the first 5 Fibonacci numbers."
   ]
  },
  {
   "cell_type": "code",
   "execution_count": 128,
   "id": "4d8d4c83-eba1-4049-ba09-695e6e03dd5b",
   "metadata": {},
   "outputs": [
    {
     "data": {
      "text/plain": [
       "(0, 1, 1, 2, 3)"
      ]
     },
     "execution_count": 128,
     "metadata": {},
     "output_type": "execute_result"
    }
   ],
   "source": [
    "fib1=0\n",
    "fib2=1\n",
    "k=[]\n",
    "for i in range(5):\n",
    "    k.append(fib1)\n",
    "    fib1,fib2=fib2,fib1+fib2\n",
    "tuple(k)"
   ]
  },
  {
   "cell_type": "markdown",
   "id": "de93fd2b-de11-4437-b725-313ef2af53d0",
   "metadata": {},
   "source": [
    "42. Create a tuple from user input."
   ]
  },
  {
   "cell_type": "code",
   "execution_count": 141,
   "id": "1dc36215-fb0d-49e0-becf-70dfdd3fc6e1",
   "metadata": {},
   "outputs": [
    {
     "name": "stdin",
     "output_type": "stream",
     "text": [
      " lkfhcv\n"
     ]
    },
    {
     "data": {
      "text/plain": [
       "('l', 'k', 'f', 'h', 'c', 'v')"
      ]
     },
     "execution_count": 141,
     "metadata": {},
     "output_type": "execute_result"
    }
   ],
   "source": [
    "t1=input()\n",
    "tuple_input=tuple(t1)\n",
    "tuple_input"
   ]
  },
  {
   "cell_type": "markdown",
   "id": "820bd1e4-0bdd-49d9-8fbb-188a361d2eba",
   "metadata": {},
   "source": [
    "43. Swap two elements in a tuple."
   ]
  },
  {
   "cell_type": "code",
   "execution_count": 166,
   "id": "fe149aa3-0951-4538-b784-5426479abc88",
   "metadata": {},
   "outputs": [
    {
     "data": {
      "text/plain": [
       "(1, 3, 2, 4, 5, 6)"
      ]
     },
     "execution_count": 166,
     "metadata": {},
     "output_type": "execute_result"
    }
   ],
   "source": [
    "t1=(1,2,3,4,5,6)\n",
    "ti=t1[0]\n",
    "tj=t1[1]\n",
    "t2=list(t1)\n",
    "t2[ti],t2[tj]=t2[tj],t2[ti]\n",
    "k=tuple(t2)\n",
    "k"
   ]
  },
  {
   "cell_type": "code",
   "execution_count": 168,
   "id": "c4130789-3387-48e7-afe3-5ef2ce9412ca",
   "metadata": {},
   "outputs": [
    {
     "data": {
      "text/plain": [
       "1"
      ]
     },
     "execution_count": 168,
     "metadata": {},
     "output_type": "execute_result"
    }
   ],
   "source": [
    "t1=(1,2,3,4,5,6)\n",
    "ti=t1[0]\n",
    "ti"
   ]
  },
  {
   "cell_type": "markdown",
   "id": "05178438-9409-4a12-87e7-b1524cc94076",
   "metadata": {},
   "source": [
    "44. Reverse the elements of a tuple."
   ]
  },
  {
   "cell_type": "code",
   "execution_count": 176,
   "id": "e7c7ac65-0549-4553-ab99-cfb036ec571b",
   "metadata": {},
   "outputs": [
    {
     "data": {
      "text/plain": [
       "(6, 5, 4, 3, 2, 1)"
      ]
     },
     "execution_count": 176,
     "metadata": {},
     "output_type": "execute_result"
    }
   ],
   "source": [
    "t1=(1,2,3,4,5,6)\n",
    "t1[::-1]\n"
   ]
  },
  {
   "cell_type": "markdown",
   "id": "8312cbe5-1019-4ac3-803e-e71b14f6b5de",
   "metadata": {},
   "source": [
    "45. Create a tuple of the first `n` powers of 2."
   ]
  },
  {
   "cell_type": "code",
   "execution_count": 1,
   "id": "2035a501-1593-4a4e-ade4-1700d83282d4",
   "metadata": {},
   "outputs": [
    {
     "name": "stdin",
     "output_type": "stream",
     "text": [
      " 5\n"
     ]
    },
    {
     "data": {
      "text/plain": [
       "(0, 1, 4, 9, 16)"
      ]
     },
     "execution_count": 1,
     "metadata": {},
     "output_type": "execute_result"
    }
   ],
   "source": [
    "n=int(input())\n",
    "k=tuple(i**2 for i in range(n))\n",
    "k"
   ]
  },
  {
   "cell_type": "markdown",
   "id": "7c957a1c-031b-45d2-83f5-0e26023efeb9",
   "metadata": {},
   "source": [
    "46. Find the longest string in a tuple of strings."
   ]
  },
  {
   "cell_type": "code",
   "execution_count": 3,
   "id": "40a68a5b-3091-459f-9043-2ecaca2fe266",
   "metadata": {},
   "outputs": [
    {
     "data": {
      "text/plain": [
       "'shubhashish'"
      ]
     },
     "execution_count": 3,
     "metadata": {},
     "output_type": "execute_result"
    }
   ],
   "source": [
    "k=(\"sunit\",\"mohit\",\"sonu\", \"shubhashish\")\n",
    "t=max(k,key=len)\n",
    "t"
   ]
  },
  {
   "cell_type": "markdown",
   "id": "f4bff4fb-1e28-48ac-922e-cd6dc40ba69b",
   "metadata": {},
   "source": [
    "47. Find the shortest string in a tuple of strings."
   ]
  },
  {
   "cell_type": "code",
   "execution_count": 4,
   "id": "dd14fe1f-5678-4c32-a582-92a7ebb82680",
   "metadata": {},
   "outputs": [
    {
     "data": {
      "text/plain": [
       "'sonu'"
      ]
     },
     "execution_count": 4,
     "metadata": {},
     "output_type": "execute_result"
    }
   ],
   "source": [
    "k=(\"sunit\",\"mohit\",\"sonu\", \"shubhashish\")\n",
    "t=min(k,key=len)\n",
    "t"
   ]
  },
  {
   "cell_type": "markdown",
   "id": "d10e53f3-5fe6-4e72-ad5f-161cbec78a34",
   "metadata": {},
   "source": [
    "48. Create a tuple of the first `n` triangular numbers."
   ]
  },
  {
   "cell_type": "code",
   "execution_count": 7,
   "id": "2d66395a-0db1-4551-9e29-c000e5669bd6",
   "metadata": {},
   "outputs": [
    {
     "name": "stdin",
     "output_type": "stream",
     "text": [
      " 5\n"
     ]
    },
    {
     "data": {
      "text/plain": [
       "(1, 3, 6, 10, 15)"
      ]
     },
     "execution_count": 7,
     "metadata": {},
     "output_type": "execute_result"
    }
   ],
   "source": [
    "n = int(input())\n",
    "t=0\n",
    "k=[]\n",
    "for i in range(1,n+1):\n",
    "    t=t+i\n",
    "    k.append(t)\n",
    "tuple(k)\n",
    "    \n",
    "    "
   ]
  },
  {
   "cell_type": "markdown",
   "id": "01dbb83b-b339-495a-979c-6a4f2779524a",
   "metadata": {},
   "source": [
    "49. Check if a tuple contains another tuple as a subsequence.\n"
   ]
  },
  {
   "cell_type": "code",
   "execution_count": 18,
   "id": "a8cf2f2b-383f-4b4f-8a24-57ee344118f3",
   "metadata": {},
   "outputs": [
    {
     "name": "stdout",
     "output_type": "stream",
     "text": [
      "subsequences of t3\n"
     ]
    }
   ],
   "source": [
    "t3=(1,2,3,(8,7),4,10,21,34)\n",
    "t4=(3,4)\n",
    "x=set(t4).issubset(t3)\n",
    "if x:\n",
    "    print(\"subsequences of t3\")\n",
    "else:\n",
    "    print(\"not a subsequences of t3\")"
   ]
  },
  {
   "cell_type": "markdown",
   "id": "7666de22-cd2a-49b5-b251-388d5f57c078",
   "metadata": {},
   "source": [
    "50. Create a tuple of alternating 1s and 0s of length `n`."
   ]
  },
  {
   "cell_type": "code",
   "execution_count": 21,
   "id": "535f12d3-edbe-41b7-aef7-a86e2f6b0769",
   "metadata": {},
   "outputs": [
    {
     "name": "stdin",
     "output_type": "stream",
     "text": [
      " 10\n"
     ]
    },
    {
     "data": {
      "text/plain": [
       "(1, 0, 1, 0, 1, 0, 1, 0, 1, 0)"
      ]
     },
     "execution_count": 21,
     "metadata": {},
     "output_type": "execute_result"
    }
   ],
   "source": [
    "n=int(input())\n",
    "k=[]\n",
    "for i in range(n):\n",
    "    if i%2==0:\n",
    "        k.append(1)\n",
    "    else:\n",
    "        k.append(0)\n",
    "tuple(k)"
   ]
  },
  {
   "cell_type": "markdown",
   "id": "8ee6f09b-7a64-416a-90b0-cb51ea5f2649",
   "metadata": {},
   "source": [
    "Set Based Practice Problem :"
   ]
  },
  {
   "cell_type": "markdown",
   "id": "687afa81-f657-4b08-8e01-0f3ddfc6d273",
   "metadata": {},
   "source": [
    "1. Create a set with integers from 1 to 5."
   ]
  },
  {
   "cell_type": "code",
   "execution_count": 25,
   "id": "b1d95cd8-8cdf-4d1f-b0c8-25e416bc709d",
   "metadata": {},
   "outputs": [
    {
     "data": {
      "text/plain": [
       "{1, 2, 3, 4, 5}"
      ]
     },
     "execution_count": 25,
     "metadata": {},
     "output_type": "execute_result"
    }
   ],
   "source": [
    "d={1,2,3,4,5}\n",
    "d"
   ]
  },
  {
   "cell_type": "markdown",
   "id": "66151f2d-14d5-4aad-9056-145cc5c378c1",
   "metadata": {},
   "source": [
    "2. Add an element to a set."
   ]
  },
  {
   "cell_type": "code",
   "execution_count": 27,
   "id": "887916e9-c178-4c6f-ba1b-c3b0fed8abfd",
   "metadata": {},
   "outputs": [
    {
     "data": {
      "text/plain": [
       "{1, 2, 3, 4, 5, 6}"
      ]
     },
     "execution_count": 27,
     "metadata": {},
     "output_type": "execute_result"
    }
   ],
   "source": [
    "d.add(6)\n",
    "d"
   ]
  },
  {
   "cell_type": "markdown",
   "id": "fa1647ab-1b47-45d0-85e6-348a41d1886f",
   "metadata": {},
   "source": [
    "3. Remove an element from a set."
   ]
  },
  {
   "cell_type": "code",
   "execution_count": 28,
   "id": "c4e47fe4-cec3-4659-b8b2-f04cb90f2187",
   "metadata": {},
   "outputs": [
    {
     "data": {
      "text/plain": [
       "{1, 2, 3, 5, 6}"
      ]
     },
     "execution_count": 28,
     "metadata": {},
     "output_type": "execute_result"
    }
   ],
   "source": [
    "d.remove(4)\n",
    "d"
   ]
  },
  {
   "cell_type": "markdown",
   "id": "4cb22d19-526e-4d81-9d39-56c205b12f01",
   "metadata": {},
   "source": [
    "4. Check if an element exists in a set."
   ]
  },
  {
   "cell_type": "code",
   "execution_count": 31,
   "id": "bf103fa6-3380-4076-8ed9-50bb1fc1dc27",
   "metadata": {},
   "outputs": [
    {
     "data": {
      "text/plain": [
       "True"
      ]
     },
     "execution_count": 31,
     "metadata": {},
     "output_type": "execute_result"
    }
   ],
   "source": [
    "3 in d"
   ]
  },
  {
   "cell_type": "markdown",
   "id": "877151a0-854a-4341-9471-698efd0ca1d6",
   "metadata": {},
   "source": [
    "5. Find the length of a set without using the `len()` function."
   ]
  },
  {
   "cell_type": "code",
   "execution_count": 34,
   "id": "a2a61d12-a8c6-4000-aa72-81cac172a974",
   "metadata": {},
   "outputs": [
    {
     "name": "stdout",
     "output_type": "stream",
     "text": [
      "5\n"
     ]
    }
   ],
   "source": [
    "count=0\n",
    "for i in d:\n",
    "    count=count+1\n",
    "print(count)"
   ]
  },
  {
   "cell_type": "markdown",
   "id": "d506a6a0-04f0-49da-8e9c-5a70ad783329",
   "metadata": {},
   "source": [
    "6. Clear all elements from a set."
   ]
  },
  {
   "cell_type": "code",
   "execution_count": 37,
   "id": "3a214be0-f2b9-4689-8ed9-d00189160998",
   "metadata": {},
   "outputs": [
    {
     "data": {
      "text/plain": [
       "set()"
      ]
     },
     "execution_count": 37,
     "metadata": {},
     "output_type": "execute_result"
    }
   ],
   "source": [
    "d.clear()\n",
    "d"
   ]
  },
  {
   "cell_type": "markdown",
   "id": "fa1a59a3-e15d-436e-9d0f-90b5004f83b5",
   "metadata": {},
   "source": [
    "7. Create a set of even numbers from 1 to 10."
   ]
  },
  {
   "cell_type": "code",
   "execution_count": 41,
   "id": "4f53086d-860b-4ffb-bb14-2194783ec38b",
   "metadata": {},
   "outputs": [
    {
     "data": {
      "text/plain": [
       "{2, 4, 6, 8}"
      ]
     },
     "execution_count": 41,
     "metadata": {},
     "output_type": "execute_result"
    }
   ],
   "source": [
    "s={x for x in range(1,10) if x%2==0}\n",
    "s      "
   ]
  },
  {
   "cell_type": "markdown",
   "id": "b9e10892-2d0c-4d45-a4d0-583b52f34914",
   "metadata": {},
   "source": [
    "8. Create a set of odd numbers from 1 to 10."
   ]
  },
  {
   "cell_type": "code",
   "execution_count": 42,
   "id": "c934bc07-7422-413f-a782-e53bbafba380",
   "metadata": {},
   "outputs": [
    {
     "data": {
      "text/plain": [
       "{1, 3, 5, 7, 9}"
      ]
     },
     "execution_count": 42,
     "metadata": {},
     "output_type": "execute_result"
    }
   ],
   "source": [
    "s={x for x in range(1,10) if x%2!=0}\n",
    "s"
   ]
  },
  {
   "cell_type": "markdown",
   "id": "af98a566-ed9f-4b16-9f4f-9c165afc410e",
   "metadata": {},
   "source": [
    "9. Find the union of two sets."
   ]
  },
  {
   "cell_type": "code",
   "execution_count": 48,
   "id": "407c6cf1-0b85-4b06-8442-d3fa2112f02f",
   "metadata": {},
   "outputs": [
    {
     "data": {
      "text/plain": [
       "{1, 2, 3, 4, 5, 6, 7, 8}"
      ]
     },
     "execution_count": 48,
     "metadata": {},
     "output_type": "execute_result"
    }
   ],
   "source": [
    "s1={1,2,3,4,5}\n",
    "s2={6,7,8,2,1}\n",
    "k=s1.union(s2)\n",
    "k\n"
   ]
  },
  {
   "cell_type": "markdown",
   "id": "8e68fab7-c348-4b12-a4be-a2a0500e820a",
   "metadata": {},
   "source": [
    "10. Find the intersection of two sets."
   ]
  },
  {
   "cell_type": "code",
   "execution_count": 50,
   "id": "02870a21-bc4c-46e6-82e1-5bc6babef2bc",
   "metadata": {},
   "outputs": [
    {
     "data": {
      "text/plain": [
       "{1, 2}"
      ]
     },
     "execution_count": 50,
     "metadata": {},
     "output_type": "execute_result"
    }
   ],
   "source": [
    "s1={1,2,3,4,5}\n",
    "s2={6,7,8,2,1}\n",
    "k=s1.intersection(s2)\n",
    "k"
   ]
  },
  {
   "cell_type": "markdown",
   "id": "3f4c9133-3dbf-42c4-9885-ab2565bcec00",
   "metadata": {},
   "source": [
    "11. Find the difference between two sets."
   ]
  },
  {
   "cell_type": "code",
   "execution_count": 51,
   "id": "75998d7c-b335-427a-b2ed-47331c065962",
   "metadata": {},
   "outputs": [
    {
     "data": {
      "text/plain": [
       "{3, 4, 5}"
      ]
     },
     "execution_count": 51,
     "metadata": {},
     "output_type": "execute_result"
    }
   ],
   "source": [
    "s1={1,2,3,4,5}\n",
    "s2={6,7,8,2,1}\n",
    "k=s1.difference(s2)\n",
    "k"
   ]
  },
  {
   "cell_type": "markdown",
   "id": "59611669-6be8-4f7e-ba89-9a9750ab596c",
   "metadata": {},
   "source": [
    "12. Check if a set is a subset of another set."
   ]
  },
  {
   "cell_type": "code",
   "execution_count": 53,
   "id": "3bf53a3e-3e0f-4dc1-bbd2-a7bbf9e8a832",
   "metadata": {},
   "outputs": [
    {
     "data": {
      "text/plain": [
       "True"
      ]
     },
     "execution_count": 53,
     "metadata": {},
     "output_type": "execute_result"
    }
   ],
   "source": [
    "s1={1,2,3,4,5}\n",
    "s2={2,1}\n",
    "k=s2.issubset(s1)\n",
    "k"
   ]
  },
  {
   "cell_type": "markdown",
   "id": "01fbba9d-124d-4236-ab22-70717636e462",
   "metadata": {},
   "source": [
    "13. Check if a set is a superset of another set."
   ]
  },
  {
   "cell_type": "code",
   "execution_count": 54,
   "id": "0a332d0b-d27d-417a-ae6d-fca6e9f58046",
   "metadata": {},
   "outputs": [
    {
     "data": {
      "text/plain": [
       "False"
      ]
     },
     "execution_count": 54,
     "metadata": {},
     "output_type": "execute_result"
    }
   ],
   "source": [
    "s1={1,2,3,4,5}\n",
    "s2={2,1}\n",
    "k=s2.issuperset(s1)\n",
    "k"
   ]
  },
  {
   "cell_type": "markdown",
   "id": "63eb34af-f2b9-4b44-8300-3bf970238188",
   "metadata": {},
   "source": [
    "14. Create a set from a list."
   ]
  },
  {
   "cell_type": "code",
   "execution_count": 55,
   "id": "05ba80a4-4018-453e-a5fd-611d7ca64e5b",
   "metadata": {},
   "outputs": [
    {
     "data": {
      "text/plain": [
       "{1, 2, 3, 6, 7, 9, 445}"
      ]
     },
     "execution_count": 55,
     "metadata": {},
     "output_type": "execute_result"
    }
   ],
   "source": [
    "list1=[1,2,3,445,6,7,9]\n",
    "set(list1)"
   ]
  },
  {
   "cell_type": "markdown",
   "id": "b0505cd7-af4d-4d52-ab23-04fde92d7d6e",
   "metadata": {},
   "source": [
    "15. Convert a set to a list."
   ]
  },
  {
   "cell_type": "code",
   "execution_count": 56,
   "id": "24f5935f-1955-4a3d-afd3-d72cce67e19e",
   "metadata": {},
   "outputs": [
    {
     "data": {
      "text/plain": [
       "[1, 2, 3, 4, 5]"
      ]
     },
     "execution_count": 56,
     "metadata": {},
     "output_type": "execute_result"
    }
   ],
   "source": [
    "s1={1,2,3,4,5}\n",
    "list(s1)"
   ]
  },
  {
   "cell_type": "markdown",
   "id": "b2d9b943-9522-463f-84f2-e622d81438a7",
   "metadata": {},
   "source": [
    "16. Remove a random element from a set."
   ]
  },
  {
   "cell_type": "code",
   "execution_count": 79,
   "id": "c5d92f3f-870e-4f4f-9fa6-54b856cc51ce",
   "metadata": {},
   "outputs": [
    {
     "data": {
      "text/plain": [
       "{1, 2, 4, 5}"
      ]
     },
     "execution_count": 79,
     "metadata": {},
     "output_type": "execute_result"
    }
   ],
   "source": [
    "import random\n",
    "s1={1,2,3,4,5}\n",
    "li=list(s1)\n",
    "d1=random.choice(li)\n",
    "s1.remove(d1)\n",
    "s1"
   ]
  },
  {
   "cell_type": "markdown",
   "id": "c1702581-2755-4fc1-b05f-fabf5da38ed8",
   "metadata": {},
   "source": [
    "17. Pop an element from a set."
   ]
  },
  {
   "cell_type": "code",
   "execution_count": 12,
   "id": "31d056cc-a205-45ae-bbe6-a2a9a587cdf3",
   "metadata": {},
   "outputs": [
    {
     "data": {
      "text/plain": [
       "1"
      ]
     },
     "execution_count": 12,
     "metadata": {},
     "output_type": "execute_result"
    }
   ],
   "source": [
    "s1={1,2,3,4,5}\n",
    "s1.pop()"
   ]
  },
  {
   "cell_type": "markdown",
   "id": "6128cea9-bb52-4476-853b-4cdd1cbec7e9",
   "metadata": {},
   "source": [
    "18. Check if two sets have no elements in common."
   ]
  },
  {
   "cell_type": "code",
   "execution_count": 83,
   "id": "c0b2cf04-daec-49d9-88a2-4ff6267c5496",
   "metadata": {},
   "outputs": [
    {
     "data": {
      "text/plain": [
       "True"
      ]
     },
     "execution_count": 83,
     "metadata": {},
     "output_type": "execute_result"
    }
   ],
   "source": [
    "s1={1,2,3,4,5}\n",
    "s2={6,7,8,9}\n",
    "s1.isdisjoint(s2)"
   ]
  },
  {
   "cell_type": "code",
   "execution_count": 84,
   "id": "b4b2e1c8-691d-4c75-b926-ee9828b46d70",
   "metadata": {},
   "outputs": [
    {
     "data": {
      "text/plain": [
       "False"
      ]
     },
     "execution_count": 84,
     "metadata": {},
     "output_type": "execute_result"
    }
   ],
   "source": [
    "s1={1,2,3,4,5}\n",
    "s2={6,2,8,9}\n",
    "s1.isdisjoint(s2)"
   ]
  },
  {
   "cell_type": "markdown",
   "id": "a7153915-78a4-4490-a04b-a278d8d000e0",
   "metadata": {},
   "source": [
    "19. Find the symmetric difference between two sets."
   ]
  },
  {
   "cell_type": "code",
   "execution_count": 2,
   "id": "b7d09af0-d082-4f98-8f0a-d97a3bbc4df7",
   "metadata": {},
   "outputs": [
    {
     "data": {
      "text/plain": [
       "{1, 3, 4, 5, 6, 8, 9}"
      ]
     },
     "execution_count": 2,
     "metadata": {},
     "output_type": "execute_result"
    }
   ],
   "source": [
    "s1={1,2,3,4,5}\n",
    "s2={6,2,8,9}\n",
    "s1.symmetric_difference(s2)"
   ]
  },
  {
   "cell_type": "markdown",
   "id": "6f820fb6-c8c9-461c-bbe8-0a109b4f1570",
   "metadata": {},
   "source": [
    "20. Update a set with elements from another set."
   ]
  },
  {
   "cell_type": "code",
   "execution_count": 17,
   "id": "e8fa8a2a-d73f-4d06-abd8-3344462290eb",
   "metadata": {},
   "outputs": [
    {
     "name": "stdout",
     "output_type": "stream",
     "text": [
      "{1, 2, 3, 4, 5, 6, 8, 9}\n"
     ]
    }
   ],
   "source": [
    "s3={1,2,3,4,5}\n",
    "s4={6,2,8,9}\n",
    "s3.update(s4)\n",
    "print(s3)"
   ]
  },
  {
   "cell_type": "markdown",
   "id": "28c958d8-4467-4907-a9f9-9ecbbc03771f",
   "metadata": {},
   "source": [
    "21. Create a set of the first 5 prime numbers."
   ]
  },
  {
   "cell_type": "code",
   "execution_count": 122,
   "id": "b1c4ee47-fd5a-41fa-af8b-9040dbc688f4",
   "metadata": {},
   "outputs": [
    {
     "name": "stdin",
     "output_type": "stream",
     "text": [
      " 12\n"
     ]
    },
    {
     "name": "stdout",
     "output_type": "stream",
     "text": [
      "{2, 3, 5, 7, 11}\n"
     ]
    }
   ],
   "source": [
    "inn=int(input())\n",
    "k=[]\n",
    "for n in range(1,inn,1):\n",
    "    if n >1:\n",
    "        for i in range(2,n):\n",
    "            if n%i==0:\n",
    "                break \n",
    "        else:\n",
    "            k.append(n)\n",
    "        j=set(k)\n",
    "print(j)\n",
    "        "
   ]
  },
  {
   "cell_type": "markdown",
   "id": "8fdc87fe-6cc3-4ba9-a141-b78191bbf3c0",
   "metadata": {},
   "source": [
    "22. Check if two sets are identical."
   ]
  },
  {
   "cell_type": "code",
   "execution_count": 31,
   "id": "d2e4b71b-8a3a-4a64-851f-6b33d62b9ce2",
   "metadata": {},
   "outputs": [
    {
     "data": {
      "text/plain": [
       "False"
      ]
     },
     "execution_count": 31,
     "metadata": {},
     "output_type": "execute_result"
    }
   ],
   "source": [
    "s3={1,2,3,4,5}\n",
    "s4={6,2,8,9}\n",
    "s3==s4"
   ]
  },
  {
   "cell_type": "markdown",
   "id": "67b727cc-416e-4d57-a6bb-a35dba3ea032",
   "metadata": {},
   "source": [
    "23. Create a frozen set."
   ]
  },
  {
   "cell_type": "code",
   "execution_count": 32,
   "id": "92c2a0f6-9cd2-453e-96d2-e7e79518267d",
   "metadata": {},
   "outputs": [
    {
     "data": {
      "text/plain": [
       "frozenset({1, 2, 3, 4, 5})"
      ]
     },
     "execution_count": 32,
     "metadata": {},
     "output_type": "execute_result"
    }
   ],
   "source": [
    "s3=frozenset([1,2,3,4,5])\n",
    "s3"
   ]
  },
  {
   "cell_type": "markdown",
   "id": "487705d4-0eaf-47cf-9cb4-2111446b5b38",
   "metadata": {},
   "source": [
    "24. Check if a set is disjoint with another set."
   ]
  },
  {
   "cell_type": "code",
   "execution_count": 34,
   "id": "4e0aaac2-22bb-4b61-ae27-cee8fba5c448",
   "metadata": {},
   "outputs": [
    {
     "data": {
      "text/plain": [
       "False"
      ]
     },
     "execution_count": 34,
     "metadata": {},
     "output_type": "execute_result"
    }
   ],
   "source": [
    "s3={1,2,3,4,5}\n",
    "s4={6,2,8,9}\n",
    "s3.isdisjoint(s4)"
   ]
  },
  {
   "cell_type": "markdown",
   "id": "fada4f83-6ad9-4690-92bf-25af94a70ed7",
   "metadata": {},
   "source": [
    "25. Create a set of squares of numbers from 1 to 5."
   ]
  },
  {
   "cell_type": "code",
   "execution_count": 36,
   "id": "524423c5-48ac-4008-a554-367e29010aa7",
   "metadata": {},
   "outputs": [
    {
     "name": "stdout",
     "output_type": "stream",
     "text": [
      "{1, 4, 9, 16, 25}\n"
     ]
    }
   ],
   "source": [
    "square_set=set()\n",
    "for i in range(1,6):\n",
    "    square_set.add(i**2)\n",
    "print(square_set)"
   ]
  },
  {
   "cell_type": "markdown",
   "id": "03615817-65bc-45c1-8430-0c3a2946b4d2",
   "metadata": {},
   "source": [
    "26. Filter out all even numbers from a set."
   ]
  },
  {
   "cell_type": "code",
   "execution_count": 50,
   "id": "9fa9402d-b4c8-4ea2-8fe2-e2064e647a1d",
   "metadata": {},
   "outputs": [
    {
     "data": {
      "text/plain": [
       "{2, 4, 6, 8, 10}"
      ]
     },
     "execution_count": 50,
     "metadata": {},
     "output_type": "execute_result"
    }
   ],
   "source": [
    "s1={1, 2, 3, 4, 5, 6, 7, 8, 9, 10}\n",
    "j={x for x in s1 if x%2==0}\n",
    "j"
   ]
  },
  {
   "cell_type": "markdown",
   "id": "bcb2fa71-5030-42a4-85de-d3f6dcf89938",
   "metadata": {},
   "source": [
    "27. Multiply all elements in a set by 2."
   ]
  },
  {
   "cell_type": "code",
   "execution_count": 51,
   "id": "ee4224e6-cf09-4ef1-a290-515431d4e84b",
   "metadata": {},
   "outputs": [
    {
     "data": {
      "text/plain": [
       "{1, 4, 9, 16, 25, 36, 49, 64, 81, 100}"
      ]
     },
     "execution_count": 51,
     "metadata": {},
     "output_type": "execute_result"
    }
   ],
   "source": [
    "s1={1, 2, 3, 4, 5, 6, 7, 8, 9, 10}\n",
    "j={x**2 for x in s1}\n",
    "j"
   ]
  },
  {
   "cell_type": "markdown",
   "id": "c5bc06cd-2e10-45fe-8dde-2760b3664a6b",
   "metadata": {},
   "source": [
    "28. Create a set of random numbers."
   ]
  },
  {
   "cell_type": "code",
   "execution_count": 55,
   "id": "a759a8aa-4cdd-48d9-95e4-dff694c16aa7",
   "metadata": {},
   "outputs": [
    {
     "name": "stdout",
     "output_type": "stream",
     "text": [
      "{32, 66, 70, 7, 11, 47, 16, 89, 94}\n"
     ]
    }
   ],
   "source": [
    "import random\n",
    "j=set()\n",
    "for i in range(10):\n",
    "    l=random.randint(1,100)\n",
    "    j.add(l)\n",
    "print(j)\n"
   ]
  },
  {
   "cell_type": "markdown",
   "id": "7553c13c-8a63-4222-b576-4d707168217b",
   "metadata": {},
   "source": [
    "29. Check if a set is empty."
   ]
  },
  {
   "cell_type": "code",
   "execution_count": 57,
   "id": "4eb7c90d-1ac5-4646-97a7-6597e59907ad",
   "metadata": {},
   "outputs": [
    {
     "name": "stdout",
     "output_type": "stream",
     "text": [
      "not a empty set\n"
     ]
    }
   ],
   "source": [
    "s1={1, 2, 3, 4, 5, 6, 7, 8, 9, 10}\n",
    "if len(s1)==0:\n",
    "    print(\"empty set\")\n",
    "else:\n",
    "    print(\"not a empty set\")"
   ]
  },
  {
   "cell_type": "markdown",
   "id": "66e80acf-5d82-4e27-9fb5-7bc70ce3e04f",
   "metadata": {},
   "source": [
    "30. Create a nested set (hint: use frozenset)."
   ]
  },
  {
   "cell_type": "code",
   "execution_count": 62,
   "id": "446fdc71-2bbb-4eab-9672-81d8d77f2c34",
   "metadata": {},
   "outputs": [
    {
     "data": {
      "text/plain": [
       "{frozenset({'mohit', 'shubh'}), frozenset({'mama', 'sonu'})}"
      ]
     },
     "execution_count": 62,
     "metadata": {},
     "output_type": "execute_result"
    }
   ],
   "source": [
    "s=set([frozenset({\"shubh\",\"mohit\"}),frozenset({\"sonu\",\"mama\"})])\n",
    "s"
   ]
  },
  {
   "cell_type": "markdown",
   "id": "93a13bf7-f4f4-4b24-95dc-e6e60d7149ca",
   "metadata": {},
   "source": [
    "31. Remove an element from a set using the discard method.\n"
   ]
  },
  {
   "cell_type": "code",
   "execution_count": 64,
   "id": "51466421-2d82-4820-85ae-5cb96203fc81",
   "metadata": {},
   "outputs": [
    {
     "data": {
      "text/plain": [
       "{1, 2, 4, 5, 6, 7, 8, 9, 10}"
      ]
     },
     "execution_count": 64,
     "metadata": {},
     "output_type": "execute_result"
    }
   ],
   "source": [
    "s1={1, 2, 3, 4, 5, 6, 7, 8, 9, 10}\n",
    "s1.discard(3)\n",
    "s1"
   ]
  },
  {
   "cell_type": "markdown",
   "id": "503d86d0-9b8c-4ea6-b809-3b360b7e4d55",
   "metadata": {},
   "source": [
    "32. Compare two sets."
   ]
  },
  {
   "cell_type": "code",
   "execution_count": 65,
   "id": "92c466d6-00bc-4471-8842-bcde5b29a4ab",
   "metadata": {},
   "outputs": [
    {
     "data": {
      "text/plain": [
       "False"
      ]
     },
     "execution_count": 65,
     "metadata": {},
     "output_type": "execute_result"
    }
   ],
   "source": [
    "s3={1,2,3,4,5}\n",
    "s4={6,2,8,9}\n",
    "s3==s4"
   ]
  },
  {
   "cell_type": "markdown",
   "id": "3b05b53f-d7cd-402f-8d51-7383977f2287",
   "metadata": {},
   "source": [
    "33. Create a set from a string."
   ]
  },
  {
   "cell_type": "code",
   "execution_count": 70,
   "id": "383a2ba9-deb9-4b64-9047-24953517067c",
   "metadata": {},
   "outputs": [
    {
     "data": {
      "text/plain": [
       "{'a', 'b', 'h', 'i', 's', 'u'}"
      ]
     },
     "execution_count": 70,
     "metadata": {},
     "output_type": "execute_result"
    }
   ],
   "source": [
    "s=\"shubhashish\"\n",
    "set(s)"
   ]
  },
  {
   "cell_type": "markdown",
   "id": "50346722-1cf6-4c47-879b-f92a6829bdd8",
   "metadata": {},
   "source": [
    "34. Convert a set of strings to a set of integers."
   ]
  },
  {
   "cell_type": "code",
   "execution_count": 72,
   "id": "6617688c-a258-4661-a315-31c0e5bd4e1e",
   "metadata": {},
   "outputs": [
    {
     "name": "stdout",
     "output_type": "stream",
     "text": [
      "{1, 2, 3, 4, 5}\n"
     ]
    }
   ],
   "source": [
    "string_set = {\"1\", \"2\", \"3\", \"4\", \"5\"}\n",
    "string_int={int(s) for s in string_set}\n",
    "print(string_int)"
   ]
  },
  {
   "cell_type": "markdown",
   "id": "871ca650-a53a-494f-8f2c-42cbe9c5d766",
   "metadata": {},
   "source": [
    "35. Convert a set of integers to a set of strings.\n"
   ]
  },
  {
   "cell_type": "code",
   "execution_count": 74,
   "id": "857085e4-4d07-48e1-a60b-d36c8d41eaf4",
   "metadata": {},
   "outputs": [
    {
     "name": "stdout",
     "output_type": "stream",
     "text": [
      "{'1', '4', '2', '5', '3'}\n"
     ]
    }
   ],
   "source": [
    "set_int={1, 2, 3, 4, 5}\n",
    "set_str=(str(i) for i in set_int)\n",
    "print(set(set_str))"
   ]
  },
  {
   "cell_type": "markdown",
   "id": "8e3e62c6-2a89-499a-8242-fd3fdeeaa258",
   "metadata": {},
   "source": [
    "36. Create a set from a tuple."
   ]
  },
  {
   "cell_type": "code",
   "execution_count": 75,
   "id": "a208d777-0e62-42bb-b12d-acaf350c57db",
   "metadata": {},
   "outputs": [
    {
     "data": {
      "text/plain": [
       "{1, 2, 3, 4, 5}"
      ]
     },
     "execution_count": 75,
     "metadata": {},
     "output_type": "execute_result"
    }
   ],
   "source": [
    "t=(1,2,3,4,5)\n",
    "set(t)"
   ]
  },
  {
   "cell_type": "markdown",
   "id": "9f045e2f-fc54-4298-b7a2-713be6746960",
   "metadata": {},
   "source": [
    "37. Convert a set to a tuple."
   ]
  },
  {
   "cell_type": "code",
   "execution_count": 76,
   "id": "35a5381c-b0b2-4d7f-b60c-ba10d6364297",
   "metadata": {},
   "outputs": [
    {
     "data": {
      "text/plain": [
       "(1, 2, 3, 4, 5)"
      ]
     },
     "execution_count": 76,
     "metadata": {},
     "output_type": "execute_result"
    }
   ],
   "source": [
    "s1={1, 2, 3, 4, 5}\n",
    "tuple(s1)"
   ]
  },
  {
   "cell_type": "markdown",
   "id": "10731fcb-7e98-4350-97de-afb841cf0660",
   "metadata": {},
   "source": [
    "38. Find the maximum value in a set."
   ]
  },
  {
   "cell_type": "code",
   "execution_count": 77,
   "id": "470ce14f-e44f-4d2b-8b7c-6261024ad35c",
   "metadata": {},
   "outputs": [
    {
     "data": {
      "text/plain": [
       "5"
      ]
     },
     "execution_count": 77,
     "metadata": {},
     "output_type": "execute_result"
    }
   ],
   "source": [
    "s1={1, 2, 3, 4, 5}\n",
    "max(s1)"
   ]
  },
  {
   "cell_type": "markdown",
   "id": "30acbef4-f479-4b30-bed9-1b2ecc5314e0",
   "metadata": {},
   "source": [
    "39. Find the minimum value in a set."
   ]
  },
  {
   "cell_type": "code",
   "execution_count": 80,
   "id": "e48bf02f-0007-41a0-8b8f-6cc1ec7eba12",
   "metadata": {},
   "outputs": [
    {
     "data": {
      "text/plain": [
       "1"
      ]
     },
     "execution_count": 80,
     "metadata": {},
     "output_type": "execute_result"
    }
   ],
   "source": [
    "s1={1, 2, 3, 4, 5}\n",
    "min(s1)"
   ]
  },
  {
   "cell_type": "markdown",
   "id": "3971dada-6211-4a45-9d95-3a4bfe4a9fcb",
   "metadata": {},
   "source": [
    "40. Create a set from user input."
   ]
  },
  {
   "cell_type": "code",
   "execution_count": 83,
   "id": "b6180074-312e-4fd1-9b3f-1174380ade7d",
   "metadata": {},
   "outputs": [
    {
     "name": "stdin",
     "output_type": "stream",
     "text": [
      " shubhashish\n"
     ]
    },
    {
     "name": "stdout",
     "output_type": "stream",
     "text": [
      "{'shubhashish'}\n"
     ]
    }
   ],
   "source": [
    "input1=input()\n",
    "input_list=input1.split(\",\")\n",
    "set1=[]\n",
    "for i in input_list:\n",
    "    set1.append(i.strip())\n",
    "print(set(set1))\n",
    "    "
   ]
  },
  {
   "cell_type": "markdown",
   "id": "4bf171a8-d3d4-4c24-b91e-69de83ae2321",
   "metadata": {},
   "source": [
    "41. Check if the intersection of two sets is empty."
   ]
  },
  {
   "cell_type": "code",
   "execution_count": 85,
   "id": "e72533ab-8d67-474d-991b-755495946f8e",
   "metadata": {},
   "outputs": [
    {
     "name": "stdout",
     "output_type": "stream",
     "text": [
      "not empty\n"
     ]
    }
   ],
   "source": [
    "s3={1,2,3,4,5}\n",
    "s4={6,2,8,9}\n",
    "if s1.intersection(s2)==0:\n",
    "    print(\"empty\")\n",
    "else:\n",
    "    print(\"not empty\")"
   ]
  },
  {
   "cell_type": "markdown",
   "id": "5758b225-d4c1-438b-873a-040b9bfcd472",
   "metadata": {},
   "source": [
    "42. Create a set of the first 5 Fibonacci numbers."
   ]
  },
  {
   "cell_type": "code",
   "execution_count": 89,
   "id": "d57587b0-4d0a-4996-96ef-cb9347bc98e5",
   "metadata": {},
   "outputs": [
    {
     "name": "stdout",
     "output_type": "stream",
     "text": [
      "{0, 1, 2, 3, 5}\n"
     ]
    }
   ],
   "source": [
    "j=[]\n",
    "fib1=0\n",
    "fib2=1\n",
    "for i in range(5):\n",
    "    if i==0:\n",
    "        j.append(i)\n",
    "    fib1,fib2=fib2,fib1+fib2\n",
    "    j.append(fib1)\n",
    "print(set(j))"
   ]
  },
  {
   "cell_type": "markdown",
   "id": "41c63e58-8273-4065-89e4-499e74564da3",
   "metadata": {},
   "source": [
    "43. Remove duplicates from a list using sets."
   ]
  },
  {
   "cell_type": "code",
   "execution_count": 92,
   "id": "6479f26e-7040-4bd7-82a0-a87147200b22",
   "metadata": {},
   "outputs": [
    {
     "name": "stdout",
     "output_type": "stream",
     "text": [
      "[1, 2, 3, 4, 5, 7]\n"
     ]
    }
   ],
   "source": [
    "s3=[1,2,3,7,4,1,5,4,5]\n",
    "j=list(set(s3))\n",
    "print(j)"
   ]
  },
  {
   "cell_type": "markdown",
   "id": "6c861dad-810a-42a4-8e6b-0208b6068e7d",
   "metadata": {},
   "source": [
    "44. Check if two sets have the same elements, regardless of their count."
   ]
  },
  {
   "cell_type": "code",
   "execution_count": 93,
   "id": "50d96d09-0f84-41ad-bf16-a22deee96f36",
   "metadata": {},
   "outputs": [
    {
     "data": {
      "text/plain": [
       "False"
      ]
     },
     "execution_count": 93,
     "metadata": {},
     "output_type": "execute_result"
    }
   ],
   "source": [
    "s3={1,2,3,4,5}\n",
    "s4={6,2,8,9}\n",
    "s3==s4"
   ]
  },
  {
   "cell_type": "markdown",
   "id": "46dcbfd5-460a-472f-a8c7-143348b9fcdb",
   "metadata": {},
   "source": [
    "45. Create a set of the first `n` powers of 2."
   ]
  },
  {
   "cell_type": "code",
   "execution_count": 94,
   "id": "43339452-532a-4993-9dc0-6e35438f7bf3",
   "metadata": {},
   "outputs": [
    {
     "name": "stdin",
     "output_type": "stream",
     "text": [
      " 10\n"
     ]
    },
    {
     "data": {
      "text/plain": [
       "{0, 1, 4, 9, 16, 25, 36, 49, 64, 81}"
      ]
     },
     "execution_count": 94,
     "metadata": {},
     "output_type": "execute_result"
    }
   ],
   "source": [
    "\n",
    "n=int(input())\n",
    "k={x**2 for x in range(n)}\n",
    "k \n",
    "    "
   ]
  },
  {
   "cell_type": "markdown",
   "id": "df9632f9-74d5-4c7e-b205-4f4c0fab4433",
   "metadata": {},
   "source": [
    "46. Find the common elements between a set and a list."
   ]
  },
  {
   "cell_type": "code",
   "execution_count": 96,
   "id": "c5e9fb92-33b6-49db-ba5a-982b8fe3c52b",
   "metadata": {},
   "outputs": [
    {
     "name": "stdout",
     "output_type": "stream",
     "text": [
      "{1, 2, 5}\n"
     ]
    }
   ],
   "source": [
    "s1=[1,2,3,4,5,6]\n",
    "s2={2,5,8,9,1}\n",
    "c=s2.intersection(s1) \n",
    "print(c)\n",
    "    "
   ]
  },
  {
   "cell_type": "markdown",
   "id": "a8998390-cbb5-4f0d-8c0f-7ee6635e6ae7",
   "metadata": {},
   "source": [
    "47. Create a set of the first `n` triangular numbers."
   ]
  },
  {
   "cell_type": "code",
   "execution_count": 97,
   "id": "bb56ae26-7a52-44ce-b4e7-5337495571f4",
   "metadata": {},
   "outputs": [
    {
     "name": "stdin",
     "output_type": "stream",
     "text": [
      " 10\n"
     ]
    },
    {
     "data": {
      "text/plain": [
       "{1, 3, 6, 10, 15, 21, 28, 36, 45, 55}"
      ]
     },
     "execution_count": 97,
     "metadata": {},
     "output_type": "execute_result"
    }
   ],
   "source": [
    "n = int(input())\n",
    "t=0\n",
    "k=[]\n",
    "for i in range(1,n+1):\n",
    "    t=t+i\n",
    "    k.append(t)\n",
    "set(k)"
   ]
  },
  {
   "cell_type": "markdown",
   "id": "286a4ecf-6d3f-4b39-b0be-2fe9c7786d5f",
   "metadata": {},
   "source": [
    "48. Check if a set contains another set as a subset."
   ]
  },
  {
   "cell_type": "code",
   "execution_count": 103,
   "id": "76cccef4-2765-4810-abf3-86bd13986e4f",
   "metadata": {},
   "outputs": [
    {
     "name": "stdout",
     "output_type": "stream",
     "text": [
      "subset of set\n"
     ]
    }
   ],
   "source": [
    "s1={1,2,3,5,6,7}\n",
    "s2={3,7}\n",
    "\n",
    "if s2.issubset(s1):\n",
    "    print(\"subset of set\")\n",
    "else:\n",
    "    print(\"no subset present\")"
   ]
  },
  {
   "cell_type": "markdown",
   "id": "5d3290e9-3a25-4b37-bbd6-08c9bba6e434",
   "metadata": {},
   "source": [
    "49. Create a set of alternating 1s and 0s of length `n`."
   ]
  },
  {
   "cell_type": "code",
   "execution_count": 109,
   "id": "f5b85481-d5b9-47c3-8bb2-0f1571856d53",
   "metadata": {},
   "outputs": [
    {
     "name": "stdin",
     "output_type": "stream",
     "text": [
      " 10\n"
     ]
    },
    {
     "data": {
      "text/plain": [
       "{0, 1}"
      ]
     },
     "execution_count": 109,
     "metadata": {},
     "output_type": "execute_result"
    }
   ],
   "source": [
    "\n",
    "n=int(input())\n",
    "k=[]\n",
    "for i in range(1,n):\n",
    "    if i%2==0:\n",
    "        k.append(1)\n",
    "    else:\n",
    "        k.append(0)\n",
    "set(k)"
   ]
  },
  {
   "cell_type": "markdown",
   "id": "8c4c9bdc-e1d2-4dc4-a21f-335fbf02e3c2",
   "metadata": {},
   "source": [
    "50. Merge multiple sets into one."
   ]
  },
  {
   "cell_type": "code",
   "execution_count": 116,
   "id": "84e026eb-0ad1-431c-9220-4742b8c212ce",
   "metadata": {},
   "outputs": [
    {
     "name": "stdout",
     "output_type": "stream",
     "text": [
      "{1, 2, 3, 4, 5, 6, 7, 8}\n"
     ]
    }
   ],
   "source": [
    "s1={1,2,3,4}\n",
    "s2={2,5,6,7,8}\n",
    "k=s1 | s2\n",
    "print(k)"
   ]
  }
 ],
 "metadata": {
  "kernelspec": {
   "display_name": "Python 3 (ipykernel)",
   "language": "python",
   "name": "python3"
  },
  "language_info": {
   "codemirror_mode": {
    "name": "ipython",
    "version": 3
   },
   "file_extension": ".py",
   "mimetype": "text/x-python",
   "name": "python",
   "nbconvert_exporter": "python",
   "pygments_lexer": "ipython3",
   "version": "3.10.8"
  }
 },
 "nbformat": 4,
 "nbformat_minor": 5
}
