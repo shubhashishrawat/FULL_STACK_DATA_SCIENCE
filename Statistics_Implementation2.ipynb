{
 "cells": [
  {
   "cell_type": "code",
   "execution_count": 22,
   "id": "dea337f1",
   "metadata": {},
   "outputs": [
    {
     "data": {
      "text/plain": [
       "[1, 2, 3, 4, 5]"
      ]
     },
     "execution_count": 22,
     "metadata": {},
     "output_type": "execute_result"
    }
   ],
   "source": [
    "data=[1,2,3,4,5]\n",
    "data"
   ]
  },
  {
   "cell_type": "code",
   "execution_count": 23,
   "id": "f7d9c046",
   "metadata": {},
   "outputs": [],
   "source": [
    "import numpy as np\n",
    "import pandas as pd\n",
    "import seaborn as sns"
   ]
  },
  {
   "cell_type": "code",
   "execution_count": 24,
   "id": "3a1216f4",
   "metadata": {},
   "outputs": [],
   "source": [
    "#Measure of central tendency "
   ]
  },
  {
   "cell_type": "code",
   "execution_count": 25,
   "id": "728ef8a7",
   "metadata": {},
   "outputs": [
    {
     "data": {
      "text/plain": [
       "3.0"
      ]
     },
     "execution_count": 25,
     "metadata": {},
     "output_type": "execute_result"
    }
   ],
   "source": [
    "np.mean(data)"
   ]
  },
  {
   "cell_type": "code",
   "execution_count": 26,
   "id": "5c25b0da",
   "metadata": {},
   "outputs": [
    {
     "data": {
      "text/plain": [
       "3.0"
      ]
     },
     "execution_count": 26,
     "metadata": {},
     "output_type": "execute_result"
    }
   ],
   "source": [
    "np.median(data)"
   ]
  },
  {
   "cell_type": "code",
   "execution_count": 27,
   "id": "ec0a77af",
   "metadata": {},
   "outputs": [],
   "source": [
    "df=sns.load_dataset('tips')"
   ]
  },
  {
   "cell_type": "code",
   "execution_count": 28,
   "id": "e8a04cbf",
   "metadata": {},
   "outputs": [
    {
     "data": {
      "text/html": [
       "<div>\n",
       "<style scoped>\n",
       "    .dataframe tbody tr th:only-of-type {\n",
       "        vertical-align: middle;\n",
       "    }\n",
       "\n",
       "    .dataframe tbody tr th {\n",
       "        vertical-align: top;\n",
       "    }\n",
       "\n",
       "    .dataframe thead th {\n",
       "        text-align: right;\n",
       "    }\n",
       "</style>\n",
       "<table border=\"1\" class=\"dataframe\">\n",
       "  <thead>\n",
       "    <tr style=\"text-align: right;\">\n",
       "      <th></th>\n",
       "      <th>total_bill</th>\n",
       "      <th>tip</th>\n",
       "      <th>sex</th>\n",
       "      <th>smoker</th>\n",
       "      <th>day</th>\n",
       "      <th>time</th>\n",
       "      <th>size</th>\n",
       "    </tr>\n",
       "  </thead>\n",
       "  <tbody>\n",
       "    <tr>\n",
       "      <th>0</th>\n",
       "      <td>16.99</td>\n",
       "      <td>1.01</td>\n",
       "      <td>Female</td>\n",
       "      <td>No</td>\n",
       "      <td>Sun</td>\n",
       "      <td>Dinner</td>\n",
       "      <td>2</td>\n",
       "    </tr>\n",
       "    <tr>\n",
       "      <th>1</th>\n",
       "      <td>10.34</td>\n",
       "      <td>1.66</td>\n",
       "      <td>Male</td>\n",
       "      <td>No</td>\n",
       "      <td>Sun</td>\n",
       "      <td>Dinner</td>\n",
       "      <td>3</td>\n",
       "    </tr>\n",
       "    <tr>\n",
       "      <th>2</th>\n",
       "      <td>21.01</td>\n",
       "      <td>3.50</td>\n",
       "      <td>Male</td>\n",
       "      <td>No</td>\n",
       "      <td>Sun</td>\n",
       "      <td>Dinner</td>\n",
       "      <td>3</td>\n",
       "    </tr>\n",
       "    <tr>\n",
       "      <th>3</th>\n",
       "      <td>23.68</td>\n",
       "      <td>3.31</td>\n",
       "      <td>Male</td>\n",
       "      <td>No</td>\n",
       "      <td>Sun</td>\n",
       "      <td>Dinner</td>\n",
       "      <td>2</td>\n",
       "    </tr>\n",
       "    <tr>\n",
       "      <th>4</th>\n",
       "      <td>24.59</td>\n",
       "      <td>3.61</td>\n",
       "      <td>Female</td>\n",
       "      <td>No</td>\n",
       "      <td>Sun</td>\n",
       "      <td>Dinner</td>\n",
       "      <td>4</td>\n",
       "    </tr>\n",
       "    <tr>\n",
       "      <th>...</th>\n",
       "      <td>...</td>\n",
       "      <td>...</td>\n",
       "      <td>...</td>\n",
       "      <td>...</td>\n",
       "      <td>...</td>\n",
       "      <td>...</td>\n",
       "      <td>...</td>\n",
       "    </tr>\n",
       "    <tr>\n",
       "      <th>239</th>\n",
       "      <td>29.03</td>\n",
       "      <td>5.92</td>\n",
       "      <td>Male</td>\n",
       "      <td>No</td>\n",
       "      <td>Sat</td>\n",
       "      <td>Dinner</td>\n",
       "      <td>3</td>\n",
       "    </tr>\n",
       "    <tr>\n",
       "      <th>240</th>\n",
       "      <td>27.18</td>\n",
       "      <td>2.00</td>\n",
       "      <td>Female</td>\n",
       "      <td>Yes</td>\n",
       "      <td>Sat</td>\n",
       "      <td>Dinner</td>\n",
       "      <td>2</td>\n",
       "    </tr>\n",
       "    <tr>\n",
       "      <th>241</th>\n",
       "      <td>22.67</td>\n",
       "      <td>2.00</td>\n",
       "      <td>Male</td>\n",
       "      <td>Yes</td>\n",
       "      <td>Sat</td>\n",
       "      <td>Dinner</td>\n",
       "      <td>2</td>\n",
       "    </tr>\n",
       "    <tr>\n",
       "      <th>242</th>\n",
       "      <td>17.82</td>\n",
       "      <td>1.75</td>\n",
       "      <td>Male</td>\n",
       "      <td>No</td>\n",
       "      <td>Sat</td>\n",
       "      <td>Dinner</td>\n",
       "      <td>2</td>\n",
       "    </tr>\n",
       "    <tr>\n",
       "      <th>243</th>\n",
       "      <td>18.78</td>\n",
       "      <td>3.00</td>\n",
       "      <td>Female</td>\n",
       "      <td>No</td>\n",
       "      <td>Thur</td>\n",
       "      <td>Dinner</td>\n",
       "      <td>2</td>\n",
       "    </tr>\n",
       "  </tbody>\n",
       "</table>\n",
       "<p>244 rows × 7 columns</p>\n",
       "</div>"
      ],
      "text/plain": [
       "     total_bill   tip     sex smoker   day    time  size\n",
       "0         16.99  1.01  Female     No   Sun  Dinner     2\n",
       "1         10.34  1.66    Male     No   Sun  Dinner     3\n",
       "2         21.01  3.50    Male     No   Sun  Dinner     3\n",
       "3         23.68  3.31    Male     No   Sun  Dinner     2\n",
       "4         24.59  3.61  Female     No   Sun  Dinner     4\n",
       "..          ...   ...     ...    ...   ...     ...   ...\n",
       "239       29.03  5.92    Male     No   Sat  Dinner     3\n",
       "240       27.18  2.00  Female    Yes   Sat  Dinner     2\n",
       "241       22.67  2.00    Male    Yes   Sat  Dinner     2\n",
       "242       17.82  1.75    Male     No   Sat  Dinner     2\n",
       "243       18.78  3.00  Female     No  Thur  Dinner     2\n",
       "\n",
       "[244 rows x 7 columns]"
      ]
     },
     "execution_count": 28,
     "metadata": {},
     "output_type": "execute_result"
    }
   ],
   "source": [
    "df"
   ]
  },
  {
   "cell_type": "code",
   "execution_count": 29,
   "id": "6355bc13",
   "metadata": {},
   "outputs": [
    {
     "data": {
      "text/plain": [
       "19.785942622950824"
      ]
     },
     "execution_count": 29,
     "metadata": {},
     "output_type": "execute_result"
    }
   ],
   "source": [
    "np.mean(df['total_bill'])"
   ]
  },
  {
   "cell_type": "code",
   "execution_count": 30,
   "id": "23ac08d9",
   "metadata": {},
   "outputs": [
    {
     "data": {
      "text/html": [
       "<div>\n",
       "<style scoped>\n",
       "    .dataframe tbody tr th:only-of-type {\n",
       "        vertical-align: middle;\n",
       "    }\n",
       "\n",
       "    .dataframe tbody tr th {\n",
       "        vertical-align: top;\n",
       "    }\n",
       "\n",
       "    .dataframe thead th {\n",
       "        text-align: right;\n",
       "    }\n",
       "</style>\n",
       "<table border=\"1\" class=\"dataframe\">\n",
       "  <thead>\n",
       "    <tr style=\"text-align: right;\">\n",
       "      <th></th>\n",
       "      <th>total_bill</th>\n",
       "      <th>tip</th>\n",
       "      <th>size</th>\n",
       "    </tr>\n",
       "  </thead>\n",
       "  <tbody>\n",
       "    <tr>\n",
       "      <th>count</th>\n",
       "      <td>244.000000</td>\n",
       "      <td>244.000000</td>\n",
       "      <td>244.000000</td>\n",
       "    </tr>\n",
       "    <tr>\n",
       "      <th>mean</th>\n",
       "      <td>19.785943</td>\n",
       "      <td>2.998279</td>\n",
       "      <td>2.569672</td>\n",
       "    </tr>\n",
       "    <tr>\n",
       "      <th>std</th>\n",
       "      <td>8.902412</td>\n",
       "      <td>1.383638</td>\n",
       "      <td>0.951100</td>\n",
       "    </tr>\n",
       "    <tr>\n",
       "      <th>min</th>\n",
       "      <td>3.070000</td>\n",
       "      <td>1.000000</td>\n",
       "      <td>1.000000</td>\n",
       "    </tr>\n",
       "    <tr>\n",
       "      <th>25%</th>\n",
       "      <td>13.347500</td>\n",
       "      <td>2.000000</td>\n",
       "      <td>2.000000</td>\n",
       "    </tr>\n",
       "    <tr>\n",
       "      <th>50%</th>\n",
       "      <td>17.795000</td>\n",
       "      <td>2.900000</td>\n",
       "      <td>2.000000</td>\n",
       "    </tr>\n",
       "    <tr>\n",
       "      <th>75%</th>\n",
       "      <td>24.127500</td>\n",
       "      <td>3.562500</td>\n",
       "      <td>3.000000</td>\n",
       "    </tr>\n",
       "    <tr>\n",
       "      <th>max</th>\n",
       "      <td>50.810000</td>\n",
       "      <td>10.000000</td>\n",
       "      <td>6.000000</td>\n",
       "    </tr>\n",
       "  </tbody>\n",
       "</table>\n",
       "</div>"
      ],
      "text/plain": [
       "       total_bill         tip        size\n",
       "count  244.000000  244.000000  244.000000\n",
       "mean    19.785943    2.998279    2.569672\n",
       "std      8.902412    1.383638    0.951100\n",
       "min      3.070000    1.000000    1.000000\n",
       "25%     13.347500    2.000000    2.000000\n",
       "50%     17.795000    2.900000    2.000000\n",
       "75%     24.127500    3.562500    3.000000\n",
       "max     50.810000   10.000000    6.000000"
      ]
     },
     "execution_count": 30,
     "metadata": {},
     "output_type": "execute_result"
    }
   ],
   "source": [
    "df.describe()"
   ]
  },
  {
   "cell_type": "code",
   "execution_count": 31,
   "id": "a50c1e5f",
   "metadata": {},
   "outputs": [
    {
     "data": {
      "text/plain": [
       "3.0"
      ]
     },
     "execution_count": 31,
     "metadata": {},
     "output_type": "execute_result"
    }
   ],
   "source": [
    "np.median(data)"
   ]
  },
  {
   "cell_type": "code",
   "execution_count": 32,
   "id": "5b8f1269",
   "metadata": {},
   "outputs": [
    {
     "data": {
      "text/plain": [
       "[1, 2, 3, 4, 5]"
      ]
     },
     "execution_count": 32,
     "metadata": {},
     "output_type": "execute_result"
    }
   ],
   "source": [
    "data"
   ]
  },
  {
   "cell_type": "code",
   "execution_count": 33,
   "id": "f423df81",
   "metadata": {},
   "outputs": [],
   "source": [
    "data1=data[4]=500"
   ]
  },
  {
   "cell_type": "code",
   "execution_count": 34,
   "id": "2281050d",
   "metadata": {},
   "outputs": [
    {
     "data": {
      "text/plain": [
       "500"
      ]
     },
     "execution_count": 34,
     "metadata": {},
     "output_type": "execute_result"
    }
   ],
   "source": [
    "data1"
   ]
  },
  {
   "cell_type": "code",
   "execution_count": 35,
   "id": "4340c682",
   "metadata": {},
   "outputs": [
    {
     "data": {
      "text/plain": [
       "[1, 2, 3, 4, 500]"
      ]
     },
     "execution_count": 35,
     "metadata": {},
     "output_type": "execute_result"
    }
   ],
   "source": [
    "data"
   ]
  },
  {
   "cell_type": "code",
   "execution_count": 36,
   "id": "49a74275",
   "metadata": {},
   "outputs": [
    {
     "data": {
      "text/plain": [
       "102.0"
      ]
     },
     "execution_count": 36,
     "metadata": {},
     "output_type": "execute_result"
    }
   ],
   "source": [
    "np.mean(data)"
   ]
  },
  {
   "cell_type": "code",
   "execution_count": 37,
   "id": "2d9bcff3",
   "metadata": {},
   "outputs": [
    {
     "data": {
      "text/plain": [
       "3.0"
      ]
     },
     "execution_count": 37,
     "metadata": {},
     "output_type": "execute_result"
    }
   ],
   "source": [
    "np.median(data)"
   ]
  },
  {
   "cell_type": "code",
   "execution_count": 38,
   "id": "947096fd",
   "metadata": {},
   "outputs": [],
   "source": [
    "#mean is inflated with outliers"
   ]
  },
  {
   "cell_type": "code",
   "execution_count": 39,
   "id": "a44e4109",
   "metadata": {},
   "outputs": [
    {
     "data": {
      "text/plain": [
       "17.795"
      ]
     },
     "execution_count": 39,
     "metadata": {},
     "output_type": "execute_result"
    }
   ],
   "source": [
    "np.median(df['total_bill'])"
   ]
  },
  {
   "cell_type": "code",
   "execution_count": 40,
   "id": "e7be83a3",
   "metadata": {},
   "outputs": [],
   "source": [
    "data2=[1,2,3,3,3,4,500]"
   ]
  },
  {
   "cell_type": "code",
   "execution_count": 41,
   "id": "46d9007f",
   "metadata": {},
   "outputs": [
    {
     "data": {
      "text/plain": [
       "[1, 2, 3, 3, 3, 4, 500]"
      ]
     },
     "execution_count": 41,
     "metadata": {},
     "output_type": "execute_result"
    }
   ],
   "source": [
    "data2"
   ]
  },
  {
   "cell_type": "code",
   "execution_count": 42,
   "id": "b001b64f",
   "metadata": {},
   "outputs": [
    {
     "ename": "AttributeError",
     "evalue": "module 'numpy' has no attribute 'mode'",
     "output_type": "error",
     "traceback": [
      "\u001b[1;31m---------------------------------------------------------------------------\u001b[0m",
      "\u001b[1;31mAttributeError\u001b[0m                            Traceback (most recent call last)",
      "\u001b[1;32m~\\AppData\\Local\\Temp\\ipykernel_18056\\4176777671.py\u001b[0m in \u001b[0;36m<module>\u001b[1;34m\u001b[0m\n\u001b[1;32m----> 1\u001b[1;33m \u001b[0mnp\u001b[0m\u001b[1;33m.\u001b[0m\u001b[0mmode\u001b[0m\u001b[1;33m(\u001b[0m\u001b[0mdata2\u001b[0m\u001b[1;33m)\u001b[0m \u001b[1;31m#this will throw Error\u001b[0m\u001b[1;33m\u001b[0m\u001b[1;33m\u001b[0m\u001b[0m\n\u001b[0m",
      "\u001b[1;32m~\\anaconda3\\lib\\site-packages\\numpy\\__init__.py\u001b[0m in \u001b[0;36m__getattr__\u001b[1;34m(attr)\u001b[0m\n\u001b[0;32m    311\u001b[0m                 \u001b[1;32mreturn\u001b[0m \u001b[0mTester\u001b[0m\u001b[1;33m\u001b[0m\u001b[1;33m\u001b[0m\u001b[0m\n\u001b[0;32m    312\u001b[0m \u001b[1;33m\u001b[0m\u001b[0m\n\u001b[1;32m--> 313\u001b[1;33m             raise AttributeError(\"module {!r} has no attribute \"\n\u001b[0m\u001b[0;32m    314\u001b[0m                                  \"{!r}\".format(__name__, attr))\n\u001b[0;32m    315\u001b[0m \u001b[1;33m\u001b[0m\u001b[0m\n",
      "\u001b[1;31mAttributeError\u001b[0m: module 'numpy' has no attribute 'mode'"
     ]
    }
   ],
   "source": [
    "np.mode(data2) #this will throw Error"
   ]
  },
  {
   "cell_type": "code",
   "execution_count": 43,
   "id": "628a49c0",
   "metadata": {},
   "outputs": [
    {
     "data": {
      "text/plain": [
       "3"
      ]
     },
     "execution_count": 43,
     "metadata": {},
     "output_type": "execute_result"
    }
   ],
   "source": [
    "import statistics\n",
    "statistics.mode(data2)"
   ]
  },
  {
   "cell_type": "code",
   "execution_count": 44,
   "id": "baa5b905",
   "metadata": {},
   "outputs": [
    {
     "data": {
      "text/plain": [
       "[1, 2, 3, 3, 3, 4, 500]"
      ]
     },
     "execution_count": 44,
     "metadata": {},
     "output_type": "execute_result"
    }
   ],
   "source": [
    "data2"
   ]
  },
  {
   "cell_type": "code",
   "execution_count": 45,
   "id": "57e09ca3",
   "metadata": {},
   "outputs": [
    {
     "data": {
      "text/plain": [
       "array([2.5])"
      ]
     },
     "execution_count": 45,
     "metadata": {},
     "output_type": "execute_result"
    }
   ],
   "source": [
    "np.percentile(data2,[25]) #25 percentage of the data is below 2.75"
   ]
  },
  {
   "cell_type": "code",
   "execution_count": 46,
   "id": "e847a1df",
   "metadata": {},
   "outputs": [
    {
     "data": {
      "text/plain": [
       "array([  2.5 ,   3.  ,   3.5 , 500.  , 470.24, 440.48])"
      ]
     },
     "execution_count": 46,
     "metadata": {},
     "output_type": "execute_result"
    }
   ],
   "source": [
    "np.percentile(data2,[25,50,75,100,99,98])"
   ]
  },
  {
   "cell_type": "code",
   "execution_count": 47,
   "id": "f5d2858c",
   "metadata": {},
   "outputs": [
    {
     "data": {
      "text/plain": [
       "[1, 2, 3, 3, 3, 4, 500]"
      ]
     },
     "execution_count": 47,
     "metadata": {},
     "output_type": "execute_result"
    }
   ],
   "source": [
    "data2"
   ]
  },
  {
   "cell_type": "code",
   "execution_count": 48,
   "id": "b83ce310",
   "metadata": {},
   "outputs": [],
   "source": [
    "data2.append(-500)"
   ]
  },
  {
   "cell_type": "code",
   "execution_count": 49,
   "id": "f65c583c",
   "metadata": {},
   "outputs": [
    {
     "data": {
      "text/plain": [
       "[1, 2, 3, 3, 3, 4, 500, -500]"
      ]
     },
     "execution_count": 49,
     "metadata": {},
     "output_type": "execute_result"
    }
   ],
   "source": [
    "data2"
   ]
  },
  {
   "cell_type": "code",
   "execution_count": 50,
   "id": "af238ca6",
   "metadata": {},
   "outputs": [],
   "source": [
    "#Outliers"
   ]
  },
  {
   "cell_type": "code",
   "execution_count": 51,
   "id": "76498d84",
   "metadata": {},
   "outputs": [
    {
     "name": "stderr",
     "output_type": "stream",
     "text": [
      "C:\\Users\\shubh\\anaconda3\\lib\\site-packages\\seaborn\\_decorators.py:36: FutureWarning: Pass the following variable as a keyword arg: x. From version 0.12, the only valid positional argument will be `data`, and passing other arguments without an explicit keyword will result in an error or misinterpretation.\n",
      "  warnings.warn(\n"
     ]
    },
    {
     "data": {
      "text/plain": [
       "<AxesSubplot:>"
      ]
     },
     "execution_count": 51,
     "metadata": {},
     "output_type": "execute_result"
    },
    {
     "data": {
      "image/png": "[encoded data removed]",
      "text/plain": [
       "<Figure size 640x480 with 1 Axes>"
      ]
     },
     "metadata": {},
     "output_type": "display_data"
    }
   ],
   "source": [
    "sns.boxplot(data2)"
   ]
  },
  {
   "cell_type": "code",
   "execution_count": 52,
   "id": "f15bb05c",
   "metadata": {},
   "outputs": [],
   "source": [
    "#Measures of Dispersion"
   ]
  },
  {
   "cell_type": "code",
   "execution_count": 53,
   "id": "285633d2",
   "metadata": {},
   "outputs": [
    {
     "data": {
      "text/plain": [
       "[1, 2, 3, 3, 3, 4, 500, -500]"
      ]
     },
     "execution_count": 53,
     "metadata": {},
     "output_type": "execute_result"
    }
   ],
   "source": [
    "data2"
   ]
  },
  {
   "cell_type": "code",
   "execution_count": 54,
   "id": "474e7bab",
   "metadata": {},
   "outputs": [
    {
     "data": {
      "text/plain": [
       "62502.0"
      ]
     },
     "execution_count": 54,
     "metadata": {},
     "output_type": "execute_result"
    }
   ],
   "source": [
    "np.var(data2)"
   ]
  },
  {
   "cell_type": "code",
   "execution_count": 55,
   "id": "dcdcc7ff",
   "metadata": {},
   "outputs": [
    {
     "data": {
      "text/plain": [
       "250.0039999680005"
      ]
     },
     "execution_count": 55,
     "metadata": {},
     "output_type": "execute_result"
    }
   ],
   "source": [
    "np.std(data2)"
   ]
  },
  {
   "cell_type": "code",
   "execution_count": 56,
   "id": "65193945",
   "metadata": {},
   "outputs": [
    {
     "data": {
      "text/plain": [
       "71430.85714285714"
      ]
     },
     "execution_count": 56,
     "metadata": {},
     "output_type": "execute_result"
    }
   ],
   "source": [
    "statistics.variance(data2) #Sample variance (n-1)"
   ]
  },
  {
   "cell_type": "code",
   "execution_count": 57,
   "id": "6f69f727",
   "metadata": {},
   "outputs": [
    {
     "data": {
      "text/plain": [
       "62502"
      ]
     },
     "execution_count": 57,
     "metadata": {},
     "output_type": "execute_result"
    }
   ],
   "source": [
    "statistics.pvariance(data2)"
   ]
  },
  {
   "cell_type": "code",
   "execution_count": 58,
   "id": "a292b65c",
   "metadata": {},
   "outputs": [],
   "source": [
    "import math"
   ]
  },
  {
   "cell_type": "code",
   "execution_count": 59,
   "id": "d185cb4a",
   "metadata": {},
   "outputs": [
    {
     "data": {
      "text/plain": [
       "267.2655180580861"
      ]
     },
     "execution_count": 59,
     "metadata": {},
     "output_type": "execute_result"
    }
   ],
   "source": [
    "math.sqrt(statistics.variance(data2))"
   ]
  },
  {
   "cell_type": "code",
   "execution_count": 60,
   "id": "d5d0c0ad",
   "metadata": {},
   "outputs": [
    {
     "data": {
      "text/plain": [
       "[1, 2, 3, 3, 3, 4, 500, -500]"
      ]
     },
     "execution_count": 60,
     "metadata": {},
     "output_type": "execute_result"
    }
   ],
   "source": [
    "data2"
   ]
  },
  {
   "cell_type": "code",
   "execution_count": 61,
   "id": "3ddd654c",
   "metadata": {},
   "outputs": [
    {
     "data": {
      "text/plain": [
       "8"
      ]
     },
     "execution_count": 61,
     "metadata": {},
     "output_type": "execute_result"
    }
   ],
   "source": [
    "len(data2)"
   ]
  },
  {
   "cell_type": "code",
   "execution_count": 62,
   "id": "61fdfec7",
   "metadata": {},
   "outputs": [
    {
     "data": {
      "text/html": [
       "<div>\n",
       "<style scoped>\n",
       "    .dataframe tbody tr th:only-of-type {\n",
       "        vertical-align: middle;\n",
       "    }\n",
       "\n",
       "    .dataframe tbody tr th {\n",
       "        vertical-align: top;\n",
       "    }\n",
       "\n",
       "    .dataframe thead th {\n",
       "        text-align: right;\n",
       "    }\n",
       "</style>\n",
       "<table border=\"1\" class=\"dataframe\">\n",
       "  <thead>\n",
       "    <tr style=\"text-align: right;\">\n",
       "      <th></th>\n",
       "      <th>total_bill</th>\n",
       "      <th>tip</th>\n",
       "      <th>sex</th>\n",
       "      <th>smoker</th>\n",
       "      <th>day</th>\n",
       "      <th>time</th>\n",
       "      <th>size</th>\n",
       "    </tr>\n",
       "  </thead>\n",
       "  <tbody>\n",
       "    <tr>\n",
       "      <th>0</th>\n",
       "      <td>16.99</td>\n",
       "      <td>1.01</td>\n",
       "      <td>Female</td>\n",
       "      <td>No</td>\n",
       "      <td>Sun</td>\n",
       "      <td>Dinner</td>\n",
       "      <td>2</td>\n",
       "    </tr>\n",
       "    <tr>\n",
       "      <th>1</th>\n",
       "      <td>10.34</td>\n",
       "      <td>1.66</td>\n",
       "      <td>Male</td>\n",
       "      <td>No</td>\n",
       "      <td>Sun</td>\n",
       "      <td>Dinner</td>\n",
       "      <td>3</td>\n",
       "    </tr>\n",
       "    <tr>\n",
       "      <th>2</th>\n",
       "      <td>21.01</td>\n",
       "      <td>3.50</td>\n",
       "      <td>Male</td>\n",
       "      <td>No</td>\n",
       "      <td>Sun</td>\n",
       "      <td>Dinner</td>\n",
       "      <td>3</td>\n",
       "    </tr>\n",
       "    <tr>\n",
       "      <th>3</th>\n",
       "      <td>23.68</td>\n",
       "      <td>3.31</td>\n",
       "      <td>Male</td>\n",
       "      <td>No</td>\n",
       "      <td>Sun</td>\n",
       "      <td>Dinner</td>\n",
       "      <td>2</td>\n",
       "    </tr>\n",
       "    <tr>\n",
       "      <th>4</th>\n",
       "      <td>24.59</td>\n",
       "      <td>3.61</td>\n",
       "      <td>Female</td>\n",
       "      <td>No</td>\n",
       "      <td>Sun</td>\n",
       "      <td>Dinner</td>\n",
       "      <td>4</td>\n",
       "    </tr>\n",
       "    <tr>\n",
       "      <th>...</th>\n",
       "      <td>...</td>\n",
       "      <td>...</td>\n",
       "      <td>...</td>\n",
       "      <td>...</td>\n",
       "      <td>...</td>\n",
       "      <td>...</td>\n",
       "      <td>...</td>\n",
       "    </tr>\n",
       "    <tr>\n",
       "      <th>239</th>\n",
       "      <td>29.03</td>\n",
       "      <td>5.92</td>\n",
       "      <td>Male</td>\n",
       "      <td>No</td>\n",
       "      <td>Sat</td>\n",
       "      <td>Dinner</td>\n",
       "      <td>3</td>\n",
       "    </tr>\n",
       "    <tr>\n",
       "      <th>240</th>\n",
       "      <td>27.18</td>\n",
       "      <td>2.00</td>\n",
       "      <td>Female</td>\n",
       "      <td>Yes</td>\n",
       "      <td>Sat</td>\n",
       "      <td>Dinner</td>\n",
       "      <td>2</td>\n",
       "    </tr>\n",
       "    <tr>\n",
       "      <th>241</th>\n",
       "      <td>22.67</td>\n",
       "      <td>2.00</td>\n",
       "      <td>Male</td>\n",
       "      <td>Yes</td>\n",
       "      <td>Sat</td>\n",
       "      <td>Dinner</td>\n",
       "      <td>2</td>\n",
       "    </tr>\n",
       "    <tr>\n",
       "      <th>242</th>\n",
       "      <td>17.82</td>\n",
       "      <td>1.75</td>\n",
       "      <td>Male</td>\n",
       "      <td>No</td>\n",
       "      <td>Sat</td>\n",
       "      <td>Dinner</td>\n",
       "      <td>2</td>\n",
       "    </tr>\n",
       "    <tr>\n",
       "      <th>243</th>\n",
       "      <td>18.78</td>\n",
       "      <td>3.00</td>\n",
       "      <td>Female</td>\n",
       "      <td>No</td>\n",
       "      <td>Thur</td>\n",
       "      <td>Dinner</td>\n",
       "      <td>2</td>\n",
       "    </tr>\n",
       "  </tbody>\n",
       "</table>\n",
       "<p>244 rows × 7 columns</p>\n",
       "</div>"
      ],
      "text/plain": [
       "     total_bill   tip     sex smoker   day    time  size\n",
       "0         16.99  1.01  Female     No   Sun  Dinner     2\n",
       "1         10.34  1.66    Male     No   Sun  Dinner     3\n",
       "2         21.01  3.50    Male     No   Sun  Dinner     3\n",
       "3         23.68  3.31    Male     No   Sun  Dinner     2\n",
       "4         24.59  3.61  Female     No   Sun  Dinner     4\n",
       "..          ...   ...     ...    ...   ...     ...   ...\n",
       "239       29.03  5.92    Male     No   Sat  Dinner     3\n",
       "240       27.18  2.00  Female    Yes   Sat  Dinner     2\n",
       "241       22.67  2.00    Male    Yes   Sat  Dinner     2\n",
       "242       17.82  1.75    Male     No   Sat  Dinner     2\n",
       "243       18.78  3.00  Female     No  Thur  Dinner     2\n",
       "\n",
       "[244 rows x 7 columns]"
      ]
     },
     "execution_count": 62,
     "metadata": {},
     "output_type": "execute_result"
    }
   ],
   "source": [
    "df"
   ]
  },
  {
   "cell_type": "code",
   "execution_count": 63,
   "id": "408dd512",
   "metadata": {},
   "outputs": [],
   "source": [
    "#how to know the relationship between two features"
   ]
  },
  {
   "cell_type": "code",
   "execution_count": 64,
   "id": "5c938ae9",
   "metadata": {},
   "outputs": [],
   "source": [
    "#correlation and Covariance\n"
   ]
  },
  {
   "cell_type": "code",
   "execution_count": 65,
   "id": "bb3d16a1",
   "metadata": {},
   "outputs": [
    {
     "data": {
      "text/html": [
       "<div>\n",
       "<style scoped>\n",
       "    .dataframe tbody tr th:only-of-type {\n",
       "        vertical-align: middle;\n",
       "    }\n",
       "\n",
       "    .dataframe tbody tr th {\n",
       "        vertical-align: top;\n",
       "    }\n",
       "\n",
       "    .dataframe thead th {\n",
       "        text-align: right;\n",
       "    }\n",
       "</style>\n",
       "<table border=\"1\" class=\"dataframe\">\n",
       "  <thead>\n",
       "    <tr style=\"text-align: right;\">\n",
       "      <th></th>\n",
       "      <th>total_bill</th>\n",
       "      <th>tip</th>\n",
       "      <th>sex</th>\n",
       "      <th>smoker</th>\n",
       "      <th>day</th>\n",
       "      <th>time</th>\n",
       "      <th>size</th>\n",
       "    </tr>\n",
       "  </thead>\n",
       "  <tbody>\n",
       "    <tr>\n",
       "      <th>0</th>\n",
       "      <td>16.99</td>\n",
       "      <td>1.01</td>\n",
       "      <td>Female</td>\n",
       "      <td>No</td>\n",
       "      <td>Sun</td>\n",
       "      <td>Dinner</td>\n",
       "      <td>2</td>\n",
       "    </tr>\n",
       "    <tr>\n",
       "      <th>1</th>\n",
       "      <td>10.34</td>\n",
       "      <td>1.66</td>\n",
       "      <td>Male</td>\n",
       "      <td>No</td>\n",
       "      <td>Sun</td>\n",
       "      <td>Dinner</td>\n",
       "      <td>3</td>\n",
       "    </tr>\n",
       "    <tr>\n",
       "      <th>2</th>\n",
       "      <td>21.01</td>\n",
       "      <td>3.50</td>\n",
       "      <td>Male</td>\n",
       "      <td>No</td>\n",
       "      <td>Sun</td>\n",
       "      <td>Dinner</td>\n",
       "      <td>3</td>\n",
       "    </tr>\n",
       "    <tr>\n",
       "      <th>3</th>\n",
       "      <td>23.68</td>\n",
       "      <td>3.31</td>\n",
       "      <td>Male</td>\n",
       "      <td>No</td>\n",
       "      <td>Sun</td>\n",
       "      <td>Dinner</td>\n",
       "      <td>2</td>\n",
       "    </tr>\n",
       "    <tr>\n",
       "      <th>4</th>\n",
       "      <td>24.59</td>\n",
       "      <td>3.61</td>\n",
       "      <td>Female</td>\n",
       "      <td>No</td>\n",
       "      <td>Sun</td>\n",
       "      <td>Dinner</td>\n",
       "      <td>4</td>\n",
       "    </tr>\n",
       "    <tr>\n",
       "      <th>...</th>\n",
       "      <td>...</td>\n",
       "      <td>...</td>\n",
       "      <td>...</td>\n",
       "      <td>...</td>\n",
       "      <td>...</td>\n",
       "      <td>...</td>\n",
       "      <td>...</td>\n",
       "    </tr>\n",
       "    <tr>\n",
       "      <th>239</th>\n",
       "      <td>29.03</td>\n",
       "      <td>5.92</td>\n",
       "      <td>Male</td>\n",
       "      <td>No</td>\n",
       "      <td>Sat</td>\n",
       "      <td>Dinner</td>\n",
       "      <td>3</td>\n",
       "    </tr>\n",
       "    <tr>\n",
       "      <th>240</th>\n",
       "      <td>27.18</td>\n",
       "      <td>2.00</td>\n",
       "      <td>Female</td>\n",
       "      <td>Yes</td>\n",
       "      <td>Sat</td>\n",
       "      <td>Dinner</td>\n",
       "      <td>2</td>\n",
       "    </tr>\n",
       "    <tr>\n",
       "      <th>241</th>\n",
       "      <td>22.67</td>\n",
       "      <td>2.00</td>\n",
       "      <td>Male</td>\n",
       "      <td>Yes</td>\n",
       "      <td>Sat</td>\n",
       "      <td>Dinner</td>\n",
       "      <td>2</td>\n",
       "    </tr>\n",
       "    <tr>\n",
       "      <th>242</th>\n",
       "      <td>17.82</td>\n",
       "      <td>1.75</td>\n",
       "      <td>Male</td>\n",
       "      <td>No</td>\n",
       "      <td>Sat</td>\n",
       "      <td>Dinner</td>\n",
       "      <td>2</td>\n",
       "    </tr>\n",
       "    <tr>\n",
       "      <th>243</th>\n",
       "      <td>18.78</td>\n",
       "      <td>3.00</td>\n",
       "      <td>Female</td>\n",
       "      <td>No</td>\n",
       "      <td>Thur</td>\n",
       "      <td>Dinner</td>\n",
       "      <td>2</td>\n",
       "    </tr>\n",
       "  </tbody>\n",
       "</table>\n",
       "<p>244 rows × 7 columns</p>\n",
       "</div>"
      ],
      "text/plain": [
       "     total_bill   tip     sex smoker   day    time  size\n",
       "0         16.99  1.01  Female     No   Sun  Dinner     2\n",
       "1         10.34  1.66    Male     No   Sun  Dinner     3\n",
       "2         21.01  3.50    Male     No   Sun  Dinner     3\n",
       "3         23.68  3.31    Male     No   Sun  Dinner     2\n",
       "4         24.59  3.61  Female     No   Sun  Dinner     4\n",
       "..          ...   ...     ...    ...   ...     ...   ...\n",
       "239       29.03  5.92    Male     No   Sat  Dinner     3\n",
       "240       27.18  2.00  Female    Yes   Sat  Dinner     2\n",
       "241       22.67  2.00    Male    Yes   Sat  Dinner     2\n",
       "242       17.82  1.75    Male     No   Sat  Dinner     2\n",
       "243       18.78  3.00  Female     No  Thur  Dinner     2\n",
       "\n",
       "[244 rows x 7 columns]"
      ]
     },
     "execution_count": 65,
     "metadata": {},
     "output_type": "execute_result"
    }
   ],
   "source": [
    "df"
   ]
  },
  {
   "cell_type": "code",
   "execution_count": 66,
   "id": "cc529f6a",
   "metadata": {},
   "outputs": [],
   "source": [
    "corr=df.corr()"
   ]
  },
  {
   "cell_type": "code",
   "execution_count": 67,
   "id": "9dfb3629",
   "metadata": {},
   "outputs": [
    {
     "data": {
      "text/html": [
       "<div>\n",
       "<style scoped>\n",
       "    .dataframe tbody tr th:only-of-type {\n",
       "        vertical-align: middle;\n",
       "    }\n",
       "\n",
       "    .dataframe tbody tr th {\n",
       "        vertical-align: top;\n",
       "    }\n",
       "\n",
       "    .dataframe thead th {\n",
       "        text-align: right;\n",
       "    }\n",
       "</style>\n",
       "<table border=\"1\" class=\"dataframe\">\n",
       "  <thead>\n",
       "    <tr style=\"text-align: right;\">\n",
       "      <th></th>\n",
       "      <th>total_bill</th>\n",
       "      <th>tip</th>\n",
       "      <th>size</th>\n",
       "    </tr>\n",
       "  </thead>\n",
       "  <tbody>\n",
       "    <tr>\n",
       "      <th>total_bill</th>\n",
       "      <td>1.000000</td>\n",
       "      <td>0.675734</td>\n",
       "      <td>0.598315</td>\n",
       "    </tr>\n",
       "    <tr>\n",
       "      <th>tip</th>\n",
       "      <td>0.675734</td>\n",
       "      <td>1.000000</td>\n",
       "      <td>0.489299</td>\n",
       "    </tr>\n",
       "    <tr>\n",
       "      <th>size</th>\n",
       "      <td>0.598315</td>\n",
       "      <td>0.489299</td>\n",
       "      <td>1.000000</td>\n",
       "    </tr>\n",
       "  </tbody>\n",
       "</table>\n",
       "</div>"
      ],
      "text/plain": [
       "            total_bill       tip      size\n",
       "total_bill    1.000000  0.675734  0.598315\n",
       "tip           0.675734  1.000000  0.489299\n",
       "size          0.598315  0.489299  1.000000"
      ]
     },
     "execution_count": 67,
     "metadata": {},
     "output_type": "execute_result"
    }
   ],
   "source": [
    "corr"
   ]
  },
  {
   "cell_type": "code",
   "execution_count": 68,
   "id": "4071e1b9",
   "metadata": {},
   "outputs": [
    {
     "data": {
      "text/plain": [
       "<AxesSubplot:>"
      ]
     },
     "execution_count": 68,
     "metadata": {},
     "output_type": "execute_result"
    },
    {
     "data": {
      "image/png": "[encoded data removed]",
      "text/plain": [
       "<Figure size 640x480 with 2 Axes>"
      ]
     },
     "metadata": {},
     "output_type": "display_data"
    }
   ],
   "source": [
    "sns.heatmap(corr,annot=True)"
   ]
  },
  {
   "cell_type": "code",
   "execution_count": 69,
   "id": "d162c3e6",
   "metadata": {},
   "outputs": [
    {
     "data": {
      "text/html": [
       "<div>\n",
       "<style scoped>\n",
       "    .dataframe tbody tr th:only-of-type {\n",
       "        vertical-align: middle;\n",
       "    }\n",
       "\n",
       "    .dataframe tbody tr th {\n",
       "        vertical-align: top;\n",
       "    }\n",
       "\n",
       "    .dataframe thead th {\n",
       "        text-align: right;\n",
       "    }\n",
       "</style>\n",
       "<table border=\"1\" class=\"dataframe\">\n",
       "  <thead>\n",
       "    <tr style=\"text-align: right;\">\n",
       "      <th></th>\n",
       "      <th>total_bill</th>\n",
       "      <th>tip</th>\n",
       "      <th>size</th>\n",
       "    </tr>\n",
       "  </thead>\n",
       "  <tbody>\n",
       "    <tr>\n",
       "      <th>total_bill</th>\n",
       "      <td>79.252939</td>\n",
       "      <td>8.323502</td>\n",
       "      <td>5.065983</td>\n",
       "    </tr>\n",
       "    <tr>\n",
       "      <th>tip</th>\n",
       "      <td>8.323502</td>\n",
       "      <td>1.914455</td>\n",
       "      <td>0.643906</td>\n",
       "    </tr>\n",
       "    <tr>\n",
       "      <th>size</th>\n",
       "      <td>5.065983</td>\n",
       "      <td>0.643906</td>\n",
       "      <td>0.904591</td>\n",
       "    </tr>\n",
       "  </tbody>\n",
       "</table>\n",
       "</div>"
      ],
      "text/plain": [
       "            total_bill       tip      size\n",
       "total_bill   79.252939  8.323502  5.065983\n",
       "tip           8.323502  1.914455  0.643906\n",
       "size          5.065983  0.643906  0.904591"
      ]
     },
     "execution_count": 69,
     "metadata": {},
     "output_type": "execute_result"
    }
   ],
   "source": [
    "df.cov()"
   ]
  },
  {
   "cell_type": "code",
   "execution_count": 70,
   "id": "901c4921",
   "metadata": {},
   "outputs": [
    {
     "data": {
      "text/plain": [
       "<seaborn.axisgrid.PairGrid at 0x1cb9f4f3670>"
      ]
     },
     "execution_count": 70,
     "metadata": {},
     "output_type": "execute_result"
    },
    {
     "data": {
      "image/png": "[encoded data removed]",
      "text/plain": [
       "<Figure size 750x750 with 12 Axes>"
      ]
     },
     "metadata": {},
     "output_type": "display_data"
    }
   ],
   "source": [
    "sns.pairplot(df)"
   ]
  },
  {
   "cell_type": "code",
   "execution_count": 71,
   "id": "46d676bd",
   "metadata": {},
   "outputs": [
    {
     "data": {
      "text/plain": [
       "<AxesSubplot:ylabel='Count'>"
      ]
     },
     "execution_count": 71,
     "metadata": {},
     "output_type": "execute_result"
    },
    {
     "data": {
      "image/png": "[encoded data removed]",
      "text/plain": [
       "<Figure size 640x480 with 1 Axes>"
      ]
     },
     "metadata": {},
     "output_type": "display_data"
    }
   ],
   "source": [
    "sns.histplot(df)"
   ]
  },
  {
   "cell_type": "code",
   "execution_count": 72,
   "id": "aae541f2",
   "metadata": {},
   "outputs": [
    {
     "data": {
      "text/plain": [
       "<AxesSubplot:ylabel='Count'>"
      ]
     },
     "execution_count": 72,
     "metadata": {},
     "output_type": "execute_result"
    },
    {
     "data": {
      "image/png": "[encoded data removed]",
      "text/plain": [
       "<Figure size 640x480 with 1 Axes>"
      ]
     },
     "metadata": {},
     "output_type": "display_data"
    }
   ],
   "source": [
    "sns.histplot(df,kde=True)"
   ]
  },
  {
   "cell_type": "code",
   "execution_count": 73,
   "id": "a30e8668",
   "metadata": {},
   "outputs": [
    {
     "data": {
      "text/plain": [
       "<AxesSubplot:ylabel='Count'>"
      ]
     },
     "execution_count": 73,
     "metadata": {},
     "output_type": "execute_result"
    },
    {
     "data": {
      "image/png": "[encoded data removed]",
      "text/plain": [
       "<Figure size 640x480 with 1 Axes>"
      ]
     },
     "metadata": {},
     "output_type": "display_data"
    }
   ],
   "source": [
    "sns.histplot(data2,kde=True)"
   ]
  },
  {
   "cell_type": "code",
   "execution_count": 74,
   "id": "a4623fb8",
   "metadata": {},
   "outputs": [
    {
     "data": {
      "text/plain": [
       "0      16.99\n",
       "1      10.34\n",
       "2      21.01\n",
       "3      23.68\n",
       "4      24.59\n",
       "       ...  \n",
       "239    29.03\n",
       "240    27.18\n",
       "241    22.67\n",
       "242    17.82\n",
       "243    18.78\n",
       "Name: total_bill, Length: 244, dtype: float64"
      ]
     },
     "execution_count": 74,
     "metadata": {},
     "output_type": "execute_result"
    }
   ],
   "source": [
    "df['total_bill']"
   ]
  },
  {
   "cell_type": "code",
   "execution_count": 75,
   "id": "0c298793",
   "metadata": {},
   "outputs": [
    {
     "data": {
      "text/plain": [
       "<AxesSubplot:xlabel='total_bill', ylabel='Count'>"
      ]
     },
     "execution_count": 75,
     "metadata": {},
     "output_type": "execute_result"
    },
    {
     "data": {
      "image/png": "[encoded data removed]",
      "text/plain": [
       "<Figure size 640x480 with 1 Axes>"
      ]
     },
     "metadata": {},
     "output_type": "display_data"
    }
   ],
   "source": [
    "sns.histplot(df['total_bill'])"
   ]
  },
  {
   "cell_type": "code",
   "execution_count": 76,
   "id": "32cc2208",
   "metadata": {},
   "outputs": [
    {
     "data": {
      "text/plain": [
       "<AxesSubplot:xlabel='total_bill', ylabel='Count'>"
      ]
     },
     "execution_count": 76,
     "metadata": {},
     "output_type": "execute_result"
    },
    {
     "data": {
      "image/png": "[encoded data removed]",
      "text/plain": [
       "<Figure size 640x480 with 1 Axes>"
      ]
     },
     "metadata": {},
     "output_type": "display_data"
    }
   ],
   "source": [
    "sns.histplot(df['total_bill'],kde=True)"
   ]
  },
  {
   "cell_type": "code",
   "execution_count": 77,
   "id": "fb2416b5",
   "metadata": {},
   "outputs": [],
   "source": [
    "d1=np.random.normal(0.5,0.2,1000)"
   ]
  },
  {
   "cell_type": "code",
   "execution_count": 78,
   "id": "77bbf762",
   "metadata": {},
   "outputs": [
    {
     "data": {
      "text/plain": [
       "array([ 0.69410767,  0.78942322,  0.48329369,  0.58206436,  0.45881499,\n",
       "        0.77699437,  0.06549998,  0.41437149,  0.68040459,  0.19528343,\n",
       "        0.67663894,  0.38162852,  0.78634849,  0.23070022,  0.56086621,\n",
       "        0.74937766,  0.48230147,  0.67768997,  0.55599916,  0.70483251,\n",
       "        0.40582771,  0.17956857,  0.54435867,  0.28607919,  0.26301437,\n",
       "        0.20606709,  0.76836881,  0.48636412,  0.55777506,  0.36832039,\n",
       "        0.53014522,  0.41646814,  0.66918918,  0.74325004,  0.4039584 ,\n",
       "        0.74601201,  0.45934821,  0.81487772,  0.78517466,  0.58025794,\n",
       "        0.55729786,  0.47187291,  0.14596913,  0.58313611,  0.74032783,\n",
       "        0.42281484,  0.240992  , -0.0175172 ,  0.51462   ,  0.23811026,\n",
       "        0.67792932,  0.51626858,  0.26342618,  0.45703693,  0.41548816,\n",
       "        0.24756317,  0.49612109,  0.3733683 ,  0.76791145,  0.41405715,\n",
       "        0.56906739,  0.46243764,  0.53432249,  0.20725314,  0.4225004 ,\n",
       "        0.35614119,  0.30755662,  0.6183592 ,  0.82588782,  0.60811394,\n",
       "        0.59374299,  0.46410731,  0.5517851 ,  0.46833232,  0.76762455,\n",
       "        0.45793375,  0.79310124,  0.23020249,  0.64473496,  0.18192568,\n",
       "        0.0820747 ,  0.55752658,  0.62234455,  0.41614083,  0.33805494,\n",
       "        0.57298158,  0.82033097,  0.44445102,  0.23172508,  0.5141912 ,\n",
       "        0.09548039,  0.22313794,  0.21382439,  0.47213015,  0.40539796,\n",
       "        0.39377436,  0.43767111,  0.26149928,  1.10421847,  0.52255491,\n",
       "        0.80118807,  0.45619206,  0.36628649,  0.26986327,  0.42173933,\n",
       "        0.47949454,  0.59463993,  0.47161613,  0.47623435,  0.84542574,\n",
       "        0.39741363,  0.3029529 ,  0.40457136,  0.51314072,  0.82917786,\n",
       "        0.96271392,  0.72843912,  0.40466068,  0.38485859,  0.65397692,\n",
       "        0.31883001,  0.26392406,  0.30389853,  0.57330297,  0.36157464,\n",
       "        0.56208452,  0.37953003,  0.19159431,  0.3710839 ,  0.66520811,\n",
       "        0.47251195,  0.38042217,  0.60692853,  0.32711991,  0.56140787,\n",
       "        0.4809509 ,  0.78104024,  0.60800249,  0.36131391,  0.48779037,\n",
       "        0.58680977,  0.77575843,  0.36980474,  0.36383646,  0.55399227,\n",
       "        0.35249959,  0.70526778,  0.64630462,  0.64460886,  0.59006648,\n",
       "        0.31970373,  0.64082216,  0.17104903,  0.60523186,  0.72947805,\n",
       "        0.20681622,  0.63905179,  0.5702463 ,  0.26319606,  0.47075481,\n",
       "        0.60914763,  0.38040388,  0.23662678,  0.7704965 ,  0.76415443,\n",
       "        0.79292392,  0.29524345,  0.31616962,  0.58690354,  0.42803912,\n",
       "        0.86727663,  0.42877735,  0.48417517,  0.64556143,  0.6574445 ,\n",
       "        0.3595515 ,  0.3118447 ,  0.18033484,  1.07749289,  0.9161678 ,\n",
       "        0.51443933,  0.14757877,  0.34799045,  0.55813704,  0.77131662,\n",
       "        0.53813203,  0.55294811,  0.24827613,  0.18270386,  0.46245621,\n",
       "        0.90398618,  0.37146147,  0.43735925,  0.70969352,  0.25003845,\n",
       "        0.59895715,  0.33645029,  0.60527623,  0.36698419,  0.51354355,\n",
       "        0.69172048,  0.73110463,  0.44594946,  0.32951608,  0.5520101 ,\n",
       "        0.3847746 ,  0.48578987,  0.4035919 ,  0.54866707, -0.00649008,\n",
       "        0.68407756,  0.77523681,  0.39291442,  0.55618669,  0.2880157 ,\n",
       "        0.94497568,  0.24681682,  0.54780508,  1.0309072 ,  0.19141375,\n",
       "        0.34971039,  0.34438565,  0.25645169,  0.41119708,  0.12480347,\n",
       "        0.75305833,  0.57335408,  0.43010687,  0.43648513,  0.57431328,\n",
       "        0.47379685,  0.48144183,  0.8300943 ,  0.67299372,  0.81491315,\n",
       "        0.60359301,  0.60892328,  0.39463597,  0.28768116,  0.64154642,\n",
       "        0.41807306,  0.37450455,  0.22487605,  0.64943909,  0.2117395 ,\n",
       "        0.20165212,  0.40588319,  0.34446372,  0.56259417,  0.91463092,\n",
       "        0.69665832,  0.80557585,  0.45859874,  0.77806972,  0.13075346,\n",
       "        0.76757651,  0.58773334,  0.43706702,  0.2725717 ,  0.58312569,\n",
       "        0.33857267,  0.31860147,  0.60442469,  0.23571463,  0.90103897,\n",
       "        0.70264726,  0.11293055,  0.56331253,  0.22803557,  0.43416966,\n",
       "        0.10760529,  0.32010691,  0.59632824,  0.2340269 ,  0.1817316 ,\n",
       "        0.65192597,  0.66525308,  0.16414227,  0.39988612,  0.39318939,\n",
       "        0.77937864,  0.47354433,  0.79745332,  0.44525465,  0.35239236,\n",
       "        0.47392337,  0.37277965,  0.56000857,  0.35026572,  0.10315861,\n",
       "        0.69017365,  0.6614098 ,  0.20146266,  0.29842727,  0.3662184 ,\n",
       "        0.79088113,  0.39408733,  0.42349199,  0.48644336,  0.32219238,\n",
       "        0.79969566,  0.56618573,  0.50976627,  0.31131967,  0.47891054,\n",
       "        0.16077496,  0.51698457,  0.83331356,  0.68729796,  0.60825633,\n",
       "        0.66021836,  0.62074933,  0.36125072,  0.38736302,  0.7214488 ,\n",
       "        0.22820375,  0.67560326,  0.40488382,  0.37019581,  0.39548594,\n",
       "        0.56245674,  0.36782795,  0.24135516,  0.54715593,  0.70827013,\n",
       "        0.44977104,  0.59924235,  0.80348231,  0.61111942,  0.48379465,\n",
       "        0.19325164,  0.31814436,  0.45225816,  0.96472521,  0.61847459,\n",
       "        0.53435527,  0.32067486,  0.89656752,  0.86864606,  0.43668051,\n",
       "        0.4290947 ,  0.31143453,  0.72939012,  0.16155282,  0.66537689,\n",
       "        0.613474  ,  0.55820714,  0.56938336,  0.62062979,  0.81689054,\n",
       "        0.52019818,  0.51385595,  0.40281536,  0.54448875,  0.43948349,\n",
       "        0.79916958,  0.47180073,  0.51153811,  0.36865409,  0.62075635,\n",
       "        0.16422493,  0.68554258,  0.72863541,  0.315297  ,  0.5873555 ,\n",
       "        0.78504575,  0.1185375 ,  0.55383381,  0.5480971 ,  0.58083955,\n",
       "        0.92516326,  0.36644097,  0.7165556 ,  0.33063846,  0.63560763,\n",
       "        0.34578264,  0.6861187 ,  0.60439853,  0.48940928,  0.62165957,\n",
       "        0.79071712,  0.5590527 ,  0.50000391,  0.57597772,  0.49363013,\n",
       "        0.53494962,  0.42089907,  0.26876494, -0.12524354,  0.59260977,\n",
       "        0.47464483,  0.42626383,  0.47325684,  0.53550819,  0.68301379,\n",
       "        0.57896612,  0.37821781,  0.77544508,  0.40613394,  0.54945866,\n",
       "        0.29153691,  0.37840459,  0.57050578,  0.39258236,  0.58116815,\n",
       "        0.28197005,  0.24217728,  0.47717908,  0.63921951,  0.53496011,\n",
       "        0.71092852,  0.40686417,  0.54588918,  0.3926573 ,  0.59570863,\n",
       "        0.50144306,  0.51174153,  0.51638941,  0.57474659,  0.23646599,\n",
       "        0.59971739,  0.79481038,  0.26600571,  0.37714424,  0.22916683,\n",
       "        0.81266203,  0.68111834,  0.50625738,  0.14853275,  0.75385019,\n",
       "        0.32892631,  0.39731603,  0.50646403,  0.45419505,  0.48216578,\n",
       "        0.41262258,  0.24441856,  0.65985124,  0.4224029 ,  0.32558151,\n",
       "        0.71414296,  0.97523185,  0.96108204,  0.37967493,  0.50815868,\n",
       "        0.61948525,  0.19016606,  0.64762031,  0.29027584,  0.55839027,\n",
       "        0.57432945,  0.38216674,  0.51865133,  0.29520736,  0.34180018,\n",
       "        0.6772145 ,  0.57102736,  0.27559   ,  0.58689228,  0.85039727,\n",
       "        0.59295654,  0.74218303,  0.68378427,  0.80532875,  0.61294476,\n",
       "        0.83038388,  0.51627911,  0.64584492,  0.63349771,  0.44862986,\n",
       "        0.38326434,  0.68456555,  0.48185227,  0.58110691,  0.4749968 ,\n",
       "        0.56632365,  0.47207636,  0.74676101,  0.78301707,  0.82610704,\n",
       "        0.61606087,  0.68295888,  0.74510561,  0.3914268 ,  0.23555981,\n",
       "        0.59191788,  0.82093045,  0.57926653,  0.43921983,  0.72011024,\n",
       "        0.04723759,  0.1959047 ,  0.25115506,  0.78067978,  0.61904015,\n",
       "        0.90222702,  0.30837253,  0.45246887,  0.64671443,  0.38827302,\n",
       "        0.69797334,  0.6559045 ,  0.85974975,  0.72417885,  0.73077307,\n",
       "        0.66738711,  0.46048145,  0.4806662 ,  0.4598367 ,  0.40378161,\n",
       "        0.56368222,  0.19741563,  0.32494467,  0.52937162,  0.77623691,\n",
       "        0.74985897,  0.12812896,  0.51096492,  0.3024387 ,  0.5460659 ,\n",
       "        0.38508038,  0.32674023,  0.29096132,  0.57077578,  0.48222001,\n",
       "        0.70071902,  0.16577227,  0.51566507,  0.72162938,  0.55934842,\n",
       "        0.54403371,  0.99682392,  0.59008263,  0.52419893,  0.69386068,\n",
       "       -0.08342975,  0.60074138,  0.4885632 ,  0.53889318,  0.41636524,\n",
       "        0.50394187,  0.32884839,  0.42951726,  0.89169496,  0.43744333,\n",
       "        0.21023187,  0.51727841,  0.39274482,  0.66463619,  0.58021204,\n",
       "        0.68605565,  0.36036615,  0.27893928,  0.58708056,  0.43166431,\n",
       "        0.07723807,  0.34359909,  0.50698813,  0.5520303 ,  0.20783416,\n",
       "        0.4367174 ,  0.4336409 ,  0.79405853,  0.44409919,  0.67084316,\n",
       "        0.62799382,  0.37001947,  0.16617095,  0.34167021,  0.79349608,\n",
       "        0.20471596,  0.09320513,  0.47971138,  0.41495727,  1.02351412,\n",
       "        0.61838333,  0.59336834,  0.49631629,  0.44069072,  0.53984573,\n",
       "        0.60035271,  0.59738603,  0.6805488 ,  0.45734757,  0.58221728,\n",
       "        0.3110071 ,  0.66119342,  0.61805517,  0.34955605,  0.56338553,\n",
       "        0.2409899 ,  0.58019182,  0.38107047,  0.44577101,  0.4962777 ,\n",
       "        0.49838154,  0.42408791,  0.33001797,  0.41755672,  0.59694323,\n",
       "        0.48018071,  0.64497631,  0.60653257,  0.01705249,  0.81694004,\n",
       "        0.48301909,  0.36814958,  0.64977575,  0.70870166,  0.4138419 ,\n",
       "        0.38870471,  0.48994086,  0.86797699,  0.39615801,  0.6593453 ,\n",
       "        0.22076332,  0.61657654,  0.11157744,  0.38291734,  0.42100903,\n",
       "        0.66865214,  0.59483705,  0.30202826,  0.42692931, -0.0894125 ,\n",
       "        0.31627497,  0.55506063,  0.35002807,  0.57271747,  0.49771975,\n",
       "        0.91692234,  0.56118305,  0.3851318 ,  0.70952678,  0.71194557,\n",
       "        0.46239613,  0.23065459,  0.31841573,  0.43272615,  0.22083399,\n",
       "        0.63323743,  0.3699059 ,  0.39557115,  0.40423931,  0.22280862,\n",
       "        0.34274771,  0.5544973 ,  0.52277017,  0.21702265,  0.74233934,\n",
       "        0.51215196,  0.52569386,  0.61390981,  0.93427596,  0.42193887,\n",
       "        0.50684926,  0.66045103,  0.65110019,  0.17449374,  0.80918674,\n",
       "        0.43447381,  0.35279152,  0.57972724,  0.43217258,  0.55484135,\n",
       "        0.56256363,  0.3848543 ,  0.89306403,  0.60348096,  0.35944086,\n",
       "        0.33514472,  0.65978218,  0.19819207,  0.26840556,  0.861101  ,\n",
       "        0.44016209,  0.64030664,  0.3350357 ,  0.57737781,  0.60150886,\n",
       "        0.65497417,  0.38745364,  0.22469869,  0.82898577,  0.43684633,\n",
       "        0.52707633,  0.43744175,  0.55755017,  0.69789246,  0.51383762,\n",
       "        0.40781966, -0.13762919,  0.5941015 ,  0.89208666,  0.73877678,\n",
       "        0.60699041,  0.63003643,  0.82096799,  0.04414817,  0.40566998,\n",
       "        0.35574724, -0.03639679,  0.32975838,  0.46980591,  0.46246995,\n",
       "        0.19992753,  0.5442832 ,  0.52557712,  0.4573787 ,  0.80528209,\n",
       "        0.60489056,  0.3898995 ,  0.37704526,  0.59699946,  0.36131512,\n",
       "        0.74072118,  0.10683592,  0.03158767,  0.61307609,  0.83690776,\n",
       "        0.24939093,  0.24745074,  0.90001628,  0.71789477,  0.22440745,\n",
       "        0.54585409,  0.08186295,  0.15807059,  0.67012622,  0.56511771,\n",
       "        0.46238469,  0.33467847,  0.63918327,  0.29773103,  0.71849488,\n",
       "        0.63241725,  0.65515063,  0.27723475,  0.60230153,  0.47209541,\n",
       "        0.47350654,  0.40168708,  0.71474275,  0.32978342,  0.63816347,\n",
       "        0.50243928,  0.40766604,  0.4198682 ,  0.4506622 ,  0.58560111,\n",
       "        0.29433452,  0.29683625,  0.41208542,  0.47492145,  0.65841654,\n",
       "        0.5315593 ,  0.35949812,  0.22081632,  0.43404592,  0.58184815,\n",
       "        0.8691514 ,  0.68160961,  0.54022171,  0.76310801,  0.68713991,\n",
       "        0.64753402,  0.49126735,  0.6969113 ,  0.52104471,  0.80441729,\n",
       "        0.31811411,  0.66358564,  0.82436724,  0.49410004,  0.28802227,\n",
       "        0.32025949,  0.4831291 ,  0.42257783,  0.35778093,  0.33082746,\n",
       "        0.37791899,  0.87679249,  0.58167643,  0.51673668,  0.32612099,\n",
       "        0.73579728,  0.08754991,  0.90740435,  0.29208963,  0.24278576,\n",
       "        0.92414101,  0.42810357,  0.4951982 ,  0.66503688,  0.20466954,\n",
       "        0.27052835,  0.52308681,  0.73743545,  0.68310621, -0.10153404,\n",
       "        0.4619333 ,  0.75357929,  0.53255654,  0.42319574, -0.00284524,\n",
       "        0.73309097,  0.77460319,  0.19414826,  0.31207272,  0.55364842,\n",
       "        0.65623631,  0.49942918,  0.19964707,  0.69179786,  0.62442496,\n",
       "        0.60430033,  0.70744814,  0.09247672,  0.35253271,  0.94474745,\n",
       "        0.68459622,  0.6587161 ,  0.27622367,  0.45711952,  0.79847758,\n",
       "        0.5849449 ,  0.3040266 ,  0.55855229,  0.54614313,  0.02025011,\n",
       "        0.42676575,  0.86244956,  0.58479975,  0.50421668,  0.34655195,\n",
       "        0.53095006,  0.55506077,  0.42227639,  0.54603442,  0.46096309,\n",
       "        0.69999326,  0.3956494 ,  0.64430866,  0.62379516,  0.37276806,\n",
       "        0.91180715,  0.43753488,  0.52201776,  0.6321124 ,  0.3269732 ,\n",
       "        0.27107755,  0.16321491,  0.26949909,  0.54916137,  0.52533628,\n",
       "        0.26600641,  0.55420237,  0.37187365,  0.50007014,  0.47514303,\n",
       "        0.30267433,  0.48271031,  0.54953894,  0.36820841,  0.53660304,\n",
       "        0.59337381,  0.39035744,  0.69098971,  0.08306261,  0.24024517,\n",
       "        0.36083015,  0.74311452,  0.49425285,  0.36174787,  0.32070343,\n",
       "        0.60702581,  0.69537977,  0.4283209 ,  0.40039235,  0.60045589,\n",
       "        0.51532203,  0.75891931,  0.57595332,  0.74623253,  0.20058135,\n",
       "        0.52090321,  0.41044585,  0.58684342,  0.48756401,  0.58789682,\n",
       "        0.49683527,  0.3108409 ,  0.39334617,  0.91381621,  0.56084741,\n",
       "        0.31782367,  0.37891563,  0.55499425,  0.54955173,  0.35726126,\n",
       "        0.49351768,  0.60372235,  0.6873257 ,  0.14514931,  0.45818184,\n",
       "        0.42383566,  0.46631588,  0.59548103,  0.88274164,  0.41452262,\n",
       "        0.47899617,  0.32792424,  0.6441754 ,  0.4013642 ,  0.33980139,\n",
       "        0.55564017,  0.75861397,  0.57949729,  0.49048256,  0.28550422,\n",
       "        0.23531466,  0.56428837,  0.40914813,  0.20550399,  0.62704921,\n",
       "        0.22083473,  0.92166493,  0.56075718,  0.55265053,  0.32181983,\n",
       "        0.69870692,  0.34099843,  0.6880574 ,  0.58412478,  0.4250109 ,\n",
       "        0.22143625,  1.01963461,  0.34753832,  0.63974806,  0.24338732,\n",
       "        0.08484304,  0.37541911,  0.48471863,  0.36659123,  0.47902782,\n",
       "        0.7689065 ,  0.52051055,  0.2551538 ,  0.47758455,  0.26296069,\n",
       "        0.37343003,  0.32306118,  0.70288833,  0.65820617,  0.48289829,\n",
       "        0.36445812,  0.7233192 ,  0.56040621,  0.28123941,  0.64545247,\n",
       "        0.34609565,  0.23852216,  0.21236432,  0.81087492,  0.70060166,\n",
       "        0.65372857,  0.38287519,  0.41344002,  0.38669227,  0.46698137,\n",
       "        0.44782076,  0.87576974,  0.64908091,  0.70656326,  0.48765631,\n",
       "        0.41504799,  0.29447335,  0.6010415 ,  0.33747394,  0.19963271,\n",
       "        0.73380508,  0.68594774,  0.78004252,  0.60664573,  0.36851635,\n",
       "        0.81462774,  0.6091539 ,  0.23188018,  0.32848768,  0.69931922,\n",
       "        0.76887897,  0.52418404,  0.08016436,  0.32211449,  0.77087072,\n",
       "        0.52734379,  0.63706978,  0.70831811,  0.67873904,  0.41594719])"
      ]
     },
     "execution_count": 78,
     "metadata": {},
     "output_type": "execute_result"
    }
   ],
   "source": [
    "d1"
   ]
  },
  {
   "cell_type": "code",
   "execution_count": 79,
   "id": "db3220cd",
   "metadata": {},
   "outputs": [
    {
     "data": {
      "text/plain": [
       "<AxesSubplot:ylabel='Count'>"
      ]
     },
     "execution_count": 79,
     "metadata": {},
     "output_type": "execute_result"
    },
    {
     "data": {
      "image/png": "[encoded data removed]",
      "text/plain": [
       "<Figure size 640x480 with 1 Axes>"
      ]
     },
     "metadata": {},
     "output_type": "display_data"
    }
   ],
   "source": [
    "sns.histplot(d1,kde=True)"
   ]
  },
  {
   "cell_type": "code",
   "execution_count": 80,
   "id": "8bfa04f1",
   "metadata": {},
   "outputs": [],
   "source": [
    "popu=np.random.randint(10,20,50)"
   ]
  },
  {
   "cell_type": "code",
   "execution_count": 81,
   "id": "93119561",
   "metadata": {},
   "outputs": [
    {
     "data": {
      "text/plain": [
       "array([19, 12, 19, 19, 19, 18, 11, 17, 14, 14, 12, 14, 17, 19, 19, 13, 12,\n",
       "       18, 17, 10, 15, 13, 19, 12, 11, 11, 16, 16, 12, 16, 16, 12, 14, 16,\n",
       "       12, 16, 11, 16, 13, 10, 14, 11, 14, 13, 13, 15, 10, 17, 15, 16])"
      ]
     },
     "execution_count": 81,
     "metadata": {},
     "output_type": "execute_result"
    }
   ],
   "source": [
    "popu"
   ]
  },
  {
   "cell_type": "code",
   "execution_count": 82,
   "id": "2d40b97e",
   "metadata": {},
   "outputs": [
    {
     "data": {
      "text/plain": [
       "50"
      ]
     },
     "execution_count": 82,
     "metadata": {},
     "output_type": "execute_result"
    }
   ],
   "source": [
    "len(popu)"
   ]
  },
  {
   "cell_type": "code",
   "execution_count": 83,
   "id": "7f915fa6",
   "metadata": {},
   "outputs": [
    {
     "data": {
      "text/plain": [
       "16"
      ]
     },
     "execution_count": 83,
     "metadata": {},
     "output_type": "execute_result"
    }
   ],
   "source": [
    "statistics.mode(popu)"
   ]
  },
  {
   "cell_type": "code",
   "execution_count": 84,
   "id": "31a17532",
   "metadata": {},
   "outputs": [
    {
     "data": {
      "text/plain": [
       "14.56"
      ]
     },
     "execution_count": 84,
     "metadata": {},
     "output_type": "execute_result"
    }
   ],
   "source": [
    "np.mean(popu)"
   ]
  },
  {
   "cell_type": "code",
   "execution_count": 85,
   "id": "735501b7",
   "metadata": {},
   "outputs": [],
   "source": [
    "s1=np.random.choice(popu,20)"
   ]
  },
  {
   "cell_type": "code",
   "execution_count": 86,
   "id": "e983c1be",
   "metadata": {},
   "outputs": [
    {
     "data": {
      "text/plain": [
       "array([19, 13, 12, 16, 13, 16, 12, 12, 15, 12, 16, 16, 19, 10, 13, 12, 12,\n",
       "       10, 19, 17])"
      ]
     },
     "execution_count": 86,
     "metadata": {},
     "output_type": "execute_result"
    }
   ],
   "source": [
    "s1"
   ]
  },
  {
   "cell_type": "code",
   "execution_count": 87,
   "id": "b87501fc",
   "metadata": {},
   "outputs": [],
   "source": [
    "s2=np.random.choice(popu,20)"
   ]
  },
  {
   "cell_type": "code",
   "execution_count": 88,
   "id": "9a6e54dd",
   "metadata": {},
   "outputs": [
    {
     "data": {
      "text/plain": [
       "array([16, 19, 11, 17, 14, 14, 12, 10, 14, 19, 19, 17, 13, 13, 16, 13, 13,\n",
       "       14, 12, 18])"
      ]
     },
     "execution_count": 88,
     "metadata": {},
     "output_type": "execute_result"
    }
   ],
   "source": [
    "s2"
   ]
  },
  {
   "cell_type": "code",
   "execution_count": 89,
   "id": "d5e6431b",
   "metadata": {},
   "outputs": [],
   "source": [
    "s3=np.random.choice(popu,20)"
   ]
  },
  {
   "cell_type": "code",
   "execution_count": 90,
   "id": "3cda7d1e",
   "metadata": {},
   "outputs": [
    {
     "data": {
      "text/plain": [
       "array([16, 11, 17, 11, 16, 16, 19, 11, 14, 10, 19, 13, 16, 15, 16, 19, 12,\n",
       "       14, 14, 17])"
      ]
     },
     "execution_count": 90,
     "metadata": {},
     "output_type": "execute_result"
    }
   ],
   "source": [
    "s3"
   ]
  },
  {
   "cell_type": "code",
   "execution_count": 91,
   "id": "68b6b73e",
   "metadata": {},
   "outputs": [],
   "source": [
    "mean_of_samples = []\n",
    "all_samples=[s1,s2,s3]"
   ]
  },
  {
   "cell_type": "code",
   "execution_count": 92,
   "id": "fcdf205c",
   "metadata": {},
   "outputs": [
    {
     "data": {
      "text/plain": [
       "[array([19, 13, 12, 16, 13, 16, 12, 12, 15, 12, 16, 16, 19, 10, 13, 12, 12,\n",
       "        10, 19, 17]),\n",
       " array([16, 19, 11, 17, 14, 14, 12, 10, 14, 19, 19, 17, 13, 13, 16, 13, 13,\n",
       "        14, 12, 18]),\n",
       " array([16, 11, 17, 11, 16, 16, 19, 11, 14, 10, 19, 13, 16, 15, 16, 19, 12,\n",
       "        14, 14, 17])]"
      ]
     },
     "execution_count": 92,
     "metadata": {},
     "output_type": "execute_result"
    }
   ],
   "source": [
    "all_samples"
   ]
  },
  {
   "cell_type": "code",
   "execution_count": 93,
   "id": "146efaed",
   "metadata": {},
   "outputs": [],
   "source": [
    "mean_of_samples=[]\n",
    "for sample in all_samples:\n",
    "    mean_of_samples.append(np.mean(sample))"
   ]
  },
  {
   "cell_type": "code",
   "execution_count": 94,
   "id": "0516db2d",
   "metadata": {},
   "outputs": [
    {
     "data": {
      "text/plain": [
       "[14.2, 14.7, 14.8]"
      ]
     },
     "execution_count": 94,
     "metadata": {},
     "output_type": "execute_result"
    }
   ],
   "source": [
    "mean_of_samples"
   ]
  },
  {
   "cell_type": "code",
   "execution_count": 95,
   "id": "875d2821",
   "metadata": {},
   "outputs": [],
   "source": [
    "#Central limit Theorem >>  For any the sample mean wll be approx to normlal distribution  given size is >=30 and no of sample should be sufficiently large "
   ]
  },
  {
   "cell_type": "code",
   "execution_count": 96,
   "id": "7adc3463",
   "metadata": {},
   "outputs": [],
   "source": [
    "popu=np.random.binomial(10,0.5,10000)"
   ]
  },
  {
   "cell_type": "code",
   "execution_count": 97,
   "id": "fbe9df06",
   "metadata": {},
   "outputs": [
    {
     "data": {
      "text/plain": [
       "array([7, 7, 6, ..., 5, 8, 3])"
      ]
     },
     "execution_count": 97,
     "metadata": {},
     "output_type": "execute_result"
    }
   ],
   "source": [
    "popu"
   ]
  },
  {
   "cell_type": "code",
   "execution_count": 98,
   "id": "83500fb8",
   "metadata": {},
   "outputs": [
    {
     "name": "stderr",
     "output_type": "stream",
     "text": [
      "C:\\Users\\shubh\\anaconda3\\lib\\site-packages\\seaborn\\distributions.py:2619: FutureWarning: `distplot` is a deprecated function and will be removed in a future version. Please adapt your code to use either `displot` (a figure-level function with similar flexibility) or `histplot` (an axes-level function for histograms).\n",
      "  warnings.warn(msg, FutureWarning)\n"
     ]
    },
    {
     "data": {
      "text/plain": [
       "<AxesSubplot:ylabel='Density'>"
      ]
     },
     "execution_count": 98,
     "metadata": {},
     "output_type": "execute_result"
    },
    {
     "data": {
      "image/png": "[encoded data removed]",
      "text/plain": [
       "<Figure size 640x480 with 1 Axes>"
      ]
     },
     "metadata": {},
     "output_type": "display_data"
    }
   ],
   "source": [
    "sns.distplot(popu)"
   ]
  },
  {
   "cell_type": "code",
   "execution_count": 99,
   "id": "6e944c10",
   "metadata": {},
   "outputs": [],
   "source": [
    "sample_size= 3000\n",
    "mean_of_samples=[]\n",
    "\n",
    "for i in range(1,10000):\n",
    "    sample=np.random.choice(popu,size=sample_size)\n",
    "    mean_of_samples.append(np.mean(sample))"
   ]
  },
  {
   "cell_type": "code",
   "execution_count": 100,
   "id": "fdc51d1f",
   "metadata": {},
   "outputs": [
    {
     "name": "stderr",
     "output_type": "stream",
     "text": [
      "C:\\Users\\shubh\\anaconda3\\lib\\site-packages\\seaborn\\distributions.py:2619: FutureWarning: `distplot` is a deprecated function and will be removed in a future version. Please adapt your code to use either `displot` (a figure-level function with similar flexibility) or `histplot` (an axes-level function for histograms).\n",
      "  warnings.warn(msg, FutureWarning)\n"
     ]
    },
    {
     "data": {
      "text/plain": [
       "<AxesSubplot:ylabel='Density'>"
      ]
     },
     "execution_count": 100,
     "metadata": {},
     "output_type": "execute_result"
    },
    {
     "data": {
      "image/png": "[encoded data removed]",
      "text/plain": [
       "<Figure size 640x480 with 1 Axes>"
      ]
     },
     "metadata": {},
     "output_type": "display_data"
    }
   ],
   "source": [
    "sns.distplot(mean_of_samples,kde=True)"
   ]
  },
  {
   "cell_type": "code",
   "execution_count": 101,
   "id": "81777d2a",
   "metadata": {},
   "outputs": [
    {
     "data": {
      "text/plain": [
       "5.003067806780678"
      ]
     },
     "execution_count": 101,
     "metadata": {},
     "output_type": "execute_result"
    }
   ],
   "source": [
    "np.mean(mean_of_samples)"
   ]
  },
  {
   "cell_type": "code",
   "execution_count": 102,
   "id": "4efb8acd",
   "metadata": {},
   "outputs": [
    {
     "data": {
      "text/plain": [
       "5.003"
      ]
     },
     "execution_count": 102,
     "metadata": {},
     "output_type": "execute_result"
    }
   ],
   "source": [
    "np.median(mean_of_samples)"
   ]
  },
  {
   "cell_type": "code",
   "execution_count": 103,
   "id": "c0ed76c6",
   "metadata": {},
   "outputs": [
    {
     "data": {
      "text/plain": [
       "5.010666666666666"
      ]
     },
     "execution_count": 103,
     "metadata": {},
     "output_type": "execute_result"
    }
   ],
   "source": [
    "statistics.mode(mean_of_samples)"
   ]
  },
  {
   "cell_type": "code",
   "execution_count": 104,
   "id": "501a1cfa",
   "metadata": {},
   "outputs": [],
   "source": [
    "#hence mean=median= mode"
   ]
  },
  {
   "cell_type": "code",
   "execution_count": 105,
   "id": "c825d4b8",
   "metadata": {},
   "outputs": [],
   "source": [
    "import scipy.stats as stats"
   ]
  },
  {
   "cell_type": "code",
   "execution_count": 106,
   "id": "858f6c6e",
   "metadata": {},
   "outputs": [
    {
     "data": {
      "text/plain": [
       "[5.007,\n",
       " 5.035,\n",
       " 5.019666666666667,\n",
       " 5.000333333333334,\n",
       " 5.001,\n",
       " 5.026,\n",
       " 5.008,\n",
       " 4.947333333333333,\n",
       " 4.956666666666667,\n",
       " 5.009,\n",
       " 5.037,\n",
       " 4.9736666666666665,\n",
       " 5.003,\n",
       " 5.013,\n",
       " 4.942666666666667,\n",
       " 4.984666666666667,\n",
       " 5.036,\n",
       " 4.966666666666667,\n",
       " 5.015333333333333,\n",
       " 4.965,\n",
       " 4.974333333333333,\n",
       " 4.969666666666667,\n",
       " 5.043666666666667,\n",
       " 5.013333333333334,\n",
       " 4.984333333333334,\n",
       " 4.9896666666666665,\n",
       " 5.009,\n",
       " 5.047,\n",
       " 5.032666666666667,\n",
       " 5.0136666666666665,\n",
       " 4.976,\n",
       " 4.9943333333333335,\n",
       " 5.000666666666667,\n",
       " 4.984,\n",
       " 5.005,\n",
       " 5.009,\n",
       " 4.977,\n",
       " 5.027333333333333,\n",
       " 5.046333333333333,\n",
       " 4.971666666666667,\n",
       " 5.010666666666666,\n",
       " 5.057,\n",
       " 4.998333333333333,\n",
       " 5.024333333333334,\n",
       " 4.977333333333333,\n",
       " 4.986,\n",
       " 5.023333333333333,\n",
       " 5.008,\n",
       " 5.009,\n",
       " 5.0103333333333335,\n",
       " 4.987333333333333,\n",
       " 4.995333333333333,\n",
       " 4.9446666666666665,\n",
       " 5.011666666666667,\n",
       " 5.017666666666667,\n",
       " 4.996666666666667,\n",
       " 5.018666666666666,\n",
       " 4.986,\n",
       " 5.011666666666667,\n",
       " 5.016333333333334,\n",
       " 4.986,\n",
       " 5.0103333333333335,\n",
       " 4.99,\n",
       " 4.9623333333333335,\n",
       " 5.051,\n",
       " 5.021333333333334,\n",
       " 4.960666666666667,\n",
       " 4.957333333333334,\n",
       " 5.050333333333334,\n",
       " 5.0,\n",
       " 5.064666666666667,\n",
       " 5.029,\n",
       " 4.964333333333333,\n",
       " 4.996666666666667,\n",
       " 4.968,\n",
       " 4.989,\n",
       " 5.036666666666667,\n",
       " 5.002,\n",
       " 4.9463333333333335,\n",
       " 5.025,\n",
       " 5.008,\n",
       " 4.978666666666666,\n",
       " 4.971666666666667,\n",
       " 4.980333333333333,\n",
       " 4.977333333333333,\n",
       " 5.035666666666667,\n",
       " 4.967333333333333,\n",
       " 5.015666666666666,\n",
       " 4.968,\n",
       " 4.966,\n",
       " 5.035333333333333,\n",
       " 5.038333333333333,\n",
       " 5.071666666666666,\n",
       " 5.059,\n",
       " 5.001666666666667,\n",
       " 4.986666666666666,\n",
       " 4.998666666666667,\n",
       " 5.0023333333333335,\n",
       " 5.014666666666667,\n",
       " 5.008666666666667,\n",
       " 4.985,\n",
       " 4.996666666666667,\n",
       " 4.963333333333333,\n",
       " 5.006333333333333,\n",
       " 5.009333333333333,\n",
       " 4.979,\n",
       " 4.994,\n",
       " 5.014,\n",
       " 5.008666666666667,\n",
       " 5.023,\n",
       " 4.992,\n",
       " 4.992666666666667,\n",
       " 5.058,\n",
       " 5.025333333333333,\n",
       " 4.987666666666667,\n",
       " 5.002666666666666,\n",
       " 5.020666666666667,\n",
       " 5.026,\n",
       " 5.049,\n",
       " 4.985333333333333,\n",
       " 4.986666666666666,\n",
       " 4.969,\n",
       " 4.935333333333333,\n",
       " 5.039,\n",
       " 5.0343333333333335,\n",
       " 5.001,\n",
       " 5.0216666666666665,\n",
       " 5.001666666666667,\n",
       " 5.042666666666666,\n",
       " 4.991333333333333,\n",
       " 5.013333333333334,\n",
       " 4.9816666666666665,\n",
       " 5.02,\n",
       " 5.022333333333333,\n",
       " 4.968,\n",
       " 5.041,\n",
       " 4.982333333333333,\n",
       " 5.049,\n",
       " 5.037333333333334,\n",
       " 5.048333333333333,\n",
       " 4.996,\n",
       " 4.973,\n",
       " 4.990333333333333,\n",
       " 4.948333333333333,\n",
       " 5.009666666666667,\n",
       " 5.035,\n",
       " 5.006666666666667,\n",
       " 5.018,\n",
       " 5.019666666666667,\n",
       " 4.979333333333333,\n",
       " 4.980666666666667,\n",
       " 5.013333333333334,\n",
       " 5.066333333333334,\n",
       " 5.036,\n",
       " 4.985666666666667,\n",
       " 4.979666666666667,\n",
       " 4.975333333333333,\n",
       " 5.03,\n",
       " 5.062,\n",
       " 4.996333333333333,\n",
       " 5.008333333333334,\n",
       " 4.985,\n",
       " 4.983,\n",
       " 4.995,\n",
       " 5.009,\n",
       " 4.992,\n",
       " 4.984666666666667,\n",
       " 5.059,\n",
       " 5.056,\n",
       " 4.986666666666666,\n",
       " 4.976,\n",
       " 5.021333333333334,\n",
       " 5.021333333333334,\n",
       " 4.983,\n",
       " 5.004,\n",
       " 5.032666666666667,\n",
       " 5.015666666666666,\n",
       " 4.983,\n",
       " 4.990666666666667,\n",
       " 5.001333333333333,\n",
       " 4.951666666666667,\n",
       " 5.045,\n",
       " 5.017,\n",
       " 5.008,\n",
       " 4.957333333333334,\n",
       " 5.046,\n",
       " 5.048666666666667,\n",
       " 5.01,\n",
       " 5.022333333333333,\n",
       " 4.976333333333334,\n",
       " 5.038333333333333,\n",
       " 5.009,\n",
       " 5.013333333333334,\n",
       " 4.984,\n",
       " 5.018,\n",
       " 5.076,\n",
       " 5.010666666666666,\n",
       " 4.985333333333333,\n",
       " 5.009666666666667,\n",
       " 5.008666666666667,\n",
       " 4.948,\n",
       " 5.0263333333333335,\n",
       " 4.990666666666667,\n",
       " 4.961666666666667,\n",
       " 4.956333333333333,\n",
       " 4.974333333333333,\n",
       " 4.982,\n",
       " 4.970666666666666,\n",
       " 4.986666666666666,\n",
       " 4.988666666666667,\n",
       " 4.982333333333333,\n",
       " 5.004333333333333,\n",
       " 4.996333333333333,\n",
       " 4.982333333333333,\n",
       " 4.983666666666666,\n",
       " 5.041,\n",
       " 5.011333333333333,\n",
       " 4.983333333333333,\n",
       " 4.968,\n",
       " 4.949333333333334,\n",
       " 4.972666666666667,\n",
       " 4.9863333333333335,\n",
       " 5.014333333333333,\n",
       " 5.019333333333333,\n",
       " 5.048333333333333,\n",
       " 5.007,\n",
       " 5.003333333333333,\n",
       " 5.0376666666666665,\n",
       " 5.0103333333333335,\n",
       " 4.985666666666667,\n",
       " 4.99,\n",
       " 5.005,\n",
       " 4.958,\n",
       " 4.993666666666667,\n",
       " 4.966,\n",
       " 4.988,\n",
       " 5.041666666666667,\n",
       " 5.008333333333334,\n",
       " 4.977,\n",
       " 4.918333333333333,\n",
       " 5.006,\n",
       " 5.033666666666667,\n",
       " 4.967,\n",
       " 4.996666666666667,\n",
       " 5.002666666666666,\n",
       " 4.996333333333333,\n",
       " 4.983333333333333,\n",
       " 5.0056666666666665,\n",
       " 5.023333333333333,\n",
       " 4.987333333333333,\n",
       " 5.000333333333334,\n",
       " 4.982666666666667,\n",
       " 4.990333333333333,\n",
       " 4.976,\n",
       " 5.023666666666666,\n",
       " 4.923333333333333,\n",
       " 4.9526666666666666,\n",
       " 5.027333333333333,\n",
       " 5.0,\n",
       " 5.027,\n",
       " 5.003,\n",
       " 4.993333333333333,\n",
       " 5.001,\n",
       " 4.964666666666667,\n",
       " 4.9943333333333335,\n",
       " 4.994,\n",
       " 5.006666666666667,\n",
       " 5.01,\n",
       " 5.064,\n",
       " 4.993666666666667,\n",
       " 4.987,\n",
       " 5.044,\n",
       " 4.97,\n",
       " 4.988,\n",
       " 5.003333333333333,\n",
       " 4.995,\n",
       " 5.033666666666667,\n",
       " 4.98,\n",
       " 5.013333333333334,\n",
       " 4.991333333333333,\n",
       " 4.993333333333333,\n",
       " 5.023,\n",
       " 4.968333333333334,\n",
       " 5.032333333333334,\n",
       " 5.0103333333333335,\n",
       " 4.988,\n",
       " 4.983333333333333,\n",
       " 5.001666666666667,\n",
       " 4.967666666666666,\n",
       " 5.007333333333333,\n",
       " 5.010666666666666,\n",
       " 5.043,\n",
       " 4.972666666666667,\n",
       " 4.989,\n",
       " 4.968666666666667,\n",
       " 4.980333333333333,\n",
       " 5.0103333333333335,\n",
       " 5.034,\n",
       " 5.016,\n",
       " 4.981333333333334,\n",
       " 5.011333333333333,\n",
       " 4.993666666666667,\n",
       " 5.018666666666666,\n",
       " 4.958,\n",
       " 5.019666666666667,\n",
       " 5.058,\n",
       " 5.0056666666666665,\n",
       " 5.040333333333334,\n",
       " 5.038666666666667,\n",
       " 5.018666666666666,\n",
       " 5.010666666666666,\n",
       " 4.953,\n",
       " 5.008,\n",
       " 4.988666666666667,\n",
       " 5.016,\n",
       " 5.023666666666666,\n",
       " 5.018666666666666,\n",
       " 5.030333333333333,\n",
       " 4.9896666666666665,\n",
       " 5.024666666666667,\n",
       " 5.011666666666667,\n",
       " 4.99,\n",
       " 5.0263333333333335,\n",
       " 4.995,\n",
       " 5.018666666666666,\n",
       " 5.0343333333333335,\n",
       " 4.995,\n",
       " 5.006,\n",
       " 5.004666666666667,\n",
       " 4.993333333333333,\n",
       " 5.032666666666667,\n",
       " 4.991666666666666,\n",
       " 4.992333333333334,\n",
       " 5.024666666666667,\n",
       " 5.026,\n",
       " 5.026,\n",
       " 5.054333333333333,\n",
       " 5.018666666666666,\n",
       " 4.968333333333334,\n",
       " 5.034,\n",
       " 5.024,\n",
       " 4.998333333333333,\n",
       " 4.99,\n",
       " 4.990333333333333,\n",
       " 4.975333333333333,\n",
       " 4.974333333333333,\n",
       " 4.949666666666666,\n",
       " 5.061333333333334,\n",
       " 5.024666666666667,\n",
       " 5.042666666666666,\n",
       " 4.966,\n",
       " 5.006666666666667,\n",
       " 4.984666666666667,\n",
       " 4.999666666666666,\n",
       " 5.003666666666667,\n",
       " 4.947666666666667,\n",
       " 4.9703333333333335,\n",
       " 5.015666666666666,\n",
       " 4.98,\n",
       " 5.024666666666667,\n",
       " 5.031,\n",
       " 5.0536666666666665,\n",
       " 4.9896666666666665,\n",
       " 5.0343333333333335,\n",
       " 5.016,\n",
       " 5.006,\n",
       " 4.938,\n",
       " 5.016666666666667,\n",
       " 4.9543333333333335,\n",
       " 5.016333333333334,\n",
       " 5.006666666666667,\n",
       " 4.990333333333333,\n",
       " 5.041,\n",
       " 4.942666666666667,\n",
       " 5.022666666666667,\n",
       " 5.070666666666667,\n",
       " 4.963333333333333,\n",
       " 4.980333333333333,\n",
       " 5.001666666666667,\n",
       " 4.994,\n",
       " 4.978,\n",
       " 4.984333333333334,\n",
       " 5.004666666666667,\n",
       " 4.994666666666666,\n",
       " 5.028666666666667,\n",
       " 5.0103333333333335,\n",
       " 4.9703333333333335,\n",
       " 5.006,\n",
       " 5.0,\n",
       " 4.982,\n",
       " 5.009666666666667,\n",
       " 5.0,\n",
       " 4.998333333333333,\n",
       " 4.945,\n",
       " 5.049666666666667,\n",
       " 4.980333333333333,\n",
       " 4.969333333333333,\n",
       " 5.028333333333333,\n",
       " 4.985,\n",
       " 4.990666666666667,\n",
       " 4.9943333333333335,\n",
       " 5.044333333333333,\n",
       " 5.023333333333333,\n",
       " 4.967333333333333,\n",
       " 5.01,\n",
       " 5.031,\n",
       " 4.984666666666667,\n",
       " 4.989,\n",
       " 5.026,\n",
       " 5.078,\n",
       " 4.995,\n",
       " 5.036,\n",
       " 5.027,\n",
       " 5.011666666666667,\n",
       " 5.038333333333333,\n",
       " 5.023666666666666,\n",
       " 5.0023333333333335,\n",
       " 5.013,\n",
       " 5.041,\n",
       " 5.041333333333333,\n",
       " 4.991666666666666,\n",
       " 4.993333333333333,\n",
       " 4.948666666666667,\n",
       " 5.0103333333333335,\n",
       " 5.017666666666667,\n",
       " 5.017333333333333,\n",
       " 5.021,\n",
       " 4.957333333333334,\n",
       " 5.005333333333334,\n",
       " 4.9816666666666665,\n",
       " 4.948,\n",
       " 5.036666666666667,\n",
       " 5.012666666666667,\n",
       " 5.006333333333333,\n",
       " 5.013,\n",
       " 4.968666666666667,\n",
       " 5.002666666666666,\n",
       " 4.989,\n",
       " 5.010666666666666,\n",
       " 5.049666666666667,\n",
       " 5.006,\n",
       " 5.008333333333334,\n",
       " 4.9896666666666665,\n",
       " 5.011,\n",
       " 5.016333333333334,\n",
       " 5.001,\n",
       " 4.997,\n",
       " 4.985666666666667,\n",
       " 4.982666666666667,\n",
       " 5.051333333333333,\n",
       " 4.9943333333333335,\n",
       " 4.978,\n",
       " 4.963666666666667,\n",
       " 5.036333333333333,\n",
       " 5.048333333333333,\n",
       " 5.0183333333333335,\n",
       " 4.968333333333334,\n",
       " 5.004,\n",
       " 4.968,\n",
       " 5.008666666666667,\n",
       " 5.006333333333333,\n",
       " 4.9943333333333335,\n",
       " 4.990333333333333,\n",
       " 5.007333333333333,\n",
       " 5.0136666666666665,\n",
       " 5.0536666666666665,\n",
       " 5.003333333333333,\n",
       " 5.020666666666667,\n",
       " 5.037,\n",
       " 4.991333333333333,\n",
       " 5.010666666666666,\n",
       " 5.0536666666666665,\n",
       " 5.034,\n",
       " 5.001666666666667,\n",
       " 4.941666666666666,\n",
       " 4.980333333333333,\n",
       " 4.976,\n",
       " 5.0376666666666665,\n",
       " 5.004666666666667,\n",
       " 4.9943333333333335,\n",
       " 5.021333333333334,\n",
       " 5.048666666666667,\n",
       " 4.960666666666667,\n",
       " 5.0263333333333335,\n",
       " 4.976,\n",
       " 4.983,\n",
       " 4.989333333333334,\n",
       " 5.028333333333333,\n",
       " 5.031,\n",
       " 4.988,\n",
       " 5.0,\n",
       " 4.990333333333333,\n",
       " 5.023666666666666,\n",
       " 5.044333333333333,\n",
       " 5.029,\n",
       " 5.03,\n",
       " 5.026666666666666,\n",
       " 4.998,\n",
       " 4.997,\n",
       " 5.032666666666667,\n",
       " 4.995666666666667,\n",
       " 5.008,\n",
       " 4.995333333333333,\n",
       " 4.98,\n",
       " 4.983666666666666,\n",
       " 5.038,\n",
       " 4.958,\n",
       " 4.9863333333333335,\n",
       " 5.014,\n",
       " 5.008666666666667,\n",
       " 5.039333333333333,\n",
       " 4.9863333333333335,\n",
       " 4.998666666666667,\n",
       " 4.996333333333333,\n",
       " 4.978,\n",
       " 5.018,\n",
       " 5.039666666666666,\n",
       " 4.98,\n",
       " 4.948333333333333,\n",
       " 4.98,\n",
       " 4.970666666666666,\n",
       " 5.047666666666666,\n",
       " 5.009,\n",
       " 5.017,\n",
       " 5.019333333333333,\n",
       " 5.004,\n",
       " 5.028,\n",
       " 5.045333333333334,\n",
       " 5.007,\n",
       " 5.0343333333333335,\n",
       " 5.041666666666667,\n",
       " 4.985666666666667,\n",
       " 5.015666666666666,\n",
       " 5.041666666666667,\n",
       " 5.048333333333333,\n",
       " 4.943333333333333,\n",
       " 5.007,\n",
       " 5.008666666666667,\n",
       " 5.027,\n",
       " 5.042333333333334,\n",
       " 5.015666666666666,\n",
       " 5.064,\n",
       " 4.939666666666667,\n",
       " 4.9736666666666665,\n",
       " 4.99,\n",
       " 4.9623333333333335,\n",
       " 5.037333333333334,\n",
       " 4.996,\n",
       " 5.084333333333333,\n",
       " 4.953,\n",
       " 5.042666666666666,\n",
       " 4.998666666666667,\n",
       " 5.016666666666667,\n",
       " 5.000333333333334,\n",
       " 5.076333333333333,\n",
       " 5.024333333333334,\n",
       " 4.973,\n",
       " 4.998333333333333,\n",
       " 5.015,\n",
       " 5.002666666666666,\n",
       " 5.011666666666667,\n",
       " 4.991,\n",
       " 5.001,\n",
       " 4.9976666666666665,\n",
       " 4.997333333333334,\n",
       " 5.019,\n",
       " 4.953,\n",
       " 4.972333333333333,\n",
       " 4.989333333333334,\n",
       " 5.045333333333334,\n",
       " 4.972,\n",
       " 5.017666666666667,\n",
       " 5.051,\n",
       " 4.926666666666667,\n",
       " 4.965,\n",
       " 4.958333333333333,\n",
       " 5.003666666666667,\n",
       " 5.003666666666667,\n",
       " 4.976,\n",
       " 5.029333333333334,\n",
       " 5.048666666666667,\n",
       " 5.007,\n",
       " 4.981333333333334,\n",
       " 5.015333333333333,\n",
       " 4.998333333333333,\n",
       " 5.031,\n",
       " 5.009,\n",
       " 4.971333333333333,\n",
       " 4.963666666666667,\n",
       " 5.001,\n",
       " 5.027,\n",
       " 5.009333333333333,\n",
       " 5.041666666666667,\n",
       " 5.023666666666666,\n",
       " 4.989,\n",
       " 4.974666666666667,\n",
       " 4.952,\n",
       " 5.022333333333333,\n",
       " 4.992,\n",
       " 5.021333333333334,\n",
       " 5.016333333333334,\n",
       " 4.980333333333333,\n",
       " 5.0473333333333334,\n",
       " 4.982666666666667,\n",
       " 5.0136666666666665,\n",
       " 4.9703333333333335,\n",
       " 5.006333333333333,\n",
       " 5.009,\n",
       " 5.032666666666667,\n",
       " 5.014,\n",
       " 5.035333333333333,\n",
       " 4.995666666666667,\n",
       " 4.989,\n",
       " 4.9943333333333335,\n",
       " 4.979,\n",
       " 4.988,\n",
       " 5.001666666666667,\n",
       " 4.962666666666666,\n",
       " 4.991333333333333,\n",
       " 5.011,\n",
       " 5.030666666666667,\n",
       " 5.001666666666667,\n",
       " 4.935666666666667,\n",
       " 4.977,\n",
       " 5.008,\n",
       " 5.019666666666667,\n",
       " 4.957,\n",
       " 5.043666666666667,\n",
       " 4.936333333333334,\n",
       " 5.022333333333333,\n",
       " 4.989333333333334,\n",
       " 5.022666666666667,\n",
       " 5.019333333333333,\n",
       " 5.026666666666666,\n",
       " 5.041666666666667,\n",
       " 5.039333333333333,\n",
       " 4.954666666666666,\n",
       " 5.016333333333334,\n",
       " 4.998666666666667,\n",
       " 5.005333333333334,\n",
       " 4.984,\n",
       " 4.988333333333333,\n",
       " 5.049,\n",
       " 4.975666666666666,\n",
       " 4.995,\n",
       " 4.9463333333333335,\n",
       " 5.039,\n",
       " 4.951,\n",
       " 4.999,\n",
       " 4.985666666666667,\n",
       " 4.957333333333334,\n",
       " 4.987,\n",
       " 5.017333333333333,\n",
       " 5.022,\n",
       " 4.987666666666667,\n",
       " 5.014666666666667,\n",
       " 5.070333333333333,\n",
       " 5.033,\n",
       " 4.957333333333334,\n",
       " 4.9736666666666665,\n",
       " 4.980333333333333,\n",
       " 4.993,\n",
       " 5.032333333333334,\n",
       " 4.973333333333334,\n",
       " 5.011666666666667,\n",
       " 5.028333333333333,\n",
       " 5.025666666666667,\n",
       " 4.974666666666667,\n",
       " 4.968666666666667,\n",
       " 5.047,\n",
       " 4.947,\n",
       " 4.990333333333333,\n",
       " 5.028333333333333,\n",
       " 4.996,\n",
       " 5.056333333333333,\n",
       " 4.963333333333333,\n",
       " 4.985666666666667,\n",
       " 4.995333333333333,\n",
       " 4.991,\n",
       " 4.968666666666667,\n",
       " 4.923,\n",
       " 5.0343333333333335,\n",
       " 5.018,\n",
       " 5.015,\n",
       " 5.021333333333334,\n",
       " 5.007333333333333,\n",
       " 4.989,\n",
       " 5.026666666666666,\n",
       " 5.004,\n",
       " 4.989,\n",
       " 5.007333333333333,\n",
       " 5.034,\n",
       " 5.033,\n",
       " 5.040666666666667,\n",
       " 4.966,\n",
       " 4.974666666666667,\n",
       " 5.006,\n",
       " 5.044,\n",
       " 5.083666666666667,\n",
       " 5.018666666666666,\n",
       " 4.979666666666667,\n",
       " 5.001333333333333,\n",
       " 5.011333333333333,\n",
       " 5.002,\n",
       " 4.9543333333333335,\n",
       " 5.004,\n",
       " 5.01,\n",
       " 5.008333333333334,\n",
       " 5.042333333333334,\n",
       " 4.985,\n",
       " 5.073666666666667,\n",
       " 4.95,\n",
       " 4.979333333333333,\n",
       " 5.05,\n",
       " 5.021333333333334,\n",
       " 5.052333333333333,\n",
       " 5.048333333333333,\n",
       " 4.999,\n",
       " 5.022666666666667,\n",
       " 5.033666666666667,\n",
       " 5.001666666666667,\n",
       " 4.987666666666667,\n",
       " 4.996666666666667,\n",
       " 5.035666666666667,\n",
       " 4.975666666666666,\n",
       " 5.016666666666667,\n",
       " 4.955666666666667,\n",
       " 4.999666666666666,\n",
       " 4.982,\n",
       " 4.984,\n",
       " 4.983,\n",
       " 4.985,\n",
       " 5.042333333333334,\n",
       " 5.038333333333333,\n",
       " 5.001,\n",
       " 5.023,\n",
       " 4.954666666666666,\n",
       " 4.985333333333333,\n",
       " 5.055,\n",
       " 4.991333333333333,\n",
       " 5.029,\n",
       " 5.011333333333333,\n",
       " 5.025,\n",
       " 5.065,\n",
       " 5.017333333333333,\n",
       " 4.969333333333333,\n",
       " 4.9863333333333335,\n",
       " 5.037333333333334,\n",
       " 5.024,\n",
       " 4.999333333333333,\n",
       " 4.992666666666667,\n",
       " 4.971,\n",
       " 5.014333333333333,\n",
       " 4.981,\n",
       " 5.024333333333334,\n",
       " 4.974666666666667,\n",
       " 4.994666666666666,\n",
       " 4.976333333333334,\n",
       " 5.005,\n",
       " 4.9976666666666665,\n",
       " 4.984,\n",
       " 4.947666666666667,\n",
       " 4.975666666666666,\n",
       " 5.024333333333334,\n",
       " 5.040333333333334,\n",
       " 5.028666666666667,\n",
       " 5.006333333333333,\n",
       " 5.025666666666667,\n",
       " 5.073,\n",
       " 4.948333333333333,\n",
       " 5.017666666666667,\n",
       " 5.039333333333333,\n",
       " 5.056,\n",
       " 4.971,\n",
       " 4.990333333333333,\n",
       " 4.956333333333333,\n",
       " 5.022333333333333,\n",
       " 5.015666666666666,\n",
       " 5.019,\n",
       " 5.004,\n",
       " 4.959333333333333,\n",
       " 5.016666666666667,\n",
       " 4.991,\n",
       " 4.974666666666667,\n",
       " 4.986666666666666,\n",
       " 4.972,\n",
       " 5.016333333333334,\n",
       " 4.958,\n",
       " 4.956,\n",
       " 5.011,\n",
       " 4.9703333333333335,\n",
       " 5.025,\n",
       " 5.025,\n",
       " 5.007666666666666,\n",
       " 5.010666666666666,\n",
       " 5.036,\n",
       " 5.042333333333334,\n",
       " 5.030333333333333,\n",
       " 5.0553333333333335,\n",
       " 4.980333333333333,\n",
       " 4.987,\n",
       " 4.979,\n",
       " 5.028333333333333,\n",
       " 4.988333333333333,\n",
       " 4.993666666666667,\n",
       " 5.048333333333333,\n",
       " 4.960333333333334,\n",
       " 4.954,\n",
       " 5.0023333333333335,\n",
       " 5.025666666666667,\n",
       " 4.960666666666667,\n",
       " 4.937666666666667,\n",
       " 5.022,\n",
       " 5.047,\n",
       " 4.993666666666667,\n",
       " 5.0473333333333334,\n",
       " 4.972333333333333,\n",
       " 5.016333333333334,\n",
       " 5.008333333333334,\n",
       " 4.995,\n",
       " 5.019,\n",
       " 5.035,\n",
       " 4.995666666666667,\n",
       " 4.9783333333333335,\n",
       " 5.018,\n",
       " 4.981,\n",
       " 5.050333333333334,\n",
       " 5.012333333333333,\n",
       " 4.992666666666667,\n",
       " 4.943666666666667,\n",
       " 4.963,\n",
       " 4.978,\n",
       " 4.968333333333334,\n",
       " 5.035,\n",
       " 4.959333333333333,\n",
       " 5.029333333333334,\n",
       " 5.001333333333333,\n",
       " 5.031666666666666,\n",
       " 4.966666666666667,\n",
       " 5.024,\n",
       " 4.952,\n",
       " 5.071,\n",
       " 5.021,\n",
       " 4.990666666666667,\n",
       " 5.021333333333334,\n",
       " 4.949333333333334,\n",
       " 4.978,\n",
       " 4.9976666666666665,\n",
       " 5.0056666666666665,\n",
       " 4.983,\n",
       " 4.991,\n",
       " 5.012,\n",
       " 5.017666666666667,\n",
       " 5.027666666666667,\n",
       " 5.042,\n",
       " 4.972666666666667,\n",
       " 5.025666666666667,\n",
       " 4.953333333333333,\n",
       " 4.948333333333333,\n",
       " 5.011,\n",
       " 5.065666666666667,\n",
       " 5.003666666666667,\n",
       " 5.014333333333333,\n",
       " 4.976,\n",
       " 5.009666666666667,\n",
       " 4.986666666666666,\n",
       " 5.015333333333333,\n",
       " 5.001333333333333,\n",
       " 5.002,\n",
       " 5.082,\n",
       " 4.998333333333333,\n",
       " 5.000666666666667,\n",
       " 5.003666666666667,\n",
       " 5.042,\n",
       " 5.006333333333333,\n",
       " 5.048666666666667,\n",
       " 5.047,\n",
       " 4.916,\n",
       " 5.034666666666666,\n",
       " 4.9863333333333335,\n",
       " 4.959333333333333,\n",
       " 5.002,\n",
       " 5.005333333333334,\n",
       " 5.023666666666666,\n",
       " 5.014,\n",
       " 5.054,\n",
       " 5.010666666666666,\n",
       " 5.022333333333333,\n",
       " 4.988333333333333,\n",
       " 4.981,\n",
       " 4.9816666666666665,\n",
       " 4.951333333333333,\n",
       " 5.008333333333334,\n",
       " 5.014,\n",
       " 4.9736666666666665,\n",
       " 4.981,\n",
       " 5.0696666666666665,\n",
       " 4.969,\n",
       " 4.998666666666667,\n",
       " 4.983666666666666,\n",
       " 4.992333333333334,\n",
       " 4.947666666666667,\n",
       " 5.027333333333333,\n",
       " 5.051333333333333,\n",
       " 5.009666666666667,\n",
       " 4.9943333333333335,\n",
       " 4.988,\n",
       " 4.949666666666666,\n",
       " 4.956666666666667,\n",
       " 4.966333333333333,\n",
       " 4.9976666666666665,\n",
       " 5.004,\n",
       " 5.018666666666666,\n",
       " 5.0183333333333335,\n",
       " 4.997333333333334,\n",
       " 5.046333333333333,\n",
       " 5.027666666666667,\n",
       " 5.0056666666666665,\n",
       " 5.010666666666666,\n",
       " 5.057333333333333,\n",
       " 4.987333333333333,\n",
       " 4.995333333333333,\n",
       " 5.021,\n",
       " 5.030666666666667,\n",
       " 5.046666666666667,\n",
       " 5.024333333333334,\n",
       " 5.053,\n",
       " 5.023333333333333,\n",
       " 5.009,\n",
       " 4.981,\n",
       " 4.921,\n",
       " 5.003333333333333,\n",
       " 4.994666666666666,\n",
       " 5.034666666666666,\n",
       " 4.964666666666667,\n",
       " 5.046333333333333,\n",
       " 5.027666666666667,\n",
       " 5.039666666666666,\n",
       " 4.999666666666666,\n",
       " 5.007,\n",
       " 5.000666666666667,\n",
       " 5.039666666666666,\n",
       " 5.066333333333334,\n",
       " 5.030666666666667,\n",
       " 5.034,\n",
       " 4.9976666666666665,\n",
       " 4.998,\n",
       " 4.995333333333333,\n",
       " 4.9816666666666665,\n",
       " 5.0,\n",
       " 5.026,\n",
       " 5.026666666666666,\n",
       " 4.9896666666666665,\n",
       " 5.003666666666667,\n",
       " 4.979,\n",
       " 4.979666666666667,\n",
       " 5.007,\n",
       " 4.996,\n",
       " 5.001,\n",
       " 4.988666666666667,\n",
       " 5.002666666666666,\n",
       " 5.006,\n",
       " 5.032666666666667,\n",
       " 4.985666666666667,\n",
       " 4.964333333333333,\n",
       " 5.0,\n",
       " 4.949666666666666,\n",
       " 5.025,\n",
       " 5.007,\n",
       " 5.021,\n",
       " 5.052333333333333,\n",
       " 4.977333333333333,\n",
       " 5.031,\n",
       " 5.025,\n",
       " 5.051333333333333,\n",
       " 5.003333333333333,\n",
       " 4.9526666666666666,\n",
       " 5.009333333333333,\n",
       " 4.977333333333333,\n",
       " 5.040333333333334,\n",
       " 4.974,\n",
       " 4.993666666666667,\n",
       " 4.982,\n",
       " 5.0136666666666665,\n",
       " 5.001333333333333,\n",
       " 5.013,\n",
       " 5.0456666666666665,\n",
       " 5.0553333333333335,\n",
       " 5.043666666666667,\n",
       " 4.968666666666667,\n",
       " 4.982666666666667,\n",
       " 4.967333333333333,\n",
       " 4.986,\n",
       " 5.008,\n",
       " 4.982,\n",
       " 4.951,\n",
       " 5.039333333333333,\n",
       " 5.028666666666667,\n",
       " 5.0263333333333335,\n",
       " 5.004333333333333,\n",
       " ...]"
      ]
     },
     "execution_count": 106,
     "metadata": {},
     "output_type": "execute_result"
    }
   ],
   "source": [
    "mean_of_samples"
   ]
  },
  {
   "cell_type": "code",
   "execution_count": 107,
   "id": "66edb833",
   "metadata": {},
   "outputs": [
    {
     "data": {
      "text/plain": [
       "1.6448536269514722"
      ]
     },
     "execution_count": 107,
     "metadata": {},
     "output_type": "execute_result"
    }
   ],
   "source": [
    "z_critical=stats.norm.ppf(q=0.95) # Zcritical for give alpha,Ztable\n",
    "z_critical"
   ]
  },
  {
   "cell_type": "code",
   "execution_count": 108,
   "id": "c81019dd",
   "metadata": {},
   "outputs": [
    {
     "data": {
      "text/plain": [
       "1.973994288847133"
      ]
     },
     "execution_count": 108,
     "metadata": {},
     "output_type": "execute_result"
    }
   ],
   "source": [
    "stats.t.ppf(df=24,q=0.97) # T critical"
   ]
  },
  {
   "cell_type": "code",
   "execution_count": 109,
   "id": "df22c748",
   "metadata": {},
   "outputs": [],
   "source": [
    "margin_of_error =z_critical*np.std(mean_of_samples)/np.sqrt(20) "
   ]
  },
  {
   "cell_type": "code",
   "execution_count": 110,
   "id": "c9934e66",
   "metadata": {},
   "outputs": [
    {
     "data": {
      "text/plain": [
       "0.010666050424215985"
      ]
     },
     "execution_count": 110,
     "metadata": {},
     "output_type": "execute_result"
    }
   ],
   "source": [
    "margin_of_error"
   ]
  },
  {
   "cell_type": "code",
   "execution_count": 111,
   "id": "8b4a3878",
   "metadata": {},
   "outputs": [
    {
     "data": {
      "text/plain": [
       "(4.992401756356462, 5.013733857204895)"
      ]
     },
     "execution_count": 111,
     "metadata": {},
     "output_type": "execute_result"
    }
   ],
   "source": [
    "#Confidence interval\n",
    "np.mean(mean_of_samples)- margin_of_error ,np.mean(mean_of_samples)+ margin_of_error"
   ]
  },
  {
   "cell_type": "code",
   "execution_count": 112,
   "id": "00da13a0",
   "metadata": {},
   "outputs": [],
   "source": [
    "#Ztest"
   ]
  },
  {
   "cell_type": "code",
   "execution_count": 113,
   "id": "b33303de",
   "metadata": {},
   "outputs": [
    {
     "data": {
      "text/plain": [
       "array([ 0.37590618,  1.39033053,  0.75794697,  0.24720536, -0.44664201,\n",
       "        0.53436384, -0.87372009,  1.46908596,  0.23930018,  0.73704695,\n",
       "        1.31857019,  2.81540305,  0.46882847, -0.69892874, -0.09331819,\n",
       "        0.35492449,  0.49045241, -0.67235618,  1.55600036, -2.47529043,\n",
       "        0.39184721,  2.45902915,  2.38294832, -0.12840675, -1.05523231,\n",
       "        1.46008873, -0.93831797,  1.69882808, -1.69273815,  0.3794851 ,\n",
       "        1.27706752,  0.55732225, -0.11263931,  0.9290943 ,  1.03226388,\n",
       "        0.63104083, -1.28573585, -0.93356614,  0.25373557, -0.89672422,\n",
       "        0.38870129, -1.27907595,  1.86944714,  0.19293187,  0.66225591,\n",
       "       -2.3460213 , -1.19419222,  1.55058907,  2.26857625, -1.22655132,\n",
       "        0.42397944, -0.96266734, -0.00770151,  0.43555856, -1.07375266,\n",
       "        0.93220894,  0.25729445,  0.88171541, -0.79234762, -0.31728119,\n",
       "       -0.32245667,  0.53935941, -1.19304922, -1.02973103, -0.61568903,\n",
       "       -0.17208444,  0.89581618, -2.10531067, -2.2977126 ,  0.1609803 ,\n",
       "       -0.70494123,  1.04556227,  0.05526566,  0.23174203, -1.71998795,\n",
       "        0.76511305, -0.35806327,  0.22198171,  1.1342405 ,  1.42594202,\n",
       "        0.3534566 , -0.10521069,  0.04109847, -0.57486726, -1.22958508,\n",
       "        0.41035582, -0.22178963, -0.97612542, -1.2818669 , -0.93604222,\n",
       "        2.58575888,  0.30960629, -1.44266516, -1.85647588,  0.21241307,\n",
       "       -0.61924545, -1.01822781, -2.84375262, -0.28524641,  1.49834549])"
      ]
     },
     "execution_count": 113,
     "metadata": {},
     "output_type": "execute_result"
    }
   ],
   "source": [
    "from numpy.random import randn\n",
    "population=randn(100)\n",
    "population"
   ]
  },
  {
   "cell_type": "code",
   "execution_count": 114,
   "id": "d613242f",
   "metadata": {},
   "outputs": [
    {
     "name": "stderr",
     "output_type": "stream",
     "text": [
      "C:\\Users\\shubh\\anaconda3\\lib\\site-packages\\seaborn\\distributions.py:2619: FutureWarning: `distplot` is a deprecated function and will be removed in a future version. Please adapt your code to use either `displot` (a figure-level function with similar flexibility) or `histplot` (an axes-level function for histograms).\n",
      "  warnings.warn(msg, FutureWarning)\n"
     ]
    },
    {
     "data": {
      "text/plain": [
       "<AxesSubplot:ylabel='Density'>"
      ]
     },
     "execution_count": 114,
     "metadata": {},
     "output_type": "execute_result"
    },
    {
     "data": {
      "image/png": "[encoded data removed]",
      "text/plain": [
       "<Figure size 640x480 with 1 Axes>"
      ]
     },
     "metadata": {},
     "output_type": "display_data"
    }
   ],
   "source": [
    "sns.distplot(population)"
   ]
  },
  {
   "cell_type": "code",
   "execution_count": 115,
   "id": "d0bf62df",
   "metadata": {},
   "outputs": [
    {
     "data": {
      "text/plain": [
       "0.025450778382806273"
      ]
     },
     "execution_count": 115,
     "metadata": {},
     "output_type": "execute_result"
    }
   ],
   "source": [
    "np.mean(population)"
   ]
  },
  {
   "cell_type": "code",
   "execution_count": 116,
   "id": "e47a1ca9",
   "metadata": {},
   "outputs": [
    {
     "data": {
      "text/plain": [
       "1.1618906568958973"
      ]
     },
     "execution_count": 116,
     "metadata": {},
     "output_type": "execute_result"
    }
   ],
   "source": [
    "np.std(population)"
   ]
  },
  {
   "cell_type": "code",
   "execution_count": 117,
   "id": "80ab6278",
   "metadata": {},
   "outputs": [],
   "source": [
    "null_mean =0.05\n",
    "#if p- value <=0.05 ----reject null hypothesis\n",
    "#if p- value >0.05 ---- fail to reject null hypothesis\n"
   ]
  },
  {
   "cell_type": "code",
   "execution_count": 118,
   "id": "b0765115",
   "metadata": {},
   "outputs": [],
   "source": [
    "from statsmodels.stats.weightstats import ztest"
   ]
  },
  {
   "cell_type": "code",
   "execution_count": 119,
   "id": "f6323073",
   "metadata": {},
   "outputs": [],
   "source": [
    "zscore,pvalue= ztest(population,value=null_mean,alternative='larger') #here the alternative means, mean is greater than "
   ]
  },
  {
   "cell_type": "code",
   "execution_count": 120,
   "id": "6341f5b7",
   "metadata": {},
   "outputs": [
    {
     "data": {
      "text/plain": [
       "-0.2102277607181288"
      ]
     },
     "execution_count": 120,
     "metadata": {},
     "output_type": "execute_result"
    }
   ],
   "source": [
    "zscore"
   ]
  },
  {
   "cell_type": "code",
   "execution_count": 121,
   "id": "456a4646",
   "metadata": {},
   "outputs": [
    {
     "data": {
      "text/plain": [
       "0.5832550431263906"
      ]
     },
     "execution_count": 121,
     "metadata": {},
     "output_type": "execute_result"
    }
   ],
   "source": [
    "pvalue"
   ]
  },
  {
   "cell_type": "code",
   "execution_count": 122,
   "id": "ab724de2",
   "metadata": {},
   "outputs": [
    {
     "name": "stdout",
     "output_type": "stream",
     "text": [
      "fail to reject the Null Hypothesis\n"
     ]
    }
   ],
   "source": [
    "if  pvalue<=0.05:\n",
    "    print(\"Reject the Null Hypothesis\")\n",
    "else:\n",
    "    print(\"fail to reject the Null Hypothesis\")"
   ]
  },
  {
   "cell_type": "code",
   "execution_count": 123,
   "id": "2c0a63ba",
   "metadata": {},
   "outputs": [],
   "source": [
    "#Question"
   ]
  },
  {
   "cell_type": "code",
   "execution_count": 124,
   "id": "bf8a930f",
   "metadata": {},
   "outputs": [],
   "source": [
    "#Zcritical approach"
   ]
  },
  {
   "cell_type": "code",
   "execution_count": 125,
   "id": "c2b8be1f",
   "metadata": {},
   "outputs": [],
   "source": [
    "import scipy.stats as stats\n",
    "sample_mean=100\n",
    "population_mean=90\n",
    "population_std=16\n",
    "sample_size=50\n",
    "alpha=0.05"
   ]
  },
  {
   "cell_type": "code",
   "execution_count": 126,
   "id": "e31f5eff",
   "metadata": {},
   "outputs": [],
   "source": [
    "zscore=(sample_mean-population_mean)/population_std/np.sqrt(sample_size)"
   ]
  },
  {
   "cell_type": "code",
   "execution_count": 127,
   "id": "52ffe597",
   "metadata": {},
   "outputs": [
    {
     "data": {
      "text/plain": [
       "0.08838834764831843"
      ]
     },
     "execution_count": 127,
     "metadata": {},
     "output_type": "execute_result"
    }
   ],
   "source": [
    "zscore"
   ]
  },
  {
   "cell_type": "code",
   "execution_count": 128,
   "id": "96b0c82a",
   "metadata": {},
   "outputs": [],
   "source": [
    "#percent point function >>> inverse of cdf\n",
    "#stats module in scipy >>>zcritical"
   ]
  },
  {
   "cell_type": "code",
   "execution_count": 129,
   "id": "af52c361",
   "metadata": {},
   "outputs": [],
   "source": [
    "zcritical=stats.norm.ppf(1-alpha)"
   ]
  },
  {
   "cell_type": "code",
   "execution_count": 130,
   "id": "42cb68a5",
   "metadata": {},
   "outputs": [
    {
     "data": {
      "text/plain": [
       "1.6448536269514722"
      ]
     },
     "execution_count": 130,
     "metadata": {},
     "output_type": "execute_result"
    }
   ],
   "source": [
    "zcritical"
   ]
  },
  {
   "cell_type": "code",
   "execution_count": 131,
   "id": "a36fb8b8",
   "metadata": {},
   "outputs": [
    {
     "name": "stdout",
     "output_type": "stream",
     "text": [
      "Fail to reject the Ho\n"
     ]
    }
   ],
   "source": [
    "if zscore >zcritical:\n",
    "    print(\"reject the null Ho\")\n",
    "else:\n",
    "    print(\"Fail to reject the Ho\")"
   ]
  },
  {
   "cell_type": "code",
   "execution_count": 132,
   "id": "96f67b99",
   "metadata": {},
   "outputs": [
    {
     "data": {
      "text/plain": [
       "0.4647840111388064"
      ]
     },
     "execution_count": 132,
     "metadata": {},
     "output_type": "execute_result"
    }
   ],
   "source": [
    "#p-Value approach using Scipy\n",
    "pvalue= 1- stats.norm.cdf(zscore)\n",
    "pvalue"
   ]
  },
  {
   "cell_type": "code",
   "execution_count": 133,
   "id": "8c3cf97d",
   "metadata": {},
   "outputs": [],
   "source": [
    "#T -Test >>> s<30 or sigma of pop is not given\n",
    "#one sample t test (wrt one independent sample)\n",
    "#two sample t test (wrt two independent sample)\n",
    "#paired T test(two sample from same population from different time interval)"
   ]
  },
  {
   "cell_type": "code",
   "execution_count": 134,
   "id": "8ce9110c",
   "metadata": {},
   "outputs": [],
   "source": [
    "#One sample T test"
   ]
  },
  {
   "cell_type": "code",
   "execution_count": 135,
   "id": "41a11e67",
   "metadata": {},
   "outputs": [],
   "source": [
    "population = np.random.randint(10,50,50)"
   ]
  },
  {
   "cell_type": "code",
   "execution_count": 136,
   "id": "49b9227b",
   "metadata": {},
   "outputs": [
    {
     "data": {
      "text/plain": [
       "array([18, 48, 41, 12, 27, 37, 27, 27, 24, 47, 16, 31, 12, 43, 42, 35, 30,\n",
       "       43, 30, 16, 21, 33, 16, 40, 29, 29, 34, 34, 22, 25, 20, 13, 11, 38,\n",
       "       16, 39, 17, 28, 38, 33, 35, 42, 23, 36, 30, 19, 31, 46, 34, 42])"
      ]
     },
     "execution_count": 136,
     "metadata": {},
     "output_type": "execute_result"
    }
   ],
   "source": [
    "population"
   ]
  },
  {
   "cell_type": "code",
   "execution_count": 137,
   "id": "7e875319",
   "metadata": {},
   "outputs": [],
   "source": [
    "sample=np.random.choice(population,20)"
   ]
  },
  {
   "cell_type": "code",
   "execution_count": 138,
   "id": "1b3a8325",
   "metadata": {},
   "outputs": [
    {
     "data": {
      "text/plain": [
       "array([27, 43, 35, 12, 12, 36, 37, 17, 40, 27, 29, 28, 34, 16, 27, 33, 42,\n",
       "       30, 27, 16])"
      ]
     },
     "execution_count": 138,
     "metadata": {},
     "output_type": "execute_result"
    }
   ],
   "source": [
    "sample"
   ]
  },
  {
   "cell_type": "code",
   "execution_count": 139,
   "id": "29fb8553",
   "metadata": {},
   "outputs": [
    {
     "data": {
      "text/plain": [
       "28.4"
      ]
     },
     "execution_count": 139,
     "metadata": {},
     "output_type": "execute_result"
    }
   ],
   "source": [
    "np.mean(sample)"
   ]
  },
  {
   "cell_type": "code",
   "execution_count": 140,
   "id": "e7937ee2",
   "metadata": {},
   "outputs": [],
   "source": [
    "null_value= 25 #(the mean of population is 35 )"
   ]
  },
  {
   "cell_type": "code",
   "execution_count": 141,
   "id": "5de76039",
   "metadata": {},
   "outputs": [],
   "source": [
    "import scipy"
   ]
  },
  {
   "cell_type": "code",
   "execution_count": 142,
   "id": "53e46373",
   "metadata": {},
   "outputs": [
    {
     "data": {
      "text/plain": [
       "Ttest_1sampResult(statistic=1.5858025932933164, pvalue=0.12928708193178054)"
      ]
     },
     "execution_count": 142,
     "metadata": {},
     "output_type": "execute_result"
    }
   ],
   "source": [
    "scipy.stats.ttest_1samp(sample,null_value)"
   ]
  },
  {
   "cell_type": "code",
   "execution_count": 143,
   "id": "35a3df4e",
   "metadata": {},
   "outputs": [],
   "source": [
    "#if p Value >0.05 , Fail to reject the Ho"
   ]
  },
  {
   "cell_type": "code",
   "execution_count": 144,
   "id": "c778fe27",
   "metadata": {},
   "outputs": [],
   "source": [
    "#two sample t test"
   ]
  },
  {
   "cell_type": "code",
   "execution_count": 145,
   "id": "c00b13df",
   "metadata": {},
   "outputs": [],
   "source": [
    "virat_kohli_score=np.random.choice(population,20)"
   ]
  },
  {
   "cell_type": "code",
   "execution_count": 146,
   "id": "f10b6269",
   "metadata": {},
   "outputs": [
    {
     "data": {
      "text/plain": [
       "array([43, 17, 34, 27, 23, 37, 38, 12, 43, 16, 20, 40, 43, 42, 16, 38, 30,\n",
       "       18, 27, 46])"
      ]
     },
     "execution_count": 146,
     "metadata": {},
     "output_type": "execute_result"
    }
   ],
   "source": [
    "virat_kohli_score"
   ]
  },
  {
   "cell_type": "code",
   "execution_count": 147,
   "id": "32a78b38",
   "metadata": {},
   "outputs": [],
   "source": [
    "rohit_sharma_score = [13, 25, 48, 28, 19, 12, 13, 18, 98, 40, 18, 23, 34, 33, 45, 58, 46, 27, 50, 49]"
   ]
  },
  {
   "cell_type": "code",
   "execution_count": 148,
   "id": "f99db180",
   "metadata": {},
   "outputs": [
    {
     "data": {
      "text/plain": [
       "[13,\n",
       " 25,\n",
       " 48,\n",
       " 28,\n",
       " 19,\n",
       " 12,\n",
       " 13,\n",
       " 18,\n",
       " 98,\n",
       " 40,\n",
       " 18,\n",
       " 23,\n",
       " 34,\n",
       " 33,\n",
       " 45,\n",
       " 58,\n",
       " 46,\n",
       " 27,\n",
       " 50,\n",
       " 49]"
      ]
     },
     "execution_count": 148,
     "metadata": {},
     "output_type": "execute_result"
    }
   ],
   "source": [
    "rohit_sharma_score"
   ]
  },
  {
   "cell_type": "code",
   "execution_count": 149,
   "id": "027bd432",
   "metadata": {},
   "outputs": [
    {
     "data": {
      "text/plain": [
       "(34.85, 30.5)"
      ]
     },
     "execution_count": 149,
     "metadata": {},
     "output_type": "execute_result"
    }
   ],
   "source": [
    "np.mean(rohit_sharma_score),np.mean(virat_kohli_score)"
   ]
  },
  {
   "cell_type": "code",
   "execution_count": 150,
   "id": "3570358a",
   "metadata": {},
   "outputs": [
    {
     "data": {
      "text/plain": [
       "Ttest_indResult(statistic=0.8308033871705522, pvalue=0.41127451167427964)"
      ]
     },
     "execution_count": 150,
     "metadata": {},
     "output_type": "execute_result"
    }
   ],
   "source": [
    "scipy.stats.ttest_ind(rohit_sharma_score,virat_kohli_score)"
   ]
  },
  {
   "cell_type": "code",
   "execution_count": 151,
   "id": "811468f6",
   "metadata": {},
   "outputs": [],
   "source": [
    "#if p_value>0.05 , fail to reject the Null hypothesis"
   ]
  },
  {
   "cell_type": "code",
   "execution_count": 152,
   "id": "6637736a",
   "metadata": {},
   "outputs": [],
   "source": [
    "#Paired T test >> two sample from same population at different time interval"
   ]
  },
  {
   "cell_type": "code",
   "execution_count": 153,
   "id": "4fe96a0e",
   "metadata": {},
   "outputs": [],
   "source": [
    "rohit_score_first_inning = [31, 36, 46, 24, 48, 46, 47, 47, 16, 35, 45, 37, 24, 29, 27, 42, 49, 37, 47, 46]\n",
    "rohit_score_second_inning = [31, 76, 46, 24, 48, 23, 49, 47, 37, 35, 45, 37, 74, 39, 27, 42, 49, 37, 47, 46]"
   ]
  },
  {
   "cell_type": "code",
   "execution_count": 154,
   "id": "4df0e18c",
   "metadata": {},
   "outputs": [
    {
     "data": {
      "text/plain": [
       "(37.95, 42.95)"
      ]
     },
     "execution_count": 154,
     "metadata": {},
     "output_type": "execute_result"
    }
   ],
   "source": [
    "np.mean(rohit_score_first_inning), np.mean(rohit_score_second_inning)"
   ]
  },
  {
   "cell_type": "code",
   "execution_count": 155,
   "id": "05c6c555",
   "metadata": {},
   "outputs": [
    {
     "data": {
      "text/plain": [
       "Ttest_relResult(statistic=-1.4256648712805027, pvalue=0.17018806846147658)"
      ]
     },
     "execution_count": 155,
     "metadata": {},
     "output_type": "execute_result"
    }
   ],
   "source": [
    "scipy.stats.ttest_rel(rohit_score_first_inning, rohit_score_second_inning)"
   ]
  },
  {
   "cell_type": "code",
   "execution_count": 158,
   "id": "f256a7cc",
   "metadata": {},
   "outputs": [],
   "source": [
    "# chi square Test>>> through two ways"
   ]
  },
  {
   "cell_type": "code",
   "execution_count": 159,
   "id": "7476e703",
   "metadata": {},
   "outputs": [
    {
     "data": {
      "text/html": [
       "<div>\n",
       "<style scoped>\n",
       "    .dataframe tbody tr th:only-of-type {\n",
       "        vertical-align: middle;\n",
       "    }\n",
       "\n",
       "    .dataframe tbody tr th {\n",
       "        vertical-align: top;\n",
       "    }\n",
       "\n",
       "    .dataframe thead th {\n",
       "        text-align: right;\n",
       "    }\n",
       "</style>\n",
       "<table border=\"1\" class=\"dataframe\">\n",
       "  <thead>\n",
       "    <tr style=\"text-align: right;\">\n",
       "      <th></th>\n",
       "      <th>total_bill</th>\n",
       "      <th>tip</th>\n",
       "      <th>sex</th>\n",
       "      <th>smoker</th>\n",
       "      <th>day</th>\n",
       "      <th>time</th>\n",
       "      <th>size</th>\n",
       "    </tr>\n",
       "  </thead>\n",
       "  <tbody>\n",
       "    <tr>\n",
       "      <th>0</th>\n",
       "      <td>16.99</td>\n",
       "      <td>1.01</td>\n",
       "      <td>Female</td>\n",
       "      <td>No</td>\n",
       "      <td>Sun</td>\n",
       "      <td>Dinner</td>\n",
       "      <td>2</td>\n",
       "    </tr>\n",
       "    <tr>\n",
       "      <th>1</th>\n",
       "      <td>10.34</td>\n",
       "      <td>1.66</td>\n",
       "      <td>Male</td>\n",
       "      <td>No</td>\n",
       "      <td>Sun</td>\n",
       "      <td>Dinner</td>\n",
       "      <td>3</td>\n",
       "    </tr>\n",
       "    <tr>\n",
       "      <th>2</th>\n",
       "      <td>21.01</td>\n",
       "      <td>3.50</td>\n",
       "      <td>Male</td>\n",
       "      <td>No</td>\n",
       "      <td>Sun</td>\n",
       "      <td>Dinner</td>\n",
       "      <td>3</td>\n",
       "    </tr>\n",
       "    <tr>\n",
       "      <th>3</th>\n",
       "      <td>23.68</td>\n",
       "      <td>3.31</td>\n",
       "      <td>Male</td>\n",
       "      <td>No</td>\n",
       "      <td>Sun</td>\n",
       "      <td>Dinner</td>\n",
       "      <td>2</td>\n",
       "    </tr>\n",
       "    <tr>\n",
       "      <th>4</th>\n",
       "      <td>24.59</td>\n",
       "      <td>3.61</td>\n",
       "      <td>Female</td>\n",
       "      <td>No</td>\n",
       "      <td>Sun</td>\n",
       "      <td>Dinner</td>\n",
       "      <td>4</td>\n",
       "    </tr>\n",
       "    <tr>\n",
       "      <th>...</th>\n",
       "      <td>...</td>\n",
       "      <td>...</td>\n",
       "      <td>...</td>\n",
       "      <td>...</td>\n",
       "      <td>...</td>\n",
       "      <td>...</td>\n",
       "      <td>...</td>\n",
       "    </tr>\n",
       "    <tr>\n",
       "      <th>239</th>\n",
       "      <td>29.03</td>\n",
       "      <td>5.92</td>\n",
       "      <td>Male</td>\n",
       "      <td>No</td>\n",
       "      <td>Sat</td>\n",
       "      <td>Dinner</td>\n",
       "      <td>3</td>\n",
       "    </tr>\n",
       "    <tr>\n",
       "      <th>240</th>\n",
       "      <td>27.18</td>\n",
       "      <td>2.00</td>\n",
       "      <td>Female</td>\n",
       "      <td>Yes</td>\n",
       "      <td>Sat</td>\n",
       "      <td>Dinner</td>\n",
       "      <td>2</td>\n",
       "    </tr>\n",
       "    <tr>\n",
       "      <th>241</th>\n",
       "      <td>22.67</td>\n",
       "      <td>2.00</td>\n",
       "      <td>Male</td>\n",
       "      <td>Yes</td>\n",
       "      <td>Sat</td>\n",
       "      <td>Dinner</td>\n",
       "      <td>2</td>\n",
       "    </tr>\n",
       "    <tr>\n",
       "      <th>242</th>\n",
       "      <td>17.82</td>\n",
       "      <td>1.75</td>\n",
       "      <td>Male</td>\n",
       "      <td>No</td>\n",
       "      <td>Sat</td>\n",
       "      <td>Dinner</td>\n",
       "      <td>2</td>\n",
       "    </tr>\n",
       "    <tr>\n",
       "      <th>243</th>\n",
       "      <td>18.78</td>\n",
       "      <td>3.00</td>\n",
       "      <td>Female</td>\n",
       "      <td>No</td>\n",
       "      <td>Thur</td>\n",
       "      <td>Dinner</td>\n",
       "      <td>2</td>\n",
       "    </tr>\n",
       "  </tbody>\n",
       "</table>\n",
       "<p>244 rows × 7 columns</p>\n",
       "</div>"
      ],
      "text/plain": [
       "     total_bill   tip     sex smoker   day    time  size\n",
       "0         16.99  1.01  Female     No   Sun  Dinner     2\n",
       "1         10.34  1.66    Male     No   Sun  Dinner     3\n",
       "2         21.01  3.50    Male     No   Sun  Dinner     3\n",
       "3         23.68  3.31    Male     No   Sun  Dinner     2\n",
       "4         24.59  3.61  Female     No   Sun  Dinner     4\n",
       "..          ...   ...     ...    ...   ...     ...   ...\n",
       "239       29.03  5.92    Male     No   Sat  Dinner     3\n",
       "240       27.18  2.00  Female    Yes   Sat  Dinner     2\n",
       "241       22.67  2.00    Male    Yes   Sat  Dinner     2\n",
       "242       17.82  1.75    Male     No   Sat  Dinner     2\n",
       "243       18.78  3.00  Female     No  Thur  Dinner     2\n",
       "\n",
       "[244 rows x 7 columns]"
      ]
     },
     "execution_count": 159,
     "metadata": {},
     "output_type": "execute_result"
    }
   ],
   "source": [
    "df"
   ]
  },
  {
   "cell_type": "code",
   "execution_count": 160,
   "id": "5d920443",
   "metadata": {},
   "outputs": [
    {
     "data": {
      "text/html": [
       "<div>\n",
       "<style scoped>\n",
       "    .dataframe tbody tr th:only-of-type {\n",
       "        vertical-align: middle;\n",
       "    }\n",
       "\n",
       "    .dataframe tbody tr th {\n",
       "        vertical-align: top;\n",
       "    }\n",
       "\n",
       "    .dataframe thead th {\n",
       "        text-align: right;\n",
       "    }\n",
       "</style>\n",
       "<table border=\"1\" class=\"dataframe\">\n",
       "  <thead>\n",
       "    <tr style=\"text-align: right;\">\n",
       "      <th></th>\n",
       "      <th>sex</th>\n",
       "      <th>smoker</th>\n",
       "    </tr>\n",
       "  </thead>\n",
       "  <tbody>\n",
       "    <tr>\n",
       "      <th>0</th>\n",
       "      <td>Female</td>\n",
       "      <td>No</td>\n",
       "    </tr>\n",
       "    <tr>\n",
       "      <th>1</th>\n",
       "      <td>Male</td>\n",
       "      <td>No</td>\n",
       "    </tr>\n",
       "    <tr>\n",
       "      <th>2</th>\n",
       "      <td>Male</td>\n",
       "      <td>No</td>\n",
       "    </tr>\n",
       "    <tr>\n",
       "      <th>3</th>\n",
       "      <td>Male</td>\n",
       "      <td>No</td>\n",
       "    </tr>\n",
       "    <tr>\n",
       "      <th>4</th>\n",
       "      <td>Female</td>\n",
       "      <td>No</td>\n",
       "    </tr>\n",
       "    <tr>\n",
       "      <th>...</th>\n",
       "      <td>...</td>\n",
       "      <td>...</td>\n",
       "    </tr>\n",
       "    <tr>\n",
       "      <th>239</th>\n",
       "      <td>Male</td>\n",
       "      <td>No</td>\n",
       "    </tr>\n",
       "    <tr>\n",
       "      <th>240</th>\n",
       "      <td>Female</td>\n",
       "      <td>Yes</td>\n",
       "    </tr>\n",
       "    <tr>\n",
       "      <th>241</th>\n",
       "      <td>Male</td>\n",
       "      <td>Yes</td>\n",
       "    </tr>\n",
       "    <tr>\n",
       "      <th>242</th>\n",
       "      <td>Male</td>\n",
       "      <td>No</td>\n",
       "    </tr>\n",
       "    <tr>\n",
       "      <th>243</th>\n",
       "      <td>Female</td>\n",
       "      <td>No</td>\n",
       "    </tr>\n",
       "  </tbody>\n",
       "</table>\n",
       "<p>244 rows × 2 columns</p>\n",
       "</div>"
      ],
      "text/plain": [
       "        sex smoker\n",
       "0    Female     No\n",
       "1      Male     No\n",
       "2      Male     No\n",
       "3      Male     No\n",
       "4    Female     No\n",
       "..      ...    ...\n",
       "239    Male     No\n",
       "240  Female    Yes\n",
       "241    Male    Yes\n",
       "242    Male     No\n",
       "243  Female     No\n",
       "\n",
       "[244 rows x 2 columns]"
      ]
     },
     "execution_count": 160,
     "metadata": {},
     "output_type": "execute_result"
    }
   ],
   "source": [
    "df[['sex','smoker']]"
   ]
  },
  {
   "cell_type": "code",
   "execution_count": 163,
   "id": "645e12ae",
   "metadata": {},
   "outputs": [],
   "source": [
    "data_table=pd.crosstab(df['sex'],df['smoker'])"
   ]
  },
  {
   "cell_type": "code",
   "execution_count": 164,
   "id": "9b05c672",
   "metadata": {},
   "outputs": [
    {
     "data": {
      "text/html": [
       "<div>\n",
       "<style scoped>\n",
       "    .dataframe tbody tr th:only-of-type {\n",
       "        vertical-align: middle;\n",
       "    }\n",
       "\n",
       "    .dataframe tbody tr th {\n",
       "        vertical-align: top;\n",
       "    }\n",
       "\n",
       "    .dataframe thead th {\n",
       "        text-align: right;\n",
       "    }\n",
       "</style>\n",
       "<table border=\"1\" class=\"dataframe\">\n",
       "  <thead>\n",
       "    <tr style=\"text-align: right;\">\n",
       "      <th>smoker</th>\n",
       "      <th>Yes</th>\n",
       "      <th>No</th>\n",
       "    </tr>\n",
       "    <tr>\n",
       "      <th>sex</th>\n",
       "      <th></th>\n",
       "      <th></th>\n",
       "    </tr>\n",
       "  </thead>\n",
       "  <tbody>\n",
       "    <tr>\n",
       "      <th>Male</th>\n",
       "      <td>60</td>\n",
       "      <td>97</td>\n",
       "    </tr>\n",
       "    <tr>\n",
       "      <th>Female</th>\n",
       "      <td>33</td>\n",
       "      <td>54</td>\n",
       "    </tr>\n",
       "  </tbody>\n",
       "</table>\n",
       "</div>"
      ],
      "text/plain": [
       "smoker  Yes  No\n",
       "sex            \n",
       "Male     60  97\n",
       "Female   33  54"
      ]
     },
     "execution_count": 164,
     "metadata": {},
     "output_type": "execute_result"
    }
   ],
   "source": [
    "data_table"
   ]
  },
  {
   "cell_type": "code",
   "execution_count": 165,
   "id": "e4c1769c",
   "metadata": {},
   "outputs": [],
   "source": [
    "#Observed Value and expected value"
   ]
  },
  {
   "cell_type": "code",
   "execution_count": 169,
   "id": "aa63fbe6",
   "metadata": {},
   "outputs": [],
   "source": [
    "observed_values=data_table.values # Observerd value"
   ]
  },
  {
   "cell_type": "code",
   "execution_count": 168,
   "id": "01c7583f",
   "metadata": {},
   "outputs": [],
   "source": [
    "#expected value"
   ]
  },
  {
   "cell_type": "code",
   "execution_count": 173,
   "id": "eadb6729",
   "metadata": {},
   "outputs": [],
   "source": [
    "#1st approach >> allowing chi2 itself some expeccted values\n",
    "stats_test , p ,dof,expected_values =stats.chi2_contingency(observed_values)"
   ]
  },
  {
   "cell_type": "code",
   "execution_count": 174,
   "id": "ff5618b8",
   "metadata": {},
   "outputs": [
    {
     "data": {
      "text/plain": [
       "array([[59.84016393, 97.15983607],\n",
       "       [33.15983607, 53.84016393]])"
      ]
     },
     "execution_count": 174,
     "metadata": {},
     "output_type": "execute_result"
    }
   ],
   "source": [
    "expected_values"
   ]
  },
  {
   "cell_type": "code",
   "execution_count": 175,
   "id": "74a54501",
   "metadata": {},
   "outputs": [],
   "source": [
    "#(o-e)**2/e"
   ]
  },
  {
   "cell_type": "code",
   "execution_count": 176,
   "id": "fc67c225",
   "metadata": {},
   "outputs": [
    {
     "data": {
      "text/plain": [
       "array([[60, 97],\n",
       "       [33, 54]], dtype=int64)"
      ]
     },
     "execution_count": 176,
     "metadata": {},
     "output_type": "execute_result"
    }
   ],
   "source": [
    "observed_values"
   ]
  },
  {
   "cell_type": "code",
   "execution_count": 177,
   "id": "dac0d73a",
   "metadata": {},
   "outputs": [
    {
     "name": "stdout",
     "output_type": "stream",
     "text": [
      "(array([60, 97], dtype=int64), array([59.84016393, 97.15983607]))\n",
      "(array([33, 54], dtype=int64), array([33.15983607, 53.84016393]))\n"
     ]
    }
   ],
   "source": [
    "for i in zip(observed_values,expected_values):\n",
    "    print(i)"
   ]
  },
  {
   "cell_type": "code",
   "execution_count": 180,
   "id": "72159f99",
   "metadata": {},
   "outputs": [],
   "source": [
    "chisquare_test=sum([(o-e)**2 /e for o ,e  in zip(observed_values,expected_values)])"
   ]
  },
  {
   "cell_type": "code",
   "execution_count": 181,
   "id": "d9fb613f",
   "metadata": {},
   "outputs": [
    {
     "data": {
      "text/plain": [
       "array([0.00119737, 0.00073745])"
      ]
     },
     "execution_count": 181,
     "metadata": {},
     "output_type": "execute_result"
    }
   ],
   "source": [
    "chisquare_test"
   ]
  },
  {
   "cell_type": "code",
   "execution_count": 182,
   "id": "e9a022af",
   "metadata": {},
   "outputs": [],
   "source": [
    "chisquare_stats =chisquare_test[0]+chisquare_test[1]"
   ]
  },
  {
   "cell_type": "code",
   "execution_count": 183,
   "id": "13ea1d61",
   "metadata": {},
   "outputs": [
    {
     "data": {
      "text/plain": [
       "0.001934818536627623"
      ]
     },
     "execution_count": 183,
     "metadata": {},
     "output_type": "execute_result"
    }
   ],
   "source": [
    "chisquare_stats"
   ]
  },
  {
   "cell_type": "code",
   "execution_count": 184,
   "id": "c9680ee9",
   "metadata": {},
   "outputs": [
    {
     "data": {
      "text/plain": [
       "1"
      ]
     },
     "execution_count": 184,
     "metadata": {},
     "output_type": "execute_result"
    }
   ],
   "source": [
    "dof"
   ]
  },
  {
   "cell_type": "code",
   "execution_count": 185,
   "id": "720c29f8",
   "metadata": {},
   "outputs": [
    {
     "data": {
      "text/plain": [
       "0.05"
      ]
     },
     "execution_count": 185,
     "metadata": {},
     "output_type": "execute_result"
    }
   ],
   "source": [
    "alpha"
   ]
  },
  {
   "cell_type": "code",
   "execution_count": 187,
   "id": "31b2d23d",
   "metadata": {},
   "outputs": [],
   "source": [
    "\n",
    "chi2_critical=stats.chi2.ppf(1-alpha ,df=dof)"
   ]
  },
  {
   "cell_type": "code",
   "execution_count": 188,
   "id": "74456066",
   "metadata": {},
   "outputs": [
    {
     "data": {
      "text/plain": [
       "3.841458820694124"
      ]
     },
     "execution_count": 188,
     "metadata": {},
     "output_type": "execute_result"
    }
   ],
   "source": [
    "chi2_critical"
   ]
  },
  {
   "cell_type": "code",
   "execution_count": 193,
   "id": "a29b5abd",
   "metadata": {},
   "outputs": [
    {
     "name": "stdout",
     "output_type": "stream",
     "text": [
      "fail to reject the Null ho, no  relationship between two categorical variables\n"
     ]
    }
   ],
   "source": [
    "if chisquare_stats > chi2_critical:\n",
    "    print(\"reject the Null ho, this is the relationship between two categorical variables\")\n",
    "else:\n",
    "    print(\"fail to reject the Null ho, no  relationship between two categorical variables\")\n",
    "    "
   ]
  },
  {
   "cell_type": "code",
   "execution_count": 194,
   "id": "2b95b03d",
   "metadata": {},
   "outputs": [],
   "source": [
    "# p value method"
   ]
  },
  {
   "cell_type": "code",
   "execution_count": 195,
   "id": "a3de799e",
   "metadata": {},
   "outputs": [],
   "source": [
    "pvalue=1-stats.chi2.cdf(x=chisquare_stats ,df=dof)"
   ]
  },
  {
   "cell_type": "code",
   "execution_count": 196,
   "id": "220c2942",
   "metadata": {},
   "outputs": [
    {
     "data": {
      "text/plain": [
       "0.964915107315732"
      ]
     },
     "execution_count": 196,
     "metadata": {},
     "output_type": "execute_result"
    }
   ],
   "source": [
    "pvalue"
   ]
  },
  {
   "cell_type": "code",
   "execution_count": 197,
   "id": "c8ed2bb9",
   "metadata": {},
   "outputs": [
    {
     "name": "stdout",
     "output_type": "stream",
     "text": [
      "fail to reject the Null ho, no  relationship between two categorical variables\n"
     ]
    }
   ],
   "source": [
    "if pvalue<=alpha:\n",
    "     print(\"reject the Null ho, this is the relationship between two categorical variables\")\n",
    "else:\n",
    "    print(\"fail to reject the Null ho, no  relationship between two categorical variables\")\n",
    "    \n",
    "    "
   ]
  },
  {
   "cell_type": "code",
   "execution_count": 198,
   "id": "2319d075",
   "metadata": {},
   "outputs": [],
   "source": [
    "#SANother Approach --- Direct Approach \n",
    "#No of hours studies daily on a weekly basis\n",
    "#monday, tuesday , sunday"
   ]
  },
  {
   "cell_type": "code",
   "execution_count": 199,
   "id": "fe63f70e",
   "metadata": {},
   "outputs": [],
   "source": [
    "expected_data = [8,5,6,8,5,7,6]\n",
    "observed_data = [7,4,7,9,4,8,6]"
   ]
  },
  {
   "cell_type": "code",
   "execution_count": 200,
   "id": "efdde4d2",
   "metadata": {},
   "outputs": [
    {
     "data": {
      "text/plain": [
       "(45, 45)"
      ]
     },
     "execution_count": 200,
     "metadata": {},
     "output_type": "execute_result"
    }
   ],
   "source": [
    "sum(expected_data) ,sum(observed_data)"
   ]
  },
  {
   "cell_type": "code",
   "execution_count": 211,
   "id": "0b4c77cc",
   "metadata": {},
   "outputs": [],
   "source": [
    "chi_stats,pvalue=stats.chisquare(expected_data,observed_data)"
   ]
  },
  {
   "cell_type": "code",
   "execution_count": 202,
   "id": "3a8d101f",
   "metadata": {},
   "outputs": [],
   "source": [
    "#find the critical"
   ]
  },
  {
   "cell_type": "code",
   "execution_count": 203,
   "id": "f0a3070c",
   "metadata": {},
   "outputs": [
    {
     "data": {
      "text/plain": [
       "0.05"
      ]
     },
     "execution_count": 203,
     "metadata": {},
     "output_type": "execute_result"
    }
   ],
   "source": [
    "alpha"
   ]
  },
  {
   "cell_type": "code",
   "execution_count": 206,
   "id": "de6d6538",
   "metadata": {},
   "outputs": [],
   "source": [
    "dof= len(observed_data)-1"
   ]
  },
  {
   "cell_type": "code",
   "execution_count": 207,
   "id": "b0c566a5",
   "metadata": {},
   "outputs": [
    {
     "data": {
      "text/plain": [
       "6"
      ]
     },
     "execution_count": 207,
     "metadata": {},
     "output_type": "execute_result"
    }
   ],
   "source": [
    "dof"
   ]
  },
  {
   "cell_type": "code",
   "execution_count": 208,
   "id": "c735c3c7",
   "metadata": {},
   "outputs": [],
   "source": [
    "critical_value=stats.chi2.ppf(1-alpha ,dof)"
   ]
  },
  {
   "cell_type": "code",
   "execution_count": 209,
   "id": "07bf5c52",
   "metadata": {},
   "outputs": [
    {
     "data": {
      "text/plain": [
       "12.591587243743977"
      ]
     },
     "execution_count": 209,
     "metadata": {},
     "output_type": "execute_result"
    }
   ],
   "source": [
    "critical_value"
   ]
  },
  {
   "cell_type": "code",
   "execution_count": 212,
   "id": "bcfd0326",
   "metadata": {},
   "outputs": [],
   "source": [
    "if chi_stats >critical_value:\n",
    "    print(\"Reject the null Hypothesis \")"
   ]
  },
  {
   "cell_type": "code",
   "execution_count": 213,
   "id": "96e65d7c",
   "metadata": {},
   "outputs": [],
   "source": [
    "#Ftest "
   ]
  },
  {
   "cell_type": "code",
   "execution_count": 216,
   "id": "6482cc2e",
   "metadata": {},
   "outputs": [],
   "source": [
    "worker1=[18,17,20,25,27,55,51,43,46,29]\n",
    "worker2=[18,16,22,26,39,51,48,44,58,12]\n",
    "\n",
    "fstats=np.var(worker1)/np.var(worker2)"
   ]
  },
  {
   "cell_type": "code",
   "execution_count": 217,
   "id": "d19d77d7",
   "metadata": {},
   "outputs": [
    {
     "data": {
      "text/plain": [
       "0.7508556062581487"
      ]
     },
     "execution_count": 217,
     "metadata": {},
     "output_type": "execute_result"
    }
   ],
   "source": [
    "fstats"
   ]
  },
  {
   "cell_type": "code",
   "execution_count": 218,
   "id": "be8d15b4",
   "metadata": {},
   "outputs": [],
   "source": [
    "df1= len(worker1)-1\n",
    "df2= len(worker2)-1"
   ]
  },
  {
   "cell_type": "code",
   "execution_count": 219,
   "id": "dcc59201",
   "metadata": {},
   "outputs": [
    {
     "data": {
      "text/plain": [
       "9"
      ]
     },
     "execution_count": 219,
     "metadata": {},
     "output_type": "execute_result"
    }
   ],
   "source": [
    "df1\n"
   ]
  },
  {
   "cell_type": "code",
   "execution_count": 220,
   "id": "4218e691",
   "metadata": {},
   "outputs": [
    {
     "data": {
      "text/plain": [
       "9"
      ]
     },
     "execution_count": 220,
     "metadata": {},
     "output_type": "execute_result"
    }
   ],
   "source": [
    "df2"
   ]
  },
  {
   "cell_type": "code",
   "execution_count": 221,
   "id": "4e34385b",
   "metadata": {},
   "outputs": [],
   "source": [
    "import scipy.stats as stats"
   ]
  },
  {
   "cell_type": "code",
   "execution_count": 225,
   "id": "17996397",
   "metadata": {},
   "outputs": [],
   "source": [
    "fcritical=stats.f.ppf(1-alpha,dfn=df1,dfd=df2)"
   ]
  },
  {
   "cell_type": "code",
   "execution_count": 226,
   "id": "12b00b1f",
   "metadata": {},
   "outputs": [
    {
     "data": {
      "text/plain": [
       "3.178893104458269"
      ]
     },
     "execution_count": 226,
     "metadata": {},
     "output_type": "execute_result"
    }
   ],
   "source": [
    "fcritical"
   ]
  },
  {
   "cell_type": "code",
   "execution_count": 227,
   "id": "be2e943d",
   "metadata": {},
   "outputs": [
    {
     "name": "stdout",
     "output_type": "stream",
     "text": [
      "fail to reject the null hypothesis\n"
     ]
    }
   ],
   "source": [
    "if fstats > fcritical:\n",
    "    print(\"Reject the Null Hypothesis\")\n",
    "else:\n",
    "    print(\"fail to reject the null hypothesis\")"
   ]
  },
  {
   "cell_type": "code",
   "execution_count": 229,
   "id": "d38d1df4",
   "metadata": {},
   "outputs": [],
   "source": [
    "#Anova Test"
   ]
  },
  {
   "cell_type": "code",
   "execution_count": 230,
   "id": "a4c52540",
   "metadata": {},
   "outputs": [],
   "source": [
    "#to compare two or more than two means"
   ]
  },
  {
   "cell_type": "code",
   "execution_count": 231,
   "id": "50f7de9e",
   "metadata": {},
   "outputs": [
    {
     "ename": "FileNotFoundError",
     "evalue": "[Errno 2] No such file or directory: 'plant.csv'",
     "output_type": "error",
     "traceback": [
      "\u001b[1;31m---------------------------------------------------------------------------\u001b[0m",
      "\u001b[1;31mFileNotFoundError\u001b[0m                         Traceback (most recent call last)",
      "\u001b[1;32m~\\AppData\\Local\\Temp\\ipykernel_18056\\3737026665.py\u001b[0m in \u001b[0;36m<module>\u001b[1;34m\u001b[0m\n\u001b[0;32m      1\u001b[0m \u001b[1;32mimport\u001b[0m \u001b[0mpandas\u001b[0m \u001b[1;32mas\u001b[0m \u001b[0mpd\u001b[0m\u001b[1;33m\u001b[0m\u001b[1;33m\u001b[0m\u001b[0m\n\u001b[0;32m      2\u001b[0m \u001b[1;32mfrom\u001b[0m \u001b[0mscipy\u001b[0m \u001b[1;32mimport\u001b[0m \u001b[0mstats\u001b[0m\u001b[1;33m\u001b[0m\u001b[1;33m\u001b[0m\u001b[0m\n\u001b[1;32m----> 3\u001b[1;33m \u001b[0mdf\u001b[0m\u001b[1;33m=\u001b[0m \u001b[0mpd\u001b[0m\u001b[1;33m.\u001b[0m\u001b[0mread_csv\u001b[0m\u001b[1;33m(\u001b[0m\u001b[1;34m'plant.csv'\u001b[0m\u001b[1;33m)\u001b[0m\u001b[1;33m\u001b[0m\u001b[1;33m\u001b[0m\u001b[0m\n\u001b[0m\u001b[0;32m      4\u001b[0m \u001b[0mdf\u001b[0m\u001b[1;33m\u001b[0m\u001b[1;33m\u001b[0m\u001b[0m\n",
      "\u001b[1;32m~\\anaconda3\\lib\\site-packages\\pandas\\util\\_decorators.py\u001b[0m in \u001b[0;36mwrapper\u001b[1;34m(*args, **kwargs)\u001b[0m\n\u001b[0;32m    309\u001b[0m                     \u001b[0mstacklevel\u001b[0m\u001b[1;33m=\u001b[0m\u001b[0mstacklevel\u001b[0m\u001b[1;33m,\u001b[0m\u001b[1;33m\u001b[0m\u001b[1;33m\u001b[0m\u001b[0m\n\u001b[0;32m    310\u001b[0m                 )\n\u001b[1;32m--> 311\u001b[1;33m             \u001b[1;32mreturn\u001b[0m \u001b[0mfunc\u001b[0m\u001b[1;33m(\u001b[0m\u001b[1;33m*\u001b[0m\u001b[0margs\u001b[0m\u001b[1;33m,\u001b[0m \u001b[1;33m**\u001b[0m\u001b[0mkwargs\u001b[0m\u001b[1;33m)\u001b[0m\u001b[1;33m\u001b[0m\u001b[1;33m\u001b[0m\u001b[0m\n\u001b[0m\u001b[0;32m    312\u001b[0m \u001b[1;33m\u001b[0m\u001b[0m\n\u001b[0;32m    313\u001b[0m         \u001b[1;32mreturn\u001b[0m \u001b[0mwrapper\u001b[0m\u001b[1;33m\u001b[0m\u001b[1;33m\u001b[0m\u001b[0m\n",
      "\u001b[1;32m~\\anaconda3\\lib\\site-packages\\pandas\\io\\parsers\\readers.py\u001b[0m in \u001b[0;36mread_csv\u001b[1;34m(filepath_or_buffer, sep, delimiter, header, names, index_col, usecols, squeeze, prefix, mangle_dupe_cols, dtype, engine, converters, true_values, false_values, skipinitialspace, skiprows, skipfooter, nrows, na_values, keep_default_na, na_filter, verbose, skip_blank_lines, parse_dates, infer_datetime_format, keep_date_col, date_parser, dayfirst, cache_dates, iterator, chunksize, compression, thousands, decimal, lineterminator, quotechar, quoting, doublequote, escapechar, comment, encoding, encoding_errors, dialect, error_bad_lines, warn_bad_lines, on_bad_lines, delim_whitespace, low_memory, memory_map, float_precision, storage_options)\u001b[0m\n\u001b[0;32m    676\u001b[0m     \u001b[0mkwds\u001b[0m\u001b[1;33m.\u001b[0m\u001b[0mupdate\u001b[0m\u001b[1;33m(\u001b[0m\u001b[0mkwds_defaults\u001b[0m\u001b[1;33m)\u001b[0m\u001b[1;33m\u001b[0m\u001b[1;33m\u001b[0m\u001b[0m\n\u001b[0;32m    677\u001b[0m \u001b[1;33m\u001b[0m\u001b[0m\n\u001b[1;32m--> 678\u001b[1;33m     \u001b[1;32mreturn\u001b[0m \u001b[0m_read\u001b[0m\u001b[1;33m(\u001b[0m\u001b[0mfilepath_or_buffer\u001b[0m\u001b[1;33m,\u001b[0m \u001b[0mkwds\u001b[0m\u001b[1;33m)\u001b[0m\u001b[1;33m\u001b[0m\u001b[1;33m\u001b[0m\u001b[0m\n\u001b[0m\u001b[0;32m    679\u001b[0m \u001b[1;33m\u001b[0m\u001b[0m\n\u001b[0;32m    680\u001b[0m \u001b[1;33m\u001b[0m\u001b[0m\n",
      "\u001b[1;32m~\\anaconda3\\lib\\site-packages\\pandas\\io\\parsers\\readers.py\u001b[0m in \u001b[0;36m_read\u001b[1;34m(filepath_or_buffer, kwds)\u001b[0m\n\u001b[0;32m    573\u001b[0m \u001b[1;33m\u001b[0m\u001b[0m\n\u001b[0;32m    574\u001b[0m     \u001b[1;31m# Create the parser.\u001b[0m\u001b[1;33m\u001b[0m\u001b[1;33m\u001b[0m\u001b[0m\n\u001b[1;32m--> 575\u001b[1;33m     \u001b[0mparser\u001b[0m \u001b[1;33m=\u001b[0m \u001b[0mTextFileReader\u001b[0m\u001b[1;33m(\u001b[0m\u001b[0mfilepath_or_buffer\u001b[0m\u001b[1;33m,\u001b[0m \u001b[1;33m**\u001b[0m\u001b[0mkwds\u001b[0m\u001b[1;33m)\u001b[0m\u001b[1;33m\u001b[0m\u001b[1;33m\u001b[0m\u001b[0m\n\u001b[0m\u001b[0;32m    576\u001b[0m \u001b[1;33m\u001b[0m\u001b[0m\n\u001b[0;32m    577\u001b[0m     \u001b[1;32mif\u001b[0m \u001b[0mchunksize\u001b[0m \u001b[1;32mor\u001b[0m \u001b[0miterator\u001b[0m\u001b[1;33m:\u001b[0m\u001b[1;33m\u001b[0m\u001b[1;33m\u001b[0m\u001b[0m\n",
      "\u001b[1;32m~\\anaconda3\\lib\\site-packages\\pandas\\io\\parsers\\readers.py\u001b[0m in \u001b[0;36m__init__\u001b[1;34m(self, f, engine, **kwds)\u001b[0m\n\u001b[0;32m    930\u001b[0m \u001b[1;33m\u001b[0m\u001b[0m\n\u001b[0;32m    931\u001b[0m         \u001b[0mself\u001b[0m\u001b[1;33m.\u001b[0m\u001b[0mhandles\u001b[0m\u001b[1;33m:\u001b[0m \u001b[0mIOHandles\u001b[0m \u001b[1;33m|\u001b[0m \u001b[1;32mNone\u001b[0m \u001b[1;33m=\u001b[0m \u001b[1;32mNone\u001b[0m\u001b[1;33m\u001b[0m\u001b[1;33m\u001b[0m\u001b[0m\n\u001b[1;32m--> 932\u001b[1;33m         \u001b[0mself\u001b[0m\u001b[1;33m.\u001b[0m\u001b[0m_engine\u001b[0m \u001b[1;33m=\u001b[0m \u001b[0mself\u001b[0m\u001b[1;33m.\u001b[0m\u001b[0m_make_engine\u001b[0m\u001b[1;33m(\u001b[0m\u001b[0mf\u001b[0m\u001b[1;33m,\u001b[0m \u001b[0mself\u001b[0m\u001b[1;33m.\u001b[0m\u001b[0mengine\u001b[0m\u001b[1;33m)\u001b[0m\u001b[1;33m\u001b[0m\u001b[1;33m\u001b[0m\u001b[0m\n\u001b[0m\u001b[0;32m    933\u001b[0m \u001b[1;33m\u001b[0m\u001b[0m\n\u001b[0;32m    934\u001b[0m     \u001b[1;32mdef\u001b[0m \u001b[0mclose\u001b[0m\u001b[1;33m(\u001b[0m\u001b[0mself\u001b[0m\u001b[1;33m)\u001b[0m\u001b[1;33m:\u001b[0m\u001b[1;33m\u001b[0m\u001b[1;33m\u001b[0m\u001b[0m\n",
      "\u001b[1;32m~\\anaconda3\\lib\\site-packages\\pandas\\io\\parsers\\readers.py\u001b[0m in \u001b[0;36m_make_engine\u001b[1;34m(self, f, engine)\u001b[0m\n\u001b[0;32m   1214\u001b[0m             \u001b[1;31m# \"Union[str, PathLike[str], ReadCsvBuffer[bytes], ReadCsvBuffer[str]]\"\u001b[0m\u001b[1;33m\u001b[0m\u001b[1;33m\u001b[0m\u001b[0m\n\u001b[0;32m   1215\u001b[0m             \u001b[1;31m# , \"str\", \"bool\", \"Any\", \"Any\", \"Any\", \"Any\", \"Any\"\u001b[0m\u001b[1;33m\u001b[0m\u001b[1;33m\u001b[0m\u001b[0m\n\u001b[1;32m-> 1216\u001b[1;33m             self.handles = get_handle(  # type: ignore[call-overload]\n\u001b[0m\u001b[0;32m   1217\u001b[0m                 \u001b[0mf\u001b[0m\u001b[1;33m,\u001b[0m\u001b[1;33m\u001b[0m\u001b[1;33m\u001b[0m\u001b[0m\n\u001b[0;32m   1218\u001b[0m                 \u001b[0mmode\u001b[0m\u001b[1;33m,\u001b[0m\u001b[1;33m\u001b[0m\u001b[1;33m\u001b[0m\u001b[0m\n",
      "\u001b[1;32m~\\anaconda3\\lib\\site-packages\\pandas\\io\\common.py\u001b[0m in \u001b[0;36mget_handle\u001b[1;34m(path_or_buf, mode, encoding, compression, memory_map, is_text, errors, storage_options)\u001b[0m\n\u001b[0;32m    784\u001b[0m         \u001b[1;32mif\u001b[0m \u001b[0mioargs\u001b[0m\u001b[1;33m.\u001b[0m\u001b[0mencoding\u001b[0m \u001b[1;32mand\u001b[0m \u001b[1;34m\"b\"\u001b[0m \u001b[1;32mnot\u001b[0m \u001b[1;32min\u001b[0m \u001b[0mioargs\u001b[0m\u001b[1;33m.\u001b[0m\u001b[0mmode\u001b[0m\u001b[1;33m:\u001b[0m\u001b[1;33m\u001b[0m\u001b[1;33m\u001b[0m\u001b[0m\n\u001b[0;32m    785\u001b[0m             \u001b[1;31m# Encoding\u001b[0m\u001b[1;33m\u001b[0m\u001b[1;33m\u001b[0m\u001b[0m\n\u001b[1;32m--> 786\u001b[1;33m             handle = open(\n\u001b[0m\u001b[0;32m    787\u001b[0m                 \u001b[0mhandle\u001b[0m\u001b[1;33m,\u001b[0m\u001b[1;33m\u001b[0m\u001b[1;33m\u001b[0m\u001b[0m\n\u001b[0;32m    788\u001b[0m                 \u001b[0mioargs\u001b[0m\u001b[1;33m.\u001b[0m\u001b[0mmode\u001b[0m\u001b[1;33m,\u001b[0m\u001b[1;33m\u001b[0m\u001b[1;33m\u001b[0m\u001b[0m\n",
      "\u001b[1;31mFileNotFoundError\u001b[0m: [Errno 2] No such file or directory: 'plant.csv'"
     ]
    }
   ],
   "source": [
    "import pandas as pd\n",
    "from scipy import stats\n",
    "df= pd.read_csv('plant.csv')\n",
    "df"
   ]
  },
  {
   "cell_type": "code",
   "execution_count": null,
   "id": "d0ef3514",
   "metadata": {},
   "outputs": [],
   "source": []
  }
 ],
 "metadata": {
  "kernelspec": {
   "display_name": "Python 3 (ipykernel)",
   "language": "python",
   "name": "python3"
  },
  "language_info": {
   "codemirror_mode": {
    "name": "ipython",
    "version": 3
   },
   "file_extension": ".py",
   "mimetype": "text/x-python",
   "name": "python",
   "nbconvert_exporter": "python",
   "pygments_lexer": "ipython3",
   "version": "3.9.13"
  }
 },
 "nbformat": 4,
 "nbformat_minor": 5
}
