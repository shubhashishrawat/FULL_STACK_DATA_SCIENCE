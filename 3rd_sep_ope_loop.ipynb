{
 "cells": [
  {
   "cell_type": "markdown",
   "id": "458140a7-156d-45e2-8a52-514152945830",
   "metadata": {},
   "source": [
    "#logical operator:-\n",
    "#and\n",
    "#or\n",
    "#not\n"
   ]
  },
  {
   "cell_type": "code",
   "execution_count": null,
   "id": "c91be54f-e3fd-45bb-a0bf-d61979fe24be",
   "metadata": {},
   "outputs": [],
   "source": [
    "#AND Operator"
   ]
  },
  {
   "cell_type": "code",
   "execution_count": 1,
   "id": "264c4e34-9cdc-4fff-aea5-c1007c0dc692",
   "metadata": {},
   "outputs": [],
   "source": [
    "a=10\n",
    "b=20"
   ]
  },
  {
   "cell_type": "code",
   "execution_count": 2,
   "id": "972d569b-caa1-46d0-b9ae-0cf8519c5642",
   "metadata": {},
   "outputs": [
    {
     "data": {
      "text/plain": [
       "False"
      ]
     },
     "execution_count": 2,
     "metadata": {},
     "output_type": "execute_result"
    }
   ],
   "source": [
    "a>10 and b>20"
   ]
  },
  {
   "cell_type": "code",
   "execution_count": 3,
   "id": "237fd12a-ad2e-4e59-985d-e8204fc2394d",
   "metadata": {},
   "outputs": [
    {
     "name": "stdout",
     "output_type": "stream",
     "text": [
      "False\n"
     ]
    }
   ],
   "source": [
    "print(True and False)"
   ]
  },
  {
   "cell_type": "code",
   "execution_count": 4,
   "id": "c95b20f3-c06d-4544-b789-264f37806d49",
   "metadata": {},
   "outputs": [],
   "source": [
    "# OR Operator"
   ]
  },
  {
   "cell_type": "code",
   "execution_count": 5,
   "id": "fc4896f6-4ca7-4361-a92c-45e871d03f97",
   "metadata": {},
   "outputs": [
    {
     "name": "stdout",
     "output_type": "stream",
     "text": [
      "True\n"
     ]
    }
   ],
   "source": [
    "print(True or False)"
   ]
  },
  {
   "cell_type": "code",
   "execution_count": 7,
   "id": "bb0d2656-6fe1-4e28-8e27-313a50cfd9cb",
   "metadata": {},
   "outputs": [
    {
     "data": {
      "text/plain": [
       "True"
      ]
     },
     "execution_count": 7,
     "metadata": {},
     "output_type": "execute_result"
    }
   ],
   "source": [
    "a>7 or b>20"
   ]
  },
  {
   "cell_type": "code",
   "execution_count": 8,
   "id": "eabecdb3-4a93-4d10-b62f-876eeeabf4d1",
   "metadata": {},
   "outputs": [],
   "source": [
    "#Not Operator"
   ]
  },
  {
   "cell_type": "code",
   "execution_count": 10,
   "id": "a4750e59-2d2f-41eb-8cb4-cb1ff4519645",
   "metadata": {},
   "outputs": [
    {
     "data": {
      "text/plain": [
       "False"
      ]
     },
     "execution_count": 10,
     "metadata": {},
     "output_type": "execute_result"
    }
   ],
   "source": [
    "a=True\n",
    "not(a)"
   ]
  },
  {
   "cell_type": "code",
   "execution_count": 11,
   "id": "809e692c-74db-4bba-be0b-212be2b0a450",
   "metadata": {},
   "outputs": [
    {
     "data": {
      "text/plain": [
       "True"
      ]
     },
     "execution_count": 11,
     "metadata": {},
     "output_type": "execute_result"
    }
   ],
   "source": [
    "a=False\n",
    "not(a)"
   ]
  },
  {
   "cell_type": "markdown",
   "id": "969339d8-6b97-46b4-bc4e-b17da6e5bbe5",
   "metadata": {},
   "source": [
    "#\"BITWISE OPERATOR\""
   ]
  },
  {
   "cell_type": "raw",
   "id": "94dbe476-3291-445b-83cb-481619c74f0d",
   "metadata": {},
   "source": [
    "&=and\n",
    "|=or\n",
    "^=xor\n",
    "~ =negation\n",
    "<<-left shift\n",
    ">> = right shift"
   ]
  },
  {
   "cell_type": "code",
   "execution_count": 3,
   "id": "80abfac9-2906-43aa-9da1-fc45f1e296e3",
   "metadata": {},
   "outputs": [
    {
     "data": {
      "text/plain": [
       "'0b1010'"
      ]
     },
     "execution_count": 3,
     "metadata": {},
     "output_type": "execute_result"
    }
   ],
   "source": [
    "a=10\n",
    "b=4\n",
    "bin(a)"
   ]
  },
  {
   "cell_type": "code",
   "execution_count": 4,
   "id": "9b22d580-3ae1-47fe-a9c1-94e40dd17707",
   "metadata": {},
   "outputs": [
    {
     "data": {
      "text/plain": [
       "'0b100'"
      ]
     },
     "execution_count": 4,
     "metadata": {},
     "output_type": "execute_result"
    }
   ],
   "source": [
    "bin(b)"
   ]
  },
  {
   "cell_type": "code",
   "execution_count": 5,
   "id": "a62ab039-4a41-4414-9b99-f57224c08f74",
   "metadata": {},
   "outputs": [
    {
     "data": {
      "text/plain": [
       "0"
      ]
     },
     "execution_count": 5,
     "metadata": {},
     "output_type": "execute_result"
    }
   ],
   "source": [
    "a & b"
   ]
  },
  {
   "cell_type": "code",
   "execution_count": 6,
   "id": "8a9d675e-1909-4cdb-b7ec-0d88ab25b436",
   "metadata": {},
   "outputs": [
    {
     "data": {
      "text/plain": [
       "14"
      ]
     },
     "execution_count": 6,
     "metadata": {},
     "output_type": "execute_result"
    }
   ],
   "source": [
    "a | b"
   ]
  },
  {
   "cell_type": "code",
   "execution_count": 7,
   "id": "dd94b7d0-f399-4808-adb3-ed02d88e66ca",
   "metadata": {},
   "outputs": [
    {
     "data": {
      "text/plain": [
       "14"
      ]
     },
     "execution_count": 7,
     "metadata": {},
     "output_type": "execute_result"
    }
   ],
   "source": [
    "a^b"
   ]
  },
  {
   "cell_type": "code",
   "execution_count": 8,
   "id": "876b5e64-7926-498f-b928-42909518e9a5",
   "metadata": {},
   "outputs": [
    {
     "data": {
      "text/plain": [
       "-11"
      ]
     },
     "execution_count": 8,
     "metadata": {},
     "output_type": "execute_result"
    }
   ],
   "source": [
    "a=10\n",
    "~a"
   ]
  },
  {
   "cell_type": "raw",
   "id": "25a1ce7c-138c-45d6-bde4-2ec04bc17ae9",
   "metadata": {},
   "source": [
    "#Negation Bitwise operator\n",
    "1010\n",
    "0101 = -5 (changing the sign bit)\n",
    "1010 = 1's complement\n",
    "   1 =2's complement\n",
    "1011 = -11"
   ]
  },
  {
   "cell_type": "code",
   "execution_count": 9,
   "id": "49fb009a-cb27-4cac-a3da-5783143df7f6",
   "metadata": {},
   "outputs": [],
   "source": [
    "x=[1,2,3,4,5]\n"
   ]
  },
  {
   "cell_type": "code",
   "execution_count": 11,
   "id": "54c69fd5-969b-4779-8838-ddb480b14471",
   "metadata": {},
   "outputs": [
    {
     "data": {
      "text/plain": [
       "True"
      ]
     },
     "execution_count": 11,
     "metadata": {},
     "output_type": "execute_result"
    }
   ],
   "source": [
    "2 in x # \"in\" is a membership"
   ]
  },
  {
   "cell_type": "code",
   "execution_count": 12,
   "id": "4cd8d5b6-cc9e-42fb-a29c-505aad4ad42d",
   "metadata": {},
   "outputs": [],
   "source": [
    "a=10"
   ]
  },
  {
   "cell_type": "code",
   "execution_count": 13,
   "id": "a6c562cb-c7b8-4318-a350-f5f104af9c23",
   "metadata": {},
   "outputs": [
    {
     "data": {
      "text/plain": [
       "20"
      ]
     },
     "execution_count": 13,
     "metadata": {},
     "output_type": "execute_result"
    }
   ],
   "source": [
    "a<<1"
   ]
  },
  {
   "cell_type": "code",
   "execution_count": 14,
   "id": "6afbfb3c-241c-400e-aed8-9cf8f55ecf0f",
   "metadata": {},
   "outputs": [
    {
     "data": {
      "text/plain": [
       "40"
      ]
     },
     "execution_count": 14,
     "metadata": {},
     "output_type": "execute_result"
    }
   ],
   "source": [
    "a<<2"
   ]
  },
  {
   "cell_type": "code",
   "execution_count": 15,
   "id": "d3730187-755d-4a19-b7e3-28a348ee5a37",
   "metadata": {},
   "outputs": [
    {
     "data": {
      "text/plain": [
       "5"
      ]
     },
     "execution_count": 15,
     "metadata": {},
     "output_type": "execute_result"
    }
   ],
   "source": [
    "a>>1"
   ]
  },
  {
   "cell_type": "code",
   "execution_count": 17,
   "id": "434a2854-656d-47ae-9973-ba9700b708dd",
   "metadata": {},
   "outputs": [
    {
     "data": {
      "text/plain": [
       "2"
      ]
     },
     "execution_count": 17,
     "metadata": {},
     "output_type": "execute_result"
    }
   ],
   "source": [
    "a>>2"
   ]
  },
  {
   "cell_type": "code",
   "execution_count": 18,
   "id": "0662c94f-5fd9-4a91-92d7-3b7eab746870",
   "metadata": {},
   "outputs": [
    {
     "data": {
      "text/plain": [
       "1"
      ]
     },
     "execution_count": 18,
     "metadata": {},
     "output_type": "execute_result"
    }
   ],
   "source": [
    "a>>3"
   ]
  },
  {
   "cell_type": "code",
   "execution_count": 19,
   "id": "d236afe1-b34c-4a42-87d7-b04c33744439",
   "metadata": {},
   "outputs": [
    {
     "data": {
      "text/plain": [
       "0"
      ]
     },
     "execution_count": 19,
     "metadata": {},
     "output_type": "execute_result"
    }
   ],
   "source": [
    "a>>4"
   ]
  },
  {
   "cell_type": "raw",
   "id": "f701d88a-91c8-4a5d-9e39-70ac0c52f1c3",
   "metadata": {},
   "source": [
    "#Control flow \n",
    " if \n",
    " else\n",
    " elif\n",
    " if elif else\n",
    " \n",
    " "
   ]
  },
  {
   "cell_type": "code",
   "execution_count": 25,
   "id": "8c788a15-46f8-4e46-b359-2166506b1e59",
   "metadata": {},
   "outputs": [],
   "source": [
    "age=19"
   ]
  },
  {
   "cell_type": "code",
   "execution_count": 27,
   "id": "6a90b989-efa3-4322-9741-6791bb482875",
   "metadata": {},
   "outputs": [
    {
     "name": "stdout",
     "output_type": "stream",
     "text": [
      "you can drive\n"
     ]
    }
   ],
   "source": [
    "if age>=18: # it will execute when this have to be true\n",
    "    print(\"you can drive\")"
   ]
  },
  {
   "cell_type": "code",
   "execution_count": 28,
   "id": "7db8147a-6e33-405f-a252-9aba13254bad",
   "metadata": {},
   "outputs": [],
   "source": [
    "x=2\n",
    "if x>=23:\n",
    "    print(\"you are inside the if block :\")"
   ]
  },
  {
   "cell_type": "code",
   "execution_count": 29,
   "id": "71690e1c-62dc-4dde-a378-368e6ebeb2e4",
   "metadata": {},
   "outputs": [
    {
     "name": "stdout",
     "output_type": "stream",
     "text": [
      " you can not drive\n"
     ]
    }
   ],
   "source": [
    "age=16\n",
    "if age>=18: # it will execute when this have to be true\n",
    "    print(\"you can drive\")\n",
    "else:\n",
    "    print(\" you can not drive\")"
   ]
  },
  {
   "cell_type": "code",
   "execution_count": 31,
   "id": "eebb751a-5271-449b-909e-68877a28c662",
   "metadata": {},
   "outputs": [
    {
     "name": "stdout",
     "output_type": "stream",
     "text": [
      "not good your grade is  C\n"
     ]
    }
   ],
   "source": [
    "score =35\n",
    "if score >=90:\n",
    "    print(\"execellent performance your grade is A+\")\n",
    "elif score>=70:\n",
    "    print(\"good performance  your grade is B+\")\n",
    "else:\n",
    "    print(\"not good your grade is  C\")"
   ]
  },
  {
   "cell_type": "code",
   "execution_count": 31,
   "id": "53c90395",
   "metadata": {},
   "outputs": [
    {
     "name": "stdout",
     "output_type": "stream",
     "text": [
      "not good your grade is  C\n"
     ]
    }
   ],
   "source": [
    "score =35\n",
    "if score >=90:\n",
    "    print(\"execellent performance your grade is A+\")\n",
    "elif score>=70:\n",
    "    print(\"good performance  your grade is B+\")\n",
    "else:\n",
    "    print(\"not good your grade is  C\")"
   ]
  },
  {
   "cell_type": "code",
   "execution_count": 34,
   "id": "48d7bdde-1c69-42de-861f-7abb80e84253",
   "metadata": {},
   "outputs": [
    {
     "name": "stdin",
     "output_type": "stream",
     "text": [
      "enter the temperatur: 20\n"
     ]
    },
    {
     "name": "stdout",
     "output_type": "stream",
     "text": [
      "Evening\n"
     ]
    }
   ],
   "source": [
    "x= int(input(\"enter the temperatur:\"))\n",
    "if x<0:\n",
    "    print(\"Invalid\")\n",
    "elif x>=0 and x<=5:\n",
    "    print(\"Night\")\n",
    "elif x>=6 and x<=11:\n",
    "          print(\"Morning\")\n",
    "elif x>=12 and x<=17:\n",
    "          print(\"Afternoon\")\n",
    "elif x>=18 and x<=23:\n",
    "          print(\"Evening\")\n",
    "else:\n",
    "    print(\"Invalid\")"
   ]
  },
  {
   "cell_type": "code",
   "execution_count": 39,
   "id": "c87e5e21-e0f4-4a64-a889-93c28dd2f9d7",
   "metadata": {},
   "outputs": [
    {
     "name": "stdin",
     "output_type": "stream",
     "text": [
      "first input: 3\n",
      "second input: 45\n",
      "third input: 64\n"
     ]
    },
    {
     "name": "stdout",
     "output_type": "stream",
     "text": [
      "largest number:64\n"
     ]
    }
   ],
   "source": [
    "#largest number from the Three Number:\n",
    "\n",
    "x= int(input(\"first input:\"))\n",
    "y= int(input(\"second input:\"))\n",
    "z= int(input(\"third input:\"))\n",
    "if x>=y and x>=z:\n",
    "    print(f\"largest number:{x} \")\n",
    "elif y>=x and y>=z:\n",
    "    print(f\"largest number:{y}\")\n",
    "else:\n",
    "    print(f\"largest number:{z}\")"
   ]
  },
  {
   "cell_type": "code",
   "execution_count": 42,
   "id": "94f4e133-e0d9-4f7b-b9dd-c318ab0ddc7c",
   "metadata": {},
   "outputs": [
    {
     "name": "stdin",
     "output_type": "stream",
     "text": [
      "enter the  first number 6\n",
      "enter the operator (+,-,*,/,%): ^\n",
      "enter the second number: 7\n"
     ]
    },
    {
     "name": "stdout",
     "output_type": "stream",
     "text": [
      "Invalid Operation\n"
     ]
    }
   ],
   "source": [
    "#Calculator code\n",
    "first= input(\"enter the  first number\")\n",
    "operator=input(\"enter the operator (+,-,*,/,%):\")\n",
    "\n",
    "second=input(\"enter the second number:\")\n",
    "\n",
    "if operator == \"+\":\n",
    "    print( first + second)\n",
    "elif operator == \"-\":\n",
    "    print( first - second)\n",
    "elif operator == \"*\":\n",
    "    print( first * second)\n",
    "elif operator == \"/\":\n",
    "    print( first / second)\n",
    "elif operator == \"%\":\n",
    "    print( first % second)\n",
    "else:\n",
    "    print(\"Invalid Operation\")\n",
    "\n"
   ]
  },
  {
   "cell_type": "code",
   "execution_count": 43,
   "id": "c97fa657-b514-4ee1-9876-01003d59bbff",
   "metadata": {},
   "outputs": [
    {
     "name": "stdout",
     "output_type": "stream",
     "text": [
      "number is negative\n"
     ]
    }
   ],
   "source": [
    "#Nested Loop\n",
    "num=10\n",
    "if (num>10):\n",
    "    if num==0:\n",
    "        print(\"number is 0\")\n",
    "    else:\n",
    "        print(\"number is positive\")\n",
    "else:\n",
    "    print(\"number is negative\")"
   ]
  },
  {
   "cell_type": "code",
   "execution_count": null,
   "id": "e7232ba7-ddff-4b12-a99f-b2f8997ceb50",
   "metadata": {},
   "outputs": [],
   "source": [
    "# RANGE FUNCTION\n",
    "range(5)\n"
   ]
  },
  {
   "cell_type": "code",
   "execution_count": 47,
   "id": "b8293fd7-bde1-4f97-b6e6-2ba42494b73a",
   "metadata": {},
   "outputs": [
    {
     "data": {
      "text/plain": [
       "[1, 2, 3, 4]"
      ]
     },
     "execution_count": 47,
     "metadata": {},
     "output_type": "execute_result"
    }
   ],
   "source": [
    "list(range(1,5))"
   ]
  },
  {
   "cell_type": "code",
   "execution_count": 46,
   "id": "30c15be6-d78d-4487-b2ea-1dd6577fa115",
   "metadata": {},
   "outputs": [
    {
     "data": {
      "text/plain": [
       "[2, 3, 4, 5, 6, 7, 8, 9]"
      ]
     },
     "execution_count": 46,
     "metadata": {},
     "output_type": "execute_result"
    }
   ],
   "source": [
    "#range(start,stop,step)\n",
    "list(range(2,10))"
   ]
  },
  {
   "cell_type": "code",
   "execution_count": 48,
   "id": "b7a140b1-1b03-48b3-94e6-9f9722aa88cd",
   "metadata": {},
   "outputs": [
    {
     "data": {
      "text/plain": [
       "[2, 4, 6, 8]"
      ]
     },
     "execution_count": 48,
     "metadata": {},
     "output_type": "execute_result"
    }
   ],
   "source": [
    "list(range(2,10 , 2))"
   ]
  },
  {
   "cell_type": "code",
   "execution_count": 49,
   "id": "58f44705-f256-4338-90ed-5f412a633d0c",
   "metadata": {},
   "outputs": [
    {
     "name": "stdout",
     "output_type": "stream",
     "text": [
      "0\n",
      "1\n",
      "2\n",
      "3\n",
      "4\n",
      "5\n",
      "6\n",
      "7\n",
      "8\n",
      "9\n"
     ]
    }
   ],
   "source": [
    "#For  and While Loop\n",
    "for i in range(10):\n",
    "    print(i)"
   ]
  },
  {
   "cell_type": "code",
   "execution_count": 50,
   "id": "8b005739-8b7e-4399-aca1-08b60c64c3af",
   "metadata": {},
   "outputs": [
    {
     "name": "stdout",
     "output_type": "stream",
     "text": [
      "0\n",
      "1\n",
      "2\n"
     ]
    }
   ],
   "source": [
    "for i in range(3):\n",
    "    print(i)"
   ]
  },
  {
   "cell_type": "code",
   "execution_count": 51,
   "id": "73cd8b72-d4a5-4b5d-9488-537382611a7d",
   "metadata": {},
   "outputs": [
    {
     "name": "stdout",
     "output_type": "stream",
     "text": [
      "a\n",
      "b\n",
      "c\n"
     ]
    }
   ],
   "source": [
    "for i in [\"a\",\"b\",\"c\"]:\n",
    "    print(i)"
   ]
  },
  {
   "cell_type": "code",
   "execution_count": 52,
   "id": "72ad6b9d-7e97-42ef-a985-0db96edaac72",
   "metadata": {},
   "outputs": [
    {
     "name": "stdout",
     "output_type": "stream",
     "text": [
      "P\n",
      "W\n",
      "S\n",
      "K\n",
      "I\n",
      "L\n",
      "L\n",
      "S\n"
     ]
    }
   ],
   "source": [
    "for i in \"PWSKILLS\":\n",
    "    print(i)"
   ]
  },
  {
   "cell_type": "code",
   "execution_count": 55,
   "id": "ea5cfc2d-188e-4bed-b155-57f24fc82abb",
   "metadata": {},
   "outputs": [],
   "source": [
    "x={\"name\":\"shubh\",\"city\":\"banglore\"}\n",
    "    "
   ]
  },
  {
   "cell_type": "code",
   "execution_count": 77,
   "id": "967e7e6c-ec9a-4681-8150-de2e9fdbe916",
   "metadata": {},
   "outputs": [
    {
     "data": {
      "text/plain": [
       "dict_keys(['name', 'city'])"
      ]
     },
     "execution_count": 77,
     "metadata": {},
     "output_type": "execute_result"
    }
   ],
   "source": [
    "x.keys()"
   ]
  },
  {
   "cell_type": "code",
   "execution_count": 78,
   "id": "e835d89b-0d74-4eff-a7ce-ade51e9d83da",
   "metadata": {},
   "outputs": [
    {
     "data": {
      "text/plain": [
       "dict_values(['shubh', 'banglore'])"
      ]
     },
     "execution_count": 78,
     "metadata": {},
     "output_type": "execute_result"
    }
   ],
   "source": [
    "x.values()"
   ]
  },
  {
   "cell_type": "code",
   "execution_count": 83,
   "id": "3680b4f3-8528-4ddc-9c95-b3f211045bb9",
   "metadata": {},
   "outputs": [
    {
     "name": "stdout",
     "output_type": "stream",
     "text": [
      "name\n",
      "city\n"
     ]
    }
   ],
   "source": [
    "for i in x:\n",
    "    print(i)\n",
    "    "
   ]
  },
  {
   "cell_type": "code",
   "execution_count": 84,
   "id": "ef04119f-d144-4375-a817-98ced4f17b74",
   "metadata": {},
   "outputs": [
    {
     "name": "stdout",
     "output_type": "stream",
     "text": [
      "name shubh\n",
      "city banglore\n"
     ]
    }
   ],
   "source": [
    "for i in x:\n",
    "    print(i,x[i])"
   ]
  },
  {
   "cell_type": "code",
   "execution_count": 81,
   "id": "adf2fded-e4b5-413f-ac94-9fddd735863e",
   "metadata": {},
   "outputs": [
    {
     "name": "stdout",
     "output_type": "stream",
     "text": [
      "shubh\n",
      "banglore\n"
     ]
    }
   ],
   "source": [
    "for i in x.values():\n",
    "    print(i)"
   ]
  },
  {
   "cell_type": "code",
   "execution_count": 66,
   "id": "f95acddd-23b5-4c24-a461-bc8a15116c15",
   "metadata": {},
   "outputs": [
    {
     "name": "stdout",
     "output_type": "stream",
     "text": [
      "india\n",
      "uk\n",
      "germany\n"
     ]
    }
   ],
   "source": [
    "country=[\"india\",\"uk\",\"germany\"]\n",
    "for ct in country:\n",
    "    print(ct)"
   ]
  },
  {
   "cell_type": "code",
   "execution_count": 67,
   "id": "94e119d8-e581-4543-8059-b385b48804f7",
   "metadata": {},
   "outputs": [
    {
     "name": "stdout",
     "output_type": "stream",
     "text": [
      "india\n",
      "uk\n",
      "germany\n"
     ]
    }
   ],
   "source": [
    "for index in range(len(country)):\n",
    "    print(country[index])"
   ]
  },
  {
   "cell_type": "code",
   "execution_count": 82,
   "id": "1a96ef50-2f2e-4434-b361-f60a0ae20d3a",
   "metadata": {},
   "outputs": [
    {
     "data": {
      "text/plain": [
       "'shubh'"
      ]
     },
     "execution_count": 82,
     "metadata": {},
     "output_type": "execute_result"
    }
   ],
   "source": [
    "x[\"name\"]"
   ]
  },
  {
   "cell_type": "code",
   "execution_count": 85,
   "id": "afb18143-b35d-406c-8c16-b73c94e3d778",
   "metadata": {},
   "outputs": [
    {
     "name": "stdout",
     "output_type": "stream",
     "text": [
      "[0, 1, 2, 3, 4, 5, 6, 7, 8, 9, 10, 11, 12, 13, 14, 15, 16, 17, 18, 19]\n"
     ]
    }
   ],
   "source": [
    "print(list(range(20)))"
   ]
  },
  {
   "cell_type": "code",
   "execution_count": 89,
   "id": "e98743dd-2695-41d9-b918-07e1bce31658",
   "metadata": {},
   "outputs": [
    {
     "name": "stdout",
     "output_type": "stream",
     "text": [
      "hi pwskills ineurons\n"
     ]
    }
   ],
   "source": [
    "print(\"hi\",end=\" \")\n",
    "print(\"pwskills\",end=\" \")\n",
    "print(\"ineurons\")"
   ]
  },
  {
   "cell_type": "code",
   "execution_count": 90,
   "id": "187cb93d-58b9-4fa3-aa6d-6a24644c2b74",
   "metadata": {},
   "outputs": [
    {
     "name": "stdout",
     "output_type": "stream",
     "text": [
      "0\n",
      "1\n",
      "2\n",
      "3\n",
      "4\n",
      "done\n"
     ]
    }
   ],
   "source": [
    "for i in range(5):\n",
    "    print(i)\n",
    "else:\n",
    "    print(\"done\")"
   ]
  },
  {
   "cell_type": "code",
   "execution_count": 102,
   "id": "d394ed6a-85d5-45e6-bfc1-36455b4a6885",
   "metadata": {},
   "outputs": [
    {
     "name": "stdout",
     "output_type": "stream",
     "text": [
      "* \n",
      "* * \n",
      "* * * \n",
      "* * * * \n",
      "* * * * * \n"
     ]
    }
   ],
   "source": [
    "for i in range(5):\n",
    "    for j in range(i+1):\n",
    "        print(\"*\",end=\" \")\n",
    "    print()"
   ]
  },
  {
   "cell_type": "code",
   "execution_count": 108,
   "id": "8764e84c-e456-43a7-abad-737a3e0e2ab8",
   "metadata": {},
   "outputs": [
    {
     "name": "stdout",
     "output_type": "stream",
     "text": [
      "* * * * * \n",
      "* * * * \n",
      "* * * \n",
      "* * \n",
      "* \n"
     ]
    }
   ],
   "source": [
    "for i in range(5,0,-1):\n",
    "    for j in range(i,0,-1):\n",
    "        print(\"*\",end=\" \")\n",
    "    print()"
   ]
  },
  {
   "cell_type": "code",
   "execution_count": 119,
   "id": "6ebe3891-5f50-46ed-b220-bd122a413b4f",
   "metadata": {},
   "outputs": [
    {
     "name": "stdout",
     "output_type": "stream",
     "text": [
      "1 2 3 4 5 \n",
      "2 4 6 8 10 \n",
      "3 6 9 12 15 \n",
      "4 8 12 16 20 \n",
      "5 10 15 20 25 \n"
     ]
    }
   ],
   "source": [
    "for i in range(1,6):\n",
    "    for j in range(1,6):\n",
    "        print(i*j,end=\" \")\n",
    "    print()"
   ]
  },
  {
   "cell_type": "code",
   "execution_count": 122,
   "id": "28eca153-6ece-4222-bc6e-808f81aa3641",
   "metadata": {},
   "outputs": [
    {
     "name": "stdin",
     "output_type": "stream",
     "text": [
      "enter the word jhwkh\n"
     ]
    },
    {
     "name": "stdout",
     "output_type": "stream",
     "text": [
      "you entered jhwkh\n"
     ]
    },
    {
     "name": "stdin",
     "output_type": "stream",
     "text": [
      "enter the word iowhio\n"
     ]
    },
    {
     "name": "stdout",
     "output_type": "stream",
     "text": [
      "you entered iowhio\n"
     ]
    },
    {
     "name": "stdin",
     "output_type": "stream",
     "text": [
      "enter the word quit\n"
     ]
    },
    {
     "name": "stdout",
     "output_type": "stream",
     "text": [
      "you entered quit\n"
     ]
    }
   ],
   "source": [
    "text=\" \"\n",
    "while text !=\"quit\":\n",
    "    text =input(\"enter the word\")\n",
    "    print(\"you entered\",text)\n",
    "\n",
    "#if you dont know the limit of the iteration then you can go with  the WHILE Loop.\n",
    "#if you know about the limit of the iteration then you cna go with the For loop ."
   ]
  },
  {
   "cell_type": "raw",
   "id": "d4ea2afd-1708-4ef2-97e6-7839f91c1151",
   "metadata": {},
   "source": [
    "#break\n",
    "#continue\n"
   ]
  }
 ],
 "metadata": {
  "kernelspec": {
   "display_name": "Python 3 (ipykernel)",
   "language": "python",
   "name": "python3"
  },
  "language_info": {
   "codemirror_mode": {
    "name": "ipython",
    "version": 3
   },
   "file_extension": ".py",
   "mimetype": "text/x-python",
   "name": "python",
   "nbconvert_exporter": "python",
   "pygments_lexer": "ipython3",
   "version": "3.10.8"
  }
 },
 "nbformat": 4,
 "nbformat_minor": 5
}
