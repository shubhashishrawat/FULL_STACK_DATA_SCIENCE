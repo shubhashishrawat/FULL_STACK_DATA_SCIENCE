{
 "cells": [
  {
   "cell_type": "markdown",
   "id": "f32fdc4f-cc9d-46ed-86b1-dfd18b0e7890",
   "metadata": {},
   "source": [
    "#Basic Level"
   ]
  },
  {
   "cell_type": "markdown",
   "id": "bc79f105-e9e5-4b44-928d-6011f5fe9a1f",
   "metadata": {},
   "source": [
    "1. Write a Python program to print the numbers from 1 to 10 using a `for` loop.\n"
   ]
  },
  {
   "cell_type": "code",
   "execution_count": 13,
   "id": "029f8fca-c281-4ef4-aa23-1cd939138d15",
   "metadata": {},
   "outputs": [
    {
     "name": "stdout",
     "output_type": "stream",
     "text": [
      "1\n",
      "2\n",
      "3\n",
      "4\n",
      "5\n",
      "6\n",
      "7\n",
      "8\n",
      "9\n",
      "10\n"
     ]
    }
   ],
   "source": [
    "for i in range(1,11):\n",
    "    print(i)\n",
    "        "
   ]
  },
  {
   "cell_type": "markdown",
   "id": "8c5f8752-7f77-45c1-8f6f-d8cae89a07e4",
   "metadata": {},
   "source": [
    "2. Create a program that calculates the sum of all numbers in a list using a `for` loop.\n"
   ]
  },
  {
   "cell_type": "code",
   "execution_count": 19,
   "id": "b38645fa-38e5-4923-8a0d-619a94ce06e3",
   "metadata": {},
   "outputs": [
    {
     "name": "stdout",
     "output_type": "stream",
     "text": [
      "55\n"
     ]
    }
   ],
   "source": [
    "list1=[1,2,3,4,5,6,7,8,9,10]\n",
    "sum=0\n",
    "for i in list1:\n",
    "    sum=sum+i\n",
    "print(sum)"
   ]
  },
  {
   "cell_type": "markdown",
   "id": "d8e5ee88-6722-4d2a-8bb9-8e6a06cd6f73",
   "metadata": {},
   "source": [
    "3. Write a program to print the characters of a string in reverse order using a `for` loop.\n"
   ]
  },
  {
   "cell_type": "code",
   "execution_count": 28,
   "id": "7ffc0a8e-73b6-4a90-8b91-7ba0cc8be1ce",
   "metadata": {},
   "outputs": [
    {
     "name": "stdout",
     "output_type": "stream",
     "text": [
      "hsihsahbuhs\n"
     ]
    }
   ],
   "source": [
    "s=\"shubhashish\"\n",
    "k=''\n",
    "for i in range(len(s),0,-1):\n",
    "    k+=s[i-1]\n",
    "print(k)\n",
    "    "
   ]
  },
  {
   "cell_type": "markdown",
   "id": "c22c0983-b53c-4529-9882-2c64beecff42",
   "metadata": {},
   "source": [
    "4. Develop a program that finds the factorial of a given number using a `for` loop.\n"
   ]
  },
  {
   "cell_type": "code",
   "execution_count": 35,
   "id": "aaee2010-0a00-482e-a252-95b3cfb7d7eb",
   "metadata": {},
   "outputs": [
    {
     "name": "stdin",
     "output_type": "stream",
     "text": [
      " 5\n"
     ]
    },
    {
     "name": "stdout",
     "output_type": "stream",
     "text": [
      "120\n"
     ]
    }
   ],
   "source": [
    "j=int(input())\n",
    "fact=1\n",
    "for i in range(2,j+1):\n",
    "    fact=fact*i\n",
    "print(fact)\n",
    "    \n",
    "    "
   ]
  },
  {
   "cell_type": "markdown",
   "id": "8356bff0-930a-4ae6-972f-56c5202a247e",
   "metadata": {},
   "source": [
    "5. Create a program to print the multiplication table of a given number using a `for` loop.\n"
   ]
  },
  {
   "cell_type": "code",
   "execution_count": 48,
   "id": "7e2e0a31-6a1d-4f12-b8d5-0bdc13185ad8",
   "metadata": {},
   "outputs": [
    {
     "name": "stdin",
     "output_type": "stream",
     "text": [
      " 5\n"
     ]
    },
    {
     "name": "stdout",
     "output_type": "stream",
     "text": [
      "5 x 1 = 5\n",
      "5 x 2 = 10\n",
      "5 x 3 = 15\n",
      "5 x 4 = 20\n",
      "5 x 5 = 25\n",
      "5 x 6 = 30\n",
      "5 x 7 = 35\n",
      "5 x 8 = 40\n",
      "5 x 9 = 45\n",
      "5 x 10 = 50\n"
     ]
    }
   ],
   "source": [
    "j=int(input())\n",
    "for i in range(1,11):\n",
    "    print(j, 'x' , i ,'=', j*i)\n",
    "    "
   ]
  },
  {
   "cell_type": "markdown",
   "id": "33051017-d839-4644-9bdb-e0b33c83f3c0",
   "metadata": {},
   "source": [
    "6. Write a program that counts the number of even and odd numbers in a list using a `for` loop.\n"
   ]
  },
  {
   "cell_type": "code",
   "execution_count": 59,
   "id": "1089f918-e1e4-41a6-83cd-54f9116590dc",
   "metadata": {},
   "outputs": [
    {
     "name": "stdout",
     "output_type": "stream",
     "text": [
      "number of even: 5\n",
      "number of odd: 5\n"
     ]
    }
   ],
   "source": [
    "x=[1,2,3,4,5,6,7,8,9,10]\n",
    "e_count=0\n",
    "o_count=0\n",
    "for i in x:\n",
    "    if i %2==0:\n",
    "        e_count=e_count+1\n",
    "    else:\n",
    "        o_count=o_count+1\n",
    "print(\"number of even:\",e_count)\n",
    "print(\"number of odd:\",o_count)\n",
    "\n",
    "        \n",
    "    "
   ]
  },
  {
   "cell_type": "markdown",
   "id": "4556f093-8c76-4ef0-8eba-afd090c67a82",
   "metadata": {},
   "source": [
    "7. Develop a program that prints the squares of numbers from 1 to 5 using a `for` loop.\n"
   ]
  },
  {
   "cell_type": "code",
   "execution_count": 6,
   "id": "21459708-5b83-4c8d-a088-49ae47d90467",
   "metadata": {},
   "outputs": [
    {
     "name": "stdout",
     "output_type": "stream",
     "text": [
      "1\n",
      "4\n",
      "9\n",
      "16\n",
      "25\n"
     ]
    }
   ],
   "source": [
    "sq=0\n",
    "for i in range(1,6):\n",
    "    sq=i**2\n",
    "    print(sq)\n",
    "    "
   ]
  },
  {
   "cell_type": "markdown",
   "id": "55a38983-bf99-4446-af80-8c9c331a63e6",
   "metadata": {},
   "source": [
    "8. Create a program to find the length of a string without using the `len()` function.\n"
   ]
  },
  {
   "cell_type": "code",
   "execution_count": 12,
   "id": "762b4f32-81fe-41ab-abb8-42136361e685",
   "metadata": {},
   "outputs": [
    {
     "name": "stdin",
     "output_type": "stream",
     "text": [
      " shubhashish\n"
     ]
    },
    {
     "name": "stdout",
     "output_type": "stream",
     "text": [
      "11\n"
     ]
    }
   ],
   "source": [
    "s=input()\n",
    "c=0\n",
    "for i in s:\n",
    "    c=c+1\n",
    "print(c)\n",
    "    \n",
    "\n",
    "\n",
    "    "
   ]
  },
  {
   "cell_type": "markdown",
   "id": "52814b0a-d6f2-46ee-b02c-11d84ef8c141",
   "metadata": {},
   "source": [
    "9. Write a program that calculates the average of a list of numbers using a `for` loop.\n"
   ]
  },
  {
   "cell_type": "code",
   "execution_count": 16,
   "id": "6c7a0720-c65b-4c64-a6ec-bc9d20ad7da3",
   "metadata": {},
   "outputs": [
    {
     "name": "stdout",
     "output_type": "stream",
     "text": [
      "3\n"
     ]
    }
   ],
   "source": [
    "num=[1,2,3,4,5]\n",
    "sum=0\n",
    "count=0\n",
    "for i in num:\n",
    "    sum=sum+i\n",
    "    count=count+1\n",
    "    avg=sum//count\n",
    "print(avg)"
   ]
  },
  {
   "cell_type": "markdown",
   "id": "fd06d0d4-e7e0-4a9f-9c1c-de46ddb3b159",
   "metadata": {},
   "source": [
    "10. Develop a program that prints the first `n` Fibonacci numbers using a `for` loop.\n"
   ]
  },
  {
   "cell_type": "code",
   "execution_count": 25,
   "id": "f3ecf848-a9e8-4955-9e4a-7cfa25a4085a",
   "metadata": {},
   "outputs": [
    {
     "name": "stdin",
     "output_type": "stream",
     "text": [
      " 5\n"
     ]
    },
    {
     "name": "stdout",
     "output_type": "stream",
     "text": [
      "1\n",
      "2\n",
      "3\n",
      "5\n",
      "8\n"
     ]
    }
   ],
   "source": [
    "n=int(input())\n",
    "fib1=0\n",
    "fib2=1\n",
    "fib=0\n",
    "for i in range(n):\n",
    "    fib=fib1+fib2\n",
    "    fib1=fib2\n",
    "    fib2=fib\n",
    "    print(fib)\n",
    "    \n",
    "    \n",
    "    \n",
    "    "
   ]
  },
  {
   "cell_type": "markdown",
   "id": "d475c039-6622-4add-b848-f7d209c207d4",
   "metadata": {},
   "source": [
    "##Intermediate Level:\n"
   ]
  },
  {
   "cell_type": "markdown",
   "id": "6357ecea-f785-4497-929a-f1e770ba154b",
   "metadata": {},
   "source": [
    "11. Write a program to check if a given list contains any duplicates using a `for` loop"
   ]
  },
  {
   "cell_type": "code",
   "execution_count": 16,
   "id": "14bb2b8a-b0c6-4bd1-87a6-25dd3fdb42e0",
   "metadata": {},
   "outputs": [
    {
     "name": "stdout",
     "output_type": "stream",
     "text": [
      "it  does not have duplicate\n",
      "it  does not have duplicate\n",
      "it  does not have duplicate\n",
      "it  does not have duplicate\n",
      "it  does not have duplicate\n",
      "it  does not have duplicate\n",
      "it  does not have duplicate\n",
      "\n",
      "it  does not have duplicate\n",
      "it  does not have duplicate\n",
      "it  does not have duplicate\n",
      "it  does not have duplicate\n",
      "it  does not have duplicate\n",
      "it  has  duplicate\n",
      "\n",
      "it  does not have duplicate\n",
      "it  does not have duplicate\n",
      "it  does not have duplicate\n",
      "it  has  duplicate\n",
      "it  does not have duplicate\n",
      "\n",
      "it  does not have duplicate\n",
      "it  has  duplicate\n",
      "it  does not have duplicate\n",
      "it  does not have duplicate\n",
      "\n",
      "it  does not have duplicate\n",
      "it  does not have duplicate\n",
      "it  does not have duplicate\n",
      "\n",
      "it  does not have duplicate\n",
      "it  does not have duplicate\n",
      "\n",
      "it  does not have duplicate\n",
      "\n",
      "\n"
     ]
    }
   ],
   "source": [
    "list1=[1,2,3,4,5,4,3,2]\n",
    "for i in range(len(list1)):\n",
    "    for j  in range(i+1,len(list1)):\n",
    "        if list1[i]==list1[j]:\n",
    "            print(\"it  has  duplicate\")\n",
    "        else:\n",
    "            print(\"it  does not have duplicate\")\n",
    "    print()"
   ]
  },
  {
   "cell_type": "markdown",
   "id": "38d3ecbe-43dd-4b94-8f5a-09be198c1965",
   "metadata": {},
   "source": [
    "12. Create a program that prints the prime numbers in a given range using a `for` loop.\n"
   ]
  },
  {
   "cell_type": "code",
   "execution_count": 27,
   "id": "f0487fe4-ce02-4592-8da9-cd8fea447004",
   "metadata": {},
   "outputs": [
    {
     "name": "stdin",
     "output_type": "stream",
     "text": [
      " 10\n"
     ]
    },
    {
     "name": "stdout",
     "output_type": "stream",
     "text": [
      "not a prime number: 0\n",
      "prime number: 1\n",
      "not a prime number: 2\n",
      "prime number: 3\n",
      "not a prime number: 4\n",
      "prime number: 5\n",
      "not a prime number: 6\n",
      "prime number: 7\n",
      "not a prime number: 8\n",
      "prime number: 9\n"
     ]
    }
   ],
   "source": [
    "x=int(input())\n",
    "if x>1:\n",
    "    for i in range(x):\n",
    "        if i%2==0:\n",
    "            print(\"not a prime number:\",i)\n",
    "        else:\n",
    "            print (\"prime number:\",i)\n",
    "else:\n",
    "    print(\"not a prime number:\",x)\n",
    "    "
   ]
  },
  {
   "cell_type": "markdown",
   "id": "ce242606-80ca-41f5-8b55-eca55cec6f2b",
   "metadata": {},
   "source": [
    "13. Develop a program that counts the number of vowels in a string using a `for` loop.\n",
    "\n"
   ]
  },
  {
   "cell_type": "code",
   "execution_count": 18,
   "id": "82251e11-fb53-42cb-ace2-2c7c3020edfc",
   "metadata": {},
   "outputs": [
    {
     "name": "stdin",
     "output_type": "stream",
     "text": [
      " shubhashish\n"
     ]
    },
    {
     "name": "stdout",
     "output_type": "stream",
     "text": [
      "3\n"
     ]
    }
   ],
   "source": [
    "string1=input()\n",
    "li=string1.lower()\n",
    "count=0\n",
    "for i in li:\n",
    "        if i=='a' or i=='e' or i=='i' or i=='o' or i=='u':\n",
    "            count=count+1\n",
    "print(count)"
   ]
  },
  {
   "cell_type": "markdown",
   "id": "1fc5e251-1f53-4325-bbb2-cb3848147dd8",
   "metadata": {},
   "source": [
    "\n",
    "14. Write a program to find the maximum element in a 2D list using a nested `for` loop"
   ]
  },
  {
   "cell_type": "code",
   "execution_count": 27,
   "id": "9e6407a5-c054-4d29-b254-6847067ba9fa",
   "metadata": {},
   "outputs": [
    {
     "data": {
      "text/plain": [
       "10"
      ]
     },
     "execution_count": 27,
     "metadata": {},
     "output_type": "execute_result"
    }
   ],
   "source": [
    "def get_max(my_list):\n",
    "    m = None\n",
    "    for item in my_list:\n",
    "        if isinstance(item, list):\n",
    "            item = get_max(item)\n",
    "        if not m or m < item:\n",
    "            m = item\n",
    "    return m\n",
    "        \n",
    "my_list = [2,4,6,[5,10,3]]\n",
    "get_max(my_list) "
   ]
  },
  {
   "cell_type": "markdown",
   "id": "d5ca3942-9af4-432a-aa51-b7d31e29aeca",
   "metadata": {},
   "source": [
    "15. Create a program that removes all occurrences of a specific element from a list using a `for` loop"
   ]
  },
  {
   "cell_type": "code",
   "execution_count": 36,
   "id": "bd6802b1-4ee6-42a4-8a84-9dac2d3b587d",
   "metadata": {},
   "outputs": [
    {
     "name": "stdin",
     "output_type": "stream",
     "text": [
      " 2\n"
     ]
    },
    {
     "name": "stdout",
     "output_type": "stream",
     "text": [
      "1 3 4 3 "
     ]
    }
   ],
   "source": [
    "x = [1, 2, 3, 4, 2, 2, 3]\n",
    "val=int(input())\n",
    "for i in x:\n",
    "    if i!=val:\n",
    "        print(i,end=\" \")"
   ]
  },
  {
   "cell_type": "markdown",
   "id": "c6d64c77-b263-421b-a80b-0a2765bbc387",
   "metadata": {},
   "source": [
    "16. Develop a program that generates a multiplication table for numbers from 1 to 5 using a nested `for` loop\n"
   ]
  },
  {
   "cell_type": "code",
   "execution_count": 37,
   "id": "88dd887d-6fc4-468f-8681-c94b0037d9c4",
   "metadata": {},
   "outputs": [
    {
     "name": "stdin",
     "output_type": "stream",
     "text": [
      " 5\n"
     ]
    },
    {
     "name": "stdout",
     "output_type": "stream",
     "text": [
      "5 X 1 = 5\n",
      "5 X 2 = 10\n",
      "5 X 3 = 15\n",
      "5 X 4 = 20\n",
      "5 X 5 = 25\n",
      "5 X 6 = 30\n",
      "5 X 7 = 35\n",
      "5 X 8 = 40\n",
      "5 X 9 = 45\n",
      "5 X 10 = 50\n"
     ]
    }
   ],
   "source": [
    "num=int(input())\n",
    "for i in range(1,11):\n",
    "    print(num ,\"X\" ,i , \"=\",num*i)\n"
   ]
  },
  {
   "cell_type": "markdown",
   "id": "d9a7e373-713f-4131-9e8d-dc031719794f",
   "metadata": {},
   "source": [
    "17. Write a program that converts a list of Fahrenheit temperatures to Celsius using a `for` loop.\n"
   ]
  },
  {
   "cell_type": "code",
   "execution_count": 46,
   "id": "2ccfdaa8-23fa-4637-9448-c3ff3ff1997f",
   "metadata": {},
   "outputs": [
    {
     "name": "stdout",
     "output_type": "stream",
     "text": [
      "7  8  10  4  "
     ]
    }
   ],
   "source": [
    "f=[45,48,50,40]\n",
    "for i in f:\n",
    "    c = (i-32)*5/9\n",
    "    print(int(c) , end=\"  \")\n",
    "    "
   ]
  },
  {
   "cell_type": "markdown",
   "id": "3ce7ab81-43a0-4d85-9a58-315dbaabe449",
   "metadata": {},
   "source": [
    "18. Create a program to print the common elements from two lists using a `for` loop.\n"
   ]
  },
  {
   "cell_type": "code",
   "execution_count": 53,
   "id": "2aff85fa-9c69-43c1-b32d-225b93a29047",
   "metadata": {},
   "outputs": [
    {
     "name": "stdout",
     "output_type": "stream",
     "text": [
      "2\n"
     ]
    }
   ],
   "source": [
    "list1=[1,2,3,4,5]\n",
    "list2=[2,8,6,7]\n",
    "for i in list1:\n",
    "    if i in list2:\n",
    "        print(i)"
   ]
  },
  {
   "cell_type": "markdown",
   "id": "3ab29ab5-6fa9-49fe-82f0-ff79e3fe753c",
   "metadata": {},
   "source": [
    "19. Develop a program that prints the pattern of right-angled triangles using a `for` loop. Use ‘*’ to draw the\n",
    "pattern\n"
   ]
  },
  {
   "cell_type": "code",
   "execution_count": 72,
   "id": "11e873d1-b067-45f3-b5c5-0abee1c33d33",
   "metadata": {},
   "outputs": [
    {
     "name": "stdin",
     "output_type": "stream",
     "text": [
      " 5\n"
     ]
    },
    {
     "name": "stdout",
     "output_type": "stream",
     "text": [
      "*\n",
      "* *\n",
      "* * *\n",
      "* * * *\n",
      "* * * * *\n"
     ]
    }
   ],
   "source": [
    "n=int(input())\n",
    "for i in range(0,n):\n",
    "    for j in range(0,i):\n",
    "        print(\"*\",end=\" \")\n",
    "    print(\"*\")\n",
    "    "
   ]
  },
  {
   "cell_type": "code",
   "execution_count": 71,
   "id": "6b067503-204a-4454-be5d-51455ebccf90",
   "metadata": {},
   "outputs": [
    {
     "name": "stdout",
     "output_type": "stream",
     "text": [
      "\n",
      "* \n",
      "* * \n",
      "* * * \n",
      "* * * * \n"
     ]
    }
   ],
   "source": []
  },
  {
   "cell_type": "markdown",
   "id": "bf7f949c-0b88-44ca-9e91-de9a387ed848",
   "metadata": {},
   "source": [
    "20. Write a program to find the greatest common divisor (GCD) of two numbers using a `for` loop"
   ]
  },
  {
   "cell_type": "code",
   "execution_count": 76,
   "id": "e320da40-db27-46eb-822c-0ad62ddcd640",
   "metadata": {},
   "outputs": [
    {
     "name": "stdin",
     "output_type": "stream",
     "text": [
      " 48\n",
      " 60\n"
     ]
    },
    {
     "name": "stdout",
     "output_type": "stream",
     "text": [
      "GCd of both the number is : 12\n"
     ]
    }
   ],
   "source": [
    "x= int(input())\n",
    "y=int(input())\n",
    "if x>y:\n",
    "    small=x\n",
    "else:\n",
    "    small=y\n",
    "for i in range(1,small):\n",
    "    if x%i==0 and y%i==0:\n",
    "        gcd=i\n",
    "print(\"GCd of both the number is :\",gcd)"
   ]
  },
  {
   "cell_type": "markdown",
   "id": "a5ee2be7-346f-4e91-9038-d7a2590fc01b",
   "metadata": {},
   "source": [
    "#ADVANCE LEVEL:"
   ]
  },
  {
   "cell_type": "markdown",
   "id": "2fdc0fe7-9882-4ec0-b5ea-ee67b781fd09",
   "metadata": {},
   "source": [
    "21. Create a program that calculates the sum of the digits of numbers in a list using a list comprehension"
   ]
  },
  {
   "cell_type": "code",
   "execution_count": 10,
   "id": "cee37b01-a649-4d1b-9f43-3002e44d923d",
   "metadata": {},
   "outputs": [
    {
     "name": "stdout",
     "output_type": "stream",
     "text": [
      "55\n"
     ]
    }
   ],
   "source": [
    "list1=[1,2,3,4,5,6,7,8,9,10]\n",
    "sum=0\n",
    "[sum:=sum+i for i in list1]\n",
    "print(sum)\n",
    "\n"
   ]
  },
  {
   "cell_type": "markdown",
   "id": "d2279cb1-07f3-44c7-ae61-541cc5ac208a",
   "metadata": {},
   "source": [
    "22. Write a program to find the prime factors of a given number using a `for` loop and list comprehension"
   ]
  },
  {
   "cell_type": "code",
   "execution_count": 18,
   "id": "74a8b1a3-ca1b-40d2-9dbc-255d12925944",
   "metadata": {},
   "outputs": [
    {
     "name": "stdout",
     "output_type": "stream",
     "text": [
      "[3, 5, 15]\n"
     ]
    }
   ],
   "source": [
    "n=30\n",
    "k=[i for i in  range(2,n)  if n%i==0  and i%2!=0]\n",
    "print(k)"
   ]
  },
  {
   "cell_type": "markdown",
   "id": "f18fd19a-b6f6-4d46-afe9-bd4b1b95c9d8",
   "metadata": {},
   "source": [
    "24. Create a program that generates a list of all palindromic numbers up to a specified limit using a list\n",
    "comprehension.\n"
   ]
  },
  {
   "cell_type": "code",
   "execution_count": 6,
   "id": "7b76848f-d5e6-455d-990f-a2c432e0b201",
   "metadata": {},
   "outputs": [
    {
     "name": "stdin",
     "output_type": "stream",
     "text": [
      " 100\n"
     ]
    },
    {
     "name": "stdout",
     "output_type": "stream",
     "text": [
      "[1, 2, 3, 4, 5, 6, 7, 8, 9, 11, 22, 33, 44, 55, 66, 77, 88, 99]\n"
     ]
    }
   ],
   "source": [
    "n=int(input())\n",
    "ret=[x for x in range(1,n) if str(x)==str(x)[::-1]]\n",
    "print(ret)"
   ]
  },
  {
   "cell_type": "markdown",
   "id": "4f1a3257-af95-43f3-ae30-9e69c69869c7",
   "metadata": {},
   "source": [
    "25. Write a program to flatten a nested list using list comprehension.\n"
   ]
  },
  {
   "cell_type": "code",
   "execution_count": 11,
   "id": "f4f48506-8aff-4bc2-9560-81a552b82b83",
   "metadata": {},
   "outputs": [
    {
     "name": "stdout",
     "output_type": "stream",
     "text": [
      "[1, 2, 6, 4, 5, 6, 7]\n"
     ]
    }
   ],
   "source": [
    "my_list = [[1], [2, 6], [4, 5, 6, 7]]\n",
    "k= [y for x in my_list for y in x]\n",
    "print(k)"
   ]
  },
  {
   "cell_type": "markdown",
   "id": "591a4e6d-cdf5-4e87-a207-90758ee1ae13",
   "metadata": {},
   "source": [
    "26. Develop a program that computes the sum of even and odd numbers in a list separately using list\n",
    "comprehension.\n"
   ]
  },
  {
   "cell_type": "code",
   "execution_count": 41,
   "id": "df2adbdc-566f-419d-8454-80bfd42088d4",
   "metadata": {},
   "outputs": [
    {
     "name": "stdin",
     "output_type": "stream",
     "text": [
      " 10\n"
     ]
    },
    {
     "name": "stdout",
     "output_type": "stream",
     "text": [
      "sum  of even number :20 \n",
      "sum of odd number:25\n"
     ]
    }
   ],
   "source": [
    "n=int(input())\n",
    "x=0\n",
    "y=0\n",
    "[(x:=x+i,y:=y+(i+1)) for i in range(0,n,2)]\n",
    "print(\"sum  of even number :{} \\nsum of odd number:{}\".format(x,y))"
   ]
  },
  {
   "cell_type": "markdown",
   "id": "778ce753-6f1b-4018-9dc7-9441bf0c00d8",
   "metadata": {},
   "source": [
    "27. Create a program that generates a list of squares of odd numbers between 1 and 10 using list\n",
    "comprehension.\n"
   ]
  },
  {
   "cell_type": "code",
   "execution_count": 45,
   "id": "790f335b-68ff-4887-b1bf-bf7b514707b0",
   "metadata": {},
   "outputs": [
    {
     "name": "stdin",
     "output_type": "stream",
     "text": [
      " 10\n"
     ]
    },
    {
     "name": "stdout",
     "output_type": "stream",
     "text": [
      "[1, 9, 25, 49, 81]\n"
     ]
    }
   ],
   "source": [
    "x=int(input())\n",
    "j=0\n",
    "k=[j:=i**2 for i in range(1,x) if i%2!=0]\n",
    "print(k)"
   ]
  },
  {
   "cell_type": "markdown",
   "id": "0452e9a8-bec0-4a50-9f34-6ab2799622e8",
   "metadata": {},
   "source": [
    "28. Write a program that combines two lists into a dictionary using list comprehension.\n"
   ]
  },
  {
   "cell_type": "code",
   "execution_count": 49,
   "id": "dfd60bc7-fedb-410c-9d63-58f1dcfecc6b",
   "metadata": {},
   "outputs": [
    {
     "data": {
      "text/plain": [
       "{1: 'shubh', 2: 'sunil', 3: 'mohit', 4: 'sourabh', 5: 'komal'}"
      ]
     },
     "execution_count": 49,
     "metadata": {},
     "output_type": "execute_result"
    }
   ],
   "source": [
    "list1=[1,2,3,4,5]\n",
    "list2=[\"shubh\",\"sunil\",\"mohit\",\"sourabh\",\"komal\"]\n",
    "k={list1[i]:list2[i] for i in range(len(list1))}\n",
    "k"
   ]
  },
  {
   "cell_type": "markdown",
   "id": "81eafe52-cafd-49fe-8da5-e605b48d2a21",
   "metadata": {},
   "source": [
    "29. Develop a program that extracts the vowels from a string and stores them in a list using list comprehension.\n"
   ]
  },
  {
   "cell_type": "code",
   "execution_count": 51,
   "id": "487ed428-0308-4655-8708-411a084263cc",
   "metadata": {},
   "outputs": [
    {
     "name": "stdin",
     "output_type": "stream",
     "text": [
      " sonam\n"
     ]
    },
    {
     "name": "stdout",
     "output_type": "stream",
     "text": [
      "['o', 'a']\n"
     ]
    }
   ],
   "source": [
    "input1=input()\n",
    "Vowels=['a','e','o','u','i','A','E','I','O','U']\n",
    "k=[i for i in input1 if i in Vowels]\n",
    "print(k)"
   ]
  },
  {
   "cell_type": "markdown",
   "id": "61840776-4bd2-4690-8f18-0b159dc7da6f",
   "metadata": {},
   "source": [
    "30. Create a program that removes all non-numeric characters from a list of strings using list comprehension.\n"
   ]
  },
  {
   "cell_type": "code",
   "execution_count": 66,
   "id": "004f57c8-3b0b-46c7-aa8d-3e84db2238bc",
   "metadata": {},
   "outputs": [
    {
     "name": "stdout",
     "output_type": "stream",
     "text": [
      "Original: shubh23, non-Numeric Only: shubh\n",
      "Original: sunil6, non-Numeric Only: sunil\n",
      "Original: mohit75, non-Numeric Only: mohit\n",
      "Original: sourabh894, non-Numeric Only: sourabh\n",
      "Original: komal76, non-Numeric Only: komal\n"
     ]
    }
   ],
   "source": [
    "list2=[\"shubh23\",\"sunil6\",\"mohit75\",\"sourabh894\",\"komal76\"]\n",
    "non_numeric_strings = [''.join(char for char in string if char.isalpha()) for string in list2]\n",
    "for i, string  in enumerate(list2):\n",
    "    print(f\"Original: {string}, non-Numeric Only: {non_numeric_strings[i]}\")"
   ]
  },
  {
   "cell_type": "code",
   "execution_count": 62,
   "id": "d00311bf-f390-4978-8683-a53cdff6844b",
   "metadata": {},
   "outputs": [
    {
     "name": "stdout",
     "output_type": "stream",
     "text": [
      "Original: shubh23, Numeric Only: 23\n",
      "Original: sunil6, Numeric Only: 6\n",
      "Original: mohit75, Numeric Only: 75\n",
      "Original: sourabh894, Numeric Only: 894\n",
      "Original: komal76, Numeric Only: 76\n"
     ]
    }
   ],
   "source": [
    "# to find the numeric \n",
    "list2=[\"shubh23\",\"sunil6\",\"mohit75\",\"sourabh894\",\"komal76\"]\n",
    "numeric_strings = [''.join(char for char in string if char.isdigit()) for string in list2]\n",
    "for i, string in enumerate(list2):\n",
    "    print(f\"Original: {string}, Numeric Only: {numeric_strings[i]}\")"
   ]
  },
  {
   "cell_type": "markdown",
   "id": "053127f2-f16a-4719-9da7-cbdaec1d3a8b",
   "metadata": {},
   "source": [
    "31. Write a program to generate a list of prime numbers using the Sieve of Eratosthenes algorithm and list\n",
    "comprehension.\n"
   ]
  },
  {
   "cell_type": "code",
   "execution_count": 4,
   "id": "2c35b539-d63b-491e-90c5-9736a235ce44",
   "metadata": {},
   "outputs": [
    {
     "name": "stdout",
     "output_type": "stream",
     "text": [
      "2 3 5 7 11 13 17 19 23 29 31 37 41 43 47 53 59 61 67 71 73 79 83 89 97 None\n"
     ]
    }
   ],
   "source": [
    "def prime_eratosthenes(n):\n",
    "    prime_list = []\n",
    "    for i in range(2, n+1):\n",
    "        if i not in prime_list:\n",
    "            print (i,end=\" \")\n",
    "            for j in range(i*i, n+1, i):\n",
    "                prime_list.append(j)\n",
    "\n",
    "print(prime_eratosthenes(100));"
   ]
  },
  {
   "cell_type": "markdown",
   "id": "67baa7ad-2b73-47cb-9548-fe3c5edd9088",
   "metadata": {},
   "source": [
    "32. Create a program that generates a list of all Pythagorean triplets up to a specified limit using list\n",
    "comprehension.\n"
   ]
  },
  {
   "cell_type": "code",
   "execution_count": 8,
   "id": "f1edad5e-d066-4053-8c37-8137a9f62047",
   "metadata": {},
   "outputs": [
    {
     "name": "stdin",
     "output_type": "stream",
     "text": [
      "enter the number of inputs: 5\n"
     ]
    },
    {
     "name": "stdout",
     "output_type": "stream",
     "text": [
      "[(3, 4, 5)]\n"
     ]
    }
   ],
   "source": [
    "n=int(input(\"enter the number of inputs:\"))\n",
    "triplets=[(a,b,c) for a in range(1,n+1) for b in range(a,n+1) for c in  range(b,n+1) if a**2 + b**2 == c**2]\n",
    "print(triplets)"
   ]
  },
  {
   "cell_type": "markdown",
   "id": "b9420a26-cc67-4591-9c5f-53464bc03662",
   "metadata": {},
   "source": [
    "33. Develop a program that generates a list of all possible combinations of two lists using list comprehension.\n"
   ]
  },
  {
   "cell_type": "code",
   "execution_count": 11,
   "id": "1ab18ebf-88eb-4068-a42c-2f4d20bd9a46",
   "metadata": {},
   "outputs": [
    {
     "name": "stdout",
     "output_type": "stream",
     "text": [
      "[(1, 4), (1, 5), (1, 6), (1, 'rawat'), (1, 'kumar'), (2, 4), (2, 5), (2, 6), (2, 'rawat'), (2, 'kumar'), (3, 4), (3, 5), (3, 6), (3, 'rawat'), (3, 'kumar'), ('shubh', 4), ('shubh', 5), ('shubh', 6), ('shubh', 'rawat'), ('shubh', 'kumar'), ('mohit', 4), ('mohit', 5), ('mohit', 6), ('mohit', 'rawat'), ('mohit', 'kumar')]\n"
     ]
    }
   ],
   "source": [
    "list1=[1,2,3,\"shubh\",\"mohit\"]\n",
    "list2=[4,5,6,\"rawat\",\"kumar\"]\n",
    "j=[(i,j) for i in list1 for j in list2]\n",
    "print(j)"
   ]
  },
  {
   "cell_type": "markdown",
   "id": "9ba70cef-82fb-4afa-a622-06ee5095df13",
   "metadata": {},
   "source": [
    "34. Write a program that calculates the mean, median, and mode of a list of numbers using list"
   ]
  },
  {
   "cell_type": "code",
   "execution_count": 21,
   "id": "e1693632-c818-41b7-b9d7-8b41ef47aeec",
   "metadata": {},
   "outputs": [
    {
     "name": "stdout",
     "output_type": "stream",
     "text": [
      "[2.8333333333333335, 2.5, 2]\n"
     ]
    }
   ],
   "source": [
    "import statistics\n",
    "list1=[1,2,3,4,5,2]\n",
    "k=[mean:=statistics.mean(list1),median:=statistics.median(list1),mode:=statistics.mode(list1)]\n",
    "print(k)"
   ]
  },
  {
   "cell_type": "markdown",
   "id": "d8a7e21c-5992-47b7-9dba-564949dffe58",
   "metadata": {},
   "source": [
    "35. Create a program that generates Pascal's triangle up to a specified number of rows using list\n",
    "comprehension."
   ]
  },
  {
   "cell_type": "code",
   "execution_count": 18,
   "id": "8538cb4a-6e1d-40b9-ab62-3f7fb1af26d5",
   "metadata": {},
   "outputs": [
    {
     "name": "stdin",
     "output_type": "stream",
     "text": [
      " 5\n"
     ]
    },
    {
     "name": "stdout",
     "output_type": "stream",
     "text": [
      "          \n",
      "        1   \n",
      "      1   1   \n",
      "    1   2   1   \n",
      "  1   3   3   1   \n",
      "1   4   6   4   1   \n"
     ]
    }
   ],
   "source": [
    "n=int(input())\n",
    "for i in range(n+1):\n",
    "    for j in range(n-i):\n",
    "        print(\" \",end=\" \")\n",
    "    c=1\n",
    "    for j in range(1,i+1):\n",
    "        print(c,\" \",end=\" \")\n",
    "        c=c*(i-j)//j\n",
    "    print()"
   ]
  },
  {
   "cell_type": "markdown",
   "id": "4b652174-370f-47b5-a845-c1b0ac2e47b5",
   "metadata": {},
   "source": [
    "36. Develop a program that calculates the sum of the digits of a factorial of numbers from 1 to 5 using list\n",
    "comprehension."
   ]
  },
  {
   "cell_type": "code",
   "execution_count": 55,
   "id": "0453cb77-56de-4b44-b24c-ea856ad0e9f2",
   "metadata": {},
   "outputs": [
    {
     "name": "stdout",
     "output_type": "stream",
     "text": [
      "1\n",
      "2\n",
      "6\n",
      "24\n",
      "120\n"
     ]
    }
   ],
   "source": [
    "fact=1\n",
    "sum=0\n",
    "for i in range(1,n+1):\n",
    "    fact=fact*i\n",
    "    print(fact)"
   ]
  },
  {
   "cell_type": "code",
   "execution_count": 56,
   "id": "bedfd1d9-aca5-4ac3-b0f7-86eeffeb9460",
   "metadata": {},
   "outputs": [
    {
     "name": "stdout",
     "output_type": "stream",
     "text": [
      "153\n"
     ]
    }
   ],
   "source": [
    "fact=1\n",
    "sum=0\n",
    "for i in range(1,n+1):\n",
    "    fact=fact*i\n",
    "    sum=sum+fact\n",
    "print(sum)"
   ]
  },
  {
   "cell_type": "markdown",
   "id": "7f4a271f-8d50-478b-91ce-37ac5a37d6dc",
   "metadata": {},
   "source": [
    "37. Write a program that finds the longest word in a sentence using list comprehension."
   ]
  },
  {
   "cell_type": "code",
   "execution_count": 76,
   "id": "d7584946-1d5b-4061-825e-61c935f87e87",
   "metadata": {},
   "outputs": [
    {
     "name": "stdout",
     "output_type": "stream",
     "text": [
      "['shubhashish']\n"
     ]
    }
   ],
   "source": [
    "l=[\"shubh\",\"mohit\",\"kunal\",\"shubhashish\"]\n",
    "k=[max(l,key=len)]\n",
    "print(k)"
   ]
  },
  {
   "cell_type": "markdown",
   "id": "5849e8e3-a5cc-4ba1-8df7-7115b8f27c32",
   "metadata": {},
   "source": [
    "38. Create a program that filters a list of strings to include only those with more than three vowels using list\n",
    "comprehension."
   ]
  },
  {
   "cell_type": "code",
   "execution_count": 194,
   "id": "1dc9c031-dbe9-462e-8334-92d5454c35d3",
   "metadata": {},
   "outputs": [
    {
     "name": "stdout",
     "output_type": "stream",
     "text": [
      "shubhashish\n"
     ]
    }
   ],
   "source": [
    "l=[\"shubh\",\"mohit\",\"kunal\",\"shubhashish\"]\n",
    "n=[]\n",
    "v=['A','E','I','O','U','a','e','i','o','u']\n",
    "count=0\n",
    "for i in l:\n",
    "    for j in i:\n",
    "        if j in v:\n",
    "            count=count+1\n",
    "if count >3:\n",
    "    print(i)\n",
    "            \n",
    "            \n",
    "            "
   ]
  },
  {
   "cell_type": "markdown",
   "id": "579d3c84-0c48-43e2-a779-89aebbe76b53",
   "metadata": {},
   "source": [
    "39. Develop a program that calculates the sum of the digits of numbers from 1 to 1000 using list\n",
    "comprehension."
   ]
  },
  {
   "cell_type": "code",
   "execution_count": 171,
   "id": "be80e4bc-bc3f-4d0b-a431-a12905bb5678",
   "metadata": {},
   "outputs": [
    {
     "name": "stdout",
     "output_type": "stream",
     "text": [
      "50005000\n"
     ]
    }
   ],
   "source": [
    "sum=0\n",
    "[sum:=sum+i for i in range(1,10001)]\n",
    "print(sum)"
   ]
  },
  {
   "cell_type": "markdown",
   "id": "738cd909-5c93-4755-bc0a-c034c69ea8b4",
   "metadata": {},
   "source": [
    "40. Write a program that generates a list of prime palindromic numbers using list comprehension."
   ]
  },
  {
   "cell_type": "code",
   "execution_count": 17,
   "id": "da850a1c-5027-4b82-bb2a-8c945515938d",
   "metadata": {},
   "outputs": [
    {
     "name": "stdout",
     "output_type": "stream",
     "text": [
      "Prime palindromic numbers:\n",
      "11 101 131 151 181 191 313 353 373 383 727 757 787 797 919 929 "
     ]
    }
   ],
   "source": [
    "def is_prime(n):\n",
    "    if n <= 1:\n",
    "        return False\n",
    "    if n <= 3:\n",
    "        return True\n",
    "    if n % 2 == 0 or n % 3 == 0:\n",
    "        return False\n",
    "    i = 5\n",
    "    while i * i <= n:\n",
    "        if n % i == 0 or n % (i + 2) == 0:\n",
    "            return False\n",
    "        i += 6\n",
    "    return True\n",
    "prime_palindromes = [num for num in range(10, 1000) if is_prime(num) and str(num) == str(num)[::-1]]\n",
    "print(\"Prime palindromic numbers:\")\n",
    "for num in prime_palindromes:\n",
    "    print(num, end=\" \")"
   ]
  },
  {
   "cell_type": "code",
   "execution_count": null,
   "id": "6fa02c49-4192-43e6-9b4d-ad675a516598",
   "metadata": {},
   "outputs": [],
   "source": []
  }
 ],
 "metadata": {
  "kernelspec": {
   "display_name": "Python 3 (ipykernel)",
   "language": "python",
   "name": "python3"
  },
  "language_info": {
   "codemirror_mode": {
    "name": "ipython",
    "version": 3
   },
   "file_extension": ".py",
   "mimetype": "text/x-python",
   "name": "python",
   "nbconvert_exporter": "python",
   "pygments_lexer": "ipython3",
   "version": "3.10.8"
  }
 },
 "nbformat": 4,
 "nbformat_minor": 5
}
