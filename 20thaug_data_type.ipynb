{
 "cells": [
  {
   "cell_type": "code",
   "execution_count": null,
   "id": "94fcac6d-4243-47f9-985f-9bdc68242cc2",
   "metadata": {},
   "outputs": [],
   "source": [
    "l=[]"
   ]
  },
  {
   "cell_type": "code",
   "execution_count": null,
   "id": "d4b46716-04bd-4be1-87ad-814f5617f17a",
   "metadata": {},
   "outputs": [],
   "source": [
    "# \"l\" is the list which is the collection of multiple data type"
   ]
  },
  {
   "cell_type": "code",
   "execution_count": null,
   "id": "f3ab76e4-7478-4d3f-9627-1d4fb92ada97",
   "metadata": {},
   "outputs": [],
   "source": [
    "type(l)"
   ]
  },
  {
   "cell_type": "code",
   "execution_count": null,
   "id": "e603c74c-d42c-44d3-8221-d3a3132d6d2a",
   "metadata": {},
   "outputs": [],
   "source": [
    "li =[1,2,3,4,5,\"sudh\",3+5j,345.565,True,[3,4,5,6]]"
   ]
  },
  {
   "cell_type": "code",
   "execution_count": null,
   "id": "ec302951-aac5-498b-a7af-a211aa0b2d0d",
   "metadata": {},
   "outputs": [],
   "source": [
    "li"
   ]
  },
  {
   "cell_type": "code",
   "execution_count": null,
   "id": "6c538531-1100-4f96-ab68-c88832f44fdb",
   "metadata": {},
   "outputs": [],
   "source": [
    "li[-1]"
   ]
  },
  {
   "cell_type": "code",
   "execution_count": null,
   "id": "b1a2a718-defa-4ded-8815-d542776bb45b",
   "metadata": {},
   "outputs": [],
   "source": [
    "li[-1][3] #list of list "
   ]
  },
  {
   "cell_type": "code",
   "execution_count": null,
   "id": "3e802b9f-f7a9-49bc-bf89-160c2428eb94",
   "metadata": {},
   "outputs": [],
   "source": [
    "li[0:5]"
   ]
  },
  {
   "cell_type": "code",
   "execution_count": null,
   "id": "6a975e88-f005-4789-9bc5-ed259e995759",
   "metadata": {},
   "outputs": [],
   "source": [
    "li"
   ]
  },
  {
   "cell_type": "code",
   "execution_count": null,
   "id": "4dd63c0a-7e40-49f8-9155-f0cfe932b8b4",
   "metadata": {},
   "outputs": [],
   "source": [
    "li[0]=100 #list is mutable"
   ]
  },
  {
   "cell_type": "code",
   "execution_count": null,
   "id": "dfe6c0ac-f347-472e-8691-cc2e9ccd0bde",
   "metadata": {},
   "outputs": [],
   "source": [
    "li"
   ]
  },
  {
   "cell_type": "code",
   "execution_count": null,
   "id": "cb8b8bc2-3e62-49b9-bd9a-dde8d80c2ad2",
   "metadata": {},
   "outputs": [],
   "source": [
    "t=(1,2,3,4,\"sonu\",4+5j,True)  #tuple definition , it is immutable"
   ]
  },
  {
   "cell_type": "code",
   "execution_count": null,
   "id": "a157fbe7-5726-473e-a2d2-4c8a3bfb3479",
   "metadata": {},
   "outputs": [],
   "source": [
    "type(t)"
   ]
  },
  {
   "cell_type": "code",
   "execution_count": null,
   "id": "a389a8ae-67c3-458b-a0a9-2477e9bc657a",
   "metadata": {},
   "outputs": [],
   "source": [
    "t[-1]"
   ]
  },
  {
   "cell_type": "code",
   "execution_count": null,
   "id": "ff8309cd-978d-4648-a62f-c7f2f3de257e",
   "metadata": {},
   "outputs": [],
   "source": [
    "t[::-1]"
   ]
  },
  {
   "cell_type": "code",
   "execution_count": null,
   "id": "b6a1617d-1c60-4e6a-a6d1-407e6d09f8a3",
   "metadata": {},
   "outputs": [],
   "source": [
    "'''tuple is immutable ,concatenation is allow , tuple to list   '''"
   ]
  },
  {
   "cell_type": "code",
   "execution_count": null,
   "id": "8b4afca8-db94-4c1a-8107-4eb7bc0c0f19",
   "metadata": {},
   "outputs": [],
   "source": [
    "list(t) #tuple to list "
   ]
  },
  {
   "cell_type": "code",
   "execution_count": null,
   "id": "f37a45bd-d6c0-4365-ae20-918afaae326d",
   "metadata": {},
   "outputs": [],
   "source": [
    "type(t)"
   ]
  },
  {
   "cell_type": "code",
   "execution_count": null,
   "id": "452dadb7-7e51-49f5-9a87-223e33fac433",
   "metadata": {},
   "outputs": [],
   "source": [
    "tuple(li) #list to tuple"
   ]
  },
  {
   "cell_type": "code",
   "execution_count": null,
   "id": "dda06e2b-a607-4a37-80a0-fd153d41b5f5",
   "metadata": {},
   "outputs": [],
   "source": [
    "type(li)"
   ]
  },
  {
   "cell_type": "code",
   "execution_count": null,
   "id": "b368197c-2511-4cf5-8a6d-5749e225ec77",
   "metadata": {},
   "outputs": [],
   "source": [
    "s1={1,2,3,4,5,5}"
   ]
  },
  {
   "cell_type": "code",
   "execution_count": null,
   "id": "6162cbe7-79da-48b5-8fad-22f16d67fb5a",
   "metadata": {},
   "outputs": [],
   "source": [
    "s1"
   ]
  },
  {
   "cell_type": "code",
   "execution_count": null,
   "id": "81c014c6-9bcf-4fe2-bb7b-72b3345d9df2",
   "metadata": {},
   "outputs": [],
   "source": [
    "type(s1) #set is entity which remove the duplicate"
   ]
  },
  {
   "cell_type": "markdown",
   "id": "70aaaef8-7fc0-41e6-a3c3-0f93c9dbca59",
   "metadata": {},
   "source": [
    "#whenever we are tyring to convert set into a list make sure , its not a \"list of list\" for list of list we use a hashmap."
   ]
  },
  {
   "cell_type": "code",
   "execution_count": null,
   "id": "ea104c04-bd03-4241-856f-5eeb7efef458",
   "metadata": {},
   "outputs": [],
   "source": [
    "set(li)"
   ]
  },
  {
   "cell_type": "code",
   "execution_count": null,
   "id": "c135130f-df4a-4a7f-8a73-d5f05e6c472f",
   "metadata": {},
   "outputs": [],
   "source": [
    "set(t) #set to tuple"
   ]
  },
  {
   "cell_type": "markdown",
   "id": "27914262-af82-4414-a0ef-3dc9fed54778",
   "metadata": {},
   "source": [
    " #subscription means indexing"
   ]
  },
  {
   "cell_type": "code",
   "execution_count": null,
   "id": "6c16de22-bb4d-4cff-8144-c2ccf549051e",
   "metadata": {},
   "outputs": [],
   "source": [
    "s1[0] #set is immutable"
   ]
  },
  {
   "cell_type": "code",
   "execution_count": null,
   "id": "2df01add-dc8a-4a5d-9f52-9f8b823df256",
   "metadata": {},
   "outputs": [],
   "source": [
    "s2=list(s1)"
   ]
  },
  {
   "cell_type": "code",
   "execution_count": null,
   "id": "0f5bc68f-a916-4828-8db3-9dde9e31dfa3",
   "metadata": {},
   "outputs": [],
   "source": [
    "s2"
   ]
  },
  {
   "cell_type": "code",
   "execution_count": null,
   "id": "f2e31905-3b0d-4736-8c42-d5ba274ef29b",
   "metadata": {},
   "outputs": [],
   "source": [
    "s2[0]=7"
   ]
  },
  {
   "cell_type": "code",
   "execution_count": null,
   "id": "ae8183e0-2eb6-4c6f-b1d9-60409df5cdc2",
   "metadata": {},
   "outputs": [],
   "source": [
    "s2"
   ]
  },
  {
   "cell_type": "code",
   "execution_count": null,
   "id": "8bd41a9b-979e-4cb4-8e5d-283929032efb",
   "metadata": {},
   "outputs": [],
   "source": [
    "d={} #dictionary"
   ]
  },
  {
   "cell_type": "code",
   "execution_count": null,
   "id": "fb30f575-25e9-424e-b056-57a6b0ad4021",
   "metadata": {},
   "outputs": [],
   "source": [
    "type(d)"
   ]
  },
  {
   "cell_type": "code",
   "execution_count": 5,
   "id": "7e184bb2-e6db-4911-bf6a-1b271095afe4",
   "metadata": {},
   "outputs": [],
   "source": [
    "d1={'name':\"shubhashish\",\"subject\":[\"datascience\",\"bigdata\",\"sata analytics\"],\"number\":4234567}"
   ]
  },
  {
   "cell_type": "code",
   "execution_count": 6,
   "id": "c4671de7-1caf-45ae-9d94-5db4cc54c5fe",
   "metadata": {},
   "outputs": [
    {
     "data": {
      "text/plain": [
       "{'name': 'shubhashish',\n",
       " 'subject': ['datascience', 'bigdata', 'sata analytics'],\n",
       " 'number': 4234567}"
      ]
     },
     "execution_count": 6,
     "metadata": {},
     "output_type": "execute_result"
    }
   ],
   "source": [
    "d1"
   ]
  },
  {
   "cell_type": "code",
   "execution_count": null,
   "id": "b0b76bd0-1e4e-4c9e-9a63-b35b89202792",
   "metadata": {},
   "outputs": [],
   "source": [
    "#tuple,numeric , sting behave lilke a key  "
   ]
  },
  {
   "cell_type": "code",
   "execution_count": null,
   "id": "760fdc9e-a675-470f-8d3f-0985c6c92c12",
   "metadata": {},
   "outputs": [],
   "source": [
    "d1[\"phone_numbver\"]=8130672898 #add new value"
   ]
  },
  {
   "cell_type": "code",
   "execution_count": null,
   "id": "250d1726-08c8-43d5-a8c4-c5fb696a4492",
   "metadata": {},
   "outputs": [],
   "source": [
    "d1"
   ]
  },
  {
   "cell_type": "markdown",
   "id": "4401700d-5abf-4ff6-953c-076748cc7750",
   "metadata": {},
   "source": [
    "#Till now we have learn:-\n",
    "1.string\n",
    "2.list\n",
    "3.tuple\n",
    "4.set\n",
    "5.dict"
   ]
  },
  {
   "cell_type": "code",
   "execution_count": 3,
   "id": "9fb9f653-2045-4108-8720-f3fe586715be",
   "metadata": {},
   "outputs": [],
   "source": [
    "ex=\"pwskills\""
   ]
  },
  {
   "cell_type": "code",
   "execution_count": 4,
   "id": "8148d636-018f-4567-ad65-f23c2dfb1958",
   "metadata": {},
   "outputs": [
    {
     "data": {
      "text/plain": [
       "'pwskills'"
      ]
     },
     "execution_count": 4,
     "metadata": {},
     "output_type": "execute_result"
    }
   ],
   "source": [
    "ex"
   ]
  },
  {
   "cell_type": "code",
   "execution_count": 4,
   "id": "a9cc07dc-d9a6-428f-a57b-b878745974c4",
   "metadata": {},
   "outputs": [
    {
     "data": {
      "text/plain": [
       "2"
      ]
     },
     "execution_count": 4,
     "metadata": {},
     "output_type": "execute_result"
    }
   ],
   "source": [
    "ex.count('l') #shift+tab give you an functin overview\n",
    "#count will give you an number pf occurence"
   ]
  },
  {
   "cell_type": "code",
   "execution_count": 8,
   "id": "332c190d-963f-4835-b194-ba63f2e6c87f",
   "metadata": {},
   "outputs": [
    {
     "data": {
      "text/plain": [
       "3"
      ]
     },
     "execution_count": 8,
     "metadata": {},
     "output_type": "execute_result"
    }
   ],
   "source": [
    "ex.find('k') #it will give you an first variable index\n",
    "#if you not able to find then it will give you an -1"
   ]
  },
  {
   "cell_type": "code",
   "execution_count": 10,
   "id": "10e3391b-951c-4d3b-a908-b8b5521dffee",
   "metadata": {},
   "outputs": [
    {
     "data": {
      "text/plain": [
       "0"
      ]
     },
     "execution_count": 10,
     "metadata": {},
     "output_type": "execute_result"
    }
   ],
   "source": [
    "ex.index('p') #index will give you an error \"notfound\" when  variavble is not here"
   ]
  },
  {
   "cell_type": "code",
   "execution_count": 11,
   "id": "558a423c-bfdb-4b11-b836-863a5b82ae8f",
   "metadata": {},
   "outputs": [
    {
     "data": {
      "text/plain": [
       "'PWSKILLS'"
      ]
     },
     "execution_count": 11,
     "metadata": {},
     "output_type": "execute_result"
    }
   ],
   "source": [
    "ex.upper()"
   ]
  },
  {
   "cell_type": "code",
   "execution_count": 13,
   "id": "1466ce31-277c-4c31-8668-5c0843e2ed0c",
   "metadata": {},
   "outputs": [
    {
     "data": {
      "text/plain": [
       "'Pwskills'"
      ]
     },
     "execution_count": 13,
     "metadata": {},
     "output_type": "execute_result"
    }
   ],
   "source": [
    "ex.title() #it will convert every first letter into capital"
   ]
  },
  {
   "cell_type": "code",
   "execution_count": 14,
   "id": "7dc4c760-746a-40d5-b795-a1263ed40c78",
   "metadata": {},
   "outputs": [
    {
     "data": {
      "text/plain": [
       "['pwskills']"
      ]
     },
     "execution_count": 14,
     "metadata": {},
     "output_type": "execute_result"
    }
   ],
   "source": [
    "ex.split()"
   ]
  },
  {
   "cell_type": "code",
   "execution_count": 15,
   "id": "a6f515f9-5fb4-47a6-abf4-fe5a72a87ef2",
   "metadata": {},
   "outputs": [],
   "source": [
    "ex1=\"this is the my fsds pro class. i am attending this class 4th time\""
   ]
  },
  {
   "cell_type": "code",
   "execution_count": 17,
   "id": "a71cdcc0-7eed-431e-9676-592c322c536b",
   "metadata": {},
   "outputs": [
    {
     "data": {
      "text/plain": [
       "'this is the my fsds pro class. i am attending this class 4th time'"
      ]
     },
     "execution_count": 17,
     "metadata": {},
     "output_type": "execute_result"
    }
   ],
   "source": [
    "ex1"
   ]
  },
  {
   "cell_type": "code",
   "execution_count": 22,
   "id": "dd68f38b-707d-44a8-9d3a-10f482f063f4",
   "metadata": {},
   "outputs": [
    {
     "data": {
      "text/plain": [
       "'this is the my fsds pro class'"
      ]
     },
     "execution_count": 22,
     "metadata": {},
     "output_type": "execute_result"
    }
   ],
   "source": [
    "ex1.split('.')[0]\n"
   ]
  },
  {
   "cell_type": "code",
   "execution_count": 23,
   "id": "a63a705a-af50-4673-b710-f7e507d0cc2e",
   "metadata": {},
   "outputs": [
    {
     "data": {
      "text/plain": [
       "'this is the my fsds pro class. i am attending this class 4th time'"
      ]
     },
     "execution_count": 23,
     "metadata": {},
     "output_type": "execute_result"
    }
   ],
   "source": [
    "ex1.center(40,'f')"
   ]
  },
  {
   "cell_type": "code",
   "execution_count": 24,
   "id": "04f5dcfc-012f-4aaa-a4c4-34a9ea8d6915",
   "metadata": {},
   "outputs": [
    {
     "data": {
      "text/plain": [
       "'ffffffffffffffffpwskillsffffffffffffffff'"
      ]
     },
     "execution_count": 24,
     "metadata": {},
     "output_type": "execute_result"
    }
   ],
   "source": [
    "ex.center(40,'f')"
   ]
  },
  {
   "cell_type": "code",
   "execution_count": 5,
   "id": "181e191b-2bc9-4391-a23d-4870f553d840",
   "metadata": {},
   "outputs": [
    {
     "data": {
      "text/plain": [
       "'pwskills'"
      ]
     },
     "execution_count": 5,
     "metadata": {},
     "output_type": "execute_result"
    }
   ],
   "source": [
    "ex"
   ]
  },
  {
   "cell_type": "code",
   "execution_count": 7,
   "id": "b7f295d8-866c-4c8b-b4f0-10efecb5d35e",
   "metadata": {},
   "outputs": [],
   "source": [
    "ex5= \"        Pwskills    \""
   ]
  },
  {
   "cell_type": "code",
   "execution_count": 8,
   "id": "3baf7301-0df9-44b9-95ac-7b974d1a64bb",
   "metadata": {},
   "outputs": [
    {
     "data": {
      "text/plain": [
       "'        Pwskills'"
      ]
     },
     "execution_count": 8,
     "metadata": {},
     "output_type": "execute_result"
    }
   ],
   "source": [
    "ex5.rstrip()"
   ]
  },
  {
   "cell_type": "code",
   "execution_count": 9,
   "id": "002575de-0518-4e86-8354-e8f6283ac477",
   "metadata": {},
   "outputs": [
    {
     "data": {
      "text/plain": [
       "'Pwskills    '"
      ]
     },
     "execution_count": 9,
     "metadata": {},
     "output_type": "execute_result"
    }
   ],
   "source": [
    "ex5.lstrip()"
   ]
  },
  {
   "cell_type": "code",
   "execution_count": 10,
   "id": "264b8eac-fe4a-4c19-bc41-20992d26b900",
   "metadata": {},
   "outputs": [
    {
     "data": {
      "text/plain": [
       "'Pwskills'"
      ]
     },
     "execution_count": 10,
     "metadata": {},
     "output_type": "execute_result"
    }
   ],
   "source": [
    "ex5.strip()"
   ]
  },
  {
   "cell_type": "code",
   "execution_count": 11,
   "id": "bfd2499a-71b7-4649-b515-2b3df23efe2b",
   "metadata": {},
   "outputs": [
    {
     "data": {
      "text/plain": [
       "'pwskills'"
      ]
     },
     "execution_count": 11,
     "metadata": {},
     "output_type": "execute_result"
    }
   ],
   "source": [
    "ex"
   ]
  },
  {
   "cell_type": "code",
   "execution_count": 13,
   "id": "0d7eb5bc-6af7-4940-8a6c-8bfd8072ce45",
   "metadata": {},
   "outputs": [
    {
     "data": {
      "text/plain": [
       "True"
      ]
     },
     "execution_count": 13,
     "metadata": {},
     "output_type": "execute_result"
    }
   ],
   "source": [
    "ex.isalpha()"
   ]
  },
  {
   "cell_type": "code",
   "execution_count": 14,
   "id": "57d8a16e-bf0a-4996-8668-156128c700d6",
   "metadata": {},
   "outputs": [
    {
     "data": {
      "text/plain": [
       "False"
      ]
     },
     "execution_count": 14,
     "metadata": {},
     "output_type": "execute_result"
    }
   ],
   "source": [
    "ex.isnumeric()"
   ]
  },
  {
   "cell_type": "code",
   "execution_count": 15,
   "id": "1224697f-bd5f-441c-b9c2-20e9d46845ca",
   "metadata": {},
   "outputs": [
    {
     "data": {
      "text/plain": [
       "True"
      ]
     },
     "execution_count": 15,
     "metadata": {},
     "output_type": "execute_result"
    }
   ],
   "source": [
    "ex.islower()"
   ]
  },
  {
   "cell_type": "code",
   "execution_count": 20,
   "id": "775ef9c8-b26d-464e-a94f-c10939ddfd55",
   "metadata": {},
   "outputs": [],
   "source": [
    "l1=[1,2,3,4,\"sumit\",\"kumar\",(3+5j),345.678,True,[4,5,6,7]]"
   ]
  },
  {
   "cell_type": "code",
   "execution_count": 21,
   "id": "42402ded-6f43-454f-8b1c-795956896d90",
   "metadata": {},
   "outputs": [],
   "source": [
    "l2=[300,4,5,'pwskills',\"sumit\"]"
   ]
  },
  {
   "cell_type": "code",
   "execution_count": 22,
   "id": "644e9387-de0d-4a1d-91f9-76a3e093b7a6",
   "metadata": {},
   "outputs": [],
   "source": [
    "l1.append(l2)"
   ]
  },
  {
   "cell_type": "code",
   "execution_count": 23,
   "id": "6e8c5b61-ee3d-4dbf-a432-9fe5a9f17f02",
   "metadata": {},
   "outputs": [
    {
     "data": {
      "text/plain": [
       "[1,\n",
       " 2,\n",
       " 3,\n",
       " 4,\n",
       " 'sumit',\n",
       " 'kumar',\n",
       " (3+5j),\n",
       " 345.678,\n",
       " True,\n",
       " [4, 5, 6, 7],\n",
       " [300, 4, 5, 'pwskills', 'sumit']]"
      ]
     },
     "execution_count": 23,
     "metadata": {},
     "output_type": "execute_result"
    }
   ],
   "source": [
    "l1"
   ]
  },
  {
   "cell_type": "code",
   "execution_count": 24,
   "id": "3c8e9ca1-da3a-4cf0-b8b2-02171e47230e",
   "metadata": {},
   "outputs": [
    {
     "data": {
      "text/plain": [
       "[1,\n",
       " 2,\n",
       " 3,\n",
       " 4,\n",
       " 'sumit',\n",
       " 'kumar',\n",
       " (3+5j),\n",
       " 345.678,\n",
       " True,\n",
       " [4, 5, 6, 7],\n",
       " [300, 4, 5, 'pwskills', 'sumit']]"
      ]
     },
     "execution_count": 24,
     "metadata": {},
     "output_type": "execute_result"
    }
   ],
   "source": [
    "l1"
   ]
  },
  {
   "cell_type": "code",
   "execution_count": 25,
   "id": "366d6a82-50dd-4849-86d5-a0f05c7ec806",
   "metadata": {},
   "outputs": [],
   "source": [
    "l1.insert(3, 0)"
   ]
  },
  {
   "cell_type": "code",
   "execution_count": 26,
   "id": "d10a021e-28e0-4387-be97-a81491b4cf70",
   "metadata": {},
   "outputs": [
    {
     "data": {
      "text/plain": [
       "[1,\n",
       " 2,\n",
       " 3,\n",
       " 0,\n",
       " 4,\n",
       " 'sumit',\n",
       " 'kumar',\n",
       " (3+5j),\n",
       " 345.678,\n",
       " True,\n",
       " [4, 5, 6, 7],\n",
       " [300, 4, 5, 'pwskills', 'sumit']]"
      ]
     },
     "execution_count": 26,
     "metadata": {},
     "output_type": "execute_result"
    }
   ],
   "source": [
    "l1"
   ]
  },
  {
   "cell_type": "code",
   "execution_count": 27,
   "id": "f967c743-0e4a-492d-b99c-32c656d1f463",
   "metadata": {},
   "outputs": [],
   "source": [
    "l2.extend(\"sudh\")"
   ]
  },
  {
   "cell_type": "code",
   "execution_count": 28,
   "id": "3c5763ca-17a1-4294-a516-64ee59431a22",
   "metadata": {},
   "outputs": [
    {
     "data": {
      "text/plain": [
       "[300, 4, 5, 'pwskills', 'sumit', 's', 'u', 'd', 'h']"
      ]
     },
     "execution_count": 28,
     "metadata": {},
     "output_type": "execute_result"
    }
   ],
   "source": [
    "l2"
   ]
  },
  {
   "cell_type": "code",
   "execution_count": 29,
   "id": "c291c6ff-edd2-4e7e-9a87-5fb88645e2bc",
   "metadata": {},
   "outputs": [],
   "source": [
    "l2.append(\"sudh\")"
   ]
  },
  {
   "cell_type": "code",
   "execution_count": 30,
   "id": "b3874226-6f32-4f92-8bef-04ded77ae904",
   "metadata": {},
   "outputs": [
    {
     "data": {
      "text/plain": [
       "[300, 4, 5, 'pwskills', 'sumit', 's', 'u', 'd', 'h', 'sudh']"
      ]
     },
     "execution_count": 30,
     "metadata": {},
     "output_type": "execute_result"
    }
   ],
   "source": [
    "l2"
   ]
  },
  {
   "cell_type": "code",
   "execution_count": 33,
   "id": "a88bea93-9e5e-4d49-98a8-5236b6cb039e",
   "metadata": {},
   "outputs": [
    {
     "data": {
      "text/plain": [
       "'h'"
      ]
     },
     "execution_count": 33,
     "metadata": {},
     "output_type": "execute_result"
    }
   ],
   "source": [
    "l2.pop() #it will delete the data from the last"
   ]
  },
  {
   "cell_type": "code",
   "execution_count": 34,
   "id": "aad23c60-a70b-43a5-865f-7b801aa5594c",
   "metadata": {},
   "outputs": [
    {
     "data": {
      "text/plain": [
       "[300, 4, 5, 'pwskills', 'sumit', 's', 'u', 'd']"
      ]
     },
     "execution_count": 34,
     "metadata": {},
     "output_type": "execute_result"
    }
   ],
   "source": [
    "l2"
   ]
  },
  {
   "cell_type": "code",
   "execution_count": 37,
   "id": "c7bf8f06-de58-4d66-8d91-3ca4e852693d",
   "metadata": {},
   "outputs": [],
   "source": [
    "l2.clear() #it will clear the element inside the list"
   ]
  },
  {
   "cell_type": "code",
   "execution_count": 38,
   "id": "8cbad2c6-0ac4-4994-9e77-bbbcd33cfb41",
   "metadata": {},
   "outputs": [
    {
     "data": {
      "text/plain": [
       "[]"
      ]
     },
     "execution_count": 38,
     "metadata": {},
     "output_type": "execute_result"
    }
   ],
   "source": [
    "l2"
   ]
  },
  {
   "cell_type": "code",
   "execution_count": 41,
   "id": "4c3fcf83-2f5a-4813-8cba-45b87fd5d9c0",
   "metadata": {},
   "outputs": [],
   "source": [
    "l1.reverse() #equal to [: : -1]"
   ]
  },
  {
   "cell_type": "code",
   "execution_count": 42,
   "id": "8444c50f-f9b1-4880-b8a5-ca78b26e8217",
   "metadata": {},
   "outputs": [
    {
     "data": {
      "text/plain": [
       "[1, 2, 3, 0, 4, 'sumit', 'kumar', (3+5j), 345.678, True, [4, 5, 6, 7], []]"
      ]
     },
     "execution_count": 42,
     "metadata": {},
     "output_type": "execute_result"
    }
   ],
   "source": [
    "l1"
   ]
  },
  {
   "cell_type": "code",
   "execution_count": 43,
   "id": "c442e566-f9d8-4e77-a4fc-0f14da0d1b14",
   "metadata": {},
   "outputs": [],
   "source": [
    "l3=[1,2,8,9,4]"
   ]
  },
  {
   "cell_type": "code",
   "execution_count": 44,
   "id": "5a74174b-d305-48c5-95e0-9208df7240fb",
   "metadata": {},
   "outputs": [
    {
     "data": {
      "text/plain": [
       "[1, 2, 8, 9, 4]"
      ]
     },
     "execution_count": 44,
     "metadata": {},
     "output_type": "execute_result"
    }
   ],
   "source": [
    "l3"
   ]
  },
  {
   "cell_type": "code",
   "execution_count": 45,
   "id": "83451b68-be25-4dda-bfc2-be1a2a8f5961",
   "metadata": {},
   "outputs": [],
   "source": [
    "l3.sort()"
   ]
  },
  {
   "cell_type": "code",
   "execution_count": 46,
   "id": "7b055b39-ac5f-4ff3-a31a-dbc4235ff66c",
   "metadata": {},
   "outputs": [
    {
     "data": {
      "text/plain": [
       "[1, 2, 4, 8, 9]"
      ]
     },
     "execution_count": 46,
     "metadata": {},
     "output_type": "execute_result"
    }
   ],
   "source": [
    "l3"
   ]
  },
  {
   "cell_type": "code",
   "execution_count": 47,
   "id": "c46cc44c-c7d5-4a6e-9b14-483e4b0a1435",
   "metadata": {},
   "outputs": [],
   "source": [
    "l3.sort(reverse=True) #Sort in decending "
   ]
  },
  {
   "cell_type": "code",
   "execution_count": 48,
   "id": "39df1b11-6ac8-47b5-94e9-76d18e76a3ac",
   "metadata": {},
   "outputs": [
    {
     "data": {
      "text/plain": [
       "[9, 8, 4, 2, 1]"
      ]
     },
     "execution_count": 48,
     "metadata": {},
     "output_type": "execute_result"
    }
   ],
   "source": [
    "l3"
   ]
  },
  {
   "cell_type": "code",
   "execution_count": 49,
   "id": "79892f1c-5660-4a63-ba29-f54a4b9454df",
   "metadata": {},
   "outputs": [],
   "source": [
    "l0=[2,3,4,5]"
   ]
  },
  {
   "cell_type": "code",
   "execution_count": 50,
   "id": "4879b0cb-cdbf-45c4-b475-7cb918997a53",
   "metadata": {},
   "outputs": [],
   "source": [
    "l1=l0"
   ]
  },
  {
   "cell_type": "code",
   "execution_count": 51,
   "id": "957b0c37-a012-4bab-a459-1169dbccf0a1",
   "metadata": {},
   "outputs": [
    {
     "data": {
      "text/plain": [
       "[2, 3, 4, 5]"
      ]
     },
     "execution_count": 51,
     "metadata": {},
     "output_type": "execute_result"
    }
   ],
   "source": [
    "l1"
   ]
  },
  {
   "cell_type": "code",
   "execution_count": 52,
   "id": "bbd0a9e0-4758-4316-9bc3-4d2151719dd8",
   "metadata": {},
   "outputs": [
    {
     "data": {
      "text/plain": [
       "[2, 3, 4, 5]"
      ]
     },
     "execution_count": 52,
     "metadata": {},
     "output_type": "execute_result"
    }
   ],
   "source": [
    "l0"
   ]
  },
  {
   "cell_type": "code",
   "execution_count": 53,
   "id": "a520b22c-fa09-48d6-bc96-f4eb68611e8d",
   "metadata": {},
   "outputs": [],
   "source": [
    "l0[0]=200"
   ]
  },
  {
   "cell_type": "code",
   "execution_count": 54,
   "id": "5f51140d-9fb5-48f9-b0df-de6e45a0d46d",
   "metadata": {},
   "outputs": [
    {
     "data": {
      "text/plain": [
       "[200, 3, 4, 5]"
      ]
     },
     "execution_count": 54,
     "metadata": {},
     "output_type": "execute_result"
    }
   ],
   "source": [
    "l0"
   ]
  },
  {
   "cell_type": "code",
   "execution_count": 55,
   "id": "c98372f5-d1a1-41e0-8f31-58bff5169603",
   "metadata": {},
   "outputs": [
    {
     "data": {
      "text/plain": [
       "[200, 3, 4, 5]"
      ]
     },
     "execution_count": 55,
     "metadata": {},
     "output_type": "execute_result"
    }
   ],
   "source": [
    "l1"
   ]
  },
  {
   "cell_type": "code",
   "execution_count": 62,
   "id": "2f6cd7af-7e61-4075-826b-25188257402b",
   "metadata": {},
   "outputs": [],
   "source": [
    "l2=l0.copy() #deep copy"
   ]
  },
  {
   "cell_type": "code",
   "execution_count": 57,
   "id": "4564e306-4914-4841-908b-d99423015f5e",
   "metadata": {},
   "outputs": [
    {
     "data": {
      "text/plain": [
       "[200, 3, 4, 5]"
      ]
     },
     "execution_count": 57,
     "metadata": {},
     "output_type": "execute_result"
    }
   ],
   "source": [
    "l2"
   ]
  },
  {
   "cell_type": "code",
   "execution_count": 58,
   "id": "ed90b30c-fc1d-41ae-b08b-29cd5b43e95a",
   "metadata": {},
   "outputs": [
    {
     "data": {
      "text/plain": [
       "[200, 3, 4, 5]"
      ]
     },
     "execution_count": 58,
     "metadata": {},
     "output_type": "execute_result"
    }
   ],
   "source": [
    "l0"
   ]
  },
  {
   "cell_type": "code",
   "execution_count": 59,
   "id": "ace8f731-4c14-4666-b20d-f81f516646f2",
   "metadata": {},
   "outputs": [],
   "source": [
    "l0[1]=300"
   ]
  },
  {
   "cell_type": "code",
   "execution_count": 60,
   "id": "f3198e5b-fa7e-4e9b-a204-875c08855611",
   "metadata": {},
   "outputs": [
    {
     "data": {
      "text/plain": [
       "[200, 300, 4, 5]"
      ]
     },
     "execution_count": 60,
     "metadata": {},
     "output_type": "execute_result"
    }
   ],
   "source": [
    "l1"
   ]
  },
  {
   "cell_type": "code",
   "execution_count": 61,
   "id": "07436148-25c8-42de-be17-bb2f17003272",
   "metadata": {},
   "outputs": [
    {
     "data": {
      "text/plain": [
       "[200, 3, 4, 5]"
      ]
     },
     "execution_count": 61,
     "metadata": {},
     "output_type": "execute_result"
    }
   ],
   "source": [
    "l2"
   ]
  },
  {
   "cell_type": "code",
   "execution_count": 65,
   "id": "6f731e63-d9da-4b52-bbfc-67016fbe1005",
   "metadata": {},
   "outputs": [],
   "source": [
    "t =(1,2,3,4,'sudh','pwskills',(4+5j),True)"
   ]
  },
  {
   "cell_type": "code",
   "execution_count": 66,
   "id": "4e07791d-70d1-4d20-b57d-2862fdbabc60",
   "metadata": {},
   "outputs": [
    {
     "data": {
      "text/plain": [
       "(1, 2, 3, 4, 'sudh', 'pwskills', (4+5j), True)"
      ]
     },
     "execution_count": 66,
     "metadata": {},
     "output_type": "execute_result"
    }
   ],
   "source": [
    "t"
   ]
  },
  {
   "cell_type": "code",
   "execution_count": 67,
   "id": "3d7852e1-33b0-4be3-b1f3-b44449f369ba",
   "metadata": {},
   "outputs": [
    {
     "data": {
      "text/plain": [
       "1"
      ]
     },
     "execution_count": 67,
     "metadata": {},
     "output_type": "execute_result"
    }
   ],
   "source": [
    "t.count(4)"
   ]
  },
  {
   "cell_type": "code",
   "execution_count": 68,
   "id": "46c5e1ac-ec64-47c4-89c0-ceef58305a45",
   "metadata": {},
   "outputs": [
    {
     "data": {
      "text/plain": [
       "4"
      ]
     },
     "execution_count": 68,
     "metadata": {},
     "output_type": "execute_result"
    }
   ],
   "source": [
    "t.index('sudh')"
   ]
  },
  {
   "cell_type": "code",
   "execution_count": 70,
   "id": "1a52ef7b-e466-49d8-9a41-585a6dca29e6",
   "metadata": {},
   "outputs": [],
   "source": [
    "s={1,2,3,4,65,2,6,75,23}"
   ]
  },
  {
   "cell_type": "code",
   "execution_count": 71,
   "id": "e2cc9a79-fb49-438e-87ad-d3d298fa4b2a",
   "metadata": {},
   "outputs": [
    {
     "data": {
      "text/plain": [
       "{1, 2, 3, 4, 6, 23, 65, 75}"
      ]
     },
     "execution_count": 71,
     "metadata": {},
     "output_type": "execute_result"
    }
   ],
   "source": [
    "s"
   ]
  },
  {
   "cell_type": "code",
   "execution_count": 72,
   "id": "52997b81-3d7e-41eb-9112-8d73dc3b8807",
   "metadata": {},
   "outputs": [],
   "source": [
    "s.add(4)"
   ]
  },
  {
   "cell_type": "code",
   "execution_count": 73,
   "id": "7f657029-2175-4e8f-8ebe-de62be9f772e",
   "metadata": {},
   "outputs": [
    {
     "data": {
      "text/plain": [
       "{1, 2, 3, 4, 6, 23, 65, 75}"
      ]
     },
     "execution_count": 73,
     "metadata": {},
     "output_type": "execute_result"
    }
   ],
   "source": [
    "s"
   ]
  },
  {
   "cell_type": "code",
   "execution_count": 74,
   "id": "2b1211f6-6ef1-4812-ade1-f3fc9b843370",
   "metadata": {},
   "outputs": [],
   "source": [
    "s.clear()"
   ]
  },
  {
   "cell_type": "code",
   "execution_count": 75,
   "id": "3f7bee0c-1970-4dfd-90c8-be0f1e766508",
   "metadata": {},
   "outputs": [
    {
     "data": {
      "text/plain": [
       "set()"
      ]
     },
     "execution_count": 75,
     "metadata": {},
     "output_type": "execute_result"
    }
   ],
   "source": [
    "s"
   ]
  },
  {
   "cell_type": "code",
   "execution_count": 7,
   "id": "9a61d972-e44d-4f06-9894-1ae7eaa842a7",
   "metadata": {},
   "outputs": [
    {
     "data": {
      "text/plain": [
       "{'name': 'shubhashish',\n",
       " 'subject': ['datascience', 'bigdata', 'sata analytics'],\n",
       " 'number': 4234567}"
      ]
     },
     "execution_count": 7,
     "metadata": {},
     "output_type": "execute_result"
    }
   ],
   "source": [
    "d1"
   ]
  },
  {
   "cell_type": "code",
   "execution_count": 79,
   "id": "3bae9478-e1fd-4513-aa01-94ac5c4ffbc5",
   "metadata": {},
   "outputs": [
    {
     "data": {
      "text/plain": [
       "['name', 'subject', 'number']"
      ]
     },
     "execution_count": 79,
     "metadata": {},
     "output_type": "execute_result"
    }
   ],
   "source": [
    "list(d1.keys())"
   ]
  },
  {
   "cell_type": "code",
   "execution_count": 80,
   "id": "f367ca6d-d6cf-4224-9e03-325f277b7dc3",
   "metadata": {},
   "outputs": [
    {
     "data": {
      "text/plain": [
       "dict_values(['shubhashish', ['datascience', 'bigdata', 'sata analytics'], 4234567])"
      ]
     },
     "execution_count": 80,
     "metadata": {},
     "output_type": "execute_result"
    }
   ],
   "source": [
    "d1.values()"
   ]
  },
  {
   "cell_type": "code",
   "execution_count": 82,
   "id": "07584a1a-2fc4-4eca-a99f-d6970c323276",
   "metadata": {},
   "outputs": [
    {
     "data": {
      "text/plain": [
       "[('name', 'shubhashish'),\n",
       " ('subject', ['datascience', 'bigdata', 'sata analytics']),\n",
       " ('number', 4234567)]"
      ]
     },
     "execution_count": 82,
     "metadata": {},
     "output_type": "execute_result"
    }
   ],
   "source": [
    "list(d1.items())"
   ]
  },
  {
   "cell_type": "code",
   "execution_count": 83,
   "id": "a49bdd29-1e25-4497-b64d-8afc6a3ddb08",
   "metadata": {},
   "outputs": [
    {
     "data": {
      "text/plain": [
       "'shubhashish'"
      ]
     },
     "execution_count": 83,
     "metadata": {},
     "output_type": "execute_result"
    }
   ],
   "source": [
    "d1.get('name')"
   ]
  },
  {
   "cell_type": "code",
   "execution_count": 8,
   "id": "13945e0b-eaa2-4c2a-82a9-3b5b07cf82a5",
   "metadata": {},
   "outputs": [],
   "source": [
    "d1['test']=\"ssjfb\""
   ]
  },
  {
   "cell_type": "code",
   "execution_count": 87,
   "id": "3fc9567a-d356-4908-8cfd-6902da7de99a",
   "metadata": {},
   "outputs": [
    {
     "data": {
      "text/plain": [
       "{'name': 'shubhashish',\n",
       " 'subject': ['datascience', 'bigdata', 'sata analytics'],\n",
       " 'number': 4234567,\n",
       " 'test': 'ssjfb'}"
      ]
     },
     "execution_count": 87,
     "metadata": {},
     "output_type": "execute_result"
    }
   ],
   "source": [
    "d1"
   ]
  },
  {
   "cell_type": "code",
   "execution_count": 1,
   "id": "d7d6f07e-ea34-42b7-ada6-a5b7601c8a60",
   "metadata": {},
   "outputs": [
    {
     "data": {
      "text/plain": [
       "{1, 2, 3}"
      ]
     },
     "execution_count": 1,
     "metadata": {},
     "output_type": "execute_result"
    }
   ],
   "source": [
    "{1,2,3}"
   ]
  },
  {
   "cell_type": "code",
   "execution_count": 9,
   "id": "5401562c-f78b-4993-9cea-e1df1d523889",
   "metadata": {},
   "outputs": [
    {
     "data": {
      "text/plain": [
       "{'name': 'shubhashish',\n",
       " 'subject': ['datascience', 'bigdata', 'sata analytics'],\n",
       " 'number': 4234567,\n",
       " 'test': 'ssjfb'}"
      ]
     },
     "execution_count": 9,
     "metadata": {},
     "output_type": "execute_result"
    }
   ],
   "source": [
    "d1"
   ]
  },
  {
   "cell_type": "code",
   "execution_count": 13,
   "id": "ebf58259-1e79-4bef-a280-57580d4db67d",
   "metadata": {},
   "outputs": [
    {
     "ename": "TypeError",
     "evalue": "pop expected at least 1 argument, got 0",
     "output_type": "error",
     "traceback": [
      "\u001b[0;31m---------------------------------------------------------------------------\u001b[0m",
      "\u001b[0;31mTypeError\u001b[0m                                 Traceback (most recent call last)",
      "Cell \u001b[0;32mIn[13], line 1\u001b[0m\n\u001b[0;32m----> 1\u001b[0m \u001b[43md1\u001b[49m\u001b[38;5;241;43m.\u001b[39;49m\u001b[43mpop\u001b[49m\u001b[43m(\u001b[49m\u001b[43m)\u001b[49m\n",
      "\u001b[0;31mTypeError\u001b[0m: pop expected at least 1 argument, got 0"
     ]
    }
   ],
   "source": [
    "d1.pop()"
   ]
  },
  {
   "cell_type": "code",
   "execution_count": 14,
   "id": "d62138f7-18f8-408d-bf2f-78be5d954bc2",
   "metadata": {},
   "outputs": [
    {
     "data": {
      "text/plain": [
       "dict_keys(['name', 'subject', 'number', 'test'])"
      ]
     },
     "execution_count": 14,
     "metadata": {},
     "output_type": "execute_result"
    }
   ],
   "source": [
    "d1.keys()"
   ]
  },
  {
   "cell_type": "code",
   "execution_count": 23,
   "id": "9e824315-b650-44a3-b799-2d807d3600fe",
   "metadata": {},
   "outputs": [
    {
     "data": {
      "text/plain": [
       "dict_values(['shubhashish', ['datascience', 'bigdata', 'sata analytics'], 4234567, 'ssjfb'])"
      ]
     },
     "execution_count": 23,
     "metadata": {},
     "output_type": "execute_result"
    }
   ],
   "source": [
    "d1.values()"
   ]
  },
  {
   "cell_type": "code",
   "execution_count": 20,
   "id": "4b80ac85-c193-4ffd-ae54-277e77227e53",
   "metadata": {},
   "outputs": [],
   "source": [
    "a={}"
   ]
  },
  {
   "cell_type": "code",
   "execution_count": 21,
   "id": "cbc3abd7-fb60-4135-ac90-19a98000944e",
   "metadata": {},
   "outputs": [
    {
     "data": {
      "text/plain": [
       "dict"
      ]
     },
     "execution_count": 21,
     "metadata": {},
     "output_type": "execute_result"
    }
   ],
   "source": [
    "type(a)"
   ]
  },
  {
   "cell_type": "code",
   "execution_count": 25,
   "id": "8df0538e-55ef-4d3f-97d2-8a1ccdd1baee",
   "metadata": {},
   "outputs": [],
   "source": [
    "c=(1)"
   ]
  },
  {
   "cell_type": "code",
   "execution_count": 26,
   "id": "055701d0-e54f-4d1f-9377-10952bd33f9d",
   "metadata": {},
   "outputs": [
    {
     "data": {
      "text/plain": [
       "1"
      ]
     },
     "execution_count": 26,
     "metadata": {},
     "output_type": "execute_result"
    }
   ],
   "source": [
    "c"
   ]
  },
  {
   "cell_type": "code",
   "execution_count": 27,
   "id": "d2ff5635-51ef-4f82-a815-aab8139846b3",
   "metadata": {},
   "outputs": [
    {
     "data": {
      "text/plain": [
       "int"
      ]
     },
     "execution_count": 27,
     "metadata": {},
     "output_type": "execute_result"
    }
   ],
   "source": [
    "type(c)"
   ]
  },
  {
   "cell_type": "code",
   "execution_count": 41,
   "id": "576adcc4-a3a5-48b6-9505-9eb9660734cf",
   "metadata": {},
   "outputs": [],
   "source": [
    "d=(1,2,3)"
   ]
  },
  {
   "cell_type": "code",
   "execution_count": 42,
   "id": "7ed9d498-64b2-4ec8-8abc-76992e0736d7",
   "metadata": {},
   "outputs": [
    {
     "data": {
      "text/plain": [
       "tuple"
      ]
     },
     "execution_count": 42,
     "metadata": {},
     "output_type": "execute_result"
    }
   ],
   "source": [
    "type(d)"
   ]
  },
  {
   "cell_type": "code",
   "execution_count": 38,
   "id": "b679c9d8-c4e5-4a23-89ec-f306b13eb37a",
   "metadata": {},
   "outputs": [],
   "source": [
    "e=[1,2,3,4,5]"
   ]
  },
  {
   "cell_type": "code",
   "execution_count": 36,
   "id": "0dc5ad81-827e-4de0-9eb9-362079e08205",
   "metadata": {},
   "outputs": [],
   "source": [
    "c=list[1,2,3,4,5]"
   ]
  },
  {
   "cell_type": "code",
   "execution_count": 37,
   "id": "ee6e9945-54b6-4f47-a159-4c63ec72fb31",
   "metadata": {},
   "outputs": [
    {
     "data": {
      "text/plain": [
       "types.GenericAlias"
      ]
     },
     "execution_count": 37,
     "metadata": {},
     "output_type": "execute_result"
    }
   ],
   "source": [
    "type(c)"
   ]
  },
  {
   "cell_type": "code",
   "execution_count": 39,
   "id": "f632754f-b5ee-43e5-af81-22422d939a49",
   "metadata": {},
   "outputs": [
    {
     "data": {
      "text/plain": [
       "list"
      ]
     },
     "execution_count": 39,
     "metadata": {},
     "output_type": "execute_result"
    }
   ],
   "source": [
    "type(e)"
   ]
  },
  {
   "cell_type": "code",
   "execution_count": 43,
   "id": "b414137b-1031-4191-986c-5d4541c78683",
   "metadata": {},
   "outputs": [
    {
     "data": {
      "text/plain": [
       "{}"
      ]
     },
     "execution_count": 43,
     "metadata": {},
     "output_type": "execute_result"
    }
   ],
   "source": [
    "dict()"
   ]
  },
  {
   "cell_type": "code",
   "execution_count": 44,
   "id": "c09d81ff-7e7b-4c6a-80b1-5bad883f0db4",
   "metadata": {},
   "outputs": [
    {
     "ename": "SyntaxError",
     "evalue": "invalid syntax (1992662926.py, line 1)",
     "output_type": "error",
     "traceback": [
      "\u001b[0;36m  Cell \u001b[0;32mIn[44], line 1\u001b[0;36m\u001b[0m\n\u001b[0;31m    dict[]\u001b[0m\n\u001b[0m         ^\u001b[0m\n\u001b[0;31mSyntaxError\u001b[0m\u001b[0;31m:\u001b[0m invalid syntax\n"
     ]
    }
   ],
   "source": [
    "dict[]"
   ]
  },
  {
   "cell_type": "code",
   "execution_count": null,
   "id": "78de1732-ae0e-4e9a-beac-cb2d71774514",
   "metadata": {},
   "outputs": [],
   "source": []
  }
 ],
 "metadata": {
  "kernelspec": {
   "display_name": "Python 3 (ipykernel)",
   "language": "python",
   "name": "python3"
  },
  "language_info": {
   "codemirror_mode": {
    "name": "ipython",
    "version": 3
   },
   "file_extension": ".py",
   "mimetype": "text/x-python",
   "name": "python",
   "nbconvert_exporter": "python",
   "pygments_lexer": "ipython3",
   "version": "3.10.8"
  }
 },
 "nbformat": 4,
 "nbformat_minor": 5
}
