{
 "cells": [
  {
   "cell_type": "code",
   "execution_count": 1,
   "id": "0761b5aa-1a95-4530-bbb2-d99952483fbd",
   "metadata": {},
   "outputs": [
    {
     "name": "stdin",
     "output_type": "stream",
     "text": [
      " 5\n"
     ]
    }
   ],
   "source": [
    "y=input()"
   ]
  },
  {
   "cell_type": "code",
   "execution_count": 2,
   "id": "16d90eb6-aef0-4fd5-912b-6a9fc1bbc094",
   "metadata": {},
   "outputs": [
    {
     "data": {
      "text/plain": [
       "'5'"
      ]
     },
     "execution_count": 2,
     "metadata": {},
     "output_type": "execute_result"
    }
   ],
   "source": [
    "y"
   ]
  },
  {
   "cell_type": "code",
   "execution_count": 1,
   "id": "28971439-e2f3-4308-947b-47ab24502bc9",
   "metadata": {},
   "outputs": [
    {
     "name": "stdin",
     "output_type": "stream",
     "text": [
      "enter  your name shubh\n"
     ]
    }
   ],
   "source": [
    "w=input(\"enter  your name\")"
   ]
  },
  {
   "cell_type": "code",
   "execution_count": 2,
   "id": "8310e01f-f2b3-4e02-827f-e52de2a5cca6",
   "metadata": {},
   "outputs": [
    {
     "data": {
      "text/plain": [
       "'shubh'"
      ]
     },
     "execution_count": 2,
     "metadata": {},
     "output_type": "execute_result"
    }
   ],
   "source": [
    "w"
   ]
  },
  {
   "cell_type": "code",
   "execution_count": 3,
   "id": "03c5de20-8a62-4993-9422-88136b9f8289",
   "metadata": {},
   "outputs": [
    {
     "name": "stdin",
     "output_type": "stream",
     "text": [
      "enter your age 22\n"
     ]
    },
    {
     "name": "stdout",
     "output_type": "stream",
     "text": [
      "my age is 22\n"
     ]
    }
   ],
   "source": [
    "y=input(\"enter your age\")\n",
    "print(\"my age is \"+y)"
   ]
  },
  {
   "cell_type": "code",
   "execution_count": 4,
   "id": "3b36cbed-f477-435d-a7d7-0b402ed5a4da",
   "metadata": {},
   "outputs": [
    {
     "name": "stdout",
     "output_type": "stream",
     "text": [
      "40\n"
     ]
    }
   ],
   "source": [
    "x=10\n",
    "y=30\n",
    "print(x+y)"
   ]
  },
  {
   "cell_type": "code",
   "execution_count": 6,
   "id": "da7fba8f-251c-4b13-a4be-4d0b2273dbdf",
   "metadata": {},
   "outputs": [
    {
     "name": "stdin",
     "output_type": "stream",
     "text": [
      "enter first number: 10\n",
      "enter the second number: 20\n"
     ]
    },
    {
     "name": "stdout",
     "output_type": "stream",
     "text": [
      "30\n"
     ]
    }
   ],
   "source": [
    "j=int(input(\"enter first number:\"))\n",
    "k=int(input(\"enter the second number:\"))\n",
    "print(j+k)\n"
   ]
  },
  {
   "cell_type": "code",
   "execution_count": 10,
   "id": "e2be1f70-c945-4262-8b58-4c08547c0745",
   "metadata": {},
   "outputs": [
    {
     "name": "stdout",
     "output_type": "stream",
     "text": [
      "pwskills\n"
     ]
    }
   ],
   "source": [
    "print(\"pwskills\")\n"
   ]
  },
  {
   "cell_type": "code",
   "execution_count": 14,
   "id": "cf0dba65-89bd-43d3-ad9b-fbd1427dd9ef",
   "metadata": {},
   "outputs": [
    {
     "name": "stdout",
     "output_type": "stream",
     "text": [
      "hi ok pwskills\n"
     ]
    }
   ],
   "source": [
    "x=\"hi\"              \n",
    "y=\"pwskills\"\n",
    "print(f\"{x} ok {y}\")   #we use the F string format "
   ]
  },
  {
   "cell_type": "code",
   "execution_count": 17,
   "id": "fd08f31b-1280-4f6f-92b9-8e595595f178",
   "metadata": {},
   "outputs": [
    {
     "name": "stdout",
     "output_type": "stream",
     "text": [
      "pw and skills \n"
     ]
    }
   ],
   "source": [
    "#dot format\n",
    "print(\"{} and {} \" .format(\"pw\",\"skills\"))"
   ]
  },
  {
   "cell_type": "code",
   "execution_count": 18,
   "id": "14e0e40f-c750-403d-b6da-b6d1b6eb7cc9",
   "metadata": {},
   "outputs": [
    {
     "name": "stdout",
     "output_type": "stream",
     "text": [
      "skills and pw \n"
     ]
    }
   ],
   "source": [
    "#dot format\n",
    "print(\"{1} and {0} \" .format(\"pw\",\"skills\"))"
   ]
  },
  {
   "cell_type": "code",
   "execution_count": 19,
   "id": "69e031d3-1f98-4691-b8f7-88a3bad1785d",
   "metadata": {},
   "outputs": [
    {
     "name": "stdout",
     "output_type": "stream",
     "text": [
      "pw and skills and ineuron\n"
     ]
    }
   ],
   "source": [
    "print(\"{} and {} and {}\".format(\"pw\",\"skills\",\"ineuron\"))"
   ]
  },
  {
   "cell_type": "markdown",
   "id": "3c062377-4af7-499b-9a8e-d6be010129eb",
   "metadata": {},
   "source": [
    "#question1="
   ]
  },
  {
   "cell_type": "code",
   "execution_count": 25,
   "id": "df1864e0-cc64-456e-8b24-b09de209bb97",
   "metadata": {},
   "outputs": [
    {
     "name": "stdout",
     "output_type": "stream",
     "text": [
      "89074562\n",
      "hii!!\n",
      "$$Howareyou??\n",
      "100\n",
      "True\n",
      "i am here to learn \"pyhton\" \n"
     ]
    }
   ],
   "source": [
    "print(89074562)\n",
    "print(\"hii!!\")\n",
    "print(\"$$Howareyou??\")\n",
    "print(10*10)\n",
    "print(12 >10 and True)\n",
    "print('i am here to learn \"pyhton\" ')"
   ]
  },
  {
   "cell_type": "code",
   "execution_count": 27,
   "id": "b405adbf-ab71-4158-bfa7-657e725d18ed",
   "metadata": {},
   "outputs": [
    {
     "name": "stdout",
     "output_type": "stream",
     "text": [
      "$\n",
      "$$\n",
      "$$$\n",
      "$$$$\n",
      "$$$$$\n"
     ]
    }
   ],
   "source": [
    "print(\"$\")\n",
    "print(\"$$\")\n",
    "print(\"$$$\")\n",
    "print(\"$$$$\")\n",
    "print(\"$$$$$\")"
   ]
  },
  {
   "cell_type": "code",
   "execution_count": 31,
   "id": "0be46925-6e00-4a7d-a65d-b9e5d80c02a2",
   "metadata": {},
   "outputs": [
    {
     "name": "stdin",
     "output_type": "stream",
     "text": [
      " Cool\n"
     ]
    },
    {
     "name": "stdout",
     "output_type": "stream",
     "text": [
      "! Cool ! \n"
     ]
    }
   ],
   "source": [
    "c= input()\n",
    "k=\"!\"\n",
    "print(f\"{k} {c} {k} \")"
   ]
  },
  {
   "cell_type": "code",
   "execution_count": 32,
   "id": "f16419e3-8f0c-4557-8486-1dc834a6974c",
   "metadata": {},
   "outputs": [],
   "source": [
    "a=10\n",
    "b=20"
   ]
  },
  {
   "cell_type": "code",
   "execution_count": 33,
   "id": "82f0d447-4cae-4aa6-8a58-b7b75e5058d5",
   "metadata": {},
   "outputs": [
    {
     "data": {
      "text/plain": [
       "200"
      ]
     },
     "execution_count": 33,
     "metadata": {},
     "output_type": "execute_result"
    }
   ],
   "source": [
    "a*b"
   ]
  },
  {
   "cell_type": "code",
   "execution_count": 34,
   "id": "3c1787c7-bd62-4a12-8c4c-e2d35e1ce663",
   "metadata": {},
   "outputs": [
    {
     "data": {
      "text/plain": [
       "30"
      ]
     },
     "execution_count": 34,
     "metadata": {},
     "output_type": "execute_result"
    }
   ],
   "source": [
    "a+b"
   ]
  },
  {
   "cell_type": "code",
   "execution_count": 35,
   "id": "72b4ddc1-a351-4543-a160-d882e7b19786",
   "metadata": {},
   "outputs": [
    {
     "data": {
      "text/plain": [
       "10"
      ]
     },
     "execution_count": 35,
     "metadata": {},
     "output_type": "execute_result"
    }
   ],
   "source": [
    "b-a"
   ]
  },
  {
   "cell_type": "code",
   "execution_count": 40,
   "id": "54a3b49c-4d47-4486-9927-6225ecbc334e",
   "metadata": {},
   "outputs": [
    {
     "data": {
      "text/plain": [
       "2.0"
      ]
     },
     "execution_count": 40,
     "metadata": {},
     "output_type": "execute_result"
    }
   ],
   "source": [
    "b/a  #quotient"
   ]
  },
  {
   "cell_type": "code",
   "execution_count": 39,
   "id": "fff51c78-011a-4593-9b9d-e50750190e30",
   "metadata": {},
   "outputs": [
    {
     "data": {
      "text/plain": [
       "0"
      ]
     },
     "execution_count": 39,
     "metadata": {},
     "output_type": "execute_result"
    }
   ],
   "source": [
    "b%a #reminder (modulus)"
   ]
  },
  {
   "cell_type": "code",
   "execution_count": 41,
   "id": "a06eff21-ba5d-4687-b9ad-cb58a0e5d157",
   "metadata": {},
   "outputs": [
    {
     "data": {
      "text/plain": [
       "2"
      ]
     },
     "execution_count": 41,
     "metadata": {},
     "output_type": "execute_result"
    }
   ],
   "source": [
    "b//a"
   ]
  },
  {
   "cell_type": "code",
   "execution_count": 42,
   "id": "fea7148d-d227-4ee4-aada-4f52918e57f6",
   "metadata": {},
   "outputs": [],
   "source": [
    "a=10\n",
    "b=10"
   ]
  },
  {
   "cell_type": "code",
   "execution_count": 43,
   "id": "6637df4a-5c44-49d6-a7f6-acdb9bb9cd5f",
   "metadata": {},
   "outputs": [
    {
     "data": {
      "text/plain": [
       "True"
      ]
     },
     "execution_count": 43,
     "metadata": {},
     "output_type": "execute_result"
    }
   ],
   "source": [
    "a is b #identity operator"
   ]
  },
  {
   "cell_type": "code",
   "execution_count": 47,
   "id": "8b4aaaf5-c218-43cc-8a03-96a828b8d7c5",
   "metadata": {},
   "outputs": [],
   "source": [
    " #== (eaquality operator , i.e it compare the equality of object \n",
    " # 'is' used for identity operator   it will check the memory allocation"
   ]
  },
  {
   "cell_type": "code",
   "execution_count": 45,
   "id": "f5b10394-377c-48a3-9b02-75da102cd45d",
   "metadata": {},
   "outputs": [
    {
     "data": {
      "text/plain": [
       "140470486876688"
      ]
     },
     "execution_count": 45,
     "metadata": {},
     "output_type": "execute_result"
    }
   ],
   "source": [
    "id(a)"
   ]
  },
  {
   "cell_type": "code",
   "execution_count": 46,
   "id": "5ae24f57-74ae-4baf-b840-62b6b4a0efdb",
   "metadata": {},
   "outputs": [
    {
     "data": {
      "text/plain": [
       "140470486876688"
      ]
     },
     "execution_count": 46,
     "metadata": {},
     "output_type": "execute_result"
    }
   ],
   "source": [
    "id (b)"
   ]
  },
  {
   "cell_type": "code",
   "execution_count": 48,
   "id": "4e08eb3f-d00c-461b-b382-dca6a80509ce",
   "metadata": {},
   "outputs": [],
   "source": [
    "a=[1,2,3]"
   ]
  },
  {
   "cell_type": "code",
   "execution_count": 49,
   "id": "77570762-7fee-4cd0-a085-7f23a0ab890b",
   "metadata": {},
   "outputs": [],
   "source": [
    "b=[1,2,3]"
   ]
  },
  {
   "cell_type": "code",
   "execution_count": 50,
   "id": "4b501e1f-55a8-4512-9e45-bada4fca5c72",
   "metadata": {},
   "outputs": [
    {
     "data": {
      "text/plain": [
       "True"
      ]
     },
     "execution_count": 50,
     "metadata": {},
     "output_type": "execute_result"
    }
   ],
   "source": [
    "a==b"
   ]
  },
  {
   "cell_type": "code",
   "execution_count": 51,
   "id": "93c72304-bbab-428c-8f8c-a457c2b2ad42",
   "metadata": {},
   "outputs": [
    {
     "data": {
      "text/plain": [
       "False"
      ]
     },
     "execution_count": 51,
     "metadata": {},
     "output_type": "execute_result"
    }
   ],
   "source": [
    "a is b"
   ]
  },
  {
   "cell_type": "code",
   "execution_count": 52,
   "id": "baff5aaa-0a5c-4f9a-ad7e-af8cd1b7a26b",
   "metadata": {},
   "outputs": [
    {
     "name": "stdin",
     "output_type": "stream",
     "text": [
      " 10\n"
     ]
    },
    {
     "name": "stdout",
     "output_type": "stream",
     "text": [
      "5003154509899970\n"
     ]
    }
   ],
   "source": [
    "x=int(input())\n",
    "y=3**35\n",
    "j=y//x\n",
    "print(j)"
   ]
  },
  {
   "cell_type": "code",
   "execution_count": 58,
   "id": "adc6ff0f-0af8-4724-a083-b6be702ef41d",
   "metadata": {},
   "outputs": [
    {
     "data": {
      "text/plain": [
       "2.0"
      ]
     },
     "execution_count": 58,
     "metadata": {},
     "output_type": "execute_result"
    }
   ],
   "source": [
    "x=math.sqrt(4)\n",
    "x"
   ]
  },
  {
   "cell_type": "code",
   "execution_count": 59,
   "id": "7913a87e-9b39-4ff9-8c48-e4cb7321cf6f",
   "metadata": {},
   "outputs": [],
   "source": [
    "a=10\n",
    "b=20"
   ]
  },
  {
   "cell_type": "code",
   "execution_count": 60,
   "id": "119f0ac1-9ceb-4ecc-ba65-f3a1e1019d64",
   "metadata": {},
   "outputs": [
    {
     "data": {
      "text/plain": [
       "False"
      ]
     },
     "execution_count": 60,
     "metadata": {},
     "output_type": "execute_result"
    }
   ],
   "source": [
    "a>b"
   ]
  },
  {
   "cell_type": "code",
   "execution_count": 61,
   "id": "2705dc61-cdc8-48fa-adf1-29c427cde527",
   "metadata": {},
   "outputs": [
    {
     "data": {
      "text/plain": [
       "True"
      ]
     },
     "execution_count": 61,
     "metadata": {},
     "output_type": "execute_result"
    }
   ],
   "source": [
    "b>a"
   ]
  },
  {
   "cell_type": "markdown",
   "id": "cc6fe936-9211-46dc-accd-a89ffedba09e",
   "metadata": {},
   "source": [
    "#Operator"
   ]
  },
  {
   "cell_type": "code",
   "execution_count": 62,
   "id": "d33ac236-2939-4170-aa02-5689ceb0f877",
   "metadata": {},
   "outputs": [],
   "source": [
    "a=10\n",
    "b=4"
   ]
  },
  {
   "cell_type": "code",
   "execution_count": 65,
   "id": "2b89854d-cc69-4536-920f-3c897144ba7e",
   "metadata": {},
   "outputs": [
    {
     "data": {
      "text/plain": [
       "'0b1010'"
      ]
     },
     "execution_count": 65,
     "metadata": {},
     "output_type": "execute_result"
    }
   ],
   "source": [
    "bin(a)  #binary value"
   ]
  },
  {
   "cell_type": "code",
   "execution_count": 66,
   "id": "77df3450-8015-4ed1-abc0-d7f499c6f8ab",
   "metadata": {},
   "outputs": [
    {
     "data": {
      "text/plain": [
       "'0b100'"
      ]
     },
     "execution_count": 66,
     "metadata": {},
     "output_type": "execute_result"
    }
   ],
   "source": [
    "bin(b)"
   ]
  },
  {
   "cell_type": "code",
   "execution_count": 73,
   "id": "474e0ea2-2927-4df7-ace0-7e5305200203",
   "metadata": {},
   "outputs": [
    {
     "data": {
      "text/plain": [
       "0"
      ]
     },
     "execution_count": 73,
     "metadata": {},
     "output_type": "execute_result"
    }
   ],
   "source": [
    "a & b # bitwise and operator"
   ]
  },
  {
   "cell_type": "code",
   "execution_count": 74,
   "id": "f382d20b-9675-44fb-bb4c-93b37f5f5441",
   "metadata": {},
   "outputs": [
    {
     "data": {
      "text/plain": [
       "14"
      ]
     },
     "execution_count": 74,
     "metadata": {},
     "output_type": "execute_result"
    }
   ],
   "source": [
    "a | b # bitwise or operator"
   ]
  },
  {
   "cell_type": "code",
   "execution_count": 75,
   "id": "4871c448-b77f-45c3-b4b5-c6871840c80a",
   "metadata": {},
   "outputs": [
    {
     "data": {
      "text/plain": [
       "10"
      ]
     },
     "execution_count": 75,
     "metadata": {},
     "output_type": "execute_result"
    }
   ],
   "source": [
    " a"
   ]
  },
  {
   "cell_type": "code",
   "execution_count": 77,
   "id": "996c9a8b-0be3-47e8-b632-db76e8388189",
   "metadata": {},
   "outputs": [
    {
     "data": {
      "text/plain": [
       "-11"
      ]
     },
     "execution_count": 77,
     "metadata": {},
     "output_type": "execute_result"
    }
   ],
   "source": [
    "~a #not bitwise operator"
   ]
  },
  {
   "cell_type": "code",
   "execution_count": 78,
   "id": "8ae63949-a34e-4a30-9061-38d2144e5e56",
   "metadata": {},
   "outputs": [],
   "source": [
    "a=10"
   ]
  },
  {
   "cell_type": "code",
   "execution_count": 81,
   "id": "ae9f0a5d-e393-4cee-bb4a-bdb93db1ee5d",
   "metadata": {},
   "outputs": [
    {
     "data": {
      "text/plain": [
       "5"
      ]
     },
     "execution_count": 81,
     "metadata": {},
     "output_type": "execute_result"
    }
   ],
   "source": [
    "a>>1 #right shift"
   ]
  },
  {
   "cell_type": "code",
   "execution_count": 82,
   "id": "139b06a7-1839-4e45-8216-7701b1d8f060",
   "metadata": {},
   "outputs": [
    {
     "data": {
      "text/plain": [
       "20"
      ]
     },
     "execution_count": 82,
     "metadata": {},
     "output_type": "execute_result"
    }
   ],
   "source": [
    "a<<1 #left shift"
   ]
  },
  {
   "cell_type": "code",
   "execution_count": null,
   "id": "fa7b0d5a-3ef4-4b01-b0d9-9ea0b06fb40c",
   "metadata": {},
   "outputs": [],
   "source": []
  }
 ],
 "metadata": {
  "kernelspec": {
   "display_name": "Python 3 (ipykernel)",
   "language": "python",
   "name": "python3"
  },
  "language_info": {
   "codemirror_mode": {
    "name": "ipython",
    "version": 3
   },
   "file_extension": ".py",
   "mimetype": "text/x-python",
   "name": "python",
   "nbconvert_exporter": "python",
   "pygments_lexer": "ipython3",
   "version": "3.10.8"
  }
 },
 "nbformat": 4,
 "nbformat_minor": 5
}
